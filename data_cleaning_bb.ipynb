{
 "cells": [
  {
   "cell_type": "code",
   "execution_count": 5,
   "metadata": {},
   "outputs": [],
   "source": [
    "import pandas as pd"
   ]
  },
  {
   "cell_type": "markdown",
   "metadata": {},
   "source": [
    "<b>idées:</b>\n",
    " - Ajouter column jour de la semaine pour connaître le jour de la semaine en enlevant l'heure.\n",
    " - Ajouter le jour du mois.... ( voir la plage de date des envoies de mail).\n",
    " - Ajouter column horaire pour connaître l'horaire indépendamment du jour.\n",
    " - Ajouter la longueur du contenu.\n",
    " - Regarder le tout premier mail envoyé et le tout dernier.\n",
    " - Regarder qui sont ceux qui ont envoyé le plus de mail.\n",
    " - Regarder qui sont ceux qui on reçu le plus de mail.\n",
    " - regarder la longueur des contenus. (indépendamment de toute column, en fonction des users, dates, horaires, (et categorie?)).\n",
    " - analyser cc."
   ]
  },
  {
   "cell_type": "markdown",
   "metadata": {},
   "source": [
    "<b> Choses à faire: </b>\n",
    "   - Convertir toutes data (1 column) ---> (n column).\n",
    "   - Catégorie: éliminer celles ou 100% des rows sont nulles pour la column.\n",
    "   - Catégorie: (pas 100% nulle): regarder le nombre et afficher les valeurs.\n",
    "   - Ajouter une column longueur du contenu."
   ]
  },
  {
   "cell_type": "code",
   "execution_count": 6,
   "metadata": {},
   "outputs": [],
   "source": [
    "data = pd.read_csv('../data.csv',dtype={'To':'string', 'Subject':'string', 'X-From':'string',\n",
    "       'X-To':'string', 'X-cc':'string', 'X-bcc':'string', 'X-Folder':'string', 'X-Origin':'string', 'X-FileName':'string',\n",
    "       'content':'string', 'user':'string', 'Cat_1_level_1':'string', 'Cat_1_level_2':'string', 'Cat_1_weight':'string',\n",
    "       'Cat_2_level_1':'string', 'Cat_2_level_2':'string', 'Cat_2_weight':'string', 'Cat_3_level_1':'string',\n",
    "       'Cat_3_level_2':'string', 'Cat_3_weight':'string', 'Cat_4_level_1':'string', 'Cat_4_level_2':'string',\n",
    "       'Cat_4_weight':'string', 'Cat_5_level_1':'string', 'Cat_5_level_2':'string', 'Cat_5_weight':'string',\n",
    "       'Cat_6_level_1':'string', 'Cat_6_level_2':'string', 'Cat_6_weight':'string', 'Cat_7_level_1':'string',\n",
    "       'Cat_7_level_2':'string', 'Cat_7_weight':'string', 'Cat_8_level_1':'string', 'Cat_8_level_2':'string',\n",
    "       'Cat_8_weight':'string', 'Cat_9_level_1':'string', 'Cat_9_level_2':'string', 'Cat_9_weight':'string',\n",
    "       'Cat_10_level_1':'string', 'Cat_10_level_2':'string', 'Cat_10_weight':'string', 'Cat_11_level_1':'string',\n",
    "       'Cat_11_level_2':'string', 'Cat_11_weight':'string', 'Cat_12_level_1':'string', 'Cat_12_level_2':'string',\n",
    "       'Cat_12_weight':'string'})"
   ]
  },
  {
   "cell_type": "code",
   "execution_count": 6,
   "metadata": {},
   "outputs": [
    {
     "data": {
      "text/html": [
       "<div>\n",
       "<style scoped>\n",
       "    .dataframe tbody tr th:only-of-type {\n",
       "        vertical-align: middle;\n",
       "    }\n",
       "\n",
       "    .dataframe tbody tr th {\n",
       "        vertical-align: top;\n",
       "    }\n",
       "\n",
       "    .dataframe thead th {\n",
       "        text-align: right;\n",
       "    }\n",
       "</style>\n",
       "<table border=\"1\" class=\"dataframe\">\n",
       "  <thead>\n",
       "    <tr style=\"text-align: right;\">\n",
       "      <th></th>\n",
       "      <th>Unnamed: 0</th>\n",
       "      <th>Message-ID</th>\n",
       "      <th>Date</th>\n",
       "      <th>From</th>\n",
       "      <th>To</th>\n",
       "      <th>Subject</th>\n",
       "      <th>X-From</th>\n",
       "      <th>X-To</th>\n",
       "      <th>X-cc</th>\n",
       "      <th>X-bcc</th>\n",
       "      <th>...</th>\n",
       "      <th>Cat_10_level_1</th>\n",
       "      <th>Cat_10_level_2</th>\n",
       "      <th>Cat_10_weight</th>\n",
       "      <th>Cat_11_level_1</th>\n",
       "      <th>Cat_11_level_2</th>\n",
       "      <th>Cat_11_weight</th>\n",
       "      <th>Cat_12_level_1</th>\n",
       "      <th>Cat_12_level_2</th>\n",
       "      <th>Cat_12_weight</th>\n",
       "      <th>labeled</th>\n",
       "    </tr>\n",
       "  </thead>\n",
       "  <tbody>\n",
       "    <tr>\n",
       "      <th>0</th>\n",
       "      <td>0</td>\n",
       "      <td>&lt;18782981.1075855378110.JavaMail.evans@thyme&gt;</td>\n",
       "      <td>2001-05-14 23:39:00</td>\n",
       "      <td>frozenset({'phillip.allen@enron.com'})</td>\n",
       "      <td>frozenset({'tim.belden@enron.com'})</td>\n",
       "      <td>&lt;NA&gt;</td>\n",
       "      <td>Phillip K Allen</td>\n",
       "      <td>Tim Belden &lt;Tim Belden/Enron@EnronXGate&gt;</td>\n",
       "      <td>&lt;NA&gt;</td>\n",
       "      <td>&lt;NA&gt;</td>\n",
       "      <td>...</td>\n",
       "      <td>&lt;NA&gt;</td>\n",
       "      <td>&lt;NA&gt;</td>\n",
       "      <td>&lt;NA&gt;</td>\n",
       "      <td>&lt;NA&gt;</td>\n",
       "      <td>&lt;NA&gt;</td>\n",
       "      <td>&lt;NA&gt;</td>\n",
       "      <td>&lt;NA&gt;</td>\n",
       "      <td>&lt;NA&gt;</td>\n",
       "      <td>&lt;NA&gt;</td>\n",
       "      <td>False</td>\n",
       "    </tr>\n",
       "    <tr>\n",
       "      <th>1</th>\n",
       "      <td>1</td>\n",
       "      <td>&lt;15464986.1075855378456.JavaMail.evans@thyme&gt;</td>\n",
       "      <td>2001-05-04 20:51:00</td>\n",
       "      <td>frozenset({'phillip.allen@enron.com'})</td>\n",
       "      <td>frozenset({'john.lavorato@enron.com'})</td>\n",
       "      <td>Re:</td>\n",
       "      <td>Phillip K Allen</td>\n",
       "      <td>John J Lavorato &lt;John J Lavorato/ENRON@enronXg...</td>\n",
       "      <td>&lt;NA&gt;</td>\n",
       "      <td>&lt;NA&gt;</td>\n",
       "      <td>...</td>\n",
       "      <td>&lt;NA&gt;</td>\n",
       "      <td>&lt;NA&gt;</td>\n",
       "      <td>&lt;NA&gt;</td>\n",
       "      <td>&lt;NA&gt;</td>\n",
       "      <td>&lt;NA&gt;</td>\n",
       "      <td>&lt;NA&gt;</td>\n",
       "      <td>&lt;NA&gt;</td>\n",
       "      <td>&lt;NA&gt;</td>\n",
       "      <td>&lt;NA&gt;</td>\n",
       "      <td>False</td>\n",
       "    </tr>\n",
       "    <tr>\n",
       "      <th>2</th>\n",
       "      <td>2</td>\n",
       "      <td>&lt;24216240.1075855687451.JavaMail.evans@thyme&gt;</td>\n",
       "      <td>2000-10-18 10:00:00</td>\n",
       "      <td>frozenset({'phillip.allen@enron.com'})</td>\n",
       "      <td>frozenset({'leah.arsdall@enron.com'})</td>\n",
       "      <td>Re: test</td>\n",
       "      <td>Phillip K Allen</td>\n",
       "      <td>Leah Van Arsdall</td>\n",
       "      <td>&lt;NA&gt;</td>\n",
       "      <td>&lt;NA&gt;</td>\n",
       "      <td>...</td>\n",
       "      <td>&lt;NA&gt;</td>\n",
       "      <td>&lt;NA&gt;</td>\n",
       "      <td>&lt;NA&gt;</td>\n",
       "      <td>&lt;NA&gt;</td>\n",
       "      <td>&lt;NA&gt;</td>\n",
       "      <td>&lt;NA&gt;</td>\n",
       "      <td>&lt;NA&gt;</td>\n",
       "      <td>&lt;NA&gt;</td>\n",
       "      <td>&lt;NA&gt;</td>\n",
       "      <td>False</td>\n",
       "    </tr>\n",
       "    <tr>\n",
       "      <th>3</th>\n",
       "      <td>3</td>\n",
       "      <td>&lt;13505866.1075863688222.JavaMail.evans@thyme&gt;</td>\n",
       "      <td>2000-10-23 13:13:00</td>\n",
       "      <td>frozenset({'phillip.allen@enron.com'})</td>\n",
       "      <td>frozenset({'randall.gay@enron.com'})</td>\n",
       "      <td>&lt;NA&gt;</td>\n",
       "      <td>Phillip K Allen</td>\n",
       "      <td>Randall L Gay</td>\n",
       "      <td>&lt;NA&gt;</td>\n",
       "      <td>&lt;NA&gt;</td>\n",
       "      <td>...</td>\n",
       "      <td>&lt;NA&gt;</td>\n",
       "      <td>&lt;NA&gt;</td>\n",
       "      <td>&lt;NA&gt;</td>\n",
       "      <td>&lt;NA&gt;</td>\n",
       "      <td>&lt;NA&gt;</td>\n",
       "      <td>&lt;NA&gt;</td>\n",
       "      <td>&lt;NA&gt;</td>\n",
       "      <td>&lt;NA&gt;</td>\n",
       "      <td>&lt;NA&gt;</td>\n",
       "      <td>False</td>\n",
       "    </tr>\n",
       "    <tr>\n",
       "      <th>4</th>\n",
       "      <td>4</td>\n",
       "      <td>&lt;30922949.1075863688243.JavaMail.evans@thyme&gt;</td>\n",
       "      <td>2000-08-31 12:07:00</td>\n",
       "      <td>frozenset({'phillip.allen@enron.com'})</td>\n",
       "      <td>frozenset({'greg.piper@enron.com'})</td>\n",
       "      <td>Re: Hello</td>\n",
       "      <td>Phillip K Allen</td>\n",
       "      <td>Greg Piper</td>\n",
       "      <td>&lt;NA&gt;</td>\n",
       "      <td>&lt;NA&gt;</td>\n",
       "      <td>...</td>\n",
       "      <td>&lt;NA&gt;</td>\n",
       "      <td>&lt;NA&gt;</td>\n",
       "      <td>&lt;NA&gt;</td>\n",
       "      <td>&lt;NA&gt;</td>\n",
       "      <td>&lt;NA&gt;</td>\n",
       "      <td>&lt;NA&gt;</td>\n",
       "      <td>&lt;NA&gt;</td>\n",
       "      <td>&lt;NA&gt;</td>\n",
       "      <td>&lt;NA&gt;</td>\n",
       "      <td>False</td>\n",
       "    </tr>\n",
       "  </tbody>\n",
       "</table>\n",
       "<p>5 rows × 52 columns</p>\n",
       "</div>"
      ],
      "text/plain": [
       "   Unnamed: 0                                     Message-ID  \\\n",
       "0           0  <18782981.1075855378110.JavaMail.evans@thyme>   \n",
       "1           1  <15464986.1075855378456.JavaMail.evans@thyme>   \n",
       "2           2  <24216240.1075855687451.JavaMail.evans@thyme>   \n",
       "3           3  <13505866.1075863688222.JavaMail.evans@thyme>   \n",
       "4           4  <30922949.1075863688243.JavaMail.evans@thyme>   \n",
       "\n",
       "                  Date                                    From  \\\n",
       "0  2001-05-14 23:39:00  frozenset({'phillip.allen@enron.com'})   \n",
       "1  2001-05-04 20:51:00  frozenset({'phillip.allen@enron.com'})   \n",
       "2  2000-10-18 10:00:00  frozenset({'phillip.allen@enron.com'})   \n",
       "3  2000-10-23 13:13:00  frozenset({'phillip.allen@enron.com'})   \n",
       "4  2000-08-31 12:07:00  frozenset({'phillip.allen@enron.com'})   \n",
       "\n",
       "                                       To    Subject           X-From  \\\n",
       "0     frozenset({'tim.belden@enron.com'})       <NA>  Phillip K Allen   \n",
       "1  frozenset({'john.lavorato@enron.com'})        Re:  Phillip K Allen   \n",
       "2   frozenset({'leah.arsdall@enron.com'})   Re: test  Phillip K Allen   \n",
       "3    frozenset({'randall.gay@enron.com'})       <NA>  Phillip K Allen   \n",
       "4     frozenset({'greg.piper@enron.com'})  Re: Hello  Phillip K Allen   \n",
       "\n",
       "                                                X-To  X-cc X-bcc  ...  \\\n",
       "0           Tim Belden <Tim Belden/Enron@EnronXGate>  <NA>  <NA>  ...   \n",
       "1  John J Lavorato <John J Lavorato/ENRON@enronXg...  <NA>  <NA>  ...   \n",
       "2                                   Leah Van Arsdall  <NA>  <NA>  ...   \n",
       "3                                      Randall L Gay  <NA>  <NA>  ...   \n",
       "4                                         Greg Piper  <NA>  <NA>  ...   \n",
       "\n",
       "  Cat_10_level_1 Cat_10_level_2 Cat_10_weight Cat_11_level_1 Cat_11_level_2  \\\n",
       "0           <NA>           <NA>          <NA>           <NA>           <NA>   \n",
       "1           <NA>           <NA>          <NA>           <NA>           <NA>   \n",
       "2           <NA>           <NA>          <NA>           <NA>           <NA>   \n",
       "3           <NA>           <NA>          <NA>           <NA>           <NA>   \n",
       "4           <NA>           <NA>          <NA>           <NA>           <NA>   \n",
       "\n",
       "  Cat_11_weight Cat_12_level_1 Cat_12_level_2 Cat_12_weight labeled  \n",
       "0          <NA>           <NA>           <NA>          <NA>   False  \n",
       "1          <NA>           <NA>           <NA>          <NA>   False  \n",
       "2          <NA>           <NA>           <NA>          <NA>   False  \n",
       "3          <NA>           <NA>           <NA>          <NA>   False  \n",
       "4          <NA>           <NA>           <NA>          <NA>   False  \n",
       "\n",
       "[5 rows x 52 columns]"
      ]
     },
     "execution_count": 6,
     "metadata": {},
     "output_type": "execute_result"
    }
   ],
   "source": [
    "data.head()"
   ]
  },
  {
   "cell_type": "code",
   "execution_count": null,
   "metadata": {},
   "outputs": [],
   "source": []
  },
  {
   "cell_type": "code",
   "execution_count": null,
   "metadata": {},
   "outputs": [],
   "source": []
  },
  {
   "cell_type": "markdown",
   "metadata": {},
   "source": []
  },
  {
   "cell_type": "markdown",
   "metadata": {},
   "source": [
    "<br>\n",
    "<b>Check for null values</b>"
   ]
  },
  {
   "cell_type": "code",
   "execution_count": 7,
   "metadata": {},
   "outputs": [
    {
     "data": {
      "text/plain": [
       "Unnamed: 0             0\n",
       "Message-ID             0\n",
       "Date                   0\n",
       "From                   0\n",
       "To                  5001\n",
       "Subject             5364\n",
       "X-From                 6\n",
       "X-To                2600\n",
       "X-cc               78253\n",
       "X-bcc              99966\n",
       "X-Folder               6\n",
       "X-Origin               6\n",
       "X-FileName           729\n",
       "content              402\n",
       "user                   0\n",
       "Cat_1_level_1      99790\n",
       "Cat_1_level_2      99790\n",
       "Cat_1_weight       99790\n",
       "Cat_2_level_1      99800\n",
       "Cat_2_level_2      99800\n",
       "Cat_2_weight       99800\n",
       "Cat_3_level_1      99834\n",
       "Cat_3_level_2      99834\n",
       "Cat_3_weight       99834\n",
       "Cat_4_level_1      99896\n",
       "Cat_4_level_2      99896\n",
       "Cat_4_weight       99896\n",
       "Cat_5_level_1      99943\n",
       "Cat_5_level_2      99943\n",
       "Cat_5_weight       99943\n",
       "Cat_6_level_1      99979\n",
       "Cat_6_level_2      99979\n",
       "Cat_6_weight       99979\n",
       "Cat_7_level_1      99990\n",
       "Cat_7_level_2      99990\n",
       "Cat_7_weight       99990\n",
       "Cat_8_level_1      99998\n",
       "Cat_8_level_2      99998\n",
       "Cat_8_weight       99998\n",
       "Cat_9_level_1      99999\n",
       "Cat_9_level_2      99999\n",
       "Cat_9_weight       99999\n",
       "Cat_10_level_1     99999\n",
       "Cat_10_level_2     99999\n",
       "Cat_10_weight      99999\n",
       "Cat_11_level_1    100000\n",
       "Cat_11_level_2    100000\n",
       "Cat_11_weight     100000\n",
       "Cat_12_level_1    100000\n",
       "Cat_12_level_2    100000\n",
       "Cat_12_weight     100000\n",
       "labeled                0\n",
       "dtype: int64"
      ]
     },
     "execution_count": 7,
     "metadata": {},
     "output_type": "execute_result"
    }
   ],
   "source": [
    "data.isnull().sum()"
   ]
  },
  {
   "cell_type": "markdown",
   "metadata": {},
   "source": [
    "<b> Ok, Il y a beaucoup de valeurs manquantes:</b>\n",
    "   - Cat_12_weight, Cat_12_level_2, Cat_11_weight, Cat_11_level_2, Cat_11_level_1 ont toutes les valeurs nulles : on peut donc les enlever.\n"
   ]
  },
  {
   "cell_type": "code",
   "execution_count": 8,
   "metadata": {},
   "outputs": [],
   "source": [
    "data = data.drop(['Cat_12_weight','Cat_12_level_1', 'Cat_12_level_2', 'Cat_11_weight', 'Cat_11_level_2', 'Cat_11_level_1'], axis=1)"
   ]
  },
  {
   "cell_type": "markdown",
   "metadata": {},
   "source": [
    "<br>\n",
    "<b>On va regarder les valeurs différentes possibles en fonction des variables.</b>"
   ]
  },
  {
   "cell_type": "code",
   "execution_count": 47,
   "metadata": {},
   "outputs": [],
   "source": [
    "def look_values(df, column):\n",
    "    return('{}: {}'.format(column, len(df[column].unique())))\n",
    "    "
   ]
  },
  {
   "cell_type": "code",
   "execution_count": 10,
   "metadata": {},
   "outputs": [
    {
     "name": "stdout",
     "output_type": "stream",
     "text": [
      "Date: 52029\n",
      "From: 5537\n",
      "To: 15648\n",
      "Subject: 38400\n",
      "X-From: 7217\n",
      "X-To: 19733\n",
      "X-cc: 7837\n",
      "X-bcc: 30\n",
      "X-Folder: 1153\n",
      "X-Origin: 56\n",
      "X-FileName: 93\n",
      "user: 30\n",
      "Cat_1_level_1: 2\n",
      "Cat_1_level_2: 9\n",
      "Cat_1_weight: 3\n",
      "Cat_2_level_1: 5\n",
      "Cat_2_level_2: 14\n",
      "Cat_2_weight: 4\n",
      "Cat_3_level_1: 4\n",
      "Cat_3_level_2: 15\n",
      "Cat_3_weight: 3\n",
      "Cat_4_level_1: 4\n",
      "Cat_4_level_2: 14\n",
      "Cat_4_weight: 3\n",
      "Cat_5_level_1: 4\n",
      "Cat_5_level_2: 15\n",
      "Cat_5_weight: 3\n",
      "Cat_6_level_1: 4\n",
      "Cat_6_level_2: 10\n",
      "Cat_6_weight: 3\n",
      "Cat_7_level_1: 3\n",
      "Cat_7_level_2: 8\n",
      "Cat_7_weight: 3\n",
      "Cat_8_level_1: 3\n",
      "Cat_8_level_2: 3\n",
      "Cat_8_weight: 2\n",
      "Cat_9_level_1: 2\n",
      "Cat_9_level_2: 2\n",
      "Cat_9_weight: 2\n",
      "Cat_10_level_1: 2\n",
      "Cat_10_level_2: 2\n",
      "Cat_10_weight: 2\n",
      "labeled: 2\n"
     ]
    }
   ],
   "source": [
    "columns = ['Date', 'From', 'To', 'Subject', 'X-From',\n",
    "       'X-To', 'X-cc', 'X-bcc', 'X-Folder', 'X-Origin', 'X-FileName',\n",
    "        'user', 'Cat_1_level_1', 'Cat_1_level_2', 'Cat_1_weight',\n",
    "       'Cat_2_level_1', 'Cat_2_level_2', 'Cat_2_weight', 'Cat_3_level_1',\n",
    "       'Cat_3_level_2', 'Cat_3_weight', 'Cat_4_level_1', 'Cat_4_level_2',\n",
    "       'Cat_4_weight', 'Cat_5_level_1', 'Cat_5_level_2', 'Cat_5_weight',\n",
    "       'Cat_6_level_1', 'Cat_6_level_2', 'Cat_6_weight', 'Cat_7_level_1',\n",
    "       'Cat_7_level_2', 'Cat_7_weight', 'Cat_8_level_1', 'Cat_8_level_2',\n",
    "       'Cat_8_weight', 'Cat_9_level_1', 'Cat_9_level_2', 'Cat_9_weight',\n",
    "       'Cat_10_level_1', 'Cat_10_level_2', 'Cat_10_weight', 'labeled']\n",
    "for column in columns:\n",
    "    print(look_values(data,column))"
   ]
  },
  {
   "cell_type": "markdown",
   "metadata": {},
   "source": [
    "<br>\n",
    "<h4> I - Temporalité</h4>"
   ]
  },
  {
   "cell_type": "code",
   "execution_count": 11,
   "metadata": {},
   "outputs": [],
   "source": [
    "data['Years'] = data['Date'].apply(lambda x:  x.split('-' )[0])"
   ]
  },
  {
   "cell_type": "code",
   "execution_count": 12,
   "metadata": {},
   "outputs": [],
   "source": [
    "data['Month'] = data['Date'].apply(lambda x:  x.split('-' )[1])"
   ]
  },
  {
   "cell_type": "code",
   "execution_count": 13,
   "metadata": {},
   "outputs": [],
   "source": [
    "data['Day'] = data['Date'].apply(lambda x:  (x.split('-' )[2]).split(' ')[0])"
   ]
  },
  {
   "cell_type": "code",
   "execution_count": 14,
   "metadata": {},
   "outputs": [],
   "source": [
    "data['Hours'] = data['Date'].apply(lambda x:  ((x.split('-' )[2]).split(' ')[1]).split(':')[0])"
   ]
  },
  {
   "cell_type": "code",
   "execution_count": 15,
   "metadata": {},
   "outputs": [
    {
     "data": {
      "text/plain": [
       "0        23\n",
       "1        20\n",
       "2        10\n",
       "3        13\n",
       "4        12\n",
       "         ..\n",
       "99995    08\n",
       "99996    07\n",
       "99997    07\n",
       "99998    06\n",
       "99999    16\n",
       "Name: Hours, Length: 100000, dtype: object"
      ]
     },
     "execution_count": 15,
     "metadata": {},
     "output_type": "execute_result"
    }
   ],
   "source": [
    "data['Hours']"
   ]
  },
  {
   "cell_type": "code",
   "execution_count": 17,
   "metadata": {},
   "outputs": [
    {
     "data": {
      "text/plain": [
       "Unnamed: 0            0\n",
       "Message-ID            0\n",
       "Date                  0\n",
       "From                  0\n",
       "To                 5001\n",
       "Subject            5364\n",
       "X-From                6\n",
       "X-To               2600\n",
       "X-cc              78253\n",
       "X-bcc             99966\n",
       "X-Folder              6\n",
       "X-Origin              6\n",
       "X-FileName          729\n",
       "content             402\n",
       "user                  0\n",
       "Cat_1_level_1     99790\n",
       "Cat_1_level_2     99790\n",
       "Cat_1_weight      99790\n",
       "Cat_2_level_1     99800\n",
       "Cat_2_level_2     99800\n",
       "Cat_2_weight      99800\n",
       "Cat_3_level_1     99834\n",
       "Cat_3_level_2     99834\n",
       "Cat_3_weight      99834\n",
       "Cat_4_level_1     99896\n",
       "Cat_4_level_2     99896\n",
       "Cat_4_weight      99896\n",
       "Cat_5_level_1     99943\n",
       "Cat_5_level_2     99943\n",
       "Cat_5_weight      99943\n",
       "Cat_6_level_1     99979\n",
       "Cat_6_level_2     99979\n",
       "Cat_6_weight      99979\n",
       "Cat_7_level_1     99990\n",
       "Cat_7_level_2     99990\n",
       "Cat_7_weight      99990\n",
       "Cat_8_level_1     99998\n",
       "Cat_8_level_2     99998\n",
       "Cat_8_weight      99998\n",
       "Cat_9_level_1     99999\n",
       "Cat_9_level_2     99999\n",
       "Cat_9_weight      99999\n",
       "Cat_10_level_1    99999\n",
       "Cat_10_level_2    99999\n",
       "Cat_10_weight     99999\n",
       "labeled               0\n",
       "Years                 0\n",
       "Month                 0\n",
       "Day                   0\n",
       "Hours                 0\n",
       "dtype: int64"
      ]
     },
     "execution_count": 17,
     "metadata": {},
     "output_type": "execute_result"
    }
   ],
   "source": [
    "data.isnull().sum()"
   ]
  },
  {
   "cell_type": "code",
   "execution_count": null,
   "metadata": {},
   "outputs": [],
   "source": [
    "def look_values_possible(column):\n",
    "    return(column.unique())"
   ]
  },
  {
   "cell_type": "code",
   "execution_count": 79,
   "metadata": {},
   "outputs": [],
   "source": [
    "for i in range(15, 45):\n",
    "    data.iloc[:, i] = data.iloc[:, i].apply(lambda x: -1 if (type(x) != type('str')) else x)\n",
    "print(look_values_possible(data['Cat_10_weight']))"
   ]
  }
 ],
 "metadata": {
  "kernelspec": {
   "display_name": "Python 3",
   "language": "python",
   "name": "python3"
  },
  "language_info": {
   "codemirror_mode": {
    "name": "ipython",
    "version": 3
   },
   "file_extension": ".py",
   "mimetype": "text/x-python",
   "name": "python",
   "nbconvert_exporter": "python",
   "pygments_lexer": "ipython3",
   "version": "3.8.6"
  }
 },
 "nbformat": 4,
 "nbformat_minor": 4
}
