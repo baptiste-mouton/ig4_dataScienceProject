{
 "cells": [
  {
   "cell_type": "markdown",
   "metadata": {},
   "source": [
    "# Mise en commun des travaux de data cleaning\n",
    "\n",
    "Cette partie contient les travaux des différents membres du groupe pour le data-cleaning <br>\n",
    "Cette partie à pour but de rendre les données plus facilement exploitable pour la suite"
   ]
  },
  {
   "cell_type": "markdown",
   "metadata": {},
   "source": [
    "<b>idées:</b>\n",
    " - Ajouter column jour de la semaine pour connaître le jour de la semaine en enlevant l'heure.\n",
    " - Ajouter le jour du mois.... ( voir la plage de date des envoies de mail).\n",
    " - Ajouter column horaire pour connaître l'horaire indépendamment du jour.\n",
    " - Ajouter la longueur du contenu.\n",
    " - Regarder qui sont ceux qui ont envoyé le plus de mail.\n",
    " - Regarder qui sont ceux qui on reçu le plus de mail.\n",
    " - regarder la longueur des contenus. (indépendamment de toute column, en fonction des users, dates, horaires, (et categorie?))."
   ]
  },
  {
   "cell_type": "markdown",
   "metadata": {},
   "source": [
    "## Sommaire\n"
   ]
  },
  {
   "cell_type": "markdown",
   "metadata": {},
   "source": [
    "# I - Création et nettoyage de divers attributs\n",
    "\n",
    "Dans cette partie on nettoiera:\n",
    " - les attributs de catégories\n",
    " - l'attribut \"from\"\n",
    " - l'attribut \"to\"\n",
    " - les valeurs nulles du dataset\n",
    "On créera aussi les variables suivantes:\n",
    " - Longueur du contenu en nombre de caractères\n",
    " - Longueur du contenu en nombre de mots\n",
    " - Un label de type de longueur du mail\n",
    " - Un label de type de longueur du mail en fonction\n",
    " \n",
    " \n"
   ]
  },
  {
   "cell_type": "code",
   "execution_count": 2,
   "metadata": {},
   "outputs": [],
   "source": [
    "data = pd.read_csv('/Users/ayoubmoujane/Desktop/IG4_S7/Projet_datascience/mail.csv',dtype={'To':'string', 'Subject':'string', 'X-From':'string',\n",
    "       'X-To':'string', 'X-cc':'string', 'X-bcc':'string', 'X-Folder':'string', 'X-Origin':'string', 'X-FileName':'string',\n",
    "       'content':'string', 'user':'string', 'Cat_1_level_1':'string', 'Cat_1_level_2':'string', 'Cat_1_weight':'string',\n",
    "       'Cat_2_level_1':'string', 'Cat_2_level_2':'string', 'Cat_2_weight':'string', 'Cat_3_level_1':'string',\n",
    "       'Cat_3_level_2':'string', 'Cat_3_weight':'string', 'Cat_4_level_1':'string', 'Cat_4_level_2':'string',\n",
    "       'Cat_4_weight':'string', 'Cat_5_level_1':'string', 'Cat_5_level_2':'string', 'Cat_5_weight':'string',\n",
    "       'Cat_6_level_1':'string', 'Cat_6_level_2':'string', 'Cat_6_weight':'string', 'Cat_7_level_1':'string',\n",
    "       'Cat_7_level_2':'string', 'Cat_7_weight':'string', 'Cat_8_level_1':'string', 'Cat_8_level_2':'string',\n",
    "       'Cat_8_weight':'string', 'Cat_9_level_1':'string', 'Cat_9_level_2':'string', 'Cat_9_weight':'string',\n",
    "       'Cat_10_level_1':'string', 'Cat_10_level_2':'string', 'Cat_10_weight':'string', 'Cat_11_level_1':'string',\n",
    "       'Cat_11_level_2':'string', 'Cat_11_weight':'string', 'Cat_12_level_1':'string', 'Cat_12_level_2':'string',\n",
    "       'Cat_12_weight':'string'})"
   ]
  },
  {
   "cell_type": "markdown",
   "metadata": {},
   "source": [
    "<br>\n",
    "<b>On cherche le nombre de valeur nulles</b>"
   ]
  },
  {
   "cell_type": "code",
   "execution_count": 3,
   "metadata": {},
   "outputs": [
    {
     "data": {
      "text/plain": [
       "Unnamed: 0             0\n",
       "Message-ID             0\n",
       "Date                   0\n",
       "From                   0\n",
       "To                  5001\n",
       "Subject             5364\n",
       "X-From                 6\n",
       "X-To                2600\n",
       "X-cc               78253\n",
       "X-bcc              99966\n",
       "X-Folder               6\n",
       "X-Origin               6\n",
       "X-FileName           729\n",
       "content              402\n",
       "user                   0\n",
       "Cat_1_level_1      99790\n",
       "Cat_1_level_2      99790\n",
       "Cat_1_weight       99790\n",
       "Cat_2_level_1      99800\n",
       "Cat_2_level_2      99800\n",
       "Cat_2_weight       99800\n",
       "Cat_3_level_1      99834\n",
       "Cat_3_level_2      99834\n",
       "Cat_3_weight       99834\n",
       "Cat_4_level_1      99896\n",
       "Cat_4_level_2      99896\n",
       "Cat_4_weight       99896\n",
       "Cat_5_level_1      99943\n",
       "Cat_5_level_2      99943\n",
       "Cat_5_weight       99943\n",
       "Cat_6_level_1      99979\n",
       "Cat_6_level_2      99979\n",
       "Cat_6_weight       99979\n",
       "Cat_7_level_1      99990\n",
       "Cat_7_level_2      99990\n",
       "Cat_7_weight       99990\n",
       "Cat_8_level_1      99998\n",
       "Cat_8_level_2      99998\n",
       "Cat_8_weight       99998\n",
       "Cat_9_level_1      99999\n",
       "Cat_9_level_2      99999\n",
       "Cat_9_weight       99999\n",
       "Cat_10_level_1     99999\n",
       "Cat_10_level_2     99999\n",
       "Cat_10_weight      99999\n",
       "Cat_11_level_1    100000\n",
       "Cat_11_level_2    100000\n",
       "Cat_11_weight     100000\n",
       "Cat_12_level_1    100000\n",
       "Cat_12_level_2    100000\n",
       "Cat_12_weight     100000\n",
       "labeled                0\n",
       "dtype: int64"
      ]
     },
     "execution_count": 3,
     "metadata": {},
     "output_type": "execute_result"
    }
   ],
   "source": [
    "data.isnull().sum()"
   ]
  },
  {
   "cell_type": "markdown",
   "metadata": {},
   "source": [
    "<b> Il y a beaucoup de valeurs manquantes:</b>\n",
    "   - Cat_12_weight, Cat_12_level_2, Cat_11_weight, Cat_11_level_2, Cat_11_level_1 ont toutes les valeurs nulles : on peut donc les enlever.\n"
   ]
  },
  {
   "cell_type": "code",
   "execution_count": 4,
   "metadata": {},
   "outputs": [],
   "source": [
    "data = data.drop(['Cat_12_weight','Cat_12_level_1', 'Cat_12_level_2', 'Cat_11_weight', 'Cat_11_level_2', 'Cat_11_level_1'], axis=1)"
   ]
  },
  {
   "cell_type": "markdown",
   "metadata": {},
   "source": [
    "<br>\n",
    "<b>On va regarder les valeurs différentes possibles en fonction des variables.</b>"
   ]
  },
  {
   "cell_type": "code",
   "execution_count": 5,
   "metadata": {},
   "outputs": [],
   "source": [
    "def look_values(df, column):\n",
    "    return('Unique value of {}: {}'.format(column, len(df[column].unique())))\n",
    "    "
   ]
  },
  {
   "cell_type": "code",
   "execution_count": 6,
   "metadata": {},
   "outputs": [
    {
     "name": "stdout",
     "output_type": "stream",
     "text": [
      "Unique value of Date: 52029\n",
      "Unique value of From: 5537\n",
      "Unique value of To: 15648\n",
      "Unique value of Subject: 38400\n",
      "Unique value of X-From: 7217\n",
      "Unique value of X-To: 19733\n",
      "Unique value of X-cc: 7837\n",
      "Unique value of X-bcc: 30\n",
      "Unique value of X-Folder: 1153\n",
      "Unique value of X-Origin: 56\n",
      "Unique value of X-FileName: 93\n",
      "Unique value of user: 30\n",
      "Unique value of Cat_1_level_1: 2\n",
      "Unique value of Cat_1_level_2: 9\n",
      "Unique value of Cat_1_weight: 3\n",
      "Unique value of Cat_2_level_1: 5\n",
      "Unique value of Cat_2_level_2: 14\n",
      "Unique value of Cat_2_weight: 4\n",
      "Unique value of Cat_3_level_1: 4\n",
      "Unique value of Cat_3_level_2: 15\n",
      "Unique value of Cat_3_weight: 3\n",
      "Unique value of Cat_4_level_1: 4\n",
      "Unique value of Cat_4_level_2: 14\n",
      "Unique value of Cat_4_weight: 3\n",
      "Unique value of Cat_5_level_1: 4\n",
      "Unique value of Cat_5_level_2: 15\n",
      "Unique value of Cat_5_weight: 3\n",
      "Unique value of Cat_6_level_1: 4\n",
      "Unique value of Cat_6_level_2: 10\n",
      "Unique value of Cat_6_weight: 3\n",
      "Unique value of Cat_7_level_1: 3\n",
      "Unique value of Cat_7_level_2: 8\n",
      "Unique value of Cat_7_weight: 3\n",
      "Unique value of Cat_8_level_1: 3\n",
      "Unique value of Cat_8_level_2: 3\n",
      "Unique value of Cat_8_weight: 2\n",
      "Unique value of Cat_9_level_1: 2\n",
      "Unique value of Cat_9_level_2: 2\n",
      "Unique value of Cat_9_weight: 2\n",
      "Unique value of Cat_10_level_1: 2\n",
      "Unique value of Cat_10_level_2: 2\n",
      "Unique value of Cat_10_weight: 2\n",
      "Unique value of labeled: 2\n"
     ]
    }
   ],
   "source": [
    "columns = ['Date', 'From', 'To', 'Subject', 'X-From',\n",
    "       'X-To', 'X-cc', 'X-bcc', 'X-Folder', 'X-Origin', 'X-FileName',\n",
    "        'user', 'Cat_1_level_1', 'Cat_1_level_2', 'Cat_1_weight',\n",
    "       'Cat_2_level_1', 'Cat_2_level_2', 'Cat_2_weight', 'Cat_3_level_1',\n",
    "       'Cat_3_level_2', 'Cat_3_weight', 'Cat_4_level_1', 'Cat_4_level_2',\n",
    "       'Cat_4_weight', 'Cat_5_level_1', 'Cat_5_level_2', 'Cat_5_weight',\n",
    "       'Cat_6_level_1', 'Cat_6_level_2', 'Cat_6_weight', 'Cat_7_level_1',\n",
    "       'Cat_7_level_2', 'Cat_7_weight', 'Cat_8_level_1', 'Cat_8_level_2',\n",
    "       'Cat_8_weight', 'Cat_9_level_1', 'Cat_9_level_2', 'Cat_9_weight',\n",
    "       'Cat_10_level_1', 'Cat_10_level_2', 'Cat_10_weight', 'labeled']\n",
    "for column in columns:\n",
    "    print(look_values(data,column))"
   ]
  },
  {
   "cell_type": "markdown",
   "metadata": {},
   "source": [
    "# Creation d'une colonne type de longeur en nombre de caractère"
   ]
  },
  {
   "cell_type": "code",
   "execution_count": 7,
   "metadata": {},
   "outputs": [],
   "source": [
    "data['content_char_len'] = data['content'].apply(lambda x: len(x)  if (type(x)==type('str')) else 0)"
   ]
  },
  {
   "cell_type": "code",
   "execution_count": 8,
   "metadata": {},
   "outputs": [
    {
     "data": {
      "text/plain": [
       "count    100000.00000\n",
       "mean       2158.93104\n",
       "std        7370.24427\n",
       "min           0.00000\n",
       "25%         272.00000\n",
       "50%         758.00000\n",
       "75%        1854.00000\n",
       "max      260461.00000\n",
       "Name: content_char_len, dtype: float64"
      ]
     },
     "execution_count": 8,
     "metadata": {},
     "output_type": "execute_result"
    }
   ],
   "source": [
    "data['content_char_len'].describe()"
   ]
  },
  {
   "cell_type": "markdown",
   "metadata": {},
   "source": [
    "## Création de quartiles"
   ]
  },
  {
   "cell_type": "code",
   "execution_count": 9,
   "metadata": {},
   "outputs": [],
   "source": [
    "content_char_length_q1 = data['content_char_len'].quantile(0.25)\n",
    "content_char_length_q2 = data['content_char_len'].quantile(0.75)\n",
    "content_char_length_q95 = data['content_char_len'].quantile(0.95)"
   ]
  },
  {
   "cell_type": "markdown",
   "metadata": {},
   "source": [
    "<b>On classe les corps de mails en catégories de longueur grâce aux quartiles:</b>\n",
    "- mails courts < q(0.25) \n",
    "- mails moyens < q(0.75) \n",
    "- mails longs < q(0.95) \n",
    "- < mails très longs"
   ]
  },
  {
   "cell_type": "code",
   "execution_count": 10,
   "metadata": {},
   "outputs": [],
   "source": [
    "data['content_char_length_category'] = data['content_char_len'].apply(lambda x: 'short message' if x<content_char_length_q1 else ('average message' if x<content_char_length_q2 else 'long message'))"
   ]
  },
  {
   "cell_type": "code",
   "execution_count": 11,
   "metadata": {},
   "outputs": [
    {
     "data": {
      "text/plain": [
       "0          short message\n",
       "1        average message\n",
       "2          short message\n",
       "3          short message\n",
       "4          short message\n",
       "              ...       \n",
       "99995    average message\n",
       "99996    average message\n",
       "99997    average message\n",
       "99998       long message\n",
       "99999    average message\n",
       "Name: content_char_length_category, Length: 100000, dtype: object"
      ]
     },
     "execution_count": 11,
     "metadata": {},
     "output_type": "execute_result"
    }
   ],
   "source": [
    "data['content_char_length_category']"
   ]
  },
  {
   "cell_type": "markdown",
   "metadata": {},
   "source": [
    "# Création de deux colonnes longueur en nombre de mot\n",
    "- \"content_word_len\" : nombre de mots dans le contenu\n",
    "- \"content_word_length_category\" : catégorie de longueur du mot [1,2,3,4]"
   ]
  },
  {
   "cell_type": "code",
   "execution_count": 14,
   "metadata": {},
   "outputs": [],
   "source": [
    "data['content_word_len'] = data['content'].apply(lambda x: sum([i.strip(string.punctuation).isalpha() for i in x.split()])  if (type(x)==type('str')) else 0)"
   ]
  },
  {
   "cell_type": "code",
   "execution_count": 15,
   "metadata": {},
   "outputs": [
    {
     "data": {
      "text/plain": [
       "count    100000.00000\n",
       "mean        296.20993\n",
       "std        1034.19512\n",
       "min           0.00000\n",
       "25%          38.00000\n",
       "50%         105.00000\n",
       "75%         253.00000\n",
       "max       38084.00000\n",
       "Name: content_word_len, dtype: float64"
      ]
     },
     "execution_count": 15,
     "metadata": {},
     "output_type": "execute_result"
    }
   ],
   "source": [
    "data['content_word_len'].describe()"
   ]
  },
  {
   "cell_type": "markdown",
   "metadata": {},
   "source": [
    "### Analyse de la distribution\n",
    "\n",
    "+99% des mail ont moins de 5000 mots."
   ]
  },
  {
   "cell_type": "code",
   "execution_count": 16,
   "metadata": {},
   "outputs": [
    {
     "data": {
      "text/plain": [
       "3262.1899999999005"
      ]
     },
     "execution_count": 16,
     "metadata": {},
     "output_type": "execute_result"
    }
   ],
   "source": [
    "data['content_word_len'].quantile(0.99)"
   ]
  },
  {
   "cell_type": "code",
   "execution_count": 17,
   "metadata": {},
   "outputs": [
    {
     "data": {
      "image/png": "[encoded data removed]",
      "text/plain": [
       "<Figure size 432x288 with 1 Axes>"
      ]
     },
     "metadata": {
      "needs_background": "light"
     },
     "output_type": "display_data"
    }
   ],
   "source": [
    "ax = data[\"content_word_len\"].plot.hist(bins=range(0,3200,100))"
   ]
  },
  {
   "cell_type": "markdown",
   "metadata": {},
   "source": [
    "### On reserre l'analyse sur les premiers 90%\n",
    "\n",
    "On essaie de voir l'étalement de la distribution"
   ]
  },
  {
   "cell_type": "code",
   "execution_count": 18,
   "metadata": {},
   "outputs": [
    {
     "data": {
      "text/plain": [
       "613.0"
      ]
     },
     "execution_count": 18,
     "metadata": {},
     "output_type": "execute_result"
    }
   ],
   "source": [
    "data['content_word_len'].quantile(0.91)"
   ]
  },
  {
   "cell_type": "code",
   "execution_count": 19,
   "metadata": {},
   "outputs": [
    {
     "data": {
      "image/png": "[encoded data removed]",
      "text/plain": [
       "<Figure size 432x288 with 1 Axes>"
      ]
     },
     "metadata": {
      "needs_background": "light"
     },
     "output_type": "display_data"
    }
   ],
   "source": [
    "ax = data[\"content_word_len\"].plot.hist(bins=range(0,1000,10))"
   ]
  },
  {
   "cell_type": "markdown",
   "metadata": {},
   "source": [
    "## Définition des catégories\n",
    "\n",
    "En utilisant https://www.campaignmonitor.com, on apprend que la longueur idéale d'un mail est entre 50 et 125 mots\n",
    "\n",
    "#### On choisit donc de créer les catégories suivantes\n",
    "\n",
    "content_word_len < 50 => \"Message court\" <br>\n",
    "50 <= content_word_len < 125 => \"Message moyen\"\n",
    "\n",
    "#### En se basant sur la répartition que nous avons observée, on décide de créer les catégories suivantes\n",
    "125 <= content_word_len < 600 => \"Message long\" <br>\n",
    "600 <= content_word_len => \"Message très long\"\n"
   ]
  },
  {
   "cell_type": "markdown",
   "metadata": {},
   "source": [
    "## Création des groupes"
   ]
  },
  {
   "cell_type": "code",
   "execution_count": 20,
   "metadata": {},
   "outputs": [],
   "source": [
    "content_word_length_q1 = 50\n",
    "content_word_length_q2 = 125\n",
    "content_word_length_q3 = 600"
   ]
  },
  {
   "cell_type": "code",
   "execution_count": 21,
   "metadata": {},
   "outputs": [],
   "source": [
    "data['content_word_length_category'] = data['content_word_len'].apply(lambda x: 1 if x<content_word_length_q1 else (2 if x<content_word_length_q2 else (3 if x<content_word_length_q3 else 4)))"
   ]
  },
  {
   "cell_type": "code",
   "execution_count": 22,
   "metadata": {},
   "outputs": [
    {
     "data": {
      "text/plain": [
       "Text(0.5, 0, 'content_word_length_category')"
      ]
     },
     "execution_count": 22,
     "metadata": {},
     "output_type": "execute_result"
    },
    {
     "data": {
      "image/png": "[encoded data removed]",
      "text/plain": [
       "<Figure size 1440x576 with 2 Axes>"
      ]
     },
     "metadata": {
      "needs_background": "light"
     },
     "output_type": "display_data"
    }
   ],
   "source": [
    "f,ax = plt.subplots(1,2,figsize=(20,8))\n",
    "\n",
    "sns.countplot(x='content_word_length_category', data=data, ax=ax[1])\n",
    "ax[1].set_title('content_word_length_category')\n",
    "ax[1].set_xlabel('content_word_length_category')"
   ]
  },
  {
   "cell_type": "markdown",
   "metadata": {},
   "source": [
    "# Nettoyage de l'attribut \"From\"\n",
    "- Le but est de retirer le texte inutile qui entoure le mail"
   ]
  },
  {
   "cell_type": "code",
   "execution_count": 27,
   "metadata": {},
   "outputs": [
    {
     "data": {
      "text/plain": [
       "\"frozenset({'david.oxley@enron.com'})\""
      ]
     },
     "execution_count": 27,
     "metadata": {},
     "output_type": "execute_result"
    }
   ],
   "source": [
    "data[\"From\"][1500]"
   ]
  },
  {
   "cell_type": "code",
   "execution_count": 28,
   "metadata": {},
   "outputs": [],
   "source": [
    "def clean_from_attribute (field):\n",
    "    return field[field.find(\"{\")+1:field.find(\"}\")][1:-1]\n"
   ]
  },
  {
   "cell_type": "code",
   "execution_count": 29,
   "metadata": {},
   "outputs": [
    {
     "data": {
      "text/plain": [
       "'david.oxley@enron.com'"
      ]
     },
     "execution_count": 29,
     "metadata": {},
     "output_type": "execute_result"
    }
   ],
   "source": [
    " clean_from_attribute(data[\"From\"][1500])"
   ]
  },
  {
   "cell_type": "code",
   "execution_count": 30,
   "metadata": {},
   "outputs": [],
   "source": [
    "data['From'] = data['From'].apply(lambda x: clean_from_attribute(x))"
   ]
  },
  {
   "cell_type": "markdown",
   "metadata": {},
   "source": [
    "# Nettoyage de l'attribut \"To\"\n",
    "- Ici on souhaite obtenir une liste d'email, plus facile à traiter ensuite\n",
    "- Certaines lignes possède un attribut vide que nous initialiseront avec une liste vide"
   ]
  },
  {
   "cell_type": "code",
   "execution_count": 31,
   "metadata": {},
   "outputs": [
    {
     "data": {
      "text/plain": [
       "0              frozenset({'tim.belden@enron.com'})\n",
       "1           frozenset({'john.lavorato@enron.com'})\n",
       "2            frozenset({'leah.arsdall@enron.com'})\n",
       "3             frozenset({'randall.gay@enron.com'})\n",
       "4              frozenset({'greg.piper@enron.com'})\n",
       "                           ...                    \n",
       "99995    frozenset({'carlos.rodriguez@enron.com'})\n",
       "99996       frozenset({'stella.morris@enron.com'})\n",
       "99997        frozenset({'aimee.lannou@enron.com'})\n",
       "99998          frozenset({'pat.clynes@enron.com'})\n",
       "99999        frozenset({'julie.meyers@enron.com'})\n",
       "Name: To, Length: 100000, dtype: string"
      ]
     },
     "execution_count": 31,
     "metadata": {},
     "output_type": "execute_result"
    }
   ],
   "source": [
    "data['To']"
   ]
  },
  {
   "cell_type": "code",
   "execution_count": 32,
   "metadata": {},
   "outputs": [],
   "source": [
    "def clean_to_attribute (field):\n",
    "    if isinstance(field,pd._libs.missing.NAType):\n",
    "        return []\n",
    "    else:\n",
    "        first_clean = field[field.find(\"{\")+1:field.find(\"}\")].split(\", \")\n",
    "        second_clean = [email[1:-1] for email in first_clean]\n",
    "        return second_clean     "
   ]
  },
  {
   "cell_type": "markdown",
   "metadata": {},
   "source": [
    "Exemple de \"To\" vide"
   ]
  },
  {
   "cell_type": "code",
   "execution_count": 33,
   "metadata": {},
   "outputs": [
    {
     "name": "stdout",
     "output_type": "stream",
     "text": [
      "<NA>\n"
     ]
    }
   ],
   "source": [
    "print(data[\"To\"][188])"
   ]
  },
  {
   "cell_type": "markdown",
   "metadata": {},
   "source": [
    "Example of multiple To before cleaning"
   ]
  },
  {
   "cell_type": "code",
   "execution_count": 34,
   "metadata": {},
   "outputs": [
    {
     "name": "stdout",
     "output_type": "stream",
     "text": [
      "frozenset({'michael.moscoso@enron.com', 'victor.guggenheim@enron.com', 'brent.price@enron.com', 'edward.coats@enron.com', 'kim.chick@enron.com', 'ilan.caplan@enron.com', 'sally.beck@enron.com', 'beth.apke@enron.com', 'leon.branom@enron.com', 'mason.hamlin@enron.com', 'leesa.white@enron.com', 'david.yang@enron.com', 'susan.scott@enron.com', 'richard.causey@enron.com', 'obed.cruz@enron.com'})\n"
     ]
    }
   ],
   "source": [
    "print(data[\"To\"][23424])"
   ]
  },
  {
   "cell_type": "code",
   "execution_count": 35,
   "metadata": {},
   "outputs": [],
   "source": [
    "data[\"To\"] = data[\"To\"].apply(lambda x: clean_to_attribute(x))"
   ]
  },
  {
   "cell_type": "markdown",
   "metadata": {},
   "source": [
    "Exemple d'attribut \"To\" vide après le nettoyage"
   ]
  },
  {
   "cell_type": "code",
   "execution_count": 36,
   "metadata": {},
   "outputs": [
    {
     "name": "stdout",
     "output_type": "stream",
     "text": [
      "[]\n"
     ]
    }
   ],
   "source": [
    "print(data[\"To\"][188])"
   ]
  },
  {
   "cell_type": "markdown",
   "metadata": {},
   "source": [
    "Exemple de \"To\" avec plusieurs mail après nettoyage"
   ]
  },
  {
   "cell_type": "code",
   "execution_count": 37,
   "metadata": {},
   "outputs": [
    {
     "name": "stdout",
     "output_type": "stream",
     "text": [
      "['michael.moscoso@enron.com', 'victor.guggenheim@enron.com', 'brent.price@enron.com', 'edward.coats@enron.com', 'kim.chick@enron.com', 'ilan.caplan@enron.com', 'sally.beck@enron.com', 'beth.apke@enron.com', 'leon.branom@enron.com', 'mason.hamlin@enron.com', 'leesa.white@enron.com', 'david.yang@enron.com', 'susan.scott@enron.com', 'richard.causey@enron.com', 'obed.cruz@enron.com']\n"
     ]
    }
   ],
   "source": [
    "print(data[\"To\"][23424])"
   ]
  },
  {
   "cell_type": "markdown",
   "metadata": {},
   "source": [
    "# Création d'un attribut nombre de destinataire\n",
    "- \"To_count\" : nombre de destinataires par mail"
   ]
  },
  {
   "cell_type": "code",
   "execution_count": 38,
   "metadata": {},
   "outputs": [],
   "source": [
    "def count_receivers (field):\n",
    "    return len(field)\n",
    "            "
   ]
  },
  {
   "cell_type": "code",
   "execution_count": 39,
   "metadata": {},
   "outputs": [],
   "source": [
    "data[\"To_count\"] = data[\"To\"].apply(lambda x: count_receivers(x))"
   ]
  },
  {
   "cell_type": "markdown",
   "metadata": {},
   "source": [
    "Exemple de mail avec plusieurs receveurs"
   ]
  },
  {
   "cell_type": "code",
   "execution_count": 40,
   "metadata": {},
   "outputs": [
    {
     "data": {
      "text/plain": [
       "['michael.moscoso@enron.com',\n",
       " 'victor.guggenheim@enron.com',\n",
       " 'brent.price@enron.com',\n",
       " 'edward.coats@enron.com',\n",
       " 'kim.chick@enron.com',\n",
       " 'ilan.caplan@enron.com',\n",
       " 'sally.beck@enron.com',\n",
       " 'beth.apke@enron.com',\n",
       " 'leon.branom@enron.com',\n",
       " 'mason.hamlin@enron.com',\n",
       " 'leesa.white@enron.com',\n",
       " 'david.yang@enron.com',\n",
       " 'susan.scott@enron.com',\n",
       " 'richard.causey@enron.com',\n",
       " 'obed.cruz@enron.com']"
      ]
     },
     "execution_count": 40,
     "metadata": {},
     "output_type": "execute_result"
    }
   ],
   "source": [
    "data[\"To\"][23424]"
   ]
  },
  {
   "cell_type": "code",
   "execution_count": 41,
   "metadata": {},
   "outputs": [
    {
     "data": {
      "text/plain": [
       "15"
      ]
     },
     "execution_count": 41,
     "metadata": {},
     "output_type": "execute_result"
    }
   ],
   "source": [
    "data[\"To_count\"][23424]"
   ]
  },
  {
   "cell_type": "markdown",
   "metadata": {},
   "source": [
    "# II - Création d'un dataframe contenant toutes les adresses mail existantes et des informations concernant ces dernières\n",
    "- Le nombre de mails envoyés\n",
    "- Le nombre de mails reçus\n",
    "- Le nombre de personnes contactées (différent du nombre de mail car un mail peut être envoyé à plusieurs personnes)"
   ]
  },
  {
   "cell_type": "code",
   "execution_count": 43,
   "metadata": {},
   "outputs": [],
   "source": [
    "user_activities=[]\n",
    "\n",
    "def count_email_sent(array,df):\n",
    "    for index, row in df.iterrows():\n",
    "        array.append((row[\"From\"],1,0,len(row[\"To\"])))\n",
    "\n",
    "def count_email_received(array,df):\n",
    "    for i in data[\"To\"]:\n",
    "        for j in i:\n",
    "            array.append((j,0,1,0))"
   ]
  },
  {
   "cell_type": "code",
   "execution_count": 42,
   "metadata": {},
   "outputs": [],
   "source": [
    "count_email_sent(user_activities,data)\n",
    "count_email_received(user_activities,data)\n",
    "\n",
    "user_activities_df = pd.DataFrame.from_records(user_activities, columns =['User', 'Sent','Received','People Contacted']) "
   ]
  },
  {
   "cell_type": "code",
   "execution_count": 44,
   "metadata": {},
   "outputs": [
    {
     "data": {
      "text/html": [
       "<div>\n",
       "<style scoped>\n",
       "    .dataframe tbody tr th:only-of-type {\n",
       "        vertical-align: middle;\n",
       "    }\n",
       "\n",
       "    .dataframe tbody tr th {\n",
       "        vertical-align: top;\n",
       "    }\n",
       "\n",
       "    .dataframe thead th {\n",
       "        text-align: right;\n",
       "    }\n",
       "</style>\n",
       "<table border=\"1\" class=\"dataframe\">\n",
       "  <thead>\n",
       "    <tr style=\"text-align: right;\">\n",
       "      <th></th>\n",
       "      <th>User</th>\n",
       "      <th>Sent</th>\n",
       "      <th>Received</th>\n",
       "      <th>People Contacted</th>\n",
       "    </tr>\n",
       "  </thead>\n",
       "  <tbody>\n",
       "    <tr>\n",
       "      <th>0</th>\n",
       "      <td>phillip.allen@enron.com</td>\n",
       "      <td>1</td>\n",
       "      <td>0</td>\n",
       "      <td>1</td>\n",
       "    </tr>\n",
       "    <tr>\n",
       "      <th>1</th>\n",
       "      <td>phillip.allen@enron.com</td>\n",
       "      <td>1</td>\n",
       "      <td>0</td>\n",
       "      <td>1</td>\n",
       "    </tr>\n",
       "    <tr>\n",
       "      <th>2</th>\n",
       "      <td>phillip.allen@enron.com</td>\n",
       "      <td>1</td>\n",
       "      <td>0</td>\n",
       "      <td>1</td>\n",
       "    </tr>\n",
       "    <tr>\n",
       "      <th>3</th>\n",
       "      <td>phillip.allen@enron.com</td>\n",
       "      <td>1</td>\n",
       "      <td>0</td>\n",
       "      <td>1</td>\n",
       "    </tr>\n",
       "    <tr>\n",
       "      <th>4</th>\n",
       "      <td>phillip.allen@enron.com</td>\n",
       "      <td>1</td>\n",
       "      <td>0</td>\n",
       "      <td>1</td>\n",
       "    </tr>\n",
       "    <tr>\n",
       "      <th>...</th>\n",
       "      <td>...</td>\n",
       "      <td>...</td>\n",
       "      <td>...</td>\n",
       "      <td>...</td>\n",
       "    </tr>\n",
       "    <tr>\n",
       "      <th>825048</th>\n",
       "      <td>carlos.rodriguez@enron.com</td>\n",
       "      <td>0</td>\n",
       "      <td>1</td>\n",
       "      <td>0</td>\n",
       "    </tr>\n",
       "    <tr>\n",
       "      <th>825049</th>\n",
       "      <td>stella.morris@enron.com</td>\n",
       "      <td>0</td>\n",
       "      <td>1</td>\n",
       "      <td>0</td>\n",
       "    </tr>\n",
       "    <tr>\n",
       "      <th>825050</th>\n",
       "      <td>aimee.lannou@enron.com</td>\n",
       "      <td>0</td>\n",
       "      <td>1</td>\n",
       "      <td>0</td>\n",
       "    </tr>\n",
       "    <tr>\n",
       "      <th>825051</th>\n",
       "      <td>pat.clynes@enron.com</td>\n",
       "      <td>0</td>\n",
       "      <td>1</td>\n",
       "      <td>0</td>\n",
       "    </tr>\n",
       "    <tr>\n",
       "      <th>825052</th>\n",
       "      <td>julie.meyers@enron.com</td>\n",
       "      <td>0</td>\n",
       "      <td>1</td>\n",
       "      <td>0</td>\n",
       "    </tr>\n",
       "  </tbody>\n",
       "</table>\n",
       "<p>825053 rows × 4 columns</p>\n",
       "</div>"
      ],
      "text/plain": [
       "                              User  Sent  Received  People Contacted\n",
       "0          phillip.allen@enron.com     1         0                 1\n",
       "1          phillip.allen@enron.com     1         0                 1\n",
       "2          phillip.allen@enron.com     1         0                 1\n",
       "3          phillip.allen@enron.com     1         0                 1\n",
       "4          phillip.allen@enron.com     1         0                 1\n",
       "...                            ...   ...       ...               ...\n",
       "825048  carlos.rodriguez@enron.com     0         1                 0\n",
       "825049     stella.morris@enron.com     0         1                 0\n",
       "825050      aimee.lannou@enron.com     0         1                 0\n",
       "825051        pat.clynes@enron.com     0         1                 0\n",
       "825052      julie.meyers@enron.com     0         1                 0\n",
       "\n",
       "[825053 rows x 4 columns]"
      ]
     },
     "execution_count": 44,
     "metadata": {},
     "output_type": "execute_result"
    }
   ],
   "source": [
    "user_activities_df"
   ]
  },
  {
   "cell_type": "code",
   "execution_count": 45,
   "metadata": {},
   "outputs": [],
   "source": [
    "user_activities_df = user_activities_df.groupby(\"User\").agg({\"Sent\":\"sum\",\"Received\":\"sum\",\"People Contacted\":\"sum\"})\n",
    "user_activities_df = user_activities_df.sort_values(\"Sent\",ascending=False)"
   ]
  },
  {
   "cell_type": "code",
   "execution_count": 46,
   "metadata": {},
   "outputs": [
    {
     "data": {
      "text/html": [
       "<div>\n",
       "<style scoped>\n",
       "    .dataframe tbody tr th:only-of-type {\n",
       "        vertical-align: middle;\n",
       "    }\n",
       "\n",
       "    .dataframe tbody tr th {\n",
       "        vertical-align: top;\n",
       "    }\n",
       "\n",
       "    .dataframe thead th {\n",
       "        text-align: right;\n",
       "    }\n",
       "</style>\n",
       "<table border=\"1\" class=\"dataframe\">\n",
       "  <thead>\n",
       "    <tr style=\"text-align: right;\">\n",
       "      <th></th>\n",
       "      <th>Sent</th>\n",
       "      <th>Received</th>\n",
       "      <th>People Contacted</th>\n",
       "    </tr>\n",
       "    <tr>\n",
       "      <th>User</th>\n",
       "      <th></th>\n",
       "      <th></th>\n",
       "      <th></th>\n",
       "    </tr>\n",
       "  </thead>\n",
       "  <tbody>\n",
       "    <tr>\n",
       "      <th>jeff.dasovich@enron.com</th>\n",
       "      <td>9441</td>\n",
       "      <td>10098</td>\n",
       "      <td>58290</td>\n",
       "    </tr>\n",
       "    <tr>\n",
       "      <th>eric.bass@enron.com</th>\n",
       "      <td>5122</td>\n",
       "      <td>1400</td>\n",
       "      <td>10587</td>\n",
       "    </tr>\n",
       "    <tr>\n",
       "      <th>sally.beck@enron.com</th>\n",
       "      <td>4242</td>\n",
       "      <td>5277</td>\n",
       "      <td>13613</td>\n",
       "    </tr>\n",
       "    <tr>\n",
       "      <th>john.arnold@enron.com</th>\n",
       "      <td>3492</td>\n",
       "      <td>979</td>\n",
       "      <td>3685</td>\n",
       "    </tr>\n",
       "    <tr>\n",
       "      <th>david.delainey@enron.com</th>\n",
       "      <td>2958</td>\n",
       "      <td>651</td>\n",
       "      <td>5707</td>\n",
       "    </tr>\n",
       "    <tr>\n",
       "      <th>...</th>\n",
       "      <td>...</td>\n",
       "      <td>...</td>\n",
       "      <td>...</td>\n",
       "    </tr>\n",
       "    <tr>\n",
       "      <th>greg.hathaway@enron.com</th>\n",
       "      <td>0</td>\n",
       "      <td>2</td>\n",
       "      <td>0</td>\n",
       "    </tr>\n",
       "    <tr>\n",
       "      <th>greg.grissom@enron.com</th>\n",
       "      <td>0</td>\n",
       "      <td>4</td>\n",
       "      <td>0</td>\n",
       "    </tr>\n",
       "    <tr>\n",
       "      <th>greg.edwards@foothillspipe.com</th>\n",
       "      <td>0</td>\n",
       "      <td>3</td>\n",
       "      <td>0</td>\n",
       "    </tr>\n",
       "    <tr>\n",
       "      <th>greg.curran@enron.com</th>\n",
       "      <td>0</td>\n",
       "      <td>45</td>\n",
       "      <td>0</td>\n",
       "    </tr>\n",
       "    <tr>\n",
       "      <th>zykorie.allyson@enron.com</th>\n",
       "      <td>0</td>\n",
       "      <td>1</td>\n",
       "      <td>0</td>\n",
       "    </tr>\n",
       "  </tbody>\n",
       "</table>\n",
       "<p>27469 rows × 3 columns</p>\n",
       "</div>"
      ],
      "text/plain": [
       "                                Sent  Received  People Contacted\n",
       "User                                                            \n",
       "jeff.dasovich@enron.com         9441     10098             58290\n",
       "eric.bass@enron.com             5122      1400             10587\n",
       "sally.beck@enron.com            4242      5277             13613\n",
       "john.arnold@enron.com           3492       979              3685\n",
       "david.delainey@enron.com        2958       651              5707\n",
       "...                              ...       ...               ...\n",
       "greg.hathaway@enron.com            0         2                 0\n",
       "greg.grissom@enron.com             0         4                 0\n",
       "greg.edwards@foothillspipe.com     0         3                 0\n",
       "greg.curran@enron.com              0        45                 0\n",
       "zykorie.allyson@enron.com          0         1                 0\n",
       "\n",
       "[27469 rows x 3 columns]"
      ]
     },
     "execution_count": 46,
     "metadata": {},
     "output_type": "execute_result"
    }
   ],
   "source": [
    "user_activities_df"
   ]
  },
  {
   "cell_type": "markdown",
   "metadata": {},
   "source": [
    "Écriture du dataframe en vue d'un traitement sur RStudio"
   ]
  },
  {
   "cell_type": "code",
   "execution_count": 241,
   "metadata": {},
   "outputs": [],
   "source": [
    "user_activities_df.to_csv (r'./user_activities.csv', index = False, header=True)"
   ]
  },
  {
   "cell_type": "markdown",
   "metadata": {},
   "source": [
    "# Remplacement des valeurs nulles\n",
    "- On remplace les valeurs nulles restantes par des \"String\" descriptifs"
   ]
  },
  {
   "cell_type": "code",
   "execution_count": 48,
   "metadata": {},
   "outputs": [],
   "source": [
    "def look_values_possible(column):\n",
    "    return(column.unique())\n",
    "\n",
    "for i in range(15, 46):\n",
    "    data.iloc[:, i] = data.iloc[:, i].apply(lambda x: -1 if ((type(x) != type('str'))) else x)\n"
   ]
  },
  {
   "cell_type": "code",
   "execution_count": 49,
   "metadata": {},
   "outputs": [],
   "source": [
    "data['X-FileName'] = data['X-FileName'].apply(lambda x: 'No File Name' if ((type(x) != type('str'))) else x )\n",
    "data['X-bcc'] = data['X-bcc'].apply(lambda x: 'No one' if ((type(x) != type('str'))) else x )\n",
    "data['X-cc'] = data['X-cc'].apply(lambda x: 'No one' if ((type(x) != type('str'))) else x )\n",
    "data['X-To'] = data['X-To'].apply(lambda x: 'No one' if ((type(x) != type('str'))) else x )\n",
    "data['X-From'] = data['X-From'].apply(lambda x: 'No one' if ((type(x) != type('str'))) else x )\n",
    "data['Subject'] = data['Subject'].apply(lambda x: 'No subject' if ((type(x) != type('str'))) else x )\n",
    "data['To'] = data['To'].apply(lambda x: 'No one' if ((type(x) != type('str'))) else x )\n",
    "data['X-Folder'] = data['X-Folder'].apply(lambda x: 'No X-Folder' if ((type(x) != type('str'))) else x )\n",
    "data['X-Origin'] = data['X-Origin'].apply(lambda x: 'No X-Origin' if ((type(x) != type('str'))) else x )"
   ]
  },
  {
   "cell_type": "code",
   "execution_count": 50,
   "metadata": {},
   "outputs": [
    {
     "data": {
      "text/plain": [
       "Unnamed: 0                        0\n",
       "Message-ID                        0\n",
       "Date                              0\n",
       "From                              0\n",
       "To                                0\n",
       "Subject                           0\n",
       "X-From                            0\n",
       "X-To                              0\n",
       "X-cc                              0\n",
       "X-bcc                             0\n",
       "X-Folder                          0\n",
       "X-Origin                          0\n",
       "X-FileName                        0\n",
       "content                         402\n",
       "user                              0\n",
       "Cat_1_level_1                     0\n",
       "Cat_1_level_2                     0\n",
       "Cat_1_weight                      0\n",
       "Cat_2_level_1                     0\n",
       "Cat_2_level_2                     0\n",
       "Cat_2_weight                      0\n",
       "Cat_3_level_1                     0\n",
       "Cat_3_level_2                     0\n",
       "Cat_3_weight                      0\n",
       "Cat_4_level_1                     0\n",
       "Cat_4_level_2                     0\n",
       "Cat_4_weight                      0\n",
       "Cat_5_level_1                     0\n",
       "Cat_5_level_2                     0\n",
       "Cat_5_weight                      0\n",
       "Cat_6_level_1                     0\n",
       "Cat_6_level_2                     0\n",
       "Cat_6_weight                      0\n",
       "Cat_7_level_1                     0\n",
       "Cat_7_level_2                     0\n",
       "Cat_7_weight                      0\n",
       "Cat_8_level_1                     0\n",
       "Cat_8_level_2                     0\n",
       "Cat_8_weight                      0\n",
       "Cat_9_level_1                     0\n",
       "Cat_9_level_2                     0\n",
       "Cat_9_weight                      0\n",
       "Cat_10_level_1                    0\n",
       "Cat_10_level_2                    0\n",
       "Cat_10_weight                     0\n",
       "labeled                           0\n",
       "content_char_len                  0\n",
       "content_char_length_category      0\n",
       "content_word_len                  0\n",
       "content_word_length_category      0\n",
       "To_count                          0\n",
       "dtype: int64"
      ]
     },
     "execution_count": 50,
     "metadata": {},
     "output_type": "execute_result"
    }
   ],
   "source": [
    "data.isna().sum()\n"
   ]
  },
  {
   "cell_type": "markdown",
   "metadata": {},
   "source": [
    "# III - Nettoyage des données temporelles\n",
    "- Ici on crée plusieurs attributs décrivant un aspect de la date d'envoi du mail\n",
    "- \"Years\" : l'année d'envoi\n",
    "- \"Month\" : le mois de l'année\n",
    "- \"Day\" : le jour du mois\n",
    "- \"Hours\" : l'heure de la journée\n",
    "- \"DayWeek\" : le jour de la semaine"
   ]
  },
  {
   "cell_type": "markdown",
   "metadata": {},
   "source": [
    "<h4> a - Years.</h4>"
   ]
  },
  {
   "cell_type": "code",
   "execution_count": 51,
   "metadata": {},
   "outputs": [],
   "source": [
    "data['Years'] = data['Date'].apply(lambda x:  int(x.split('-' )[0]))"
   ]
  },
  {
   "cell_type": "code",
   "execution_count": 52,
   "metadata": {},
   "outputs": [
    {
     "name": "stdout",
     "output_type": "stream",
     "text": [
      "Unique value of Years: 9\n",
      "count    100000.000000\n",
      "mean       2000.615800\n",
      "std           0.827972\n",
      "min        1980.000000\n",
      "25%        2000.000000\n",
      "50%        2001.000000\n",
      "75%        2001.000000\n",
      "max        2020.000000\n",
      "Name: Years, dtype: float64\n"
     ]
    }
   ],
   "source": [
    "print(look_values(data,'Years'))\n",
    "\n",
    "print(data.Years.describe())"
   ]
  },
  {
   "cell_type": "code",
   "execution_count": 53,
   "metadata": {},
   "outputs": [
    {
     "data": {
      "text/plain": [
       "Text(0.5, 0, '')"
      ]
     },
     "execution_count": 53,
     "metadata": {},
     "output_type": "execute_result"
    },
    {
     "data": {
      "image/png": "[encoded data removed]",
      "text/plain": [
       "<Figure size 1440x720 with 2 Axes>"
      ]
     },
     "metadata": {
      "needs_background": "light"
     },
     "output_type": "display_data"
    }
   ],
   "source": [
    "f,ax = plt.subplots(1,2,figsize=(20,10))\n",
    "data.boxplot(column=['Years'], ax=ax[0])\n",
    "\n",
    "sns.countplot(x='Years',data=data,ax=ax[1])\n",
    "ax[1].set_title('Years')\n",
    "ax[1].set_xlabel('')"
   ]
  },
  {
   "cell_type": "markdown",
   "metadata": {},
   "source": [
    "\n",
    "<h4>b - Month.</h4>"
   ]
  },
  {
   "cell_type": "code",
   "execution_count": 54,
   "metadata": {},
   "outputs": [],
   "source": [
    "data['Month'] = data['Date'].apply(lambda x:  int(x.split('-' )[1]))"
   ]
  },
  {
   "cell_type": "code",
   "execution_count": 55,
   "metadata": {},
   "outputs": [
    {
     "name": "stdout",
     "output_type": "stream",
     "text": [
      "Unique value of Month: 12\n",
      "count    100000.000000\n",
      "mean          7.231930\n",
      "std           3.623966\n",
      "min           1.000000\n",
      "25%           4.000000\n",
      "50%           8.000000\n",
      "75%          10.000000\n",
      "max          12.000000\n",
      "Name: Month, dtype: float64\n"
     ]
    }
   ],
   "source": [
    "print(look_values(data,'Month'))\n",
    "print(data.Month.describe())"
   ]
  },
  {
   "cell_type": "code",
   "execution_count": 56,
   "metadata": {},
   "outputs": [
    {
     "data": {
      "text/plain": [
       "Text(0.5, 0, '')"
      ]
     },
     "execution_count": 56,
     "metadata": {},
     "output_type": "execute_result"
    },
    {
     "data": {
      "image/png": "[encoded data removed]",
      "text/plain": [
       "<Figure size 1440x720 with 2 Axes>"
      ]
     },
     "metadata": {
      "needs_background": "light"
     },
     "output_type": "display_data"
    }
   ],
   "source": [
    "f,ax = plt.subplots(1,2,figsize=(20,10))\n",
    "data.boxplot(column=['Month'], ax=ax[0])\n",
    "sns.countplot(x='Month',data=data,ax=ax[1])\n",
    "ax[1].set_title('Month')\n",
    "ax[1].set_xlabel('')"
   ]
  },
  {
   "cell_type": "markdown",
   "metadata": {},
   "source": [
    "<h4> c - Day. </h4>\n"
   ]
  },
  {
   "cell_type": "code",
   "execution_count": 57,
   "metadata": {},
   "outputs": [],
   "source": [
    "data['Day'] = data['Date'].apply(lambda x:  int((x.split('-' )[2]).split(' ')[0]))"
   ]
  },
  {
   "cell_type": "code",
   "execution_count": 58,
   "metadata": {},
   "outputs": [
    {
     "name": "stdout",
     "output_type": "stream",
     "text": [
      "Unique value of Day: 31\n"
     ]
    },
    {
     "data": {
      "text/plain": [
       "count    100000.000000\n",
       "mean         16.140620\n",
       "std           8.705156\n",
       "min           1.000000\n",
       "25%           9.000000\n",
       "50%          16.000000\n",
       "75%          24.000000\n",
       "max          31.000000\n",
       "Name: Day, dtype: float64"
      ]
     },
     "execution_count": 58,
     "metadata": {},
     "output_type": "execute_result"
    }
   ],
   "source": [
    "print(look_values(data,'Day'))\n",
    "data['Day'].describe()"
   ]
  },
  {
   "cell_type": "code",
   "execution_count": 59,
   "metadata": {},
   "outputs": [
    {
     "data": {
      "text/plain": [
       "Text(0.5, 0, '')"
      ]
     },
     "execution_count": 59,
     "metadata": {},
     "output_type": "execute_result"
    },
    {
     "data": {
      "image/png": "[encoded data removed]",
      "text/plain": [
       "<Figure size 1440x720 with 2 Axes>"
      ]
     },
     "metadata": {
      "needs_background": "light"
     },
     "output_type": "display_data"
    }
   ],
   "source": [
    "f,ax = plt.subplots(1,2,figsize=(20,10))\n",
    "data.boxplot(column=['Day'], ax=ax[0])\n",
    "\n",
    "\n",
    "sns.countplot(x='Day', data=data, ax=ax[1])\n",
    "ax[1].set_title('Day')\n",
    "ax[1].set_xlabel('')\n"
   ]
  },
  {
   "cell_type": "markdown",
   "metadata": {},
   "source": [
    "<h4> d - Hours. </h4>"
   ]
  },
  {
   "cell_type": "code",
   "execution_count": 60,
   "metadata": {},
   "outputs": [],
   "source": [
    "data['Hours'] = data['Date'].apply(lambda x:  int(((x.split('-' )[2]).split(' ')[1]).split(':')[0]))"
   ]
  },
  {
   "cell_type": "code",
   "execution_count": 61,
   "metadata": {},
   "outputs": [
    {
     "name": "stdout",
     "output_type": "stream",
     "text": [
      "Unique value of Hours: 24\n"
     ]
    },
    {
     "data": {
      "text/plain": [
       "count    100000.000000\n",
       "mean         13.947990\n",
       "std           5.107395\n",
       "min           0.000000\n",
       "25%          11.000000\n",
       "50%          14.000000\n",
       "75%          17.000000\n",
       "max          23.000000\n",
       "Name: Hours, dtype: float64"
      ]
     },
     "execution_count": 61,
     "metadata": {},
     "output_type": "execute_result"
    }
   ],
   "source": [
    "print(look_values(data,'Hours'))\n",
    "data['Hours'].describe()"
   ]
  },
  {
   "cell_type": "code",
   "execution_count": 62,
   "metadata": {},
   "outputs": [
    {
     "data": {
      "text/plain": [
       "Text(0.5, 0, '')"
      ]
     },
     "execution_count": 62,
     "metadata": {},
     "output_type": "execute_result"
    },
    {
     "data": {
      "image/png": "[encoded data removed]",
      "text/plain": [
       "<Figure size 1440x720 with 2 Axes>"
      ]
     },
     "metadata": {
      "needs_background": "light"
     },
     "output_type": "display_data"
    }
   ],
   "source": [
    "f,ax = plt.subplots(1,2,figsize=(20,10))\n",
    "\n",
    "data.boxplot(column=['Hours'], ax=ax[0])\n",
    "\n",
    "sns.countplot(x='Hours', data=data, ax=ax[1])\n",
    "ax[1].set_title('Hours')\n",
    "ax[1].set_xlabel('')\n",
    "\n"
   ]
  },
  {
   "cell_type": "markdown",
   "metadata": {},
   "source": [
    "<h4>c - Week day.</h4>"
   ]
  },
  {
   "cell_type": "markdown",
   "metadata": {},
   "source": [
    "On récupère les jours de la semaine 0 -> lundi ... 6 -> dimanche."
   ]
  },
  {
   "cell_type": "code",
   "execution_count": 63,
   "metadata": {},
   "outputs": [],
   "source": [
    "dt_series = pd.to_datetime(data['Date'], format=\"%Y/%m/%d\")\n",
    "\n",
    "dow = []\n",
    "for dt in range(0, len(data)):\n",
    "    dow.append(dt_series[dt].weekday())\n",
    "\n",
    "data.insert(1, 'DayWeek', dow)"
   ]
  },
  {
   "cell_type": "code",
   "execution_count": 64,
   "metadata": {},
   "outputs": [
    {
     "name": "stdout",
     "output_type": "stream",
     "text": [
      "Unique value of DayWeek: 7\n"
     ]
    },
    {
     "data": {
      "text/plain": [
       "count    100000.000000\n",
       "mean          2.096180\n",
       "std           1.532669\n",
       "min           0.000000\n",
       "25%           1.000000\n",
       "50%           2.000000\n",
       "75%           3.000000\n",
       "max           6.000000\n",
       "Name: DayWeek, dtype: float64"
      ]
     },
     "execution_count": 64,
     "metadata": {},
     "output_type": "execute_result"
    }
   ],
   "source": [
    "print(look_values(data,'DayWeek'))\n",
    "data['DayWeek'].describe()"
   ]
  },
  {
   "cell_type": "code",
   "execution_count": 65,
   "metadata": {},
   "outputs": [
    {
     "data": {
      "text/plain": [
       "Text(0.5, 0, '')"
      ]
     },
     "execution_count": 65,
     "metadata": {},
     "output_type": "execute_result"
    },
    {
     "data": {
      "image/png": "[encoded data removed]",
      "text/plain": [
       "<Figure size 1440x720 with 2 Axes>"
      ]
     },
     "metadata": {
      "needs_background": "light"
     },
     "output_type": "display_data"
    }
   ],
   "source": [
    "f,ax = plt.subplots(1,2,figsize=(20,10))\n",
    "\n",
    "data.boxplot(column=['DayWeek'], ax=ax[0])\n",
    "\n",
    "sns.countplot(x='DayWeek', data=data, ax=ax[1])\n",
    "ax[1].set_title('DayWeek')\n",
    "ax[1].set_xlabel('')\n",
    "\n"
   ]
  }
 ],
 "metadata": {
  "kernelspec": {
   "display_name": "Python 3",
   "language": "python",
   "name": "python3"
  },
  "language_info": {
   "codemirror_mode": {
    "name": "ipython",
    "version": 3
   },
   "file_extension": ".py",
   "mimetype": "text/x-python",
   "name": "python",
   "nbconvert_exporter": "python",
   "pygments_lexer": "ipython3",
   "version": "3.8.3"
  }
 },
 "nbformat": 4,
 "nbformat_minor": 4
}
