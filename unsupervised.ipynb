{
 "cells": [
  {
   "cell_type": "code",
   "execution_count": 2,
   "metadata": {},
   "outputs": [],
   "source": [
    "import pandas as pd\n",
    "import numpy as np\n",
    "import seaborn as sns\n",
    "import matplotlib.pyplot as plt\n",
    "\n",
    "sns.set_theme(style=\"whitegrid\")"
   ]
  },
  {
   "cell_type": "markdown",
   "metadata": {},
   "source": [
    "sources:\n",
    "\n",
    "- Livre : \n",
    "    - Hands-on machine learning with scikit-learn, Keras & tensorflow (from Aurélien Géron)\n",
    "    \n",
    "    \n",
    "- Evaluation des modèles:\n",
    "    - https://scikit-learn.org/stable/modules/clustering.html#clustering-performance-evaluation."
   ]
  },
  {
   "cell_type": "code",
   "execution_count": 3,
   "metadata": {},
   "outputs": [
    {
     "name": "stdout",
     "output_type": "stream",
     "text": [
      "(100000, 105)\n"
     ]
    }
   ],
   "source": [
    "data = pd.read_csv('/Users/lucas/Desktop/Polytech/IG4/S7/projet_DS/mail_pre_process.csv')\n",
    "print(data.shape)"
   ]
  },
  {
   "cell_type": "markdown",
   "metadata": {},
   "source": [
    "<br>\n",
    "<b> Chose à faire</b>:\n",
    "\n",
    "- Avec valeurs numériques(voir si on peut ajouter les valeurs non-numériques):\n",
    "    - Quelques graphes.. puis matrice de corrélation.\n",
    "    - ACP.\n",
    "    - Clustering(essayer plusieurs).\n",
    "    - DeepLearning."
   ]
  },
  {
   "cell_type": "markdown",
   "metadata": {},
   "source": [
    "<br>\n",
    "Pour prendre en compte les variables non-numériques, on doit utiliser la \"Category Utility\" (CU).\n",
    "La CU d'un cluster d'un dataset est une valeur numérique qui reflète comment le clustering est bon:\n",
    "\n",
    "- De grandes valeurs de CU indique un meilleur clustering.\n",
    "\n"
   ]
  },
  {
   "cell_type": "markdown",
   "metadata": {},
   "source": [
    "<br>\n",
    "<b>Petites analyses:</b>"
   ]
  },
  {
   "cell_type": "code",
   "execution_count": 4,
   "metadata": {},
   "outputs": [
    {
     "data": {
      "text/plain": [
       "Index(['Unnamed: 0', 'DayWeek', 'Cat_1_level_1', 'Cat_1_level_2',\n",
       "       'Cat_1_weight', 'Cat_2_level_1', 'Cat_2_level_2', 'Cat_2_weight',\n",
       "       'Cat_3_level_1', 'Cat_3_level_2',\n",
       "       ...\n",
       "       'sent', 'shanna', 'thanks', 'tim', 'timothy', 'trading', 'type', 'upon',\n",
       "       'week', 'would'],\n",
       "      dtype='object', length=105)"
      ]
     },
     "execution_count": 4,
     "metadata": {},
     "output_type": "execute_result"
    }
   ],
   "source": [
    "data.columns"
   ]
  },
  {
   "cell_type": "code",
   "execution_count": null,
   "metadata": {},
   "outputs": [],
   "source": []
  },
  {
   "cell_type": "code",
   "execution_count": null,
   "metadata": {},
   "outputs": [],
   "source": [
    "cmap = 'RdYlGn'\n",
    "sns.heatmap(data.corr(),vmax=.3, center=0, cmap=cmap,square=True, linewidths=.5, cbar_kws={\"shrink\": .5}, annot=True)\n",
    "\n",
    "fig=plt.gcf()\n",
    "fig.set_size_inches(10,8)\n",
    "\n",
    "plt.show()"
   ]
  },
  {
   "cell_type": "markdown",
   "metadata": {},
   "source": [
    "<br>\n",
    "<b>ACP</b>"
   ]
  },
  {
   "cell_type": "code",
   "execution_count": 5,
   "metadata": {},
   "outputs": [],
   "source": [
    "from sklearn.preprocessing import StandardScaler\n",
    "from sklearn.decomposition import PCA\n",
    "from sklearn.pipeline import Pipeline"
   ]
  },
  {
   "cell_type": "code",
   "execution_count": null,
   "metadata": {},
   "outputs": [],
   "source": []
  },
  {
   "cell_type": "code",
   "execution_count": 14,
   "metadata": {},
   "outputs": [],
   "source": [
    "data_num = data.drop(columns=['DayWeek'])"
   ]
  },
  {
   "cell_type": "code",
   "execution_count": 7,
   "metadata": {},
   "outputs": [],
   "source": [
    "scaler = StandardScaler()\n",
    "num_scale = scaler.fit_transform(data_num)\n"
   ]
  },
  {
   "cell_type": "code",
   "execution_count": 15,
   "metadata": {},
   "outputs": [
    {
     "name": "stdout",
     "output_type": "stream",
     "text": [
      "0.8001399999999999\n"
     ]
    }
   ],
   "source": [
    "from sklearn.tree import DecisionTreeClassifier\n",
    "from sklearn.model_selection import train_test_split\n",
    "from sklearn.model_selection import cross_val_score\n",
    "from sklearn.metrics import confusion_matrix, accuracy_score\n",
    "X_train, X_test, y_train, y_test = train_test_split( data_num, data['DayWeek'], test_size=0.33, random_state=42)\n",
    "clf = DecisionTreeClassifier()\n",
    "#clf.fit(X_train, y_train)\n",
    "\n",
    "accuracy = cross_val_score(clf, data_num, data['DayWeek'], cv=10)\n",
    "print(np.mean(accuracy))\n"
   ]
  },
  {
   "cell_type": "code",
   "execution_count": 15,
   "metadata": {},
   "outputs": [],
   "source": [
    "pca = PCA(n_components=2)\n",
    "\n",
    "coords = pca.fit_transform(num_scale)"
   ]
  },
  {
   "cell_type": "code",
   "execution_count": 16,
   "metadata": {},
   "outputs": [
    {
     "name": "stdout",
     "output_type": "stream",
     "text": [
      "0.5656988802749341\n"
     ]
    }
   ],
   "source": [
    "print(sum(pca.explained_variance_ratio_))"
   ]
  },
  {
   "cell_type": "code",
   "execution_count": 12,
   "metadata": {},
   "outputs": [
    {
     "data": {
      "text/plain": [
       "<matplotlib.collections.PathCollection at 0x7febefd65d30>"
      ]
     },
     "execution_count": 12,
     "metadata": {},
     "output_type": "execute_result"
    },
    {
     "data": {
      "image/png": "[encoded data removed]",
      "text/plain": [
       "<Figure size 432x288 with 1 Axes>"
      ]
     },
     "metadata": {},
     "output_type": "display_data"
    }
   ],
   "source": [
    "\n",
    "\n",
    "plt.scatter(coords[:, 0], coords[:, 1], c='m')\n"
   ]
  },
  {
   "cell_type": "markdown",
   "metadata": {},
   "source": [
    "<br>\n",
    "<b>Clustering</b>"
   ]
  },
  {
   "cell_type": "code",
   "execution_count": 14,
   "metadata": {},
   "outputs": [],
   "source": [
    "from sklearn.cluster import KMeans\n",
    "from sklearn.cluster import DBSCAN\n",
    "from sklearn.mixture import GaussianMixture\n",
    "from sklearn import metrics"
   ]
  },
  {
   "cell_type": "code",
   "execution_count": null,
   "metadata": {},
   "outputs": [],
   "source": []
  },
  {
   "cell_type": "markdown",
   "metadata": {},
   "source": [
    "- K-means"
   ]
  },
  {
   "cell_type": "markdown",
   "metadata": {},
   "source": [
    "Le coefficient de silhouette est l'un des meilleurs indicateurs pour choisir le nombre de cluster. Le coefficient de silhouette varie de -1 à 1:\n",
    "\n",
    "- Un coefficient pour une instance <b>proche de 1</b> veut dire que cette instance est bien au sein de son cluster et loin des autres cluster.\n",
    "- Un coefficient <b>proche de 0</b> veut dire que l'instance est proche de la limite du cluster.\n",
    "- Un coefficient <b>proche de -1</b> veut dire que l'instance a peut être était assigné au mauvais cluster.\n"
   ]
  },
  {
   "cell_type": "code",
   "execution_count": 47,
   "metadata": {},
   "outputs": [],
   "source": [
    "def best_k_means(i,n, data):\n",
    "    #i min cluster we want to test\n",
    "    #n max cluster we want to test\n",
    "    #data is data on we want to test k.\n",
    "    silhouette_scores = []\n",
    "    for k in range(i,n+1):\n",
    "        kmeans = KMeans(n_clusters= k, init='k-means++',n_init=100, random_state=111)\n",
    "        y_pred = kmeans.fit_predict(data)\n",
    "        sil_score = metrics.silhouette_score(data,kmeans.labels_)\n",
    "        silhouette_scores.append(sil_score)\n",
    "        \n",
    "    return silhouette_scores"
   ]
  },
  {
   "cell_type": "code",
   "execution_count": 48,
   "metadata": {},
   "outputs": [],
   "source": [
    "silhouette_score = best_k_means(2, 9, num_array)"
   ]
  },
  {
   "cell_type": "code",
   "execution_count": 54,
   "metadata": {},
   "outputs": [
    {
     "name": "stdout",
     "output_type": "stream",
     "text": [
      "[0.9683310056319818, 0.9324431003310856, 0.8388871986927537, 0.8010507128839138, 0.7617403731495331, 0.7345462002909028, 0.7111958574296707, 0.658975200628645]\n"
     ]
    },
    {
     "data": {
      "image/png": "[encoded data removed]",
      "text/plain": [
       "<Figure size 432x288 with 1 Axes>"
      ]
     },
     "metadata": {},
     "output_type": "display_data"
    }
   ],
   "source": [
    "silhouette = pd.DataFrame(data={'k':range(2,10), 'score':silhouette_score})\n",
    "print(silhouette_score)\n",
    "ax = sns.pointplot(x='k', y='score', data=silhouette)\n",
    "plt.title('score of coefficient silhouette function of cluster number')\n",
    "plt.show()"
   ]
  },
  {
   "cell_type": "markdown",
   "metadata": {},
   "source": [
    "Le nombre de cluster optimal entre 2 et 9 semble être 2.\n",
    "Voyons à quoi ressemble le graphe des k-means avec 2 clusters."
   ]
  },
  {
   "cell_type": "code",
   "execution_count": 104,
   "metadata": {},
   "outputs": [],
   "source": [
    "kmeans = KMeans(n_clusters= 2, init='k-means++',n_init=100, random_state=111)\n",
    "y_pred = kmeans.fit_predict(num_scale)\n",
    "centroids = kmeans.cluster_centers_"
   ]
  },
  {
   "cell_type": "code",
   "execution_count": 105,
   "metadata": {},
   "outputs": [
    {
     "data": {
      "text/plain": [
       "<matplotlib.collections.PathCollection at 0x7f9d86a15d90>"
      ]
     },
     "execution_count": 105,
     "metadata": {},
     "output_type": "execute_result"
    },
    {
     "data": {
      "image/png": "[encoded data removed]",
      "text/plain": [
       "<Figure size 432x288 with 1 Axes>"
      ]
     },
     "metadata": {},
     "output_type": "display_data"
    }
   ],
   "source": [
    "plt.scatter(coords[:, 0], coords[:, 1], c=kmeans.labels_)\n",
    "\n",
    "plt.scatter(centroids[:,0], centroids[:,2], marker='^', s=150, c='b')"
   ]
  },
  {
   "cell_type": "markdown",
   "metadata": {},
   "source": [
    "La limite entre les clusters reste flou."
   ]
  },
  {
   "cell_type": "markdown",
   "metadata": {},
   "source": [
    "- DBSCAN"
   ]
  },
  {
   "cell_type": "markdown",
   "metadata": {},
   "source": [
    "Cet algorithme défini les clusters comme des régions continues de grandes densités."
   ]
  },
  {
   "cell_type": "markdown",
   "metadata": {},
   "source": [
    "Le coefficient de silhouette est généralement plus élevé pour les clusters convexes que pour les autres concepts de clusters, tels que les clusters basés sur la densité comme ceux obtenus via DBSCAN."
   ]
  },
  {
   "cell_type": "code",
   "execution_count": null,
   "metadata": {},
   "outputs": [],
   "source": [
    "dbscan = DBSCAN(eps=3, min_samples=5)\n",
    "dbscan.fit(num_scale)\n",
    "y_pred = dbscan.fit_predict(num_scale)"
   ]
  },
  {
   "cell_type": "code",
   "execution_count": null,
   "metadata": {},
   "outputs": [],
   "source": [
    "print(np.unique(dbscan.labels_)) #-1 for anomalies\n",
    "print('-'*100)\n",
    "print(len(dbscan.core_sample_indices_))\n",
    "\n",
    "core_samples_mask = np.zeros_like(dbscan.labels_, dtype=bool)\n",
    "core_samples_mask[dbscan.core_sample_indices_] = True\n",
    "labels = dbscan.labels_\n",
    "\n",
    "n_clusters_ = len(set(labels)) - (1 if -1 in labels else 0)\n",
    "n_noise_ = list(labels).count(-1)\n",
    "\n",
    "print('Estimated number of clusters: %d' % n_clusters_)\n",
    "print('Estimated number of noise points: %d' % n_noise_)\n",
    "\n",
    "print(\"Silhouette Coefficient: %0.3f\" % metrics.silhouette_score(num_scale, labels))\n",
    "\n",
    "\n"
   ]
  },
  {
   "cell_type": "markdown",
   "metadata": {},
   "source": [
    "Le coefficient de silhouette étant <b>négatif</b>, le modèle ne semble pas approprié dans notres cas."
   ]
  },
  {
   "cell_type": "code",
   "execution_count": null,
   "metadata": {},
   "outputs": [],
   "source": [
    "plt.scatter( coords[:,0], coords[:,1], c=dbscan.labels_, cmap='Paired')\n",
    "plt.title(\"DBSCAN\")"
   ]
  },
  {
   "cell_type": "markdown",
   "metadata": {},
   "source": [
    "<br>\n",
    "\n",
    "- Gaussian Mixture Model."
   ]
  },
  {
   "cell_type": "markdown",
   "metadata": {},
   "source": [
    "Le GMM est un modèle probabiliste qui considère que les instances sont générées à partir d'un mix de plusieurs distribution Gaussienne dont les paramètres sont inconnus. "
   ]
  },
  {
   "cell_type": "code",
   "execution_count": 68,
   "metadata": {},
   "outputs": [],
   "source": [
    "def best_gmm(i,n, data):\n",
    "    #i min cluster we want to test\n",
    "    #n max cluster we want to test\n",
    "    #data is data on we want to test k.\n",
    "    bic = []\n",
    "    aic = []\n",
    "    for k in range(i,n+1):\n",
    "        gm = GaussianMixture(n_components=k, n_init=10)\n",
    "        gm.fit(data)\n",
    "        y_pred = gm.predict(data)\n",
    "        bic.append(gm.bic(data))\n",
    "        aic.append(gm.aic(data))\n",
    "        \n",
    "    return bic, aic"
   ]
  },
  {
   "cell_type": "code",
   "execution_count": 93,
   "metadata": {},
   "outputs": [],
   "source": [
    "#bic, aic = best_gmm(2,8, num_scale)"
   ]
  },
  {
   "cell_type": "code",
   "execution_count": 106,
   "metadata": {},
   "outputs": [
    {
     "data": {
      "text/plain": [
       "GaussianMixture(n_components=3, n_init=10)"
      ]
     },
     "execution_count": 106,
     "metadata": {},
     "output_type": "execute_result"
    }
   ],
   "source": [
    "gm = GaussianMixture(n_components=3, n_init=10)\n",
    "gm.fit(num_scale)"
   ]
  },
  {
   "cell_type": "code",
   "execution_count": 66,
   "metadata": {},
   "outputs": [
    {
     "name": "stdout",
     "output_type": "stream",
     "text": [
      "convergence:  True\n",
      "iterations:  18\n",
      "BIC:  -12168080.076944215\n",
      "AIC:  -12241015.676484141\n"
     ]
    }
   ],
   "source": [
    "print('convergence: ', gm.converged_)\n",
    "print('iterations: ',gm.n_iter_)\n",
    "print('BIC: ', gm.bic(num_scale))\n",
    "print('AIC: ', gm.aic(num_scale))"
   ]
  },
  {
   "cell_type": "code",
   "execution_count": null,
   "metadata": {},
   "outputs": [],
   "source": [
    "y_pred = gm.predict(num_scale)\n",
    "np.unique(y_pred)"
   ]
  },
  {
   "cell_type": "code",
   "execution_count": null,
   "metadata": {},
   "outputs": [],
   "source": [
    "plt.scatter( coords[:,0], coords[:,1], c=y_pred, cmap='Paired')"
   ]
  },
  {
   "cell_type": "code",
   "execution_count": null,
   "metadata": {},
   "outputs": [],
   "source": []
  },
  {
   "cell_type": "code",
   "execution_count": null,
   "metadata": {},
   "outputs": [],
   "source": []
  },
  {
   "cell_type": "code",
   "execution_count": null,
   "metadata": {},
   "outputs": [],
   "source": []
  }
 ],
 "metadata": {
  "kernelspec": {
   "display_name": "Python 3",
   "language": "python",
   "name": "python3"
  },
  "language_info": {
   "codemirror_mode": {
    "name": "ipython",
    "version": 3
   },
   "file_extension": ".py",
   "mimetype": "text/x-python",
   "name": "python",
   "nbconvert_exporter": "python",
   "pygments_lexer": "ipython3",
   "version": "3.7.9"
  }
 },
 "nbformat": 4,
 "nbformat_minor": 4
}
