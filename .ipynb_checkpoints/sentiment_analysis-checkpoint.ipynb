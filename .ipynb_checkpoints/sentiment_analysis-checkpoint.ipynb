{
 "cells": [
  {
   "cell_type": "code",
   "execution_count": 1,
   "metadata": {},
   "outputs": [],
   "source": [
    "import pandas as pd\n",
    "import numpy as np\n",
    "import seaborn as sns"
   ]
  },
  {
   "cell_type": "markdown",
   "metadata": {},
   "source": [
    "Regarder:\n",
    "- Si il y a des entreprises avec qui ils sont beaucoup en contact\n",
    "- faire EDA après le pre-process?"
   ]
  },
  {
   "cell_type": "code",
   "execution_count": 2,
   "metadata": {},
   "outputs": [
    {
     "name": "stdout",
     "output_type": "stream",
     "text": [
      "(100000, 57)\n"
     ]
    }
   ],
   "source": [
    "data = pd.read_csv('/Users/lucas/Desktop/Polytech/IG4/S7/projet_DS/mail_clean.csv')\n",
    "data = data\n",
    "print(data.shape)"
   ]
  },
  {
   "cell_type": "markdown",
   "metadata": {},
   "source": [
    "0 - On prend seulement le texte + label.\n",
    "\n",
    "1 - Prepare Data:\n",
    "   - Pre-processing des données.\n",
    "\n",
    "2 - split data.\n",
    "\n",
    "3- Vectorization.\n",
    "\n",
    "4 - Avec le train set on entraîne le model.\n",
    "\n",
    "5 - puis on (valide) test.\n"
   ]
  },
  {
   "cell_type": "markdown",
   "metadata": {},
   "source": [
    "source: https://medium.com/data-from-the-trenches/text-classification-the-first-step-toward-nlp-mastery-f5f95d525d73"
   ]
  },
  {
   "cell_type": "markdown",
   "metadata": {},
   "source": [
    "<br>\n",
    "0 - création label + récupération des données"
   ]
  },
  {
   "cell_type": "code",
   "execution_count": 3,
   "metadata": {},
   "outputs": [
    {
     "data": {
      "text/html": [
       "<div>\n",
       "<style scoped>\n",
       "    .dataframe tbody tr th:only-of-type {\n",
       "        vertical-align: middle;\n",
       "    }\n",
       "\n",
       "    .dataframe tbody tr th {\n",
       "        vertical-align: top;\n",
       "    }\n",
       "\n",
       "    .dataframe thead th {\n",
       "        text-align: right;\n",
       "    }\n",
       "</style>\n",
       "<table border=\"1\" class=\"dataframe\">\n",
       "  <thead>\n",
       "    <tr style=\"text-align: right;\">\n",
       "      <th></th>\n",
       "      <th>Unnamed: 0</th>\n",
       "      <th>Unnamed: 0.1</th>\n",
       "      <th>DayWeek</th>\n",
       "      <th>Message-ID</th>\n",
       "      <th>Date</th>\n",
       "      <th>From</th>\n",
       "      <th>To</th>\n",
       "      <th>Subject</th>\n",
       "      <th>X-From</th>\n",
       "      <th>X-To</th>\n",
       "      <th>...</th>\n",
       "      <th>labeled</th>\n",
       "      <th>Years</th>\n",
       "      <th>Month</th>\n",
       "      <th>Day</th>\n",
       "      <th>Hours</th>\n",
       "      <th>content_char_len</th>\n",
       "      <th>content_char_length_category</th>\n",
       "      <th>content_word_len</th>\n",
       "      <th>content_word_length_category</th>\n",
       "      <th>To_count</th>\n",
       "    </tr>\n",
       "  </thead>\n",
       "  <tbody>\n",
       "    <tr>\n",
       "      <th>0</th>\n",
       "      <td>0</td>\n",
       "      <td>0</td>\n",
       "      <td>0</td>\n",
       "      <td>&lt;18782981.1075855378110.JavaMail.evans@thyme&gt;</td>\n",
       "      <td>2001-05-14 23:39:00</td>\n",
       "      <td>frozenset({'phillip.allen@enron.com'})</td>\n",
       "      <td>['tim.belden@enron.com']</td>\n",
       "      <td>No subject</td>\n",
       "      <td>Phillip K Allen</td>\n",
       "      <td>Tim Belden &lt;Tim Belden/Enron@EnronXGate&gt;</td>\n",
       "      <td>...</td>\n",
       "      <td>False</td>\n",
       "      <td>2001</td>\n",
       "      <td>5</td>\n",
       "      <td>14</td>\n",
       "      <td>23</td>\n",
       "      <td>20</td>\n",
       "      <td>1</td>\n",
       "      <td>4</td>\n",
       "      <td>1</td>\n",
       "      <td>1</td>\n",
       "    </tr>\n",
       "    <tr>\n",
       "      <th>1</th>\n",
       "      <td>1</td>\n",
       "      <td>1</td>\n",
       "      <td>4</td>\n",
       "      <td>&lt;15464986.1075855378456.JavaMail.evans@thyme&gt;</td>\n",
       "      <td>2001-05-04 20:51:00</td>\n",
       "      <td>frozenset({'phillip.allen@enron.com'})</td>\n",
       "      <td>['john.lavorato@enron.com']</td>\n",
       "      <td>Re:</td>\n",
       "      <td>Phillip K Allen</td>\n",
       "      <td>John J Lavorato &lt;John J Lavorato/ENRON@enronXg...</td>\n",
       "      <td>...</td>\n",
       "      <td>False</td>\n",
       "      <td>2001</td>\n",
       "      <td>5</td>\n",
       "      <td>4</td>\n",
       "      <td>20</td>\n",
       "      <td>773</td>\n",
       "      <td>2</td>\n",
       "      <td>138</td>\n",
       "      <td>2</td>\n",
       "      <td>1</td>\n",
       "    </tr>\n",
       "    <tr>\n",
       "      <th>2</th>\n",
       "      <td>2</td>\n",
       "      <td>2</td>\n",
       "      <td>2</td>\n",
       "      <td>&lt;24216240.1075855687451.JavaMail.evans@thyme&gt;</td>\n",
       "      <td>2000-10-18 10:00:00</td>\n",
       "      <td>frozenset({'phillip.allen@enron.com'})</td>\n",
       "      <td>['leah.arsdall@enron.com']</td>\n",
       "      <td>Re: test</td>\n",
       "      <td>Phillip K Allen</td>\n",
       "      <td>Leah Van Arsdall</td>\n",
       "      <td>...</td>\n",
       "      <td>False</td>\n",
       "      <td>2000</td>\n",
       "      <td>10</td>\n",
       "      <td>18</td>\n",
       "      <td>10</td>\n",
       "      <td>29</td>\n",
       "      <td>1</td>\n",
       "      <td>5</td>\n",
       "      <td>1</td>\n",
       "      <td>1</td>\n",
       "    </tr>\n",
       "    <tr>\n",
       "      <th>3</th>\n",
       "      <td>3</td>\n",
       "      <td>3</td>\n",
       "      <td>0</td>\n",
       "      <td>&lt;13505866.1075863688222.JavaMail.evans@thyme&gt;</td>\n",
       "      <td>2000-10-23 13:13:00</td>\n",
       "      <td>frozenset({'phillip.allen@enron.com'})</td>\n",
       "      <td>['randall.gay@enron.com']</td>\n",
       "      <td>No subject</td>\n",
       "      <td>Phillip K Allen</td>\n",
       "      <td>Randall L Gay</td>\n",
       "      <td>...</td>\n",
       "      <td>False</td>\n",
       "      <td>2000</td>\n",
       "      <td>10</td>\n",
       "      <td>23</td>\n",
       "      <td>13</td>\n",
       "      <td>180</td>\n",
       "      <td>1</td>\n",
       "      <td>34</td>\n",
       "      <td>1</td>\n",
       "      <td>1</td>\n",
       "    </tr>\n",
       "    <tr>\n",
       "      <th>4</th>\n",
       "      <td>4</td>\n",
       "      <td>4</td>\n",
       "      <td>3</td>\n",
       "      <td>&lt;30922949.1075863688243.JavaMail.evans@thyme&gt;</td>\n",
       "      <td>2000-08-31 12:07:00</td>\n",
       "      <td>frozenset({'phillip.allen@enron.com'})</td>\n",
       "      <td>['greg.piper@enron.com']</td>\n",
       "      <td>Re: Hello</td>\n",
       "      <td>Phillip K Allen</td>\n",
       "      <td>Greg Piper</td>\n",
       "      <td>...</td>\n",
       "      <td>False</td>\n",
       "      <td>2000</td>\n",
       "      <td>8</td>\n",
       "      <td>31</td>\n",
       "      <td>12</td>\n",
       "      <td>33</td>\n",
       "      <td>1</td>\n",
       "      <td>4</td>\n",
       "      <td>1</td>\n",
       "      <td>1</td>\n",
       "    </tr>\n",
       "  </tbody>\n",
       "</table>\n",
       "<p>5 rows × 57 columns</p>\n",
       "</div>"
      ],
      "text/plain": [
       "   Unnamed: 0  Unnamed: 0.1  DayWeek  \\\n",
       "0           0             0        0   \n",
       "1           1             1        4   \n",
       "2           2             2        2   \n",
       "3           3             3        0   \n",
       "4           4             4        3   \n",
       "\n",
       "                                      Message-ID                 Date  \\\n",
       "0  <18782981.1075855378110.JavaMail.evans@thyme>  2001-05-14 23:39:00   \n",
       "1  <15464986.1075855378456.JavaMail.evans@thyme>  2001-05-04 20:51:00   \n",
       "2  <24216240.1075855687451.JavaMail.evans@thyme>  2000-10-18 10:00:00   \n",
       "3  <13505866.1075863688222.JavaMail.evans@thyme>  2000-10-23 13:13:00   \n",
       "4  <30922949.1075863688243.JavaMail.evans@thyme>  2000-08-31 12:07:00   \n",
       "\n",
       "                                     From                           To  \\\n",
       "0  frozenset({'phillip.allen@enron.com'})     ['tim.belden@enron.com']   \n",
       "1  frozenset({'phillip.allen@enron.com'})  ['john.lavorato@enron.com']   \n",
       "2  frozenset({'phillip.allen@enron.com'})   ['leah.arsdall@enron.com']   \n",
       "3  frozenset({'phillip.allen@enron.com'})    ['randall.gay@enron.com']   \n",
       "4  frozenset({'phillip.allen@enron.com'})     ['greg.piper@enron.com']   \n",
       "\n",
       "      Subject           X-From  \\\n",
       "0  No subject  Phillip K Allen   \n",
       "1         Re:  Phillip K Allen   \n",
       "2    Re: test  Phillip K Allen   \n",
       "3  No subject  Phillip K Allen   \n",
       "4   Re: Hello  Phillip K Allen   \n",
       "\n",
       "                                                X-To  ... labeled Years Month  \\\n",
       "0           Tim Belden <Tim Belden/Enron@EnronXGate>  ...   False  2001     5   \n",
       "1  John J Lavorato <John J Lavorato/ENRON@enronXg...  ...   False  2001     5   \n",
       "2                                   Leah Van Arsdall  ...   False  2000    10   \n",
       "3                                      Randall L Gay  ...   False  2000    10   \n",
       "4                                         Greg Piper  ...   False  2000     8   \n",
       "\n",
       "  Day Hours content_char_len content_char_length_category  content_word_len  \\\n",
       "0  14    23               20                            1                 4   \n",
       "1   4    20              773                            2               138   \n",
       "2  18    10               29                            1                 5   \n",
       "3  23    13              180                            1                34   \n",
       "4  31    12               33                            1                 4   \n",
       "\n",
       "   content_word_length_category  To_count  \n",
       "0                             1         1  \n",
       "1                             2         1  \n",
       "2                             1         1  \n",
       "3                             1         1  \n",
       "4                             1         1  \n",
       "\n",
       "[5 rows x 57 columns]"
      ]
     },
     "execution_count": 3,
     "metadata": {},
     "output_type": "execute_result"
    }
   ],
   "source": [
    "data.head()"
   ]
  },
  {
   "cell_type": "code",
   "execution_count": 4,
   "metadata": {},
   "outputs": [],
   "source": [
    "def recuperation_entreprise(field):\n",
    "    if isinstance(field,pd._libs.missing.NAType):\n",
    "        return field\n",
    "    else:\n",
    "        clean = field[field.find(\"@\")+1:field.find(\".com\")]\n",
    "        return clean"
   ]
  },
  {
   "cell_type": "code",
   "execution_count": 5,
   "metadata": {},
   "outputs": [
    {
     "name": "stderr",
     "output_type": "stream",
     "text": [
      "/opt/anaconda3/lib/python3.8/site-packages/pandas/core/indexing.py:1596: SettingWithCopyWarning: \n",
      "A value is trying to be set on a copy of a slice from a DataFrame.\n",
      "Try using .loc[row_indexer,col_indexer] = value instead\n",
      "\n",
      "See the caveats in the documentation: https://pandas.pydata.org/pandas-docs/stable/user_guide/indexing.html#returning-a-view-versus-a-copy\n",
      "  self.obj[key] = _infer_fill_value(value)\n",
      "/opt/anaconda3/lib/python3.8/site-packages/pandas/core/indexing.py:1745: SettingWithCopyWarning: \n",
      "A value is trying to be set on a copy of a slice from a DataFrame.\n",
      "Try using .loc[row_indexer,col_indexer] = value instead\n",
      "\n",
      "See the caveats in the documentation: https://pandas.pydata.org/pandas-docs/stable/user_guide/indexing.html#returning-a-view-versus-a-copy\n",
      "  isetter(ilocs[0], value)\n"
     ]
    }
   ],
   "source": [
    "data_stm = data[['From','content']]\n",
    "data_stm.loc[:,'entreprise'] = data_stm['From'].apply(lambda x: recuperation_entreprise(x) )"
   ]
  },
  {
   "cell_type": "code",
   "execution_count": 6,
   "metadata": {},
   "outputs": [
    {
     "data": {
      "text/plain": [
       "enron                  78311\n",
       "haas.berkeley.edu'}     1317\n",
       "lists.thebiz.net'}       715\n",
       "aol                      631\n",
       "hotmail                  508\n",
       "                       ...  \n",
       "opthome                    1\n",
       "cliffordchance             1\n",
       "sequentenergy              1\n",
       "4vendor.net'}              1\n",
       "nordstrom                  1\n",
       "Name: entreprise, Length: 1464, dtype: int64"
      ]
     },
     "execution_count": 6,
     "metadata": {},
     "output_type": "execute_result"
    }
   ],
   "source": [
    "data_stm.entreprise.value_counts()"
   ]
  },
  {
   "cell_type": "markdown",
   "metadata": {},
   "source": [
    "<br>\n",
    "1 - Preprocessing"
   ]
  },
  {
   "cell_type": "code",
   "execution_count": 7,
   "metadata": {},
   "outputs": [],
   "source": [
    "from nltk.corpus import stopwords\n",
    "from nltk.tokenize import word_tokenize"
   ]
  },
  {
   "cell_type": "code",
   "execution_count": 10,
   "metadata": {},
   "outputs": [],
   "source": [
    "#words = \" \".join(data['content'])\n",
    "\n",
    "def punctuation_stop(text):\n",
    "    \"\"\"remove punctuation and stop words\"\"\"\n",
    "    word_uninterested = ['subject', 'content', 'image', 'etc']\n",
    "    filtered = []\n",
    "    stop_words = set(stopwords.words('english'))\n",
    "    word_tokens = word_tokenize(text)\n",
    "    for w in word_tokens:\n",
    "        if (w not in stop_words) and w.isalpha() and (w.lower() not in word_uninterested) and (len(w)>2):\n",
    "            filtered.append(w.lower())\n",
    "    text = \" \".join([ele for ele in filtered])\n",
    "    return text\n",
    "\n",
    "\n",
    "#words_filtered = punctuation_stop(words)\n",
    "\n"
   ]
  },
  {
   "cell_type": "code",
   "execution_count": 11,
   "metadata": {},
   "outputs": [
    {
     "name": "stderr",
     "output_type": "stream",
     "text": [
      "<ipython-input-11-0f0c6dd5a879>:1: SettingWithCopyWarning: \n",
      "A value is trying to be set on a copy of a slice from a DataFrame.\n",
      "Try using .loc[row_indexer,col_indexer] = value instead\n",
      "\n",
      "See the caveats in the documentation: https://pandas.pydata.org/pandas-docs/stable/user_guide/indexing.html#returning-a-view-versus-a-copy\n",
      "  data_stm['content_processed'] = data_stm['content'].apply(lambda x: punctuation_stop(x))\n"
     ]
    }
   ],
   "source": [
    "data_stm['content_processed'] = data_stm['content'].apply(lambda x: punctuation_stop(x))"
   ]
  },
  {
   "cell_type": "code",
   "execution_count": 12,
   "metadata": {},
   "outputs": [
    {
     "data": {
      "text/plain": [
       "0                                        here forecast\n",
       "1    traveling business meeting takes fun trip espe...\n",
       "2                                  test successful way\n",
       "3    randy can send schedule salary level everyone ...\n",
       "4                                    let shoot tuesday\n",
       "Name: content_processed, dtype: object"
      ]
     },
     "execution_count": 12,
     "metadata": {},
     "output_type": "execute_result"
    }
   ],
   "source": [
    "data_stm['content_processed'].head()"
   ]
  },
  {
   "cell_type": "markdown",
   "metadata": {},
   "source": [
    "<br>\n",
    "2 - Split Data"
   ]
  },
  {
   "cell_type": "code",
   "execution_count": 13,
   "metadata": {},
   "outputs": [],
   "source": [
    "from sklearn.model_selection import train_test_split"
   ]
  },
  {
   "cell_type": "code",
   "execution_count": 14,
   "metadata": {},
   "outputs": [
    {
     "data": {
      "text/plain": [
       "'\\nfor liste in X_train:\\n    sentence = \"\"\\n    for string in liste:\\n        if string: #Pour ne pas avoir de string vide\\n            sentence += \" \" + string\\n    X_train_list.append(sentence)\\n\\nX_test_list = []\\n\\nfor liste in X_test:\\n    sentence = \"\"\\n    for string in liste:\\n        if string:\\n            sentence += \" \" + string\\n    X_test_list.append(sentence)\\n\\n'"
      ]
     },
     "execution_count": 14,
     "metadata": {},
     "output_type": "execute_result"
    }
   ],
   "source": [
    "X = data_stm['content_processed']\n",
    "y = data_stm['entreprise']\n",
    "\n",
    "X_train, X_test, y_train, y_test = train_test_split(X, y, test_size=0.33, random_state=42)\n",
    "\n",
    "X_train_list = []\n",
    "\n",
    "\"\"\"\n",
    "for liste in X_train:\n",
    "    sentence = \"\"\n",
    "    for string in liste:\n",
    "        if string: #Pour ne pas avoir de string vide\n",
    "            sentence += \" \" + string\n",
    "    X_train_list.append(sentence)\n",
    "\n",
    "X_test_list = []\n",
    "\n",
    "for liste in X_test:\n",
    "    sentence = \"\"\n",
    "    for string in liste:\n",
    "        if string:\n",
    "            sentence += \" \" + string\n",
    "    X_test_list.append(sentence)\n",
    "\n",
    "\"\"\""
   ]
  },
  {
   "cell_type": "code",
   "execution_count": 31,
   "metadata": {},
   "outputs": [
    {
     "data": {
      "text/plain": [
       "array(['did guys deal allegheny pjm confirming sale see anything enpower see deals houlry also mwh pjm nothing enpower deals hourly mwh please let know asap thanks',\n",
       "       'hello everyone received copy evening mba news student mailboxes well thanks modern technology available web well forgot copy wanted show felt urge read work pull click evening mba news you even print give extra copy seung lee haas school business evening mba program',\n",
       "       'please print attachment thank message from mathews leena sent thursday may torres juan sturmer donald ben ibrahim amr zaayman johan sharma ban peter berger ect howes carol laad milind neslage john maisashvili gia brownfeld gail ann schmidt enron culwell catherine dutt ranabir sarah ben glisan ect castelino george larry morse rios amy walls rob jderric pnagarva dabholsecurity paul may part newsclips'],\n",
       "      dtype=object)"
      ]
     },
     "execution_count": 31,
     "metadata": {},
     "output_type": "execute_result"
    }
   ],
   "source": []
  },
  {
   "cell_type": "markdown",
   "metadata": {},
   "source": [
    "<br>\n",
    "3 - Vectorization"
   ]
  },
  {
   "cell_type": "code",
   "execution_count": 34,
   "metadata": {},
   "outputs": [],
   "source": [
    "from sklearn.feature_extraction.text import CountVectorizer\n",
    "from sklearn.feature_extraction.text import TfidfVectorizer\n",
    "from sklearn.metrics import accuracy_score\n",
    "from sklearn.svm import LinearSVC\n"
   ]
  },
  {
   "cell_type": "code",
   "execution_count": 18,
   "metadata": {},
   "outputs": [],
   "source": [
    "vectorizer = CountVectorizer()\n",
    "\n",
    "training_features = vectorizer.fit_transform(X_train)\n",
    "\n",
    "test_features = vectorizer.transform(X_test)"
   ]
  },
  {
   "cell_type": "code",
   "execution_count": 19,
   "metadata": {},
   "outputs": [
    {
     "name": "stdout",
     "output_type": "stream",
     "text": [
      "Accuracy on the IMDB dataset: 94.85\n"
     ]
    },
    {
     "name": "stderr",
     "output_type": "stream",
     "text": [
      "/opt/anaconda3/lib/python3.8/site-packages/sklearn/svm/_base.py:976: ConvergenceWarning: Liblinear failed to converge, increase the number of iterations.\n",
      "  warnings.warn(\"Liblinear failed to converge, increase \"\n"
     ]
    }
   ],
   "source": [
    "# Training\n",
    "model = LinearSVC(max_iter=1000)\n",
    "model.fit(training_features, y_train)\n",
    "y_pred = model.predict(test_features)\n",
    "\n",
    "# Evaluation\n",
    "acc = accuracy_score(y_test, y_pred)\n",
    "\n",
    "print(\"Accuracy on the IMDB dataset: {:.2f}\".format(acc*100))\n"
   ]
  },
  {
   "cell_type": "code",
   "execution_count": 20,
   "metadata": {},
   "outputs": [],
   "source": [
    "from sklearn.metrics import confusion_matrix, precision_score, recall_score, f1_score, accuracy_score"
   ]
  },
  {
   "cell_type": "code",
   "execution_count": 21,
   "metadata": {},
   "outputs": [
    {
     "name": "stdout",
     "output_type": "stream",
     "text": [
      "[[ 6143   988]\n",
      " [  712 25157]]\n",
      "TP/(FP+TP): 0.9622107477529164\n",
      "TP/(FN+TP): 0.9724767095751672\n",
      "f1_score: 0.9673164917137693\n"
     ]
    },
    {
     "data": {
      "image/png": "[encoded data removed]",
      "text/plain": [
       "<Figure size 432x288 with 2 Axes>"
      ]
     },
     "metadata": {
      "needs_background": "light"
     },
     "output_type": "display_data"
    }
   ],
   "source": [
    "\n",
    "prec = precision_score(y_test, y_pred)\n",
    "rec = recall_score(y_test, y_pred)\n",
    "f1 = f1_score(y_test, y_pred)\n",
    "\n",
    "\n",
    "conf_mat = confusion_matrix(y_test, y_pred)\n",
    "print(conf_mat)\n",
    "sns.heatmap(conf_mat,annot=True,fmt='2.0f')\n",
    "\n",
    "\n",
    "print('TP/(FP+TP):', prec)\n",
    "print('TP/(FN+TP):', rec)\n",
    "print('f1_score:', f1)"
   ]
  },
  {
   "cell_type": "code",
   "execution_count": 37,
   "metadata": {},
   "outputs": [],
   "source": [
    "vectorizer = TfidfVectorizer(ngram_range=(1, 2))\n",
    "\n",
    "training_features = vectorizer.fit_transform(X_train)    \n",
    "test_features = vectorizer.transform(X_test)"
   ]
  },
  {
   "cell_type": "code",
   "execution_count": 38,
   "metadata": {},
   "outputs": [
    {
     "name": "stdout",
     "output_type": "stream",
     "text": [
      "Accuracy on the IMDB dataset: 95.98\n"
     ]
    }
   ],
   "source": [
    "\n",
    "# Training\n",
    "model = LinearSVC()\n",
    "model.fit(training_features, y_train)\n",
    "y_pred = model.predict(test_features)\n",
    "\n",
    "# Evaluation\n",
    "acc = accuracy_score(y_test, y_pred)\n",
    "\n",
    "print(\"Accuracy on the IMDB dataset: {:.2f}\".format(acc*100))"
   ]
  },
  {
   "cell_type": "code",
   "execution_count": 39,
   "metadata": {},
   "outputs": [
    {
     "name": "stdout",
     "output_type": "stream",
     "text": [
      "[[ 6229   902]\n",
      " [  426 25443]]\n",
      "TP/(FP+TP): 0.9657620041753654\n",
      "TP/(FN+TP): 0.983532413313232\n",
      "f1_score: 0.9745662082966254\n"
     ]
    },
    {
     "data": {
      "image/png": "[encoded data removed]",
      "text/plain": [
       "<Figure size 432x288 with 2 Axes>"
      ]
     },
     "metadata": {
      "needs_background": "light"
     },
     "output_type": "display_data"
    }
   ],
   "source": [
    "prec = precision_score(y_test, y_pred)\n",
    "rec = recall_score(y_test, y_pred)\n",
    "f1 = f1_score(y_test, y_pred)\n",
    "\n",
    "\n",
    "conf_mat = confusion_matrix(y_test, y_pred)\n",
    "print(conf_mat)\n",
    "sns.heatmap(conf_mat,annot=True,fmt='2.0f')\n",
    "\n",
    "\n",
    "print('TP/(FP+TP):', prec)\n",
    "print('TP/(FN+TP):', rec)\n",
    "print('f1_score:', f1)"
   ]
  },
  {
   "cell_type": "code",
   "execution_count": null,
   "metadata": {},
   "outputs": [],
   "source": []
  }
 ],
 "metadata": {
  "kernelspec": {
   "display_name": "Python 3",
   "language": "python",
   "name": "python3"
  },
  "language_info": {
   "codemirror_mode": {
    "name": "ipython",
    "version": 3
   },
   "file_extension": ".py",
   "mimetype": "text/x-python",
   "name": "python",
   "nbconvert_exporter": "python",
   "pygments_lexer": "ipython3",
   "version": "3.8.5"
  }
 },
 "nbformat": 4,
 "nbformat_minor": 4
}
