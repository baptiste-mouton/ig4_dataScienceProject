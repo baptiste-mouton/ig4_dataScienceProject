{
 "cells": [
  {
   "cell_type": "code",
   "execution_count": 1,
   "metadata": {},
   "outputs": [],
   "source": [
    "import pandas as pd\n",
    "import numpy as np\n",
    "import seaborn as sns\n",
    "import matplotlib.pyplot as plt\n",
    "\n",
    "sns.set_theme(style=\"darkgrid\")"
   ]
  },
  {
   "cell_type": "code",
   "execution_count": 2,
   "metadata": {},
   "outputs": [
    {
     "name": "stdout",
     "output_type": "stream",
     "text": [
      "(100000, 105)\n"
     ]
    }
   ],
   "source": [
    "data = pd.read_csv('/Users/lucas/Desktop/Polytech/IG4/S7/projet_DS/mail_pre_process.csv')\n",
    "print(data.shape)"
   ]
  },
  {
   "cell_type": "code",
   "execution_count": 3,
   "metadata": {},
   "outputs": [
    {
     "data": {
      "text/html": [
       "<div>\n",
       "<style scoped>\n",
       "    .dataframe tbody tr th:only-of-type {\n",
       "        vertical-align: middle;\n",
       "    }\n",
       "\n",
       "    .dataframe tbody tr th {\n",
       "        vertical-align: top;\n",
       "    }\n",
       "\n",
       "    .dataframe thead th {\n",
       "        text-align: right;\n",
       "    }\n",
       "</style>\n",
       "<table border=\"1\" class=\"dataframe\">\n",
       "  <thead>\n",
       "    <tr style=\"text-align: right;\">\n",
       "      <th></th>\n",
       "      <th>Unnamed: 0</th>\n",
       "      <th>DayWeek</th>\n",
       "      <th>Cat_1_level_1</th>\n",
       "      <th>Cat_1_level_2</th>\n",
       "      <th>Cat_1_weight</th>\n",
       "      <th>Cat_2_level_1</th>\n",
       "      <th>Cat_2_level_2</th>\n",
       "      <th>Cat_2_weight</th>\n",
       "      <th>Cat_3_level_1</th>\n",
       "      <th>Cat_3_level_2</th>\n",
       "      <th>...</th>\n",
       "      <th>sent</th>\n",
       "      <th>shanna</th>\n",
       "      <th>thanks</th>\n",
       "      <th>tim</th>\n",
       "      <th>timothy</th>\n",
       "      <th>trading</th>\n",
       "      <th>type</th>\n",
       "      <th>upon</th>\n",
       "      <th>week</th>\n",
       "      <th>would</th>\n",
       "    </tr>\n",
       "  </thead>\n",
       "  <tbody>\n",
       "    <tr>\n",
       "      <th>0</th>\n",
       "      <td>0</td>\n",
       "      <td>0</td>\n",
       "      <td>-1</td>\n",
       "      <td>-1</td>\n",
       "      <td>-1</td>\n",
       "      <td>-1</td>\n",
       "      <td>-1</td>\n",
       "      <td>-1</td>\n",
       "      <td>-1</td>\n",
       "      <td>-1</td>\n",
       "      <td>...</td>\n",
       "      <td>0.0</td>\n",
       "      <td>0.0</td>\n",
       "      <td>0.0</td>\n",
       "      <td>0.0</td>\n",
       "      <td>0.0</td>\n",
       "      <td>0.0</td>\n",
       "      <td>0.0</td>\n",
       "      <td>0.0</td>\n",
       "      <td>0.0</td>\n",
       "      <td>0.000000</td>\n",
       "    </tr>\n",
       "    <tr>\n",
       "      <th>1</th>\n",
       "      <td>1</td>\n",
       "      <td>4</td>\n",
       "      <td>-1</td>\n",
       "      <td>-1</td>\n",
       "      <td>-1</td>\n",
       "      <td>-1</td>\n",
       "      <td>-1</td>\n",
       "      <td>-1</td>\n",
       "      <td>-1</td>\n",
       "      <td>-1</td>\n",
       "      <td>...</td>\n",
       "      <td>0.0</td>\n",
       "      <td>0.0</td>\n",
       "      <td>0.0</td>\n",
       "      <td>0.0</td>\n",
       "      <td>0.0</td>\n",
       "      <td>0.0</td>\n",
       "      <td>0.0</td>\n",
       "      <td>0.0</td>\n",
       "      <td>0.0</td>\n",
       "      <td>0.867301</td>\n",
       "    </tr>\n",
       "    <tr>\n",
       "      <th>2</th>\n",
       "      <td>2</td>\n",
       "      <td>2</td>\n",
       "      <td>-1</td>\n",
       "      <td>-1</td>\n",
       "      <td>-1</td>\n",
       "      <td>-1</td>\n",
       "      <td>-1</td>\n",
       "      <td>-1</td>\n",
       "      <td>-1</td>\n",
       "      <td>-1</td>\n",
       "      <td>...</td>\n",
       "      <td>0.0</td>\n",
       "      <td>0.0</td>\n",
       "      <td>0.0</td>\n",
       "      <td>0.0</td>\n",
       "      <td>0.0</td>\n",
       "      <td>0.0</td>\n",
       "      <td>0.0</td>\n",
       "      <td>0.0</td>\n",
       "      <td>0.0</td>\n",
       "      <td>0.000000</td>\n",
       "    </tr>\n",
       "    <tr>\n",
       "      <th>3</th>\n",
       "      <td>3</td>\n",
       "      <td>0</td>\n",
       "      <td>-1</td>\n",
       "      <td>-1</td>\n",
       "      <td>-1</td>\n",
       "      <td>-1</td>\n",
       "      <td>-1</td>\n",
       "      <td>-1</td>\n",
       "      <td>-1</td>\n",
       "      <td>-1</td>\n",
       "      <td>...</td>\n",
       "      <td>0.0</td>\n",
       "      <td>0.0</td>\n",
       "      <td>0.0</td>\n",
       "      <td>0.0</td>\n",
       "      <td>0.0</td>\n",
       "      <td>0.0</td>\n",
       "      <td>0.0</td>\n",
       "      <td>0.0</td>\n",
       "      <td>0.0</td>\n",
       "      <td>0.000000</td>\n",
       "    </tr>\n",
       "    <tr>\n",
       "      <th>4</th>\n",
       "      <td>4</td>\n",
       "      <td>3</td>\n",
       "      <td>-1</td>\n",
       "      <td>-1</td>\n",
       "      <td>-1</td>\n",
       "      <td>-1</td>\n",
       "      <td>-1</td>\n",
       "      <td>-1</td>\n",
       "      <td>-1</td>\n",
       "      <td>-1</td>\n",
       "      <td>...</td>\n",
       "      <td>0.0</td>\n",
       "      <td>0.0</td>\n",
       "      <td>0.0</td>\n",
       "      <td>0.0</td>\n",
       "      <td>0.0</td>\n",
       "      <td>0.0</td>\n",
       "      <td>0.0</td>\n",
       "      <td>0.0</td>\n",
       "      <td>0.0</td>\n",
       "      <td>0.000000</td>\n",
       "    </tr>\n",
       "  </tbody>\n",
       "</table>\n",
       "<p>5 rows × 105 columns</p>\n",
       "</div>"
      ],
      "text/plain": [
       "   Unnamed: 0  DayWeek  Cat_1_level_1  Cat_1_level_2  Cat_1_weight  \\\n",
       "0           0        0             -1             -1            -1   \n",
       "1           1        4             -1             -1            -1   \n",
       "2           2        2             -1             -1            -1   \n",
       "3           3        0             -1             -1            -1   \n",
       "4           4        3             -1             -1            -1   \n",
       "\n",
       "   Cat_2_level_1  Cat_2_level_2  Cat_2_weight  Cat_3_level_1  Cat_3_level_2  \\\n",
       "0             -1             -1            -1             -1             -1   \n",
       "1             -1             -1            -1             -1             -1   \n",
       "2             -1             -1            -1             -1             -1   \n",
       "3             -1             -1            -1             -1             -1   \n",
       "4             -1             -1            -1             -1             -1   \n",
       "\n",
       "   ...  sent  shanna  thanks  tim  timothy  trading  type  upon  week  \\\n",
       "0  ...   0.0     0.0     0.0  0.0      0.0      0.0   0.0   0.0   0.0   \n",
       "1  ...   0.0     0.0     0.0  0.0      0.0      0.0   0.0   0.0   0.0   \n",
       "2  ...   0.0     0.0     0.0  0.0      0.0      0.0   0.0   0.0   0.0   \n",
       "3  ...   0.0     0.0     0.0  0.0      0.0      0.0   0.0   0.0   0.0   \n",
       "4  ...   0.0     0.0     0.0  0.0      0.0      0.0   0.0   0.0   0.0   \n",
       "\n",
       "      would  \n",
       "0  0.000000  \n",
       "1  0.867301  \n",
       "2  0.000000  \n",
       "3  0.000000  \n",
       "4  0.000000  \n",
       "\n",
       "[5 rows x 105 columns]"
      ]
     },
     "execution_count": 3,
     "metadata": {},
     "output_type": "execute_result"
    }
   ],
   "source": [
    "data.head()"
   ]
  },
  {
   "cell_type": "code",
   "execution_count": 4,
   "metadata": {},
   "outputs": [
    {
     "data": {
      "text/plain": [
       "Index(['Unnamed: 0', 'DayWeek', 'Cat_1_level_1', 'Cat_1_level_2',\n",
       "       'Cat_1_weight', 'Cat_2_level_1', 'Cat_2_level_2', 'Cat_2_weight',\n",
       "       'Cat_3_level_1', 'Cat_3_level_2',\n",
       "       ...\n",
       "       'sent', 'shanna', 'thanks', 'tim', 'timothy', 'trading', 'type', 'upon',\n",
       "       'week', 'would'],\n",
       "      dtype='object', length=105)"
      ]
     },
     "execution_count": 4,
     "metadata": {},
     "output_type": "execute_result"
    }
   ],
   "source": [
    "data.columns"
   ]
  },
  {
   "cell_type": "code",
   "execution_count": null,
   "metadata": {},
   "outputs": [],
   "source": []
  },
  {
   "cell_type": "code",
   "execution_count": 5,
   "metadata": {},
   "outputs": [],
   "source": [
    "from sklearn.preprocessing import StandardScaler\n",
    "from sklearn.decomposition import PCA\n",
    "from sklearn.pipeline import Pipeline"
   ]
  },
  {
   "cell_type": "code",
   "execution_count": null,
   "metadata": {},
   "outputs": [],
   "source": []
  },
  {
   "cell_type": "markdown",
   "metadata": {},
   "source": [
    "avant classification:\n",
    "- ACP\n",
    "- tsne?\n",
    "\n",
    "Classification:\n",
    "- Supervisée:\n",
    "    - Decision Tree\n",
    "    - Random Forest\n",
    "    - k nearest neighbours\n",
    "    - perceptron\n",
    "    - AdaBoost\n",
    "    - Deep learning\n",
    " \n",
    " \n",
    " \n",
    "- Non supervisée:\n",
    "    - K-means\n",
    "    - DBSCAN\n",
    "    - Gaussian mixture\n",
    "    - deep learning?\n"
   ]
  },
  {
   "cell_type": "markdown",
   "metadata": {},
   "source": [
    "<b>Step-by-Step</b>:\n",
    "\n",
    "- learning curve:\n",
    "    - source: https://scikit-learn.org/stable/auto_examples/model_selection/plot_learning_curve.html#sphx-glr-auto-examples-model-selection-plot-learning-curve-py\n",
    "- cross-validation score\n",
    "- confusion matrix\n",
    "- others metrics"
   ]
  },
  {
   "cell_type": "markdown",
   "metadata": {},
   "source": [
    "<h3>Partie 1 - supervisée.</h3>"
   ]
  },
  {
   "cell_type": "markdown",
   "metadata": {},
   "source": [
    "Après avoir préparé et exploré nos données, nous devons choisir un algorithme performant pour pouvoir effectuer une classification efficace. Cependant, une classification efficace, n'est pas la seule caractéristiques à prendre en compte.\n",
    "\n",
    "Il existe des compromis entre plusieurs caractéristiques des algorithmes:\n",
    "\n",
    "- Vitesse d'entraînement.\n",
    "- Utilisation de la mémoire.\n",
    "- Précision prédictive sur les nouvelles données.\n",
    "- Transparence ou inteprétabilité.\n",
    "\n",
    "Il n'existe pas de meilleur modèle, certains seront très performant dans un cas d'utilisation mais parfois peu performant dans d'autre cas d'utilisation. Nous allons utiliser plusieurs modèles, les comparer puis en sélectionner un nombre restreint puis les comparer à nouveau, et ce jusqu'à avoir un (ou plusieurs) modèle convenable."
   ]
  },
  {
   "cell_type": "code",
   "execution_count": 111,
   "metadata": {},
   "outputs": [],
   "source": [
    "from sklearn.model_selection import cross_val_score\n",
    "from sklearn.metrics import confusion_matrix, accuracy_score, precision_score, recall_score, f1_score\n",
    "models = []\n",
    "acc_training = []\n",
    "acc_test = []"
   ]
  },
  {
   "cell_type": "code",
   "execution_count": 112,
   "metadata": {},
   "outputs": [],
   "source": [
    "from sklearn.tree import DecisionTreeClassifier\n",
    "from sklearn.ensemble import RandomForestClassifier\n",
    "from sklearn.neighbors import KNeighborsClassifier\n",
    "from sklearn.linear_model import LogisticRegression"
   ]
  },
  {
   "cell_type": "markdown",
   "metadata": {},
   "source": [
    "<h4>I - splitting data.</h4>"
   ]
  },
  {
   "cell_type": "markdown",
   "metadata": {},
   "source": [
    "Tout d'abord, nous devons séparer nos données en 2:\n",
    "\n",
    "- le <b>train set</b>: le jeu de données qui servira d'<b>entraînement</b> à nos modèles.\n",
    "- le <b>test set</b>: le jeu de données <b>final</b> (ou final test) qui devrait servir à faire notre choix final entre tous les modèles (ou aucun).\n",
    "\n",
    "Ensuite nous allons séparer le <b> train set</b> en 2:\n",
    "\n",
    "- Le <b>train set</b> (ou sub-train set): le jeu de données qui servira d'<b>exemple</b> à nos modèles.\n",
    "- Le <b>validation set</b>: le jeu de données qui servira à <b>tester</b> (ou valider) les performances de nos modèles.\n"
   ]
  },
  {
   "cell_type": "markdown",
   "metadata": {},
   "source": [
    "Avant de séparer nos données, nous allons standardiser les variables en soutrayant la moyenne et en mettant à l'échelle la variance unitaire. Standardiser les données peut permettre à certains modèles de converger beaucoup plus vite."
   ]
  },
  {
   "cell_type": "code",
   "execution_count": 11,
   "metadata": {},
   "outputs": [],
   "source": [
    "from sklearn.model_selection import train_test_split"
   ]
  },
  {
   "cell_type": "code",
   "execution_count": 12,
   "metadata": {},
   "outputs": [],
   "source": [
    "X = data.drop(columns=['Unnamed: 0','content_char_len', 'content_char_length_category', 'content_word_len',\n",
    "       'content_word_length_category'])\n",
    "y = data['content_char_length_category']\n",
    "\n",
    "scaler = StandardScaler()\n",
    "X = scaler.fit_transform(X)"
   ]
  },
  {
   "cell_type": "code",
   "execution_count": 13,
   "metadata": {},
   "outputs": [],
   "source": [
    "X_train, X_final_test, y_train, y_final_test = train_test_split(X, y, test_size=0.2, random_state=42)\n",
    "X_train, X_test, y_train, y_test =  train_test_split(X_train, y_train, test_size=0.1, random_state=42)"
   ]
  },
  {
   "cell_type": "code",
   "execution_count": 14,
   "metadata": {},
   "outputs": [
    {
     "name": "stdout",
     "output_type": "stream",
     "text": [
      "train set size:  72000\n",
      "validation set size:  8000\n",
      "final test set size:  20000\n"
     ]
    }
   ],
   "source": [
    "print('train set size: ' ,len(X_train))\n",
    "print('validation set size: ', len(X_test))\n",
    "print('final test set size: ', len(X_final_test))\n",
    "      "
   ]
  },
  {
   "cell_type": "markdown",
   "metadata": {},
   "source": [
    "<br>\n",
    "<h4> II - Model building</h4>"
   ]
  },
  {
   "cell_type": "markdown",
   "metadata": {},
   "source": [
    "C'est le moment de pré-choisir nos modèles, il existe beaucoup de classifier:\n",
    "\n",
    "- Decision Tree Classifier\n",
    "\n",
    "- K nearest neighbors \n",
    "\n",
    "- Support Vector Machine --> L'entraînement SVM avec des noyaux non linéaires, qui est par défaut dans SVC de sklearn, est approximativement en termes de complexité: O<b>(n_samples ^ 2 * n_features)</b>. On s'en passera donc ici.\n",
    "\n",
    "- Random Forest Classifier\n",
    "\n",
    "- ... il en existe énormément.\n",
    "\n",
    "\n",
    "Dans <b>notre cas</b>, nous allons utiliser les suivants:\n",
    "\n",
    "- <b>Decision Tree Classifier</b>\n",
    "\n",
    "- <b>Random Forest Classifier</b>\n",
    "\n",
    "- <b>Logistic Regression</b>\n",
    "\n",
    "- <b>Perceptron</b>\n",
    "\n",
    "- <b>Ensemble Learning</b> (Boosting)\n",
    "\n",
    "- <b>Xgboost</b>\n",
    "\n",
    "- <b>MLP Sequential</b>\n",
    "\n",
    "- <b>MLP Functional</b>\n",
    "\n",
    "Nous essaieront de les expliquer pas à pas."
   ]
  },
  {
   "cell_type": "markdown",
   "metadata": {},
   "source": [
    "<br>\n",
    "<h4> a - Decision Tree Classifier </h4>"
   ]
  },
  {
   "cell_type": "markdown",
   "metadata": {},
   "source": [
    "L'objectif est de créer un modèle qui prédit la valeur d'une variable cible (y) en apprenant des <b>règles de décision simples</b> déduites des caractéristiques (X) des données.\n",
    "\n",
    "Il y a plusieurs <b>avantages</b> à utiliser les arbres de décision sont les suivants:\n",
    "\n",
    "- Simple à comprendre et à interpréter. Les arbres peuvent être visualisés.\n",
    "\n",
    "- Le coût d'utilisation de l'arbre (c'est-à-dire la prédiction des données) est <b>logarithmique</b> dans le nombre de points de données utilisés pour entraîner l'arbre.\n",
    "\n",
    "- Utilise un modèle de boîte blanche. Si une situation donnée est observable dans un modèle, l'explication de la condition est facilement expliquée par la logique booléenne. En revanche, dans un modèle de boîte noire (par exemple, dans un réseau de neurones artificiels), les résultats peuvent être plus difficiles à interpréter.\n",
    "\n",
    "Cependant, il y a aussi des <b>désavantages</b>:\n",
    "\n",
    "- Les <b>Decision Tree learners</b> peuvent créer des arbres trop complexes qui ne <b>généralisent</b> pas bien les données. C'est ce qu'on appelle l'<b>overfitting</b>. Des mécanismes tels que l'<b>élagage</b>, la définition du nombre <b>minimum d'échantillons</b> requis au niveau d'un nœud feuille ou la définition de la <b>profondeur maximale</b> de l'arbre sont nécessaires pour éviter ce problème.\n",
    "\n",
    "- Les Decision Tree learners créent des arbres biaisés si certaines classes <b>prédominent</b>. Il est donc recommandé d'équilibrer l'ensemble de données avant de le fit à l'arbre de décision."
   ]
  },
  {
   "cell_type": "code",
   "execution_count": 117,
   "metadata": {},
   "outputs": [
    {
     "name": "stdout",
     "output_type": "stream",
     "text": [
      "Decision Tree training score:  0.9968611111111111\n",
      "Decision Tree validation score:  0.888125\n"
     ]
    }
   ],
   "source": [
    "clf = DecisionTreeClassifier()\n",
    "clf.fit(X_train, y_train)\n",
    "y_pred = clf.predict(X_test)\n",
    "\n",
    "training_score = clf.score(X_train,y_train)\n",
    "test_score = accuracy_score(y_pred, y_test)\n",
    "print('Decision Tree training score: ', training_score)\n",
    "print('Decision Tree validation score: ', test_score)"
   ]
  },
  {
   "cell_type": "code",
   "execution_count": 118,
   "metadata": {},
   "outputs": [],
   "source": [
    "models.append('DecisionTreeClassifier')\n",
    "acc_training.append(training_score)\n",
    "acc_test.append(test_score)"
   ]
  },
  {
   "cell_type": "markdown",
   "metadata": {},
   "source": [
    "<br>\n",
    "<h4>c - Random Forest Classifier</h4>"
   ]
  },
  {
   "cell_type": "markdown",
   "metadata": {},
   "source": [
    "Une <b>Random Forest</b> est un ensemble de <b>Decision Tree</b> généralement via une méthode de <b>bagging</b>. A quelques exceptions près, une Random Forest Classifier possède les mêmes <b>hyperparamètres</b> qu'un Decision Tree Classifier (Pour controler comment les abres grandissent), plus tous les <b>hyperparamètres</b> d'un <b>Bagging Classifier</b>. (explications: *Bagging methods*: Annexe ML, *hyperparamètres*: Annexe ML)\n",
    "\n",
    "l'algorithme de Random Forest introduit un <b>caractère aléatoire</b> supplémentaire lors de la croissance des arbres. Plus précisemment, il recherche la meilleure caractéristique parmi un <b>sous-ensemble aléatoire</b> de caractéristiques.\n",
    "\n",
    "Cet algorithme résulte donc en une très <b>grande diversité</b> d'arbre, ce qui donne lieu à un <b>grand biais</b> pour une <b>faible variable</b>, ce la donne généralement un <b>meilleur modèle global<b>.\n",
    "    \n",
    "Une <b>grande qualité</b> des Random Forest est qu'elles rendent facile <b>la mesure de l'importance relative</b> de chaque variable. Sklearn mesure l'importance d'une variable en regardant comment les noeuds des arbres qui utilisent cette variable réduisent en moyenne l'impureté. \n",
    "Plus précisement, c'est une <b>moyenne pondérée</b>, où chaque <b>poids</b> d'un noeud est égale au nombre d'<b>échantillons</b> d'entraînement qui y est associé."
   ]
  },
  {
   "cell_type": "code",
   "execution_count": 119,
   "metadata": {},
   "outputs": [
    {
     "name": "stdout",
     "output_type": "stream",
     "text": [
      "Random Forest training score:  0.9968611111111111\n",
      "Random Forest validation score:  0.922875\n"
     ]
    }
   ],
   "source": [
    "clf = RandomForestClassifier()\n",
    "clf.fit(X_train, y_train)\n",
    "y_pred = clf.predict(X_test)\n",
    "\n",
    "training_score = clf.score(X_train,y_train)\n",
    "test_score = accuracy_score(y_pred, y_test)\n",
    "print('Random Forest training score: ', training_score)\n",
    "print('Random Forest validation score: ', test_score)"
   ]
  },
  {
   "cell_type": "code",
   "execution_count": 120,
   "metadata": {},
   "outputs": [],
   "source": [
    "models.append('RandomForestClassifier')\n",
    "acc_training.append(training_score)\n",
    "acc_test.append(test_score)"
   ]
  },
  {
   "cell_type": "markdown",
   "metadata": {},
   "source": []
  },
  {
   "cell_type": "code",
   "execution_count": null,
   "metadata": {},
   "outputs": [],
   "source": []
  },
  {
   "cell_type": "code",
   "execution_count": null,
   "metadata": {},
   "outputs": [],
   "source": []
  },
  {
   "cell_type": "code",
   "execution_count": null,
   "metadata": {},
   "outputs": [],
   "source": []
  },
  {
   "cell_type": "code",
   "execution_count": null,
   "metadata": {},
   "outputs": [],
   "source": []
  },
  {
   "cell_type": "markdown",
   "metadata": {},
   "source": [
    "<br>\n",
    "<h4>e - Logistic Regression</h4>"
   ]
  },
  {
   "cell_type": "code",
   "execution_count": 123,
   "metadata": {},
   "outputs": [
    {
     "name": "stdout",
     "output_type": "stream",
     "text": [
      "Logistic Regression training score:  0.7105833333333333\n",
      "Logistic Regression validation score:  0.70475\n"
     ]
    }
   ],
   "source": [
    "lg = LogisticRegression(max_iter=300)\n",
    "lg.fit(X_train, y_train)\n",
    "y_pred = lg.predict(X_test)\n",
    "training_score = lg.score(X_train,y_train)\n",
    "test_score = accuracy_score(y_pred, y_test)\n",
    "print('Logistic Regression training score: ', training_score)\n",
    "print('Logistic Regression validation score: ', test_score)"
   ]
  },
  {
   "cell_type": "code",
   "execution_count": 124,
   "metadata": {},
   "outputs": [],
   "source": [
    "models.append('Logistic Regression')\n",
    "acc_training.append(training_score)\n",
    "acc_test.append(test_score)"
   ]
  },
  {
   "cell_type": "markdown",
   "metadata": {},
   "source": [
    "<br>\n",
    "<h4> f - Perceptron </h4>"
   ]
  },
  {
   "cell_type": "code",
   "execution_count": 125,
   "metadata": {},
   "outputs": [],
   "source": [
    "from sklearn.linear_model import Perceptron"
   ]
  },
  {
   "cell_type": "code",
   "execution_count": 126,
   "metadata": {},
   "outputs": [
    {
     "name": "stdout",
     "output_type": "stream",
     "text": [
      "Perceptron training score:  0.6180555555555556\n",
      "Perceptron validation score:  0.62075\n"
     ]
    }
   ],
   "source": [
    "perceptron = Perceptron(tol = 1e-3, random_state = 0)\n",
    "perceptron.fit(X_train, y_train)\n",
    "y_pred = perceptron.predict(X_test)\n",
    "training_score = perceptron.score(X_train,y_train)\n",
    "test_score = accuracy_score(y_pred, y_test)\n",
    "print('Perceptron training score: ', training_score)\n",
    "print('Perceptron validation score: ', test_score)\n"
   ]
  },
  {
   "cell_type": "code",
   "execution_count": 127,
   "metadata": {},
   "outputs": [],
   "source": [
    "models.append('Perceptron')\n",
    "acc_training.append(training_score)\n",
    "acc_test.append(test_score)\n"
   ]
  },
  {
   "cell_type": "markdown",
   "metadata": {},
   "source": [
    "<br>\n",
    "<h4> f - Boosting</h4>"
   ]
  },
  {
   "cell_type": "code",
   "execution_count": null,
   "metadata": {},
   "outputs": [],
   "source": []
  },
  {
   "cell_type": "code",
   "execution_count": 128,
   "metadata": {},
   "outputs": [],
   "source": [
    "from sklearn.ensemble import AdaBoostClassifier"
   ]
  },
  {
   "cell_type": "code",
   "execution_count": 129,
   "metadata": {},
   "outputs": [
    {
     "name": "stdout",
     "output_type": "stream",
     "text": [
      "AdaBoost with DecisionTree training score:  0.9968611111111111\n",
      "AdaBoost with DecisionTree validation score:  0.919625\n"
     ]
    }
   ],
   "source": [
    "ada_clf = AdaBoostClassifier(DecisionTreeClassifier(), n_estimators=200, algorithm=\"SAMME.R\", learning_rate=0.5)\n",
    "\n",
    "ada_clf.fit(X_train, y_train)\n",
    "y_pred = ada_clf.predict(X_test)\n",
    "training_score = ada_clf.score(X_train, y_train)\n",
    "test_score = accuracy_score(y_pred, y_test)\n",
    "print('AdaBoost with DecisionTree training score: ', training_score)\n",
    "print('AdaBoost with DecisionTree validation score: ', test_score)"
   ]
  },
  {
   "cell_type": "code",
   "execution_count": 130,
   "metadata": {},
   "outputs": [],
   "source": [
    "models.append('Adaboost with DecisionTree')\n",
    "acc_training.append(training_score)\n",
    "acc_test.append(test_score)"
   ]
  },
  {
   "cell_type": "markdown",
   "metadata": {},
   "source": [
    "<br>\n",
    "<h4> g - Xgboost</h4>"
   ]
  },
  {
   "cell_type": "code",
   "execution_count": 131,
   "metadata": {},
   "outputs": [],
   "source": [
    "from xgboost import XGBClassifier"
   ]
  },
  {
   "cell_type": "code",
   "execution_count": 132,
   "metadata": {},
   "outputs": [
    {
     "name": "stdout",
     "output_type": "stream",
     "text": [
      "xgboost training score:  0.7748611111111111\n",
      "xgboost validation score:  0.771875\n"
     ]
    }
   ],
   "source": [
    "boost = XGBClassifier()\n",
    "boost.fit(X_train, y_train)\n",
    "y_pred = boost.predict(X_test)\n",
    "\n",
    "training_score = boost.score(X_train, y_train)\n",
    "test_score = accuracy_score(y_pred, y_test)\n",
    "print('xgboost training score: ', training_score)\n",
    "print('xgboost validation score: ', test_score)"
   ]
  },
  {
   "cell_type": "code",
   "execution_count": 133,
   "metadata": {},
   "outputs": [],
   "source": [
    "models.append('xgboost')\n",
    "acc_training.append(training_score)\n",
    "acc_test.append(test_score)"
   ]
  },
  {
   "cell_type": "markdown",
   "metadata": {},
   "source": [
    "<br>\n",
    "<h4>h - MLP neural network </h4>"
   ]
  },
  {
   "cell_type": "code",
   "execution_count": 6,
   "metadata": {},
   "outputs": [],
   "source": [
    "from tensorflow import keras"
   ]
  },
  {
   "cell_type": "code",
   "execution_count": 137,
   "metadata": {},
   "outputs": [
    {
     "data": {
      "text/plain": [
       "(72000, 100)"
      ]
     },
     "execution_count": 137,
     "metadata": {},
     "output_type": "execute_result"
    }
   ],
   "source": [
    "X_train.shape"
   ]
  },
  {
   "cell_type": "code",
   "execution_count": 138,
   "metadata": {},
   "outputs": [],
   "source": [
    "model = keras.models.Sequential()\n",
    "model.add(keras.layers.Flatten(input_shape=[100]))\n",
    "model.add(keras.layers.Dense(300, activation=\"relu\"))\n",
    "model.add(keras.layers.Dense(90, activation=\"relu\"))\n",
    "model.add(keras.layers.Dense(30, activation=\"relu\"))\n",
    "model.add(keras.layers.Dense(4, activation=\"softmax\"))"
   ]
  },
  {
   "cell_type": "markdown",
   "metadata": {},
   "source": [
    "<b> explanation </b>"
   ]
  },
  {
   "cell_type": "code",
   "execution_count": 139,
   "metadata": {},
   "outputs": [],
   "source": [
    "model.compile(loss=\"sparse_categorical_crossentropy\", optimizer=\"adam\", metrics=[\"accuracy\"])"
   ]
  },
  {
   "cell_type": "code",
   "execution_count": 140,
   "metadata": {},
   "outputs": [
    {
     "name": "stdout",
     "output_type": "stream",
     "text": [
      "Train on 64800 samples, validate on 7200 samples\n",
      "Epoch 1/30\n",
      "64800/64800 [==============================] - 11s 173us/sample - loss: 0.5997 - accuracy: 0.7336 - val_loss: 0.5499 - val_accuracy: 0.7600\n",
      "Epoch 2/30\n",
      "64800/64800 [==============================] - 9s 138us/sample - loss: 0.5225 - accuracy: 0.7710 - val_loss: 0.5146 - val_accuracy: 0.7751\n",
      "Epoch 3/30\n",
      "64800/64800 [==============================] - 10s 160us/sample - loss: 0.4888 - accuracy: 0.7877 - val_loss: 0.4989 - val_accuracy: 0.7885\n",
      "Epoch 4/30\n",
      "64800/64800 [==============================] - 9s 140us/sample - loss: 0.4584 - accuracy: 0.8018 - val_loss: 0.4961 - val_accuracy: 0.7935\n",
      "Epoch 5/30\n",
      "64800/64800 [==============================] - 9s 140us/sample - loss: 0.4317 - accuracy: 0.8149 - val_loss: 0.4834 - val_accuracy: 0.7999\n",
      "Epoch 6/30\n",
      "64800/64800 [==============================] - 9s 141us/sample - loss: 0.4055 - accuracy: 0.8267 - val_loss: 0.4545 - val_accuracy: 0.8103\n",
      "Epoch 7/30\n",
      "64800/64800 [==============================] - 9s 142us/sample - loss: 0.3865 - accuracy: 0.8350 - val_loss: 0.4579 - val_accuracy: 0.8158\n",
      "Epoch 8/30\n",
      "64800/64800 [==============================] - 9s 146us/sample - loss: 0.3648 - accuracy: 0.8454 - val_loss: 0.4628 - val_accuracy: 0.8163\n",
      "Epoch 9/30\n",
      "64800/64800 [==============================] - 9s 144us/sample - loss: 0.3480 - accuracy: 0.8529 - val_loss: 0.4392 - val_accuracy: 0.8235\n",
      "Epoch 10/30\n",
      "64800/64800 [==============================] - 9s 145us/sample - loss: 0.3318 - accuracy: 0.8606 - val_loss: 0.4512 - val_accuracy: 0.8181\n",
      "Epoch 11/30\n",
      "64800/64800 [==============================] - 9s 146us/sample - loss: 0.3191 - accuracy: 0.8663 - val_loss: 0.4506 - val_accuracy: 0.8324\n",
      "Epoch 12/30\n",
      "64800/64800 [==============================] - 9s 146us/sample - loss: 0.3069 - accuracy: 0.8704 - val_loss: 0.4277 - val_accuracy: 0.8324\n",
      "Epoch 13/30\n",
      "64800/64800 [==============================] - 10s 147us/sample - loss: 0.2932 - accuracy: 0.8783 - val_loss: 0.4625 - val_accuracy: 0.8333\n",
      "Epoch 14/30\n",
      "64800/64800 [==============================] - 10s 148us/sample - loss: 0.2857 - accuracy: 0.8803 - val_loss: 0.4495 - val_accuracy: 0.8418\n",
      "Epoch 15/30\n",
      "64800/64800 [==============================] - 10s 149us/sample - loss: 0.2768 - accuracy: 0.8848 - val_loss: 0.4512 - val_accuracy: 0.8414\n",
      "Epoch 16/30\n",
      "64800/64800 [==============================] - 10s 150us/sample - loss: 0.2658 - accuracy: 0.8889 - val_loss: 0.4670 - val_accuracy: 0.8433\n",
      "Epoch 17/30\n",
      "64800/64800 [==============================] - 10s 154us/sample - loss: 0.2603 - accuracy: 0.8922 - val_loss: 0.4841 - val_accuracy: 0.8421\n",
      "Epoch 18/30\n",
      "64800/64800 [==============================] - 10s 152us/sample - loss: 0.2510 - accuracy: 0.8959 - val_loss: 0.4667 - val_accuracy: 0.8426\n",
      "Epoch 19/30\n",
      "64800/64800 [==============================] - 14s 209us/sample - loss: 0.2450 - accuracy: 0.8973 - val_loss: 0.4738 - val_accuracy: 0.8453\n",
      "Epoch 20/30\n",
      "64800/64800 [==============================] - 12s 181us/sample - loss: 0.2390 - accuracy: 0.9001 - val_loss: 0.4920 - val_accuracy: 0.8518\n",
      "Epoch 21/30\n",
      "64800/64800 [==============================] - 10s 154us/sample - loss: 0.2294 - accuracy: 0.9041 - val_loss: 0.5129 - val_accuracy: 0.8449\n",
      "Epoch 22/30\n",
      "64800/64800 [==============================] - 10s 153us/sample - loss: 0.2311 - accuracy: 0.9047 - val_loss: 0.4786 - val_accuracy: 0.8511\n",
      "Epoch 23/30\n",
      "64800/64800 [==============================] - 10s 156us/sample - loss: 0.2206 - accuracy: 0.9083 - val_loss: 0.4977 - val_accuracy: 0.8501\n",
      "Epoch 24/30\n",
      "64800/64800 [==============================] - 10s 155us/sample - loss: 0.2173 - accuracy: 0.9096 - val_loss: 0.5156 - val_accuracy: 0.8501\n",
      "Epoch 25/30\n",
      "64800/64800 [==============================] - 10s 155us/sample - loss: 0.2161 - accuracy: 0.9113 - val_loss: 0.5032 - val_accuracy: 0.8517\n",
      "Epoch 26/30\n",
      "64800/64800 [==============================] - 10s 156us/sample - loss: 0.2080 - accuracy: 0.9137 - val_loss: 0.5199 - val_accuracy: 0.8611\n",
      "Epoch 27/30\n",
      "64800/64800 [==============================] - 10s 156us/sample - loss: 0.2048 - accuracy: 0.9165 - val_loss: 0.5436 - val_accuracy: 0.8536\n",
      "Epoch 28/30\n",
      "64800/64800 [==============================] - 10s 157us/sample - loss: 0.2018 - accuracy: 0.9171 - val_loss: 0.5365 - val_accuracy: 0.8557\n",
      "Epoch 29/30\n",
      "64800/64800 [==============================] - 10s 159us/sample - loss: 0.1936 - accuracy: 0.9202 - val_loss: 0.5684 - val_accuracy: 0.8522\n",
      "Epoch 30/30\n",
      "64800/64800 [==============================] - 10s 161us/sample - loss: 0.1970 - accuracy: 0.9195 - val_loss: 0.5338 - val_accuracy: 0.8619\n"
     ]
    }
   ],
   "source": [
    "history = model.fit(X_train, y_train.to_numpy(), epochs=30, validation_split=0.1)"
   ]
  },
  {
   "cell_type": "code",
   "execution_count": 141,
   "metadata": {},
   "outputs": [
    {
     "data": {
      "image/png": "[encoded data removed]",
      "text/plain": [
       "<Figure size 576x360 with 1 Axes>"
      ]
     },
     "metadata": {},
     "output_type": "display_data"
    }
   ],
   "source": [
    "pd.DataFrame(history.history).plot(figsize=(8, 5))\n",
    "plt.grid(True)\n",
    "plt.gca().set_ylim(0, 1)\n",
    "plt.show()"
   ]
  },
  {
   "cell_type": "markdown",
   "metadata": {},
   "source": [
    "On peut observer que:\n",
    "- la precision d'entraînement et la precision de la validation augmente constamment durant l'entraînement. \n",
    "- Alors que le loss d'entraînement et le loss de validation décroît.\n",
    "- Cependant, les écarts entre les courbes d'entraînements et de validations augmentent en fonction du nombre d'epoch, cela est significatif d'un <b>overfitting</b>."
   ]
  },
  {
   "cell_type": "markdown",
   "metadata": {},
   "source": [
    "<br>\n",
    "<h4> i - Complex Models using the Functional API </h4>"
   ]
  },
  {
   "cell_type": "code",
   "execution_count": 142,
   "metadata": {},
   "outputs": [],
   "source": [
    "input_ = keras.layers.Input(shape=[100])\n",
    "hidden1 = keras.layers.Dense(180, activation=\"relu\")(input_)\n",
    "hidden2 = keras.layers.Dense(30, activation=\"relu\")(hidden1)\n",
    "concat = keras.layers.Concatenate()([input_, hidden2])\n",
    "output = keras.layers.Dense(4, activation=\"softmax\")(concat)\n",
    "func_model = keras.Model(inputs=[input_], outputs=[output])"
   ]
  },
  {
   "cell_type": "code",
   "execution_count": 143,
   "metadata": {},
   "outputs": [],
   "source": [
    "func_model.compile(loss=\"sparse_categorical_crossentropy\", optimizer=\"adam\", metrics=[\"accuracy\"])"
   ]
  },
  {
   "cell_type": "code",
   "execution_count": 144,
   "metadata": {},
   "outputs": [
    {
     "name": "stdout",
     "output_type": "stream",
     "text": [
      "Train on 64800 samples, validate on 7200 samples\n",
      "Epoch 1/30\n",
      "64800/64800 [==============================] - 8s 121us/sample - loss: 0.6295 - accuracy: 0.7253 - val_loss: 0.5682 - val_accuracy: 0.7621\n",
      "Epoch 2/30\n",
      "64800/64800 [==============================] - 7s 111us/sample - loss: 0.5415 - accuracy: 0.7657 - val_loss: 0.5395 - val_accuracy: 0.7636\n",
      "Epoch 3/30\n",
      "64800/64800 [==============================] - 7s 113us/sample - loss: 0.5072 - accuracy: 0.7795 - val_loss: 0.5424 - val_accuracy: 0.7742\n",
      "Epoch 4/30\n",
      "64800/64800 [==============================] - 7s 112us/sample - loss: 0.4855 - accuracy: 0.7914 - val_loss: 0.5115 - val_accuracy: 0.7878\n",
      "Epoch 5/30\n",
      "64800/64800 [==============================] - 7s 112us/sample - loss: 0.4686 - accuracy: 0.7987 - val_loss: 0.5101 - val_accuracy: 0.7939\n",
      "Epoch 6/30\n",
      "64800/64800 [==============================] - 7s 111us/sample - loss: 0.4472 - accuracy: 0.8073 - val_loss: 0.4992 - val_accuracy: 0.7993\n",
      "Epoch 7/30\n",
      "64800/64800 [==============================] - 7s 112us/sample - loss: 0.4337 - accuracy: 0.8143 - val_loss: 0.5194 - val_accuracy: 0.7974\n",
      "Epoch 8/30\n",
      "64800/64800 [==============================] - 9s 138us/sample - loss: 0.4167 - accuracy: 0.8218 - val_loss: 0.5009 - val_accuracy: 0.8019\n",
      "Epoch 9/30\n",
      "64800/64800 [==============================] - 9s 141us/sample - loss: 0.4058 - accuracy: 0.8275 - val_loss: 0.5007 - val_accuracy: 0.8047\n",
      "Epoch 10/30\n",
      "64800/64800 [==============================] - 8s 120us/sample - loss: 0.3952 - accuracy: 0.8319 - val_loss: 0.4789 - val_accuracy: 0.8106\n",
      "Epoch 11/30\n",
      "64800/64800 [==============================] - 8s 121us/sample - loss: 0.3832 - accuracy: 0.8370 - val_loss: 0.5005 - val_accuracy: 0.8089\n",
      "Epoch 12/30\n",
      "64800/64800 [==============================] - 8s 119us/sample - loss: 0.3744 - accuracy: 0.8424 - val_loss: 0.4757 - val_accuracy: 0.8126\n",
      "Epoch 13/30\n",
      "64800/64800 [==============================] - 8s 122us/sample - loss: 0.3670 - accuracy: 0.8454 - val_loss: 0.4800 - val_accuracy: 0.8125\n",
      "Epoch 14/30\n",
      "64800/64800 [==============================] - 8s 123us/sample - loss: 0.3569 - accuracy: 0.8496 - val_loss: 0.4507 - val_accuracy: 0.8214\n",
      "Epoch 15/30\n",
      "64800/64800 [==============================] - 8s 123us/sample - loss: 0.3510 - accuracy: 0.8527 - val_loss: 0.4609 - val_accuracy: 0.8193\n",
      "Epoch 16/30\n",
      "64800/64800 [==============================] - 8s 123us/sample - loss: 0.3453 - accuracy: 0.8556 - val_loss: 0.4665 - val_accuracy: 0.8240\n",
      "Epoch 17/30\n",
      "64800/64800 [==============================] - 8s 123us/sample - loss: 0.3366 - accuracy: 0.8588 - val_loss: 0.4717 - val_accuracy: 0.8199\n",
      "Epoch 18/30\n",
      "64800/64800 [==============================] - 8s 127us/sample - loss: 0.3389 - accuracy: 0.8615 - val_loss: 0.5283 - val_accuracy: 0.8219\n",
      "Epoch 19/30\n",
      "64800/64800 [==============================] - 8s 126us/sample - loss: 0.3259 - accuracy: 0.8651 - val_loss: 0.5231 - val_accuracy: 0.8243\n",
      "Epoch 20/30\n",
      "64800/64800 [==============================] - 8s 124us/sample - loss: 0.3193 - accuracy: 0.8661 - val_loss: 0.5112 - val_accuracy: 0.8278\n",
      "Epoch 21/30\n",
      "64800/64800 [==============================] - 8s 125us/sample - loss: 0.3141 - accuracy: 0.8696 - val_loss: 0.5051 - val_accuracy: 0.8239\n",
      "Epoch 22/30\n",
      "64800/64800 [==============================] - 8s 126us/sample - loss: 0.3080 - accuracy: 0.8723 - val_loss: 0.4825 - val_accuracy: 0.8361\n",
      "Epoch 23/30\n",
      "64800/64800 [==============================] - 8s 126us/sample - loss: 0.3054 - accuracy: 0.8725 - val_loss: 0.4939 - val_accuracy: 0.8279\n",
      "Epoch 24/30\n",
      "64800/64800 [==============================] - 8s 127us/sample - loss: 0.3017 - accuracy: 0.8752 - val_loss: 0.4946 - val_accuracy: 0.8338\n",
      "Epoch 25/30\n",
      "64800/64800 [==============================] - 8s 127us/sample - loss: 0.2951 - accuracy: 0.8773 - val_loss: 0.5013 - val_accuracy: 0.8340\n",
      "Epoch 26/30\n",
      "64800/64800 [==============================] - 8s 128us/sample - loss: 0.2913 - accuracy: 0.8790 - val_loss: 0.4780 - val_accuracy: 0.8361\n",
      "Epoch 27/30\n",
      "64800/64800 [==============================] - 8s 128us/sample - loss: 0.2888 - accuracy: 0.8803 - val_loss: 0.4651 - val_accuracy: 0.8422\n",
      "Epoch 28/30\n",
      "64800/64800 [==============================] - 8s 129us/sample - loss: 0.2858 - accuracy: 0.8816 - val_loss: 0.4735 - val_accuracy: 0.8414\n",
      "Epoch 29/30\n",
      "64800/64800 [==============================] - 8s 129us/sample - loss: 0.2805 - accuracy: 0.8843 - val_loss: 0.4814 - val_accuracy: 0.8364\n",
      "Epoch 30/30\n",
      "64800/64800 [==============================] - 8s 130us/sample - loss: 0.2784 - accuracy: 0.8856 - val_loss: 0.4873 - val_accuracy: 0.8379\n"
     ]
    }
   ],
   "source": [
    "func_history = func_model.fit(X_train, y_train.to_numpy(), epochs=30, validation_split=0.1)"
   ]
  },
  {
   "cell_type": "code",
   "execution_count": 145,
   "metadata": {},
   "outputs": [
    {
     "data": {
      "image/png": "[encoded data removed]",
      "text/plain": [
       "<Figure size 576x360 with 1 Axes>"
      ]
     },
     "metadata": {},
     "output_type": "display_data"
    }
   ],
   "source": [
    "pd.DataFrame(func_history.history).plot(figsize=(8, 5))\n",
    "plt.grid(True)\n",
    "plt.gca().set_ylim(0, 1)\n",
    "plt.show()"
   ]
  },
  {
   "cell_type": "markdown",
   "metadata": {},
   "source": [
    "On peut observer le même phénomène que précédemment, l'écart entre les courbes d'apprentissage et d validation se creuse à mesure que le nombre d'epoch augmente."
   ]
  },
  {
   "cell_type": "markdown",
   "metadata": {},
   "source": [
    "<br>\n",
    "<h4>j - Quels modèles choisir?</h4>"
   ]
  },
  {
   "cell_type": "code",
   "execution_count": 38,
   "metadata": {},
   "outputs": [
    {
     "data": {
      "text/html": [
       "<div>\n",
       "<style scoped>\n",
       "    .dataframe tbody tr th:only-of-type {\n",
       "        vertical-align: middle;\n",
       "    }\n",
       "\n",
       "    .dataframe tbody tr th {\n",
       "        vertical-align: top;\n",
       "    }\n",
       "\n",
       "    .dataframe thead th {\n",
       "        text-align: right;\n",
       "    }\n",
       "</style>\n",
       "<table border=\"1\" class=\"dataframe\">\n",
       "  <thead>\n",
       "    <tr style=\"text-align: right;\">\n",
       "      <th></th>\n",
       "      <th>model</th>\n",
       "      <th>training score</th>\n",
       "      <th>test score</th>\n",
       "    </tr>\n",
       "  </thead>\n",
       "  <tbody>\n",
       "    <tr>\n",
       "      <th>0</th>\n",
       "      <td>DecisionTreeClassifier</td>\n",
       "      <td>0.996775</td>\n",
       "      <td>0.90025</td>\n",
       "    </tr>\n",
       "    <tr>\n",
       "      <th>1</th>\n",
       "      <td>RandomForestClassifier</td>\n",
       "      <td>0.996775</td>\n",
       "      <td>0.92885</td>\n",
       "    </tr>\n",
       "    <tr>\n",
       "      <th>2</th>\n",
       "      <td>Perceptron</td>\n",
       "      <td>0.601775</td>\n",
       "      <td>0.59365</td>\n",
       "    </tr>\n",
       "    <tr>\n",
       "      <th>3</th>\n",
       "      <td>Logistic Regression</td>\n",
       "      <td>0.710163</td>\n",
       "      <td>0.70995</td>\n",
       "    </tr>\n",
       "    <tr>\n",
       "      <th>4</th>\n",
       "      <td>Adaboost with DecisionTree</td>\n",
       "      <td>0.996775</td>\n",
       "      <td>0.92705</td>\n",
       "    </tr>\n",
       "    <tr>\n",
       "      <th>5</th>\n",
       "      <td>xgboost</td>\n",
       "      <td>0.777238</td>\n",
       "      <td>0.77060</td>\n",
       "    </tr>\n",
       "  </tbody>\n",
       "</table>\n",
       "</div>"
      ],
      "text/plain": [
       "                        model  training score  test score\n",
       "0      DecisionTreeClassifier        0.996775     0.90025\n",
       "1      RandomForestClassifier        0.996775     0.92885\n",
       "2                  Perceptron        0.601775     0.59365\n",
       "3         Logistic Regression        0.710163     0.70995\n",
       "4  Adaboost with DecisionTree        0.996775     0.92705\n",
       "5                     xgboost        0.777238     0.77060"
      ]
     },
     "execution_count": 38,
     "metadata": {},
     "output_type": "execute_result"
    }
   ],
   "source": [
    "result = pd.DataFrame(data={'model': models, 'training score':acc_training, 'validation score':acc_test})\n",
    "result"
   ]
  },
  {
   "cell_type": "markdown",
   "metadata": {},
   "source": [
    "Le <b>DecisionTreeClassifier</b>, le <b>RandomForestClassifier</b> ainsi que <b> Adaboost</b> semble être les plus performants. Ils sont peut être même trop performant. Pour bien choisir notre modèle, nous devons verifier, qu'il ne tend pas à l'<b>over fitting</b> ou l'<b>under fitting</b>."
   ]
  },
  {
   "cell_type": "markdown",
   "metadata": {},
   "source": [
    "Rappel:\n",
    "\n",
    "- <b>Overfitting</b>: notre modèle correspond trop précisément aux données d'entraînements. Cela peut ne pas correspondre de manière fiable à des données futures.\n",
    "- <b>Underfitting</b>: notre modèle ne peut ni modéliser les données d'entraînements ni généraliser à de nouvelles données. Cela est facile à détecter, le modèle a de mauvaises performances sur les données d'entraînements. Ce qui n'est pas n'autre cas."
   ]
  },
  {
   "cell_type": "markdown",
   "metadata": {},
   "source": [
    "<br>\n",
    "<h4>k - learning curves & cross-validation</h4>"
   ]
  },
  {
   "cell_type": "markdown",
   "metadata": {},
   "source": [
    "Les courbes d'apprentissages peuvent nous aider à choisir notre modèle. Elles peut mettre en évidence si notre modèle overfit ou underfit.\n",
    "- Notre modèle <b>overfit</b>, si il y a un écart entre le score d'entraînement et le score de la cross-validation. Il y a une <b>grande variance</b>.\n",
    "\n",
    "- Notre modèle <b>underfit</b>, si le score d'entraînement et de cross validation sont bas. Il y a un <b>grand biais</b>."
   ]
  },
  {
   "cell_type": "code",
   "execution_count": 68,
   "metadata": {},
   "outputs": [],
   "source": [
    "def plot_learning_curve(estimator, title, X, y, axes=None, ylim=None, cv=None, n_jobs=None, train_sizes=np.linspace(.1, 1.0, 5)):\n",
    "    sns.set_theme()\n",
    "    ax = True\n",
    "    if axes is None:\n",
    "        ax = False\n",
    "        _, axes = plt.subplots(1, 1, figsize=(10, 5))\n",
    "\n",
    "    \n",
    "    if ylim is not None:\n",
    "        axes[0].set_ylim(*ylim)\n",
    "        axes[0].set_xlabel(\"Training examples\")\n",
    "        axes[0].set_ylabel(\"Score\")\n",
    "        axes[0].set_title(title)\n",
    "\n",
    "    train_sizes, train_scores, test_scores, fit_times, _ = \\\n",
    "        learning_curve(estimator, X, y, cv=cv, n_jobs=n_jobs,\n",
    "                       train_sizes=train_sizes,\n",
    "                       return_times=True)\n",
    "    train_scores_mean = np.mean(train_scores, axis=1)\n",
    "    train_scores_std = np.std(train_scores, axis=1)\n",
    "    test_scores_mean = np.mean(test_scores, axis=1)\n",
    "    test_scores_std = np.std(test_scores, axis=1)\n",
    "    fit_times_mean = np.mean(fit_times, axis=1)\n",
    "    fit_times_std = np.std(fit_times, axis=1)\n",
    "\n",
    "    # Plot learning curve\n",
    "    \n",
    "    axes[0].grid()\n",
    "    axes[0].fill_between(train_sizes, train_scores_mean - train_scores_std,\n",
    "                         train_scores_mean + train_scores_std, alpha=0.1,\n",
    "                         color=\"r\")\n",
    "    axes[0].fill_between(train_sizes, test_scores_mean - test_scores_std,\n",
    "                         test_scores_mean + test_scores_std, alpha=0.1,\n",
    "                         color=\"g\")\n",
    "    axes[0].plot(train_sizes, train_scores_mean, 'o-', color=\"r\",\n",
    "                 label=\"Training score\")\n",
    "    axes[0].plot(train_sizes, test_scores_mean, 'o-', color=\"g\",\n",
    "                 label=\"Cross-validation score\")\n",
    "    axes[0].legend(loc=\"best\")\n",
    "\n",
    "    return plt"
   ]
  },
  {
   "cell_type": "code",
   "execution_count": 63,
   "metadata": {},
   "outputs": [
    {
     "data": {
      "image/png": "[encoded data removed]",
      "text/plain": [
       "<Figure size 720x2160 with 4 Axes>"
      ]
     },
     "metadata": {},
     "output_type": "display_data"
    }
   ],
   "source": [
    "from sklearn.model_selection import ShuffleSplit\n",
    "from sklearn.model_selection import learning_curve\n",
    "\n",
    "classifiers = {\n",
    "    \"RandomForest\": RandomForestClassifier(),\n",
    "    \"LogisticRegression\": LogisticRegression(),\n",
    "     \"Adaboost\":AdaBoostClassifier(DecisionTreeClassifier(), n_estimators=200, algorithm=\"SAMME.R\", learning_rate=0.5),\n",
    "    \"DecisionTreeClassifier\": DecisionTreeClassifier()\n",
    "}\n",
    "\n",
    "i_ax = 0\n",
    "\n",
    "sns.set_theme()\n",
    "fig, axes = plt.subplots(len(classifiers), 1, figsize=(10, 30), squeeze=False)\n",
    "\n",
    "for key, classifier in classifiers.items():\n",
    "    \n",
    "    title = 'learning curves ' + key\n",
    "    \n",
    "    cv = ShuffleSplit(n_splits=10, test_size=0.33, random_state=0)\n",
    "    plot_learning_curve(classifier, title, X, y, axes=axes[i_ax], ylim=(0.7, 1.01), cv=cv, n_jobs=4)\n",
    "    \n",
    "    i_ax += 1\n",
    "fig.tight_layout(pad=3.0)"
   ]
  },
  {
   "cell_type": "markdown",
   "metadata": {},
   "source": [
    "Le <b>DecisionTreeClassifier</b>, le <b>RandomForest</b> et l'<b>Adaboost</b> (basé sur un decision tree) sont clairement en train d'<b>overfit</b>, l'écart entre la courbe d'entraînement et la courbe de cross-validation est grand. Cependant, plus le nombre d'exemple est grand, plus l'écart se réduit. Pour résoudre un problème d'overfitting on peut:\n",
    "\n",
    "- Pour n'importe quel algorithme, <b>augmenter</b> la tailler des données peut aider à résoudre l'overfitting.\n",
    "\n",
    "- Pour une <b>Random Forest</b> on peut:\n",
    "    - <b>Augmenter le nombre d'estimateur</b>, plus il y a d'arbres, moins l'algorithme est susceptible d'overfit.\n",
    "    - <b>Ajuster la profondeur maximale</b>, ce paramètre réduira la complexité des modèles appris, diminuant ainsi le risque d'overfitting.\n",
    "    \n",
    "    \n",
    "\n",
    "- Pour un <b>Decision Tree</b> on peut:\n",
    "\n",
    "    - <b>\"Pré-tailler\" l'arbre</b>, ce qui arrête la croissance de l'arbre plus tôt, avant de classer parfaitement l'ensemble d'entraînement.\n",
    "    - <b>\"Post-élagager\" l'arbre</b>, ce qui permet à l'arbre de classer parfaitement l'ensemble d'entraînement, puis post-élaguer l'arbre.\n",
    "    - Comme le précise la documentation de sklearn sur les arbres de décision:\n",
    "    > The default values for the parameters controlling the size of the trees (e.g. max_depth, min_samples_leaf, etc.) lead to fully grown and <b>unpruned</b> trees which can potentially be very large on some data sets. To reduce memory consumption, the complexity and size of the trees should be controlled by setting those parameter values.\n",
    "    \n",
    "    \n",
    "    \n",
    "    \n",
    "- Pour notre algorithme <b>Adaboost</b>, il est basé sur un arbre de décision, fixer un décision tree avec les <b>conditions précédentes</b> semble donc être une bonne idée.\n",
    "\n",
    "- <b>Xgboost</b>, a un score d'entraînement très proche de celui de validation, on peut donc estimer qu'il n'y a pas d'overfitting dans son cas.\n",
    "\n",
    "\n",
    "    "
   ]
  },
  {
   "cell_type": "markdown",
   "metadata": {},
   "source": [
    "<br>\n",
    "<h4> l - Fine tuning models </h4>"
   ]
  },
  {
   "cell_type": "markdown",
   "metadata": {},
   "source": [
    "- RandomForest\n",
    "- DecisionTree\n",
    "- AdaBoost\n",
    "- MLP\n",
    "- Functional"
   ]
  },
  {
   "cell_type": "code",
   "execution_count": 146,
   "metadata": {},
   "outputs": [],
   "source": [
    "from sklearn.model_selection import GridSearchCV"
   ]
  },
  {
   "cell_type": "markdown",
   "metadata": {},
   "source": [
    "- Random Forest"
   ]
  },
  {
   "cell_type": "code",
   "execution_count": 181,
   "metadata": {},
   "outputs": [
    {
     "data": {
      "text/plain": [
       "GridSearchCV(estimator=RandomForestClassifier(),\n",
       "             param_grid={'bootstrap': [False, True], 'max_depth': range(10, 18),\n",
       "                         'max_features': ['auto', 'sqrt', 'log2'],\n",
       "                         'n_estimators': [150]})"
      ]
     },
     "execution_count": 181,
     "metadata": {},
     "output_type": "execute_result"
    }
   ],
   "source": [
    "grid_rf = GridSearchCV(estimator = RandomForestClassifier(), param_grid = {'bootstrap':[False,True],'n_estimators':[150],'max_depth':range(10,18),\n",
    "               'max_features':['auto','sqrt','log2']})\n",
    "grid_rf.fit(X_train, y_train)"
   ]
  },
  {
   "cell_type": "code",
   "execution_count": 182,
   "metadata": {},
   "outputs": [
    {
     "name": "stdout",
     "output_type": "stream",
     "text": [
      "RandomForestClassifier(bootstrap=False, max_depth=17, max_features='sqrt',\n",
      "                       n_estimators=150)\n",
      "0.844875\n"
     ]
    }
   ],
   "source": [
    "print(grid_rf.best_estimator_)\n",
    "print(grid_rf.best_score_)"
   ]
  },
  {
   "cell_type": "markdown",
   "metadata": {},
   "source": [
    "<br>\n",
    "\n",
    "- Decision Tree"
   ]
  },
  {
   "cell_type": "code",
   "execution_count": 178,
   "metadata": {},
   "outputs": [
    {
     "data": {
      "text/plain": [
       "GridSearchCV(estimator=DecisionTreeClassifier(),\n",
       "             param_grid={'criterion': ['gini', 'entropy'],\n",
       "                         'max_depth': range(14, 18),\n",
       "                         'max_features': ['auto', 'sqrt', 'log2'],\n",
       "                         'splitter': ['best', 'random']})"
      ]
     },
     "execution_count": 178,
     "metadata": {},
     "output_type": "execute_result"
    }
   ],
   "source": [
    "grid_dc = GridSearchCV(DecisionTreeClassifier(), {'criterion':['gini','entropy'],'splitter':['best', 'random'],'max_depth':range(14,18),\n",
    "               'max_features':['auto','sqrt','log2']} )\n",
    "grid_dc.fit(X_train, y_train)"
   ]
  },
  {
   "cell_type": "code",
   "execution_count": 179,
   "metadata": {},
   "outputs": [
    {
     "name": "stdout",
     "output_type": "stream",
     "text": [
      "DecisionTreeClassifier(max_depth=17, max_features='auto')\n",
      "0.7721944444444444\n"
     ]
    }
   ],
   "source": [
    "print(grid_dc.best_estimator_)\n",
    "print(grid_dc.best_score_)"
   ]
  },
  {
   "cell_type": "markdown",
   "metadata": {},
   "source": [
    "<br>\n",
    "\n",
    "- Adaboost"
   ]
  },
  {
   "cell_type": "code",
   "execution_count": 167,
   "metadata": {},
   "outputs": [
    {
     "data": {
      "text/plain": [
       "GridSearchCV(estimator=AdaBoostClassifier(base_estimator=DecisionTreeClassifier(max_depth=14,\n",
       "                                                                                max_features='sqrt')),\n",
       "             param_grid={'algorithm': ['SAMME.R'],\n",
       "                         'base_estimator__criterion': ['gini', 'entropy'],\n",
       "                         'base_estimator__splitter': ['best', 'random'],\n",
       "                         'learning_rate': [0.5],\n",
       "                         'n_estimators': range(20, 200, 30)})"
      ]
     },
     "execution_count": 167,
     "metadata": {},
     "output_type": "execute_result"
    }
   ],
   "source": [
    "dtc = DecisionTreeClassifier(max_depth = 14, max_features='sqrt')\n",
    "\n",
    "abc = AdaBoostClassifier(dtc)\n",
    "\n",
    "grid_abc = GridSearchCV(abc, param_grid={\"base_estimator__criterion\" : [\"gini\", \"entropy\"],\n",
    "              \"base_estimator__splitter\" :   [\"best\", \"random\"],\n",
    "              \"n_estimators\": range(20,200,30), \"algorithm\": [\"SAMME.R\"], \"learning_rate\":[0.5]\n",
    "             })\n",
    "grid_abc.fit(X_train, y_train)"
   ]
  },
  {
   "cell_type": "code",
   "execution_count": 168,
   "metadata": {},
   "outputs": [
    {
     "name": "stdout",
     "output_type": "stream",
     "text": [
      "AdaBoostClassifier(base_estimator=DecisionTreeClassifier(criterion='entropy',\n",
      "                                                         max_depth=14,\n",
      "                                                         max_features='sqrt'),\n",
      "                   learning_rate=0.5, n_estimators=170)\n",
      "0.8924444444444444\n"
     ]
    }
   ],
   "source": [
    "print(grid_abc.best_estimator_)\n",
    "print(grid_abc.best_score_)"
   ]
  },
  {
   "cell_type": "markdown",
   "metadata": {},
   "source": [
    "<br>\n",
    "\n",
    "- Logistic Regression"
   ]
  },
  {
   "cell_type": "code",
   "execution_count": 176,
   "metadata": {},
   "outputs": [
    {
     "data": {
      "text/plain": [
       "GridSearchCV(estimator=LogisticRegression(),\n",
       "             param_grid={'C': [0.001, 0.01, 0.1, 1, 10, 100, 1000],\n",
       "                         'max_iter': range(100, 500, 100),\n",
       "                         'penalty': ['l2', 'none']})"
      ]
     },
     "execution_count": 176,
     "metadata": {},
     "output_type": "execute_result"
    }
   ],
   "source": [
    "import warnings\n",
    "warnings.filterwarnings(\"ignore\")\n",
    "lr = LogisticRegression()\n",
    "\n",
    "grid_lr = GridSearchCV(lr, {\"penalty\":['l2',  'none'], \"C\":[0.001, 0.01, 0.1, 1, 10, 100, 1000], \"max_iter\":range(100, 500,100)})\n",
    "grid_lr.fit(X_train, y_train)"
   ]
  },
  {
   "cell_type": "code",
   "execution_count": 177,
   "metadata": {},
   "outputs": [
    {
     "name": "stdout",
     "output_type": "stream",
     "text": [
      "LogisticRegression(C=0.01)\n",
      "0.708763888888889\n"
     ]
    }
   ],
   "source": [
    "print(grid_lr.best_estimator_)\n",
    "print(grid_lr.best_score_)"
   ]
  },
  {
   "cell_type": "markdown",
   "metadata": {},
   "source": [
    "- Xgboost"
   ]
  },
  {
   "cell_type": "code",
   "execution_count": 183,
   "metadata": {},
   "outputs": [
    {
     "data": {
      "text/plain": [
       "GridSearchCV(estimator=XGBClassifier(),\n",
       "             param_grid={'colsample_bytree': [0.7], 'learning_rate': [0.05],\n",
       "                         'max_depth': [6], 'min_child_weight': [11],\n",
       "                         'n_estimators': range(5, 400, 100), 'seed': [1337],\n",
       "                         'silent': [1], 'subsample': [0.8]})"
      ]
     },
     "execution_count": 183,
     "metadata": {},
     "output_type": "execute_result"
    }
   ],
   "source": [
    "params = {'learning_rate': [0.05], 'max_depth': [6],'min_child_weight': [11],'silent': [1],'subsample': [0.8],'colsample_bytree': [0.7],'n_estimators': range(5,400,100),'seed': [1337]}\n",
    "boost = XGBClassifier()\n",
    "\n",
    "grid_bst = GridSearchCV(boost, params)\n",
    "grid_bst.fit(X_train, y_train)\n"
   ]
  },
  {
   "cell_type": "code",
   "execution_count": 184,
   "metadata": {},
   "outputs": [
    {
     "name": "stdout",
     "output_type": "stream",
     "text": [
      "XGBClassifier(colsample_bytree=0.7, learning_rate=0.05, max_depth=6,\n",
      "              min_child_weight=11, n_estimators=305, objective='multi:softprob',\n",
      "              seed=1337, silent=1, subsample=0.8)\n",
      "0.8157638888888888\n"
     ]
    }
   ],
   "source": [
    "print(grid_bst.best_estimator_)\n",
    "print(grid_bst.best_score_)"
   ]
  },
  {
   "cell_type": "markdown",
   "metadata": {},
   "source": [
    "<br>\n",
    "\n",
    "- <b>MLP Sequential</b>"
   ]
  },
  {
   "cell_type": "code",
   "execution_count": 15,
   "metadata": {},
   "outputs": [],
   "source": [
    "def build_sequential_model(n_hidden=1, n_neurons=30, optimizer=\"adam\", input_shape=[100]):\n",
    "    model = keras.models.Sequential()\n",
    "    model.add(keras.layers.Flatten(input_shape=input_shape))\n",
    "    \n",
    "    for layer in range(n_hidden):\n",
    "        model.add(keras.layers.Dense(n_neurons, activation=\"relu\"))\n",
    "    \n",
    "    model.add(keras.layers.Dense(4, activation=\"softmax\"))\n",
    "    model.compile(loss=\"sparse_categorical_crossentropy\", optimizer=optimizer, metrics=[\"accuracy\"])\n",
    "    return model"
   ]
  },
  {
   "cell_type": "code",
   "execution_count": 16,
   "metadata": {},
   "outputs": [],
   "source": [
    "keras_clf = keras.wrappers.scikit_learn.KerasClassifier(build_sequential_model)"
   ]
  },
  {
   "cell_type": "code",
   "execution_count": 17,
   "metadata": {},
   "outputs": [],
   "source": [
    "from sklearn.model_selection import RandomizedSearchCV"
   ]
  },
  {
   "cell_type": "code",
   "execution_count": null,
   "metadata": {},
   "outputs": [],
   "source": [
    "params = {\n",
    "    \"n_hidden\":[0, 1, 2, 3],\n",
    "    \"n_neurons\": range(1, 50, 10)\n",
    "}\n",
    "\n",
    "rnd_search_cv = RandomizedSearchCV(keras_clf, params, n_iter=5, cv=3)\n",
    "rnd_search_cv.fit(X_train, y_train.to_numpy(), epochs=50, validation_data=(X_test, y_test.to_numpy()),\n",
    "              callbacks=[keras.callbacks.EarlyStopping(patience=10)], verbose=0)\n",
    "\n"
   ]
  },
  {
   "cell_type": "code",
   "execution_count": null,
   "metadata": {},
   "outputs": [],
   "source": [
    "print(rnd_search_cv.best_params_)\n",
    "print(rnd_search_cv.best_score_)"
   ]
  },
  {
   "cell_type": "markdown",
   "metadata": {},
   "source": [
    "<br>\n",
    "sources:\n",
    "\n",
    "- sklearn <b>SVM complexity</b>: https://scikit-learn.org/stable/modules/svm.html#complexity\n",
    "- sklearn <b>DecisionTree</b>:\n",
    "    - https://scikit-learn.org/stable/modules/generated/sklearn.tree.DecisionTreeClassifier.html\n",
    "    - https://scikit-learn.org/stable/modules/tree.html#tree"
   ]
  },
  {
   "cell_type": "markdown",
   "metadata": {},
   "source": [
    "<br>\n",
    "<b> Sources pour Annexe ML:</b>\n",
    "\n",
    "- Bagging methods:\n",
    "    - https://scikit-learn.org/stable/modules/ensemble.html#forest\n",
    "    - Hands on ML p 189 de Aurélien Géron.\n",
    "    \n",
    "\n",
    "- Hyperparamètres:\n",
    "    - https://scikit-learn.org/stable/modules/grid_search.html\n",
    "    - Hands on ML p 31 de Aurélien Géron.\n"
   ]
  },
  {
   "cell_type": "code",
   "execution_count": null,
   "metadata": {},
   "outputs": [],
   "source": []
  }
 ],
 "metadata": {
  "kernelspec": {
   "display_name": "Python 3",
   "language": "python",
   "name": "python3"
  },
  "language_info": {
   "codemirror_mode": {
    "name": "ipython",
    "version": 3
   },
   "file_extension": ".py",
   "mimetype": "text/x-python",
   "name": "python",
   "nbconvert_exporter": "python",
   "pygments_lexer": "ipython3",
   "version": "3.7.9"
  }
 },
 "nbformat": 4,
 "nbformat_minor": 4
}
