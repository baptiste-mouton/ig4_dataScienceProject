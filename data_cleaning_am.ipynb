{
 "cells": [
  {
   "cell_type": "code",
   "execution_count": 1,
   "metadata": {},
   "outputs": [],
   "source": [
    "import pandas as pd"
   ]
  },
  {
   "cell_type": "code",
   "execution_count": 2,
   "metadata": {},
   "outputs": [],
   "source": [
    "url = '../mail.csv'\n",
    "dtype={'To':'string', 'Subject':'string', 'X-From':'string',\n",
    "       'X-To':'string', 'X-cc':'string', 'X-bcc':'string', 'X-Folder':'string', 'X-Origin':'string', 'X-FileName':'string',\n",
    "       'content':'string', 'user':'string', 'Cat_1_level_1':'string', 'Cat_1_level_2':'string', 'Cat_1_weight':'string',\n",
    "       'Cat_2_level_1':'string', 'Cat_2_level_2':'string', 'Cat_2_weight':'string', 'Cat_3_level_1':'string',\n",
    "       'Cat_3_level_2':'string', 'Cat_3_weight':'string', 'Cat_4_level_1':'string', 'Cat_4_level_2':'string',\n",
    "       'Cat_4_weight':'string', 'Cat_5_level_1':'string', 'Cat_5_level_2':'string', 'Cat_5_weight':'string',\n",
    "       'Cat_6_level_1':'string', 'Cat_6_level_2':'string', 'Cat_6_weight':'string', 'Cat_7_level_1':'string',\n",
    "       'Cat_7_level_2':'string', 'Cat_7_weight':'string', 'Cat_8_level_1':'string', 'Cat_8_level_2':'string',\n",
    "       'Cat_8_weight':'string', 'Cat_9_level_1':'string', 'Cat_9_level_2':'string', 'Cat_9_weight':'string',\n",
    "       'Cat_10_level_1':'string', 'Cat_10_level_2':'string', 'Cat_10_weight':'string', 'Cat_11_level_1':'string',\n",
    "       'Cat_11_level_2':'string', 'Cat_11_weight':'string', 'Cat_12_level_1':'string', 'Cat_12_level_2':'string',\n",
    "       'Cat_12_weight':'string'}\n",
    "data = pd.read_csv(url,dtype=dtype)"
   ]
  },
  {
   "cell_type": "code",
   "execution_count": 3,
   "metadata": {},
   "outputs": [
    {
     "data": {
      "text/plain": [
       "5"
      ]
     },
     "execution_count": 3,
     "metadata": {},
     "output_type": "execute_result"
    }
   ],
   "source": [
    "import string \n",
    "\n",
    "data['content'][2]\n",
    "sum([i.strip(string.punctuation).isalpha() for i in data['content'][2].split()]) "
   ]
  },
  {
   "cell_type": "raw",
   "metadata": {},
   "source": [
    "Creation d'une colonne nombre de caracteres"
   ]
  },
  {
   "cell_type": "code",
   "execution_count": 4,
   "metadata": {},
   "outputs": [],
   "source": [
    "data['content_char_len'] = data['content'].apply(lambda x: len(x)  if (type(x)==type('str')) else 0)"
   ]
  },
  {
   "cell_type": "code",
   "execution_count": 5,
   "metadata": {},
   "outputs": [],
   "source": [
    "#data.boxplot(column=['content_len'])\n",
    "#Boxplot inexploitable"
   ]
  },
  {
   "cell_type": "code",
   "execution_count": 6,
   "metadata": {},
   "outputs": [
    {
     "data": {
      "text/plain": [
       "count    100000.00000\n",
       "mean       2158.93104\n",
       "std        7370.24427\n",
       "min           0.00000\n",
       "25%         272.00000\n",
       "50%         758.00000\n",
       "75%        1854.00000\n",
       "max      260461.00000\n",
       "Name: content_char_len, dtype: float64"
      ]
     },
     "execution_count": 6,
     "metadata": {},
     "output_type": "execute_result"
    }
   ],
   "source": [
    "data['content_char_len'].describe()"
   ]
  },
  {
   "cell_type": "code",
   "execution_count": 13,
   "metadata": {},
   "outputs": [],
   "source": [
    "data['content_char_len'].quantile(0.90)\n",
    "\n",
    "content_char_length_q1 = data['content_char_len'].quantile(0.25)\n",
    "content_char_length_q2 = data['content_char_len'].quantile(0.75)\n"
   ]
  },
  {
   "cell_type": "raw",
   "metadata": {},
   "source": [
    "On classe les corps de mails en catégories de longueur grâce aux quartiles:\n",
    "    q(0.25) = 272\n",
    "    q(0.75) = 758\n",
    "    mails courts < q(0.25) < mails moyens < q(0.75) < mails longs"
   ]
  },
  {
   "cell_type": "code",
   "execution_count": 9,
   "metadata": {},
   "outputs": [],
   "source": [
    "data['content_char_length_category'] = data['content_char_len'].apply(lambda x: 'short message' if x<content_char_length_q1 else ('average message' if x<content_char_length_q2 else 'long message'))"
   ]
  },
  {
   "cell_type": "code",
   "execution_count": 10,
   "metadata": {},
   "outputs": [
    {
     "data": {
      "text/plain": [
       "0          short message\n",
       "1        average message\n",
       "2          short message\n",
       "3          short message\n",
       "4          short message\n",
       "              ...       \n",
       "99995    average message\n",
       "99996    average message\n",
       "99997    average message\n",
       "99998       long message\n",
       "99999    average message\n",
       "Name: content_char_length_category, Length: 100000, dtype: object"
      ]
     },
     "execution_count": 10,
     "metadata": {},
     "output_type": "execute_result"
    }
   ],
   "source": [
    "data['content_char_length_category']"
   ]
  },
  {
   "cell_type": "raw",
   "metadata": {},
   "source": [
    "Creation d'une colonne nombre de mots"
   ]
  },
  {
   "cell_type": "code",
   "execution_count": 15,
   "metadata": {},
   "outputs": [],
   "source": [
    "data['content_word_len'] = data['content'].apply(lambda x: sum([i.strip(string.punctuation).isalpha() for i in x.split()])  if (type(x)==type('str')) else 0)"
   ]
  },
  {
   "cell_type": "code",
   "execution_count": 16,
   "metadata": {},
   "outputs": [
    {
     "data": {
      "text/plain": [
       "count    100000.00000\n",
       "mean        296.20993\n",
       "std        1034.19512\n",
       "min           0.00000\n",
       "25%          38.00000\n",
       "50%         105.00000\n",
       "75%         253.00000\n",
       "max       38084.00000\n",
       "Name: content_word_len, dtype: float64"
      ]
     },
     "execution_count": 16,
     "metadata": {},
     "output_type": "execute_result"
    }
   ],
   "source": [
    "data['content_word_len'].describe()"
   ]
  },
  {
   "cell_type": "code",
   "execution_count": 21,
   "metadata": {},
   "outputs": [
    {
     "name": "stdout",
     "output_type": "stream",
     "text": [
      "929.0\n"
     ]
    }
   ],
   "source": [
    "print(data['content_word_len'].quantile(0.95))\n",
    "\n",
    "content_word_length_q1 = data['content_word_len'].quantile(0.25)\n",
    "content_word_length_q2 = data['content_word_len'].quantile(0.75)\n"
   ]
  },
  {
   "cell_type": "raw",
   "metadata": {},
   "source": [
    "On classe les corps de mails en catégories de longueur grâce aux quartiles:\n",
    "    q(0.25) = 272\n",
    "    q(0.75) = 758\n",
    "    mails courts < q(0.25) < mails moyens < q(0.75) < mails longs"
   ]
  },
  {
   "cell_type": "code",
   "execution_count": 18,
   "metadata": {},
   "outputs": [],
   "source": [
    "data['content_word_length_category'] = data['content_word_len'].apply(lambda x: 'short message' if x<content_word_length_q1 else ('average message' if x<content_word_length_q2 else 'long message'))"
   ]
  },
  {
   "cell_type": "code",
   "execution_count": null,
   "metadata": {},
   "outputs": [],
   "source": []
  }
 ],
 "metadata": {
  "kernelspec": {
   "display_name": "Python 3",
   "language": "python",
   "name": "python3"
  },
  "language_info": {
   "codemirror_mode": {
    "name": "ipython",
    "version": 3
   },
   "file_extension": ".py",
   "mimetype": "text/x-python",
   "name": "python",
   "nbconvert_exporter": "python",
   "pygments_lexer": "ipython3",
   "version": "3.8.3"
  }
 },
 "nbformat": 4,
 "nbformat_minor": 4
}
