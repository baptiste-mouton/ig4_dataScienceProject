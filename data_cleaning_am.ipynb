{
 "cells": [
  {
   "cell_type": "code",
   "execution_count": 1,
   "metadata": {},
   "outputs": [],
   "source": [
    "import pandas as pd"
   ]
  },
  {
   "cell_type": "code",
   "execution_count": 14,
   "metadata": {},
   "outputs": [],
   "source": [
    "url = './mail.csv'\n",
    "dtype={'To':'string', 'Subject':'string', 'X-From':'string',\n",
    "       'X-To':'string', 'X-cc':'string', 'X-bcc':'string', 'X-Folder':'string', 'X-Origin':'string', 'X-FileName':'string',\n",
    "       'content':'string', 'user':'string', 'Cat_1_level_1':'string', 'Cat_1_level_2':'string', 'Cat_1_weight':'string',\n",
    "       'Cat_2_level_1':'string', 'Cat_2_level_2':'string', 'Cat_2_weight':'string', 'Cat_3_level_1':'string',\n",
    "       'Cat_3_level_2':'string', 'Cat_3_weight':'string', 'Cat_4_level_1':'string', 'Cat_4_level_2':'string',\n",
    "       'Cat_4_weight':'string', 'Cat_5_level_1':'string', 'Cat_5_level_2':'string', 'Cat_5_weight':'string',\n",
    "       'Cat_6_level_1':'string', 'Cat_6_level_2':'string', 'Cat_6_weight':'string', 'Cat_7_level_1':'string',\n",
    "       'Cat_7_level_2':'string', 'Cat_7_weight':'string', 'Cat_8_level_1':'string', 'Cat_8_level_2':'string',\n",
    "       'Cat_8_weight':'string', 'Cat_9_level_1':'string', 'Cat_9_level_2':'string', 'Cat_9_weight':'string',\n",
    "       'Cat_10_level_1':'string', 'Cat_10_level_2':'string', 'Cat_10_weight':'string', 'Cat_11_level_1':'string',\n",
    "       'Cat_11_level_2':'string', 'Cat_11_weight':'string', 'Cat_12_level_1':'string', 'Cat_12_level_2':'string',\n",
    "       'Cat_12_weight':'string'}\n",
    "data = pd.read_csv(url,dtype=dtype)"
   ]
  },
  {
   "cell_type": "code",
   "execution_count": 36,
   "metadata": {},
   "outputs": [
    {
     "data": {
      "text/plain": [
       "0                                     Here is our forecast\n",
       "1        Traveling to have a business meeting takes the...\n",
       "2                            test successful. way to go!!!\n",
       "3        Randy, Can you send me a schedule of the salar...\n",
       "4                        Let's shoot for Tuesday at 11:45.\n",
       "                               ...                        \n",
       "99995    ---------------------- Forwarded by Daren J Fa...\n",
       "99996    What occurred at this point in prior months? W...\n",
       "99997    Aimee, PG&E's numbers are correct. Aimee Lanno...\n",
       "99998    ---------------------- Forwarded by Daren J Fa...\n",
       "99999    Vintage should be 93730. Julie Meyers 12/20/99...\n",
       "Name: content, Length: 100000, dtype: string"
      ]
     },
     "execution_count": 36,
     "metadata": {},
     "output_type": "execute_result"
    }
   ],
   "source": [
    "data['content']"
   ]
  },
  {
   "cell_type": "code",
   "execution_count": 45,
   "metadata": {},
   "outputs": [],
   "source": [
    "data['content_len'] = data['content'].apply(lambda x: len(x) if (type(x)==type('str')) else 0)"
   ]
  },
  {
   "cell_type": "code",
   "execution_count": 61,
   "metadata": {},
   "outputs": [
    {
     "data": {
      "text/plain": [
       "<matplotlib.axes._subplots.AxesSubplot at 0x7f88c25c0310>"
      ]
     },
     "execution_count": 61,
     "metadata": {},
     "output_type": "execute_result"
    },
    {
     "data": {
      "image/png": "[encoded data removed]",
      "text/plain": [
       "<Figure size 432x288 with 1 Axes>"
      ]
     },
     "metadata": {
      "needs_background": "light"
     },
     "output_type": "display_data"
    }
   ],
   "source": [
    "data.boxplot(column=['content_len'])"
   ]
  },
  {
   "cell_type": "code",
   "execution_count": 64,
   "metadata": {},
   "outputs": [
    {
     "data": {
      "text/plain": [
       "count    100000.00000\n",
       "mean       2158.93104\n",
       "std        7370.24427\n",
       "min           0.00000\n",
       "25%         272.00000\n",
       "50%         758.00000\n",
       "75%        1854.00000\n",
       "max      260461.00000\n",
       "Name: content_len, dtype: float64"
      ]
     },
     "execution_count": 64,
     "metadata": {},
     "output_type": "execute_result"
    }
   ],
   "source": [
    "data['content_len'].describe()"
   ]
  },
  {
   "cell_type": "code",
   "execution_count": 81,
   "metadata": {},
   "outputs": [],
   "source": [
    "data['content_len'].quantile(0.90)\n",
    "\n",
    "content_length_q1 = data['content_len'].quantile(0.25)\n",
    "content_length_q2 = data['content_len'].quantile(0.75)\n"
   ]
  },
  {
   "cell_type": "raw",
   "metadata": {},
   "source": [
    "On classe les corps de mails en catégories de longueur grâce aux quartiles:\n",
    "    q(0.25) = 272\n",
    "    q(0.75) = 758\n",
    "    mails courts < q(0.25) < mails moyens < q(0.75) < mails longs"
   ]
  },
  {
   "cell_type": "code",
   "execution_count": 88,
   "metadata": {},
   "outputs": [],
   "source": [
    "data['content_length_category'] = data['content_len'].apply(lambda x: 'short message' if x<content_length_q1 else ('average message' if x<content_length_q2 else 'long message'))"
   ]
  },
  {
   "cell_type": "code",
   "execution_count": 89,
   "metadata": {},
   "outputs": [
    {
     "data": {
      "text/plain": [
       "0          short message\n",
       "1        average message\n",
       "2          short message\n",
       "3          short message\n",
       "4          short message\n",
       "              ...       \n",
       "99995    average message\n",
       "99996    average message\n",
       "99997    average message\n",
       "99998       long message\n",
       "99999    average message\n",
       "Name: content_length_category, Length: 100000, dtype: object"
      ]
     },
     "execution_count": 89,
     "metadata": {},
     "output_type": "execute_result"
    }
   ],
   "source": [
    "data['content_length_category']"
   ]
  }
 ],
 "metadata": {
  "kernelspec": {
   "display_name": "Python 3",
   "language": "python",
   "name": "python3"
  },
  "language_info": {
   "codemirror_mode": {
    "name": "ipython",
    "version": 3
   },
   "file_extension": ".py",
   "mimetype": "text/x-python",
   "name": "python",
   "nbconvert_exporter": "python",
   "pygments_lexer": "ipython3",
   "version": "3.8.3"
  }
 },
 "nbformat": 4,
 "nbformat_minor": 4
}
