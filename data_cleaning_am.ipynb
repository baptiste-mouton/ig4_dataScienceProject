{
 "cells": [
  {
   "cell_type": "code",
   "execution_count": 1,
   "metadata": {},
   "outputs": [],
   "source": [
    "import pandas as pd\n",
    "import string \n",
    "import seaborn as sns\n",
    "import matplotlib.pyplot as plt\n",
    "import string "
   ]
  },
  {
   "cell_type": "code",
   "execution_count": 2,
   "metadata": {},
   "outputs": [],
   "source": [
    "url = '/Users/ayoubmoujane/Desktop/IG4_S7/Projet_datascience/mail.csv'\n",
    "dtype={'To':'string', 'Subject':'string', 'X-From':'string',\n",
    "       'X-To':'string', 'X-cc':'string', 'X-bcc':'string', 'X-Folder':'string', 'X-Origin':'string', 'X-FileName':'string',\n",
    "       'content':'string', 'user':'string', 'Cat_1_level_1':'string', 'Cat_1_level_2':'string', 'Cat_1_weight':'string',\n",
    "       'Cat_2_level_1':'string', 'Cat_2_level_2':'string', 'Cat_2_weight':'string', 'Cat_3_level_1':'string',\n",
    "       'Cat_3_level_2':'string', 'Cat_3_weight':'string', 'Cat_4_level_1':'string', 'Cat_4_level_2':'string',\n",
    "       'Cat_4_weight':'string', 'Cat_5_level_1':'string', 'Cat_5_level_2':'string', 'Cat_5_weight':'string',\n",
    "       'Cat_6_level_1':'string', 'Cat_6_level_2':'string', 'Cat_6_weight':'string', 'Cat_7_level_1':'string',\n",
    "       'Cat_7_level_2':'string', 'Cat_7_weight':'string', 'Cat_8_level_1':'string', 'Cat_8_level_2':'string',\n",
    "       'Cat_8_weight':'string', 'Cat_9_level_1':'string', 'Cat_9_level_2':'string', 'Cat_9_weight':'string',\n",
    "       'Cat_10_level_1':'string', 'Cat_10_level_2':'string', 'Cat_10_weight':'string', 'Cat_11_level_1':'string',\n",
    "       'Cat_11_level_2':'string', 'Cat_11_weight':'string', 'Cat_12_level_1':'string', 'Cat_12_level_2':'string',\n",
    "       'Cat_12_weight':'string'}\n",
    "data = pd.read_csv(url,dtype=dtype)"
   ]
  },
  {
   "cell_type": "markdown",
   "metadata": {},
   "source": [
    "# Creation d'une colonne nombre de caracteres"
   ]
  },
  {
   "cell_type": "code",
   "execution_count": 3,
   "metadata": {},
   "outputs": [],
   "source": [
    "data['content_char_len'] = data['content'].apply(lambda x: len(x)  if (type(x)==type('str')) else 0)"
   ]
  },
  {
   "cell_type": "code",
   "execution_count": 4,
   "metadata": {},
   "outputs": [],
   "source": [
    "#data.boxplot(column=['content_len'])\n",
    "#Boxplot inexploitable"
   ]
  },
  {
   "cell_type": "code",
   "execution_count": 5,
   "metadata": {},
   "outputs": [
    {
     "data": {
      "text/plain": [
       "count    100000.00000\n",
       "mean       2158.93104\n",
       "std        7370.24427\n",
       "min           0.00000\n",
       "25%         272.00000\n",
       "50%         758.00000\n",
       "75%        1854.00000\n",
       "max      260461.00000\n",
       "Name: content_char_len, dtype: float64"
      ]
     },
     "execution_count": 5,
     "metadata": {},
     "output_type": "execute_result"
    }
   ],
   "source": [
    "data['content_char_len'].describe()"
   ]
  },
  {
   "cell_type": "code",
   "execution_count": 6,
   "metadata": {},
   "outputs": [],
   "source": [
    "## Creating quantiles"
   ]
  },
  {
   "cell_type": "code",
   "execution_count": 7,
   "metadata": {},
   "outputs": [],
   "source": [
    "content_char_length_q1 = data['content_char_len'].quantile(0.25)\n",
    "content_char_length_q2 = data['content_char_len'].quantile(0.75)\n",
    "content_char_length_q95 = data['content_char_len'].quantile(0.95)"
   ]
  },
  {
   "cell_type": "raw",
   "metadata": {},
   "source": [
    "On classe les corps de mails en catégories de longueur grâce aux quartiles:\n",
    "    q(0.25) = 272\n",
    "    q(0.75) = 758\n",
    "    mails courts < q(0.25) < mails moyens < q(0.75) < mails longs < q(0.95) < mails très longs"
   ]
  },
  {
   "cell_type": "code",
   "execution_count": 8,
   "metadata": {},
   "outputs": [],
   "source": [
    "data['content_char_length_category'] = data['content_char_len'].apply(lambda x: 'short message' if x<content_char_length_q1 else ('average message' if x<content_char_length_q2 else 'long message'))"
   ]
  },
  {
   "cell_type": "code",
   "execution_count": 9,
   "metadata": {},
   "outputs": [
    {
     "data": {
      "text/plain": [
       "0          short message\n",
       "1        average message\n",
       "2          short message\n",
       "3          short message\n",
       "4          short message\n",
       "              ...       \n",
       "99995    average message\n",
       "99996    average message\n",
       "99997    average message\n",
       "99998       long message\n",
       "99999    average message\n",
       "Name: content_char_length_category, Length: 100000, dtype: object"
      ]
     },
     "execution_count": 9,
     "metadata": {},
     "output_type": "execute_result"
    }
   ],
   "source": [
    "data['content_char_length_category']"
   ]
  },
  {
   "cell_type": "markdown",
   "metadata": {},
   "source": [
    "# Creation of a content word length column"
   ]
  },
  {
   "cell_type": "code",
   "execution_count": 10,
   "metadata": {},
   "outputs": [],
   "source": [
    "data['content_word_len'] = data['content'].apply(lambda x: sum([i.strip(string.punctuation).isalpha() for i in x.split()])  if (type(x)==type('str')) else 0)"
   ]
  },
  {
   "cell_type": "code",
   "execution_count": 11,
   "metadata": {},
   "outputs": [
    {
     "data": {
      "text/plain": [
       "count    100000.00000\n",
       "mean        296.20993\n",
       "std        1034.19512\n",
       "min           0.00000\n",
       "25%          38.00000\n",
       "50%         105.00000\n",
       "75%         253.00000\n",
       "max       38084.00000\n",
       "Name: content_word_len, dtype: float64"
      ]
     },
     "execution_count": 11,
     "metadata": {},
     "output_type": "execute_result"
    }
   ],
   "source": [
    "data['content_word_len'].describe()"
   ]
  },
  {
   "cell_type": "markdown",
   "metadata": {},
   "source": [
    "### Distribution analysis\n",
    "\n",
    "+99% of the emails have less than 5000 words."
   ]
  },
  {
   "cell_type": "code",
   "execution_count": 12,
   "metadata": {},
   "outputs": [
    {
     "data": {
      "text/plain": [
       "3262.1899999999005"
      ]
     },
     "execution_count": 12,
     "metadata": {},
     "output_type": "execute_result"
    }
   ],
   "source": [
    "data['content_word_len'].quantile(0.99)"
   ]
  },
  {
   "cell_type": "code",
   "execution_count": 13,
   "metadata": {},
   "outputs": [
    {
     "data": {
      "image/png": "[encoded data removed]",
      "text/plain": [
       "<Figure size 432x288 with 1 Axes>"
      ]
     },
     "metadata": {
      "needs_background": "light"
     },
     "output_type": "display_data"
    }
   ],
   "source": [
    "ax = data[\"content_word_len\"].plot.hist(bins=range(0,3200,100))"
   ]
  },
  {
   "cell_type": "markdown",
   "metadata": {},
   "source": [
    "### Narowing analysis to the first 90%\n",
    "\n",
    "Trying to see the distribution of length"
   ]
  },
  {
   "cell_type": "code",
   "execution_count": 14,
   "metadata": {},
   "outputs": [
    {
     "data": {
      "text/plain": [
       "613.0"
      ]
     },
     "execution_count": 14,
     "metadata": {},
     "output_type": "execute_result"
    }
   ],
   "source": [
    "data['content_word_len'].quantile(0.91)"
   ]
  },
  {
   "cell_type": "code",
   "execution_count": 15,
   "metadata": {},
   "outputs": [
    {
     "data": {
      "image/png": "[encoded data removed]",
      "text/plain": [
       "<Figure size 432x288 with 1 Axes>"
      ]
     },
     "metadata": {
      "needs_background": "light"
     },
     "output_type": "display_data"
    }
   ],
   "source": [
    "ax = data[\"content_word_len\"].plot.hist(bins=range(0,1000,10))"
   ]
  },
  {
   "cell_type": "markdown",
   "metadata": {},
   "source": [
    "## Defining email word length categories\n",
    "\n",
    "According to https://www.campaignmonitor.com, the ideal email light is between 50 to 125 words\n",
    "\n",
    "#### We decide to consider the following categories\n",
    "\n",
    "content_word_len < 50 => \"Short message\" <br>\n",
    "50 <= content_word_len < 125 => \"Average message\"\n",
    "\n",
    "#### According to the distribution we are seeing, we arbitrarly decide to consider the following categories\n",
    "125 <= content_word_len < 600 => \"Long message\" <br>\n",
    "600 <= content_word_len => \"Extra long message\"\n"
   ]
  },
  {
   "cell_type": "markdown",
   "metadata": {},
   "source": [
    "## Creating groups"
   ]
  },
  {
   "cell_type": "code",
   "execution_count": 16,
   "metadata": {},
   "outputs": [],
   "source": [
    "content_word_length_q1 = 50\n",
    "content_word_length_q2 = 125\n",
    "content_word_length_q3 = 600"
   ]
  },
  {
   "cell_type": "code",
   "execution_count": 17,
   "metadata": {},
   "outputs": [],
   "source": [
    "#data['content_word_length_category'] = data['content_word_len'].apply(lambda x: 'short message' if x<content_word_length_q1 else ('average message' if x<content_word_length_q2 else ('long message' if x<content_word_length_q3 else 'extra long message')))\n",
    "\n",
    "data['content_word_length_category'] = data['content_word_len'].apply(lambda x: 1 if x<content_word_length_q1 else (2 if x<content_word_length_q2 else (3 if x<content_word_length_q3 else 4)))"
   ]
  },
  {
   "cell_type": "code",
   "execution_count": 18,
   "metadata": {},
   "outputs": [
    {
     "data": {
      "text/plain": [
       "Text(0.5, 0, 'content_word_length_category')"
      ]
     },
     "execution_count": 18,
     "metadata": {},
     "output_type": "execute_result"
    },
    {
     "data": {
      "image/png": "[encoded data removed]",
      "text/plain": [
       "<Figure size 1440x576 with 2 Axes>"
      ]
     },
     "metadata": {
      "needs_background": "light"
     },
     "output_type": "display_data"
    }
   ],
   "source": [
    "f,ax = plt.subplots(1,2,figsize=(20,8))\n",
    "\n",
    "sns.countplot(x='content_word_length_category', data=data, ax=ax[1])\n",
    "ax[1].set_title('content_word_length_category')\n",
    "ax[1].set_xlabel('content_word_length_category')"
   ]
  },
  {
   "cell_type": "markdown",
   "metadata": {},
   "source": [
    "# Getting the top 5 longest messages"
   ]
  },
  {
   "cell_type": "code",
   "execution_count": 19,
   "metadata": {},
   "outputs": [],
   "source": [
    "data = data.sort_values(\"content_word_len\",ascending=False)"
   ]
  },
  {
   "cell_type": "code",
   "execution_count": 20,
   "metadata": {},
   "outputs": [
    {
     "data": {
      "text/plain": [
       "75868    38084\n",
       "56264    38084\n",
       "74539    35397\n",
       "58238    35397\n",
       "73895    32437\n",
       "Name: content_word_len, dtype: int64"
      ]
     },
     "execution_count": 20,
     "metadata": {},
     "output_type": "execute_result"
    }
   ],
   "source": [
    "data[\"content_word_len\"].head(5)"
   ]
  },
  {
   "cell_type": "markdown",
   "metadata": {},
   "source": [
    "# Cleaning the 'from' field"
   ]
  },
  {
   "cell_type": "code",
   "execution_count": 21,
   "metadata": {},
   "outputs": [
    {
     "data": {
      "text/plain": [
       "\"frozenset({'david.oxley@enron.com'})\""
      ]
     },
     "execution_count": 21,
     "metadata": {},
     "output_type": "execute_result"
    }
   ],
   "source": [
    "data[\"From\"][1500]"
   ]
  },
  {
   "cell_type": "code",
   "execution_count": 22,
   "metadata": {},
   "outputs": [],
   "source": [
    "def clean_from_attribute (field):\n",
    "    return field[field.find(\"{\")+1:field.find(\"}\")][1:-1]\n"
   ]
  },
  {
   "cell_type": "code",
   "execution_count": 23,
   "metadata": {},
   "outputs": [
    {
     "data": {
      "text/plain": [
       "'david.oxley@enron.com'"
      ]
     },
     "execution_count": 23,
     "metadata": {},
     "output_type": "execute_result"
    }
   ],
   "source": [
    " clean_from_attribute(data[\"From\"][1500])"
   ]
  },
  {
   "cell_type": "code",
   "execution_count": 24,
   "metadata": {},
   "outputs": [],
   "source": [
    "data['From'] = data['From'].apply(lambda x: clean_from_attribute(x))"
   ]
  },
  {
   "cell_type": "markdown",
   "metadata": {},
   "source": [
    "# Cleaning 'To' attribute\n",
    "\n",
    "Some \"To\" fields are non existing to we create them and instanciate them with an empty list"
   ]
  },
  {
   "cell_type": "code",
   "execution_count": 25,
   "metadata": {},
   "outputs": [
    {
     "data": {
      "text/plain": [
       "75868    frozenset({'joer@calpine.com', 'eileenk@calpin...\n",
       "56264    frozenset({'joer@calpine.com', 'eileenk@calpin...\n",
       "74539    frozenset({'markus.fiala@enron.com', 'roberta....\n",
       "58238    frozenset({'markus.fiala@enron.com', 'roberta....\n",
       "73895    frozenset({'joer@calpine.com', 'eileenk@calpin...\n",
       "                               ...                        \n",
       "40745    frozenset({'gmcvp1@aol.com', 'lsabbara@aol.com...\n",
       "40588    frozenset({'gmcvp1@aol.com', 'lsabbara@aol.com...\n",
       "10411               frozenset({'shanna.husser@enron.com'})\n",
       "10412               frozenset({'shanna.husser@enron.com'})\n",
       "70655    frozenset({'mark_guinney@watsonwyatt.com', 'je...\n",
       "Name: To, Length: 100000, dtype: string"
      ]
     },
     "execution_count": 25,
     "metadata": {},
     "output_type": "execute_result"
    }
   ],
   "source": [
    "data['To']"
   ]
  },
  {
   "cell_type": "code",
   "execution_count": 26,
   "metadata": {},
   "outputs": [],
   "source": [
    "def clean_to_attribute (field):\n",
    "    if isinstance(field,pd._libs.missing.NAType):\n",
    "        return []\n",
    "    else:\n",
    "        first_clean = field[field.find(\"{\")+1:field.find(\"}\")].split(\", \")\n",
    "        second_clean = [email[1:-1] for email in first_clean]\n",
    "        return second_clean\n",
    "            "
   ]
  },
  {
   "cell_type": "markdown",
   "metadata": {},
   "source": [
    "Example of empty To before cleaning"
   ]
  },
  {
   "cell_type": "code",
   "execution_count": 27,
   "metadata": {},
   "outputs": [
    {
     "name": "stdout",
     "output_type": "stream",
     "text": [
      "<NA>\n"
     ]
    }
   ],
   "source": [
    "print(data[\"To\"][188])"
   ]
  },
  {
   "cell_type": "markdown",
   "metadata": {},
   "source": [
    "Example of multiple To before cleaning"
   ]
  },
  {
   "cell_type": "code",
   "execution_count": 28,
   "metadata": {},
   "outputs": [
    {
     "name": "stdout",
     "output_type": "stream",
     "text": [
      "frozenset({'michael.moscoso@enron.com', 'victor.guggenheim@enron.com', 'brent.price@enron.com', 'edward.coats@enron.com', 'kim.chick@enron.com', 'ilan.caplan@enron.com', 'sally.beck@enron.com', 'beth.apke@enron.com', 'leon.branom@enron.com', 'mason.hamlin@enron.com', 'leesa.white@enron.com', 'david.yang@enron.com', 'susan.scott@enron.com', 'richard.causey@enron.com', 'obed.cruz@enron.com'})\n"
     ]
    }
   ],
   "source": [
    "print(data[\"To\"][23424])"
   ]
  },
  {
   "cell_type": "code",
   "execution_count": 29,
   "metadata": {},
   "outputs": [],
   "source": [
    "data[\"To\"] = data[\"To\"].apply(lambda x: clean_to_attribute(x))"
   ]
  },
  {
   "cell_type": "markdown",
   "metadata": {},
   "source": [
    "Example of empty To after cleaning"
   ]
  },
  {
   "cell_type": "code",
   "execution_count": 30,
   "metadata": {},
   "outputs": [
    {
     "name": "stdout",
     "output_type": "stream",
     "text": [
      "[]\n"
     ]
    }
   ],
   "source": [
    "print(data[\"To\"][188])"
   ]
  },
  {
   "cell_type": "markdown",
   "metadata": {},
   "source": [
    "Example of multiple To after cleaning"
   ]
  },
  {
   "cell_type": "code",
   "execution_count": 31,
   "metadata": {},
   "outputs": [
    {
     "name": "stdout",
     "output_type": "stream",
     "text": [
      "['michael.moscoso@enron.com', 'victor.guggenheim@enron.com', 'brent.price@enron.com', 'edward.coats@enron.com', 'kim.chick@enron.com', 'ilan.caplan@enron.com', 'sally.beck@enron.com', 'beth.apke@enron.com', 'leon.branom@enron.com', 'mason.hamlin@enron.com', 'leesa.white@enron.com', 'david.yang@enron.com', 'susan.scott@enron.com', 'richard.causey@enron.com', 'obed.cruz@enron.com']\n"
     ]
    }
   ],
   "source": [
    "print(data[\"To\"][23424])"
   ]
  },
  {
   "cell_type": "markdown",
   "metadata": {},
   "source": [
    "# Counting the number of receivers\n",
    "\n",
    "We create a \"To_count\" field counting the number of receivers"
   ]
  },
  {
   "cell_type": "code",
   "execution_count": 32,
   "metadata": {},
   "outputs": [],
   "source": [
    "def count_receivers (field):\n",
    "    return len(field)\n",
    "            "
   ]
  },
  {
   "cell_type": "code",
   "execution_count": 33,
   "metadata": {},
   "outputs": [],
   "source": [
    "data[\"To_count\"] = data[\"To\"].apply(lambda x: count_receivers(x))"
   ]
  },
  {
   "cell_type": "markdown",
   "metadata": {},
   "source": [
    "Example of multiple receivers"
   ]
  },
  {
   "cell_type": "code",
   "execution_count": 34,
   "metadata": {},
   "outputs": [
    {
     "data": {
      "text/plain": [
       "['michael.moscoso@enron.com',\n",
       " 'victor.guggenheim@enron.com',\n",
       " 'brent.price@enron.com',\n",
       " 'edward.coats@enron.com',\n",
       " 'kim.chick@enron.com',\n",
       " 'ilan.caplan@enron.com',\n",
       " 'sally.beck@enron.com',\n",
       " 'beth.apke@enron.com',\n",
       " 'leon.branom@enron.com',\n",
       " 'mason.hamlin@enron.com',\n",
       " 'leesa.white@enron.com',\n",
       " 'david.yang@enron.com',\n",
       " 'susan.scott@enron.com',\n",
       " 'richard.causey@enron.com',\n",
       " 'obed.cruz@enron.com']"
      ]
     },
     "execution_count": 34,
     "metadata": {},
     "output_type": "execute_result"
    }
   ],
   "source": [
    "data[\"To\"][23424]"
   ]
  },
  {
   "cell_type": "code",
   "execution_count": 35,
   "metadata": {},
   "outputs": [
    {
     "data": {
      "text/plain": [
       "15"
      ]
     },
     "execution_count": 35,
     "metadata": {},
     "output_type": "execute_result"
    }
   ],
   "source": [
    "data[\"To_count\"][23424]"
   ]
  },
  {
   "cell_type": "markdown",
   "metadata": {},
   "source": [
    "# Counting the number of times a user received an email\n",
    "\n",
    "problem too long"
   ]
  },
  {
   "cell_type": "code",
   "execution_count": 186,
   "metadata": {},
   "outputs": [],
   "source": [
    "def count_number_of_mail_received(user):\n",
    "    count = 0\n",
    "    for i in data[\"To\"]:\n",
    "        if user in i:\n",
    "           count = count +1 \n",
    "    return count"
   ]
  },
  {
   "cell_type": "code",
   "execution_count": 187,
   "metadata": {},
   "outputs": [
    {
     "data": {
      "text/plain": [
       "10098"
      ]
     },
     "execution_count": 187,
     "metadata": {},
     "output_type": "execute_result"
    }
   ],
   "source": [
    "count_number_of_mail_received(\"jeff.dasovich@enron.com\")"
   ]
  },
  {
   "cell_type": "code",
   "execution_count": 189,
   "metadata": {},
   "outputs": [
    {
     "ename": "KeyboardInterrupt",
     "evalue": "",
     "output_type": "error",
     "traceback": [
      "\u001b[0;31m---------------------------------------------------------------------------\u001b[0m",
      "\u001b[0;31mKeyboardInterrupt\u001b[0m                         Traceback (most recent call last)",
      "\u001b[0;32m<ipython-input-189-7eb1d379fbc2>\u001b[0m in \u001b[0;36m<module>\u001b[0;34m\u001b[0m\n\u001b[0;32m----> 1\u001b[0;31m \u001b[0mdata\u001b[0m\u001b[0;34m[\u001b[0m\u001b[0;34m\"Received\"\u001b[0m\u001b[0;34m]\u001b[0m \u001b[0;34m=\u001b[0m \u001b[0mdata\u001b[0m\u001b[0;34m[\u001b[0m\u001b[0;34m\"From\"\u001b[0m\u001b[0;34m]\u001b[0m\u001b[0;34m.\u001b[0m\u001b[0mapply\u001b[0m\u001b[0;34m(\u001b[0m\u001b[0;32mlambda\u001b[0m \u001b[0mx\u001b[0m\u001b[0;34m:\u001b[0m\u001b[0mcount_number_of_mail_received\u001b[0m\u001b[0;34m(\u001b[0m\u001b[0mx\u001b[0m\u001b[0;34m)\u001b[0m\u001b[0;34m)\u001b[0m\u001b[0;34m\u001b[0m\u001b[0;34m\u001b[0m\u001b[0m\n\u001b[0m",
      "\u001b[0;32m~/opt/anaconda3/lib/python3.8/site-packages/pandas/core/series.py\u001b[0m in \u001b[0;36mapply\u001b[0;34m(self, func, convert_dtype, args, **kwds)\u001b[0m\n\u001b[1;32m   3846\u001b[0m             \u001b[0;32melse\u001b[0m\u001b[0;34m:\u001b[0m\u001b[0;34m\u001b[0m\u001b[0;34m\u001b[0m\u001b[0m\n\u001b[1;32m   3847\u001b[0m                 \u001b[0mvalues\u001b[0m \u001b[0;34m=\u001b[0m \u001b[0mself\u001b[0m\u001b[0;34m.\u001b[0m\u001b[0mastype\u001b[0m\u001b[0;34m(\u001b[0m\u001b[0mobject\u001b[0m\u001b[0;34m)\u001b[0m\u001b[0;34m.\u001b[0m\u001b[0mvalues\u001b[0m\u001b[0;34m\u001b[0m\u001b[0;34m\u001b[0m\u001b[0m\n\u001b[0;32m-> 3848\u001b[0;31m                 \u001b[0mmapped\u001b[0m \u001b[0;34m=\u001b[0m \u001b[0mlib\u001b[0m\u001b[0;34m.\u001b[0m\u001b[0mmap_infer\u001b[0m\u001b[0;34m(\u001b[0m\u001b[0mvalues\u001b[0m\u001b[0;34m,\u001b[0m \u001b[0mf\u001b[0m\u001b[0;34m,\u001b[0m \u001b[0mconvert\u001b[0m\u001b[0;34m=\u001b[0m\u001b[0mconvert_dtype\u001b[0m\u001b[0;34m)\u001b[0m\u001b[0;34m\u001b[0m\u001b[0;34m\u001b[0m\u001b[0m\n\u001b[0m\u001b[1;32m   3849\u001b[0m \u001b[0;34m\u001b[0m\u001b[0m\n\u001b[1;32m   3850\u001b[0m         \u001b[0;32mif\u001b[0m \u001b[0mlen\u001b[0m\u001b[0;34m(\u001b[0m\u001b[0mmapped\u001b[0m\u001b[0;34m)\u001b[0m \u001b[0;32mand\u001b[0m \u001b[0misinstance\u001b[0m\u001b[0;34m(\u001b[0m\u001b[0mmapped\u001b[0m\u001b[0;34m[\u001b[0m\u001b[0;36m0\u001b[0m\u001b[0;34m]\u001b[0m\u001b[0;34m,\u001b[0m \u001b[0mSeries\u001b[0m\u001b[0;34m)\u001b[0m\u001b[0;34m:\u001b[0m\u001b[0;34m\u001b[0m\u001b[0;34m\u001b[0m\u001b[0m\n",
      "\u001b[0;32mpandas/_libs/lib.pyx\u001b[0m in \u001b[0;36mpandas._libs.lib.map_infer\u001b[0;34m()\u001b[0m\n",
      "\u001b[0;32m<ipython-input-189-7eb1d379fbc2>\u001b[0m in \u001b[0;36m<lambda>\u001b[0;34m(x)\u001b[0m\n\u001b[0;32m----> 1\u001b[0;31m \u001b[0mdata\u001b[0m\u001b[0;34m[\u001b[0m\u001b[0;34m\"Received\"\u001b[0m\u001b[0;34m]\u001b[0m \u001b[0;34m=\u001b[0m \u001b[0mdata\u001b[0m\u001b[0;34m[\u001b[0m\u001b[0;34m\"From\"\u001b[0m\u001b[0;34m]\u001b[0m\u001b[0;34m.\u001b[0m\u001b[0mapply\u001b[0m\u001b[0;34m(\u001b[0m\u001b[0;32mlambda\u001b[0m \u001b[0mx\u001b[0m\u001b[0;34m:\u001b[0m\u001b[0mcount_number_of_mail_received\u001b[0m\u001b[0;34m(\u001b[0m\u001b[0mx\u001b[0m\u001b[0;34m)\u001b[0m\u001b[0;34m)\u001b[0m\u001b[0;34m\u001b[0m\u001b[0;34m\u001b[0m\u001b[0m\n\u001b[0m",
      "\u001b[0;32m<ipython-input-186-7fb50d0a3075>\u001b[0m in \u001b[0;36mcount_number_of_mail_received\u001b[0;34m(user)\u001b[0m\n\u001b[1;32m      2\u001b[0m     \u001b[0mcount\u001b[0m \u001b[0;34m=\u001b[0m \u001b[0;36m0\u001b[0m\u001b[0;34m\u001b[0m\u001b[0;34m\u001b[0m\u001b[0m\n\u001b[1;32m      3\u001b[0m     \u001b[0;32mfor\u001b[0m \u001b[0mi\u001b[0m \u001b[0;32min\u001b[0m \u001b[0mdata\u001b[0m\u001b[0;34m[\u001b[0m\u001b[0;34m\"To\"\u001b[0m\u001b[0;34m]\u001b[0m\u001b[0;34m:\u001b[0m\u001b[0;34m\u001b[0m\u001b[0;34m\u001b[0m\u001b[0m\n\u001b[0;32m----> 4\u001b[0;31m         \u001b[0;32mif\u001b[0m \u001b[0muser\u001b[0m \u001b[0;32min\u001b[0m \u001b[0mi\u001b[0m\u001b[0;34m:\u001b[0m\u001b[0;34m\u001b[0m\u001b[0;34m\u001b[0m\u001b[0m\n\u001b[0m\u001b[1;32m      5\u001b[0m            \u001b[0mcount\u001b[0m \u001b[0;34m=\u001b[0m \u001b[0mcount\u001b[0m \u001b[0;34m+\u001b[0m\u001b[0;36m1\u001b[0m\u001b[0;34m\u001b[0m\u001b[0;34m\u001b[0m\u001b[0m\n\u001b[1;32m      6\u001b[0m     \u001b[0;32mreturn\u001b[0m \u001b[0mcount\u001b[0m\u001b[0;34m\u001b[0m\u001b[0;34m\u001b[0m\u001b[0m\n",
      "\u001b[0;31mKeyboardInterrupt\u001b[0m: "
     ]
    }
   ],
   "source": [
    "data[\"Received\"] = data[\"From\"].apply(lambda x:count_number_of_mail_received(x))"
   ]
  },
  {
   "cell_type": "markdown",
   "metadata": {},
   "source": [
    "# Aggregation of user by email word count\n"
   ]
  },
  {
   "cell_type": "code",
   "execution_count": 181,
   "metadata": {},
   "outputs": [],
   "source": [
    "grouped_user = data.groupby(\"From\").agg({\"content_word_len\":\"mean\",\"To_count\":\"sum\"})"
   ]
  },
  {
   "cell_type": "code",
   "execution_count": 182,
   "metadata": {},
   "outputs": [],
   "source": [
    "grouped_user = grouped_user.sort_values(\"To_count\",ascending=False)"
   ]
  },
  {
   "cell_type": "code",
   "execution_count": 183,
   "metadata": {},
   "outputs": [
    {
     "data": {
      "text/html": [
       "<div>\n",
       "<style scoped>\n",
       "    .dataframe tbody tr th:only-of-type {\n",
       "        vertical-align: middle;\n",
       "    }\n",
       "\n",
       "    .dataframe tbody tr th {\n",
       "        vertical-align: top;\n",
       "    }\n",
       "\n",
       "    .dataframe thead th {\n",
       "        text-align: right;\n",
       "    }\n",
       "</style>\n",
       "<table border=\"1\" class=\"dataframe\">\n",
       "  <thead>\n",
       "    <tr style=\"text-align: right;\">\n",
       "      <th></th>\n",
       "      <th>content_word_len</th>\n",
       "      <th>To_count</th>\n",
       "    </tr>\n",
       "    <tr>\n",
       "      <th>From</th>\n",
       "      <th></th>\n",
       "      <th></th>\n",
       "    </tr>\n",
       "  </thead>\n",
       "  <tbody>\n",
       "    <tr>\n",
       "      <th>jeff.dasovich@enron.com</th>\n",
       "      <td>233.496028</td>\n",
       "      <td>58290</td>\n",
       "    </tr>\n",
       "    <tr>\n",
       "      <th>rhonda.denton@enron.com</th>\n",
       "      <td>36.518717</td>\n",
       "      <td>32290</td>\n",
       "    </tr>\n",
       "    <tr>\n",
       "      <th>ginger.dernehl@enron.com</th>\n",
       "      <td>212.947619</td>\n",
       "      <td>27840</td>\n",
       "    </tr>\n",
       "    <tr>\n",
       "      <th>jae.black@enron.com</th>\n",
       "      <td>305.431624</td>\n",
       "      <td>21084</td>\n",
       "    </tr>\n",
       "    <tr>\n",
       "      <th>l..denton@enron.com</th>\n",
       "      <td>36.670588</td>\n",
       "      <td>14146</td>\n",
       "    </tr>\n",
       "    <tr>\n",
       "      <th>...</th>\n",
       "      <td>...</td>\n",
       "      <td>...</td>\n",
       "    </tr>\n",
       "    <tr>\n",
       "      <th>ghkim@sk-enron.com</th>\n",
       "      <td>85.000000</td>\n",
       "      <td>0</td>\n",
       "    </tr>\n",
       "    <tr>\n",
       "      <th>root@chrivh40.cch.com</th>\n",
       "      <td>2497.000000</td>\n",
       "      <td>0</td>\n",
       "    </tr>\n",
       "    <tr>\n",
       "      <th>alex.huang@enron.com</th>\n",
       "      <td>29.000000</td>\n",
       "      <td>0</td>\n",
       "    </tr>\n",
       "    <tr>\n",
       "      <th>cyndie.balfour-flanagan@enron.com</th>\n",
       "      <td>253.000000</td>\n",
       "      <td>0</td>\n",
       "    </tr>\n",
       "    <tr>\n",
       "      <th>gina.peters@enron.com</th>\n",
       "      <td>31.000000</td>\n",
       "      <td>0</td>\n",
       "    </tr>\n",
       "  </tbody>\n",
       "</table>\n",
       "<p>5537 rows × 2 columns</p>\n",
       "</div>"
      ],
      "text/plain": [
       "                                   content_word_len  To_count\n",
       "From                                                         \n",
       "jeff.dasovich@enron.com                  233.496028     58290\n",
       "rhonda.denton@enron.com                   36.518717     32290\n",
       "ginger.dernehl@enron.com                 212.947619     27840\n",
       "jae.black@enron.com                      305.431624     21084\n",
       "l..denton@enron.com                       36.670588     14146\n",
       "...                                             ...       ...\n",
       "ghkim@sk-enron.com                        85.000000         0\n",
       "root@chrivh40.cch.com                   2497.000000         0\n",
       "alex.huang@enron.com                      29.000000         0\n",
       "cyndie.balfour-flanagan@enron.com        253.000000         0\n",
       "gina.peters@enron.com                     31.000000         0\n",
       "\n",
       "[5537 rows x 2 columns]"
      ]
     },
     "execution_count": 183,
     "metadata": {},
     "output_type": "execute_result"
    }
   ],
   "source": [
    "grouped_user"
   ]
  },
  {
   "cell_type": "code",
   "execution_count": 56,
   "metadata": {},
   "outputs": [],
   "source": [
    "grouped_user.to_csv (r'./user_mail_activities.csv', index = False, header=True)"
   ]
  },
  {
   "cell_type": "markdown",
   "metadata": {},
   "source": [
    "# Checking why some email have a To_count equal to 0\n",
    "\n",
    "### (To work, must be done before data cleaning)\n",
    "Answer : some \"To\" fields are <NA>\n"
   ]
  },
  {
   "cell_type": "code",
   "execution_count": null,
   "metadata": {},
   "outputs": [],
   "source": [
    "grouped_user = data.groupby(\"From\").agg({\"To_count\":\"mean\"})"
   ]
  },
  {
   "cell_type": "code",
   "execution_count": 8,
   "metadata": {},
   "outputs": [],
   "source": [
    "# Get names of indexes for which column From is not equal to our example\n",
    "indexNames = data[ data['From'] != \"frozenset({'gina.peters@enron.com'})\" ].index\n",
    "# Delete these row indexes from dataFrame\n",
    "data.drop(indexNames , inplace=True)"
   ]
  },
  {
   "cell_type": "code",
   "execution_count": 9,
   "metadata": {},
   "outputs": [
    {
     "data": {
      "text/html": [
       "<div>\n",
       "<style scoped>\n",
       "    .dataframe tbody tr th:only-of-type {\n",
       "        vertical-align: middle;\n",
       "    }\n",
       "\n",
       "    .dataframe tbody tr th {\n",
       "        vertical-align: top;\n",
       "    }\n",
       "\n",
       "    .dataframe thead th {\n",
       "        text-align: right;\n",
       "    }\n",
       "</style>\n",
       "<table border=\"1\" class=\"dataframe\">\n",
       "  <thead>\n",
       "    <tr style=\"text-align: right;\">\n",
       "      <th></th>\n",
       "      <th>Unnamed: 0</th>\n",
       "      <th>Message-ID</th>\n",
       "      <th>Date</th>\n",
       "      <th>From</th>\n",
       "      <th>To</th>\n",
       "      <th>Subject</th>\n",
       "      <th>X-From</th>\n",
       "      <th>X-To</th>\n",
       "      <th>X-cc</th>\n",
       "      <th>X-bcc</th>\n",
       "      <th>...</th>\n",
       "      <th>Cat_10_level_1</th>\n",
       "      <th>Cat_10_level_2</th>\n",
       "      <th>Cat_10_weight</th>\n",
       "      <th>Cat_11_level_1</th>\n",
       "      <th>Cat_11_level_2</th>\n",
       "      <th>Cat_11_weight</th>\n",
       "      <th>Cat_12_level_1</th>\n",
       "      <th>Cat_12_level_2</th>\n",
       "      <th>Cat_12_weight</th>\n",
       "      <th>labeled</th>\n",
       "    </tr>\n",
       "  </thead>\n",
       "  <tbody>\n",
       "    <tr>\n",
       "      <th>23482</th>\n",
       "      <td>23482</td>\n",
       "      <td>&lt;28533702.1075855811395.JavaMail.evans@thyme&gt;</td>\n",
       "      <td>2000-01-18 11:02:00</td>\n",
       "      <td>frozenset({'gina.peters@enron.com'})</td>\n",
       "      <td>&lt;NA&gt;</td>\n",
       "      <td>Re: Global Risk Management Operations</td>\n",
       "      <td>Gina Peters</td>\n",
       "      <td>Rick Causey@ENRON</td>\n",
       "      <td>Francisco Cabrera, Sally Beck@ECT</td>\n",
       "      <td>&lt;NA&gt;</td>\n",
       "      <td>...</td>\n",
       "      <td>&lt;NA&gt;</td>\n",
       "      <td>&lt;NA&gt;</td>\n",
       "      <td>&lt;NA&gt;</td>\n",
       "      <td>&lt;NA&gt;</td>\n",
       "      <td>&lt;NA&gt;</td>\n",
       "      <td>&lt;NA&gt;</td>\n",
       "      <td>&lt;NA&gt;</td>\n",
       "      <td>&lt;NA&gt;</td>\n",
       "      <td>&lt;NA&gt;</td>\n",
       "      <td>False</td>\n",
       "    </tr>\n",
       "    <tr>\n",
       "      <th>25149</th>\n",
       "      <td>25149</td>\n",
       "      <td>&lt;284542.1075855817339.JavaMail.evans@thyme&gt;</td>\n",
       "      <td>2000-01-18 11:02:00</td>\n",
       "      <td>frozenset({'gina.peters@enron.com'})</td>\n",
       "      <td>&lt;NA&gt;</td>\n",
       "      <td>Re: Global Risk Management Operations</td>\n",
       "      <td>Gina Peters</td>\n",
       "      <td>Rick Causey@ENRON</td>\n",
       "      <td>Francisco Cabrera, Sally Beck@ECT</td>\n",
       "      <td>&lt;NA&gt;</td>\n",
       "      <td>...</td>\n",
       "      <td>&lt;NA&gt;</td>\n",
       "      <td>&lt;NA&gt;</td>\n",
       "      <td>&lt;NA&gt;</td>\n",
       "      <td>&lt;NA&gt;</td>\n",
       "      <td>&lt;NA&gt;</td>\n",
       "      <td>&lt;NA&gt;</td>\n",
       "      <td>&lt;NA&gt;</td>\n",
       "      <td>&lt;NA&gt;</td>\n",
       "      <td>&lt;NA&gt;</td>\n",
       "      <td>False</td>\n",
       "    </tr>\n",
       "  </tbody>\n",
       "</table>\n",
       "<p>2 rows × 52 columns</p>\n",
       "</div>"
      ],
      "text/plain": [
       "       Unnamed: 0                                     Message-ID  \\\n",
       "23482       23482  <28533702.1075855811395.JavaMail.evans@thyme>   \n",
       "25149       25149    <284542.1075855817339.JavaMail.evans@thyme>   \n",
       "\n",
       "                      Date                                  From    To  \\\n",
       "23482  2000-01-18 11:02:00  frozenset({'gina.peters@enron.com'})  <NA>   \n",
       "25149  2000-01-18 11:02:00  frozenset({'gina.peters@enron.com'})  <NA>   \n",
       "\n",
       "                                     Subject       X-From               X-To  \\\n",
       "23482  Re: Global Risk Management Operations  Gina Peters  Rick Causey@ENRON   \n",
       "25149  Re: Global Risk Management Operations  Gina Peters  Rick Causey@ENRON   \n",
       "\n",
       "                                    X-cc X-bcc  ... Cat_10_level_1  \\\n",
       "23482  Francisco Cabrera, Sally Beck@ECT  <NA>  ...           <NA>   \n",
       "25149  Francisco Cabrera, Sally Beck@ECT  <NA>  ...           <NA>   \n",
       "\n",
       "      Cat_10_level_2 Cat_10_weight Cat_11_level_1 Cat_11_level_2  \\\n",
       "23482           <NA>          <NA>           <NA>           <NA>   \n",
       "25149           <NA>          <NA>           <NA>           <NA>   \n",
       "\n",
       "      Cat_11_weight Cat_12_level_1 Cat_12_level_2 Cat_12_weight labeled  \n",
       "23482          <NA>           <NA>           <NA>          <NA>   False  \n",
       "25149          <NA>           <NA>           <NA>          <NA>   False  \n",
       "\n",
       "[2 rows x 52 columns]"
      ]
     },
     "execution_count": 9,
     "metadata": {},
     "output_type": "execute_result"
    }
   ],
   "source": [
    "data"
   ]
  },
  {
   "cell_type": "markdown",
   "metadata": {},
   "source": [
    "# Counting number of email received by a person"
   ]
  },
  {
   "cell_type": "code",
   "execution_count": 65,
   "metadata": {},
   "outputs": [],
   "source": [
    "from itertools import groupby"
   ]
  },
  {
   "cell_type": "code",
   "execution_count": 176,
   "metadata": {},
   "outputs": [],
   "source": [
    "receivers = []\n",
    "for i in data[\"To\"]:\n",
    "    for j in i:\n",
    "        receivers.append((j,1))"
   ]
  },
  {
   "cell_type": "code",
   "execution_count": 73,
   "metadata": {},
   "outputs": [],
   "source": [
    "#receivers"
   ]
  },
  {
   "cell_type": "code",
   "execution_count": 177,
   "metadata": {},
   "outputs": [],
   "source": [
    "email_received = pd.DataFrame.from_records(receivers, columns =['User', 'Emails received']) "
   ]
  },
  {
   "cell_type": "code",
   "execution_count": 179,
   "metadata": {},
   "outputs": [
    {
     "data": {
      "text/html": [
       "<div>\n",
       "<style scoped>\n",
       "    .dataframe tbody tr th:only-of-type {\n",
       "        vertical-align: middle;\n",
       "    }\n",
       "\n",
       "    .dataframe tbody tr th {\n",
       "        vertical-align: top;\n",
       "    }\n",
       "\n",
       "    .dataframe thead th {\n",
       "        text-align: right;\n",
       "    }\n",
       "</style>\n",
       "<table border=\"1\" class=\"dataframe\">\n",
       "  <thead>\n",
       "    <tr style=\"text-align: right;\">\n",
       "      <th></th>\n",
       "      <th>User</th>\n",
       "      <th>Emails received</th>\n",
       "    </tr>\n",
       "  </thead>\n",
       "  <tbody>\n",
       "    <tr>\n",
       "      <th>0</th>\n",
       "      <td>joer@calpine.com</td>\n",
       "      <td>1</td>\n",
       "    </tr>\n",
       "    <tr>\n",
       "      <th>1</th>\n",
       "      <td>eileenk@calpine.com</td>\n",
       "      <td>1</td>\n",
       "    </tr>\n",
       "    <tr>\n",
       "      <th>2</th>\n",
       "      <td>eric.eisenman@gen.pge.com</td>\n",
       "      <td>1</td>\n",
       "    </tr>\n",
       "    <tr>\n",
       "      <th>3</th>\n",
       "      <td>abb@eslawfirm.com</td>\n",
       "      <td>1</td>\n",
       "    </tr>\n",
       "    <tr>\n",
       "      <th>4</th>\n",
       "      <td>frank.derosa@gen.pge.com</td>\n",
       "      <td>1</td>\n",
       "    </tr>\n",
       "    <tr>\n",
       "      <th>...</th>\n",
       "      <td>...</td>\n",
       "      <td>...</td>\n",
       "    </tr>\n",
       "    <tr>\n",
       "      <th>725048</th>\n",
       "      <td>lcampbel@enron.com</td>\n",
       "      <td>1</td>\n",
       "    </tr>\n",
       "    <tr>\n",
       "      <th>725049</th>\n",
       "      <td>shanna.husser@enron.com</td>\n",
       "      <td>1</td>\n",
       "    </tr>\n",
       "    <tr>\n",
       "      <th>725050</th>\n",
       "      <td>shanna.husser@enron.com</td>\n",
       "      <td>1</td>\n",
       "    </tr>\n",
       "    <tr>\n",
       "      <th>725051</th>\n",
       "      <td>mark_guinney@watsonwyatt.com</td>\n",
       "      <td>1</td>\n",
       "    </tr>\n",
       "    <tr>\n",
       "      <th>725052</th>\n",
       "      <td>jeff.dasovich@enron.com</td>\n",
       "      <td>1</td>\n",
       "    </tr>\n",
       "  </tbody>\n",
       "</table>\n",
       "<p>725053 rows × 2 columns</p>\n",
       "</div>"
      ],
      "text/plain": [
       "                                User  Emails received\n",
       "0                   joer@calpine.com                1\n",
       "1                eileenk@calpine.com                1\n",
       "2          eric.eisenman@gen.pge.com                1\n",
       "3                  abb@eslawfirm.com                1\n",
       "4           frank.derosa@gen.pge.com                1\n",
       "...                              ...              ...\n",
       "725048            lcampbel@enron.com                1\n",
       "725049       shanna.husser@enron.com                1\n",
       "725050       shanna.husser@enron.com                1\n",
       "725051  mark_guinney@watsonwyatt.com                1\n",
       "725052       jeff.dasovich@enron.com                1\n",
       "\n",
       "[725053 rows x 2 columns]"
      ]
     },
     "execution_count": 179,
     "metadata": {},
     "output_type": "execute_result"
    }
   ],
   "source": [
    "email_received"
   ]
  },
  {
   "cell_type": "code",
   "execution_count": 174,
   "metadata": {},
   "outputs": [],
   "source": [
    "email_received = email_received.groupby(\"User\").agg({\"Emails received\":\"sum\"})\n",
    "email_received = email_received.sort_values(\"Emails received\",ascending=False)"
   ]
  },
  {
   "cell_type": "code",
   "execution_count": 175,
   "metadata": {},
   "outputs": [
    {
     "data": {
      "text/html": [
       "<div>\n",
       "<style scoped>\n",
       "    .dataframe tbody tr th:only-of-type {\n",
       "        vertical-align: middle;\n",
       "    }\n",
       "\n",
       "    .dataframe tbody tr th {\n",
       "        vertical-align: top;\n",
       "    }\n",
       "\n",
       "    .dataframe thead th {\n",
       "        text-align: right;\n",
       "    }\n",
       "</style>\n",
       "<table border=\"1\" class=\"dataframe\">\n",
       "  <thead>\n",
       "    <tr style=\"text-align: right;\">\n",
       "      <th></th>\n",
       "      <th>Emails received</th>\n",
       "    </tr>\n",
       "    <tr>\n",
       "      <th>User</th>\n",
       "      <th></th>\n",
       "    </tr>\n",
       "  </thead>\n",
       "  <tbody>\n",
       "    <tr>\n",
       "      <th>jeff.dasovich@enron.com</th>\n",
       "      <td>10098</td>\n",
       "    </tr>\n",
       "    <tr>\n",
       "      <th>sally.beck@enron.com</th>\n",
       "      <td>5277</td>\n",
       "    </tr>\n",
       "    <tr>\n",
       "      <th>susan.mara@enron.com</th>\n",
       "      <td>4261</td>\n",
       "    </tr>\n",
       "    <tr>\n",
       "      <th>james.steffes@enron.com</th>\n",
       "      <td>3742</td>\n",
       "    </tr>\n",
       "    <tr>\n",
       "      <th>paul.kaufman@enron.com</th>\n",
       "      <td>3579</td>\n",
       "    </tr>\n",
       "    <tr>\n",
       "      <th>...</th>\n",
       "      <td>...</td>\n",
       "    </tr>\n",
       "    <tr>\n",
       "      <th>kremer.todd@enron.com</th>\n",
       "      <td>1</td>\n",
       "    </tr>\n",
       "    <tr>\n",
       "      <th>krchoi@sk-enron.com</th>\n",
       "      <td>1</td>\n",
       "    </tr>\n",
       "    <tr>\n",
       "      <th>kramer.daniel@enron.com</th>\n",
       "      <td>1</td>\n",
       "    </tr>\n",
       "    <tr>\n",
       "      <th>kramer.dan@enron.com</th>\n",
       "      <td>1</td>\n",
       "    </tr>\n",
       "    <tr>\n",
       "      <th>zykorie.allyson@enron.com</th>\n",
       "      <td>1</td>\n",
       "    </tr>\n",
       "  </tbody>\n",
       "</table>\n",
       "<p>25273 rows × 1 columns</p>\n",
       "</div>"
      ],
      "text/plain": [
       "                           Emails received\n",
       "User                                      \n",
       "jeff.dasovich@enron.com              10098\n",
       "sally.beck@enron.com                  5277\n",
       "susan.mara@enron.com                  4261\n",
       "james.steffes@enron.com               3742\n",
       "paul.kaufman@enron.com                3579\n",
       "...                                    ...\n",
       "kremer.todd@enron.com                    1\n",
       "krchoi@sk-enron.com                      1\n",
       "kramer.daniel@enron.com                  1\n",
       "kramer.dan@enron.com                     1\n",
       "zykorie.allyson@enron.com                1\n",
       "\n",
       "[25273 rows x 1 columns]"
      ]
     },
     "execution_count": 175,
     "metadata": {},
     "output_type": "execute_result"
    }
   ],
   "source": [
    "email_received"
   ]
  },
  {
   "cell_type": "code",
   "execution_count": 98,
   "metadata": {},
   "outputs": [],
   "source": [
    "email_received.to_csv (r'./user_mail_received.csv', index = False, header=True)"
   ]
  },
  {
   "cell_type": "markdown",
   "metadata": {},
   "source": [
    "# Number of mail received by a person"
   ]
  },
  {
   "cell_type": "code",
   "execution_count": 133,
   "metadata": {},
   "outputs": [
    {
     "data": {
      "text/plain": [
       "[('jeff.dasovich@enron.com', 9441),\n",
       " ('eric.bass@enron.com', 5122),\n",
       " ('sally.beck@enron.com', 4242),\n",
       " ('john.arnold@enron.com', 3492),\n",
       " ('david.delainey@enron.com', 2958),\n",
       " ('phillip.allen@enron.com', 2143),\n",
       " ('chris.dorland@enron.com', 1828),\n",
       " ('michelle.cash@enron.com', 1751),\n",
       " ('enron.announcements@enron.com', 1564),\n",
       " ('larry.campbell@enron.com', 1380),\n",
       " ('lynn.blair@enron.com', 1160),\n",
       " ('outlook.team@enron.com', 1115),\n",
       " ('no.address@enron.com', 1055),\n",
       " ('rick.buy@enron.com', 1023),\n",
       " ('dana.davis@enron.com', 890),\n",
       " ('james.derrick@enron.com', 885),\n",
       " ('susan.mara@enron.com', 825),\n",
       " ('mike.carson@enron.com', 719),\n",
       " ('owner-nyiso_tech_exchange@lists.thebiz.net', 712),\n",
       " ('shelley.corman@enron.com', 681),\n",
       " ('pete.davis@enron.com', 628),\n",
       " ('daren.farmer@enron.com', 578),\n",
       " ('owner-eveningmba@haas.berkeley.edu', 508),\n",
       " ('monika.causholli@enron.com', 487),\n",
       " ('sandra.brawner@enron.com', 480),\n",
       " ('40enron@enron.com', 479),\n",
       " ('james.steffes@enron.com', 473),\n",
       " ('ginger.dernehl@enron.com', 420),\n",
       " ('kay.chapman@enron.com', 399),\n",
       " ('shona.wilson@enron.com', 392),\n",
       " ('karen.denne@enron.com', 389),\n",
       " ('stacy.dickson@enron.com', 378),\n",
       " ('joseph.alamo@enron.com', 376),\n",
       " ('noreply@ccomad3.uu.commissioner.com', 355),\n",
       " ('patti.thompson@enron.com', 355),\n",
       " ('alan.comnes@enron.com', 350),\n",
       " ('arsystem@mailman.enron.com', 322),\n",
       " ('k..allen@enron.com', 297),\n",
       " ('bryant@cheatsheets.net', 286),\n",
       " ('nancy.sellers@robertmondavi.com', 279),\n",
       " ('lgoldseth@svmg.org', 277),\n",
       " ('kayne.coulter@enron.com', 270),\n",
       " ('ann.schmidt@enron.com', 264),\n",
       " ('miyung.buster@enron.com', 250),\n",
       " ('martin.cuilla@enron.com', 248),\n",
       " ('don.baughman@enron.com', 248),\n",
       " ('jae.black@enron.com', 234),\n",
       " ('lindy.donoho@enron.com', 228),\n",
       " ('announcements.enron@enron.com', 228),\n",
       " ('mary.hain@enron.com', 224)]"
      ]
     },
     "execution_count": 133,
     "metadata": {},
     "output_type": "execute_result"
    }
   ],
   "source": [
    "from collections import Counter\n",
    "#data[\"content\"][99078]\n",
    "Counter(\" \".join(data[\"From\"]).split()).most_common(50)"
   ]
  },
  {
   "cell_type": "code",
   "execution_count": 132,
   "metadata": {},
   "outputs": [
    {
     "data": {
      "text/plain": [
       "5543"
      ]
     },
     "execution_count": 132,
     "metadata": {},
     "output_type": "execute_result"
    }
   ],
   "source": [
    "len(Counter(\" \".join(data[\"From\"]).split()).most_common())"
   ]
  },
  {
   "cell_type": "markdown",
   "metadata": {},
   "source": [
    "# Most used words"
   ]
  },
  {
   "cell_type": "code",
   "execution_count": 127,
   "metadata": {},
   "outputs": [
    {
     "data": {
      "text/plain": [
       "[('the', 1286955),\n",
       " ('to', 855228),\n",
       " ('and', 634057),\n",
       " ('of', 599582),\n",
       " ('a', 466343),\n",
       " ('in', 419776),\n",
       " ('for', 330007),\n",
       " ('>', 325757),\n",
       " ('is', 275765),\n",
       " ('on', 272616),\n",
       " ('that', 267628),\n",
       " ('be', 193255),\n",
       " ('you', 183737),\n",
       " ('will', 179289),\n",
       " ('I', 175528),\n",
       " ('with', 172668),\n",
       " ('The', 166273),\n",
       " ('at', 159118),\n",
       " ('have', 155040),\n",
       " ('by', 152004),\n",
       " ('this', 147952),\n",
       " ('are', 144026),\n",
       " ('as', 134944),\n",
       " ('=20', 133304),\n",
       " ('-', 125194),\n",
       " ('from', 122655),\n",
       " ('it', 116898),\n",
       " ('or', 113456),\n",
       " ('not', 103153),\n",
       " ('has', 99439),\n",
       " ('we', 94381),\n",
       " ('your', 87580),\n",
       " ('an', 87010),\n",
       " ('was', 85895),\n",
       " ('would', 82359),\n",
       " ('Enron', 79841),\n",
       " ('said', 73591),\n",
       " ('Subject:', 72820),\n",
       " ('To:', 72201),\n",
       " ('PM', 67478),\n",
       " ('power', 67010),\n",
       " ('its', 64315),\n",
       " ('=', 63323),\n",
       " ('if', 59148),\n",
       " ('can', 56693),\n",
       " ('but', 56341),\n",
       " ('our', 55356),\n",
       " ('he', 54839),\n",
       " ('any', 54705),\n",
       " ('which', 53545),\n",
       " ('all', 52992),\n",
       " ('about', 52030),\n",
       " ('they', 50893),\n",
       " ('more', 50809),\n",
       " ('been', 49269),\n",
       " ('AM', 48048),\n",
       " ('their', 46511),\n",
       " ('up', 46492),\n",
       " ('2001', 45828),\n",
       " ('me', 45761),\n",
       " ('California', 44426),\n",
       " ('cc:', 42918),\n",
       " ('If', 41429),\n",
       " ('energy', 41227),\n",
       " ('From:', 40839),\n",
       " ('also', 40237),\n",
       " ('out', 39799),\n",
       " ('new', 39204),\n",
       " ('?', 39193),\n",
       " ('--', 38859),\n",
       " ('other', 38126),\n",
       " ('&', 38073),\n",
       " ('get', 37940),\n",
       " ('who', 37756),\n",
       " ('We', 36712),\n",
       " ('some', 36249),\n",
       " ('one', 36206),\n",
       " ('had', 36031),\n",
       " ('This', 35951),\n",
       " ('do', 35900),\n",
       " ('were', 35797),\n",
       " ('his', 35577),\n",
       " ('may', 35166),\n",
       " ('than', 35138),\n",
       " ('state', 34493),\n",
       " ('should', 32989),\n",
       " ('Please', 32747),\n",
       " ('last', 32553),\n",
       " ('so', 32373),\n",
       " ('could', 31879),\n",
       " ('In', 31857),\n",
       " ('know', 31399),\n",
       " ('like', 31082),\n",
       " ('company', 30636),\n",
       " ('please', 30361),\n",
       " ('Jeff', 30163),\n",
       " ('what', 29969),\n",
       " ('need', 29678),\n",
       " ('market', 29523),\n",
       " ('my', 29486)]"
      ]
     },
     "execution_count": 127,
     "metadata": {},
     "output_type": "execute_result"
    }
   ],
   "source": [
    "from collections import Counter\n",
    "most_used_words_data = data[0:90000]\n",
    "Counter(\" \".join(most_used_words_data[\"content\"]).split()).most_common(100)"
   ]
  },
  {
   "cell_type": "markdown",
   "metadata": {},
   "source": [
    "# Listing every different email address from/sent/people contacted"
   ]
  },
  {
   "cell_type": "code",
   "execution_count": 237,
   "metadata": {},
   "outputs": [],
   "source": [
    "user_activities=[]\n",
    "\n",
    "def count_email_sent(array,df):\n",
    "    for index, row in df.iterrows():\n",
    "        array.append((row[\"From\"],1,0,len(row[\"To\"])))\n",
    "\n",
    "def count_email_received(array,df):\n",
    "    for i in data[\"To\"]:\n",
    "        for j in i:\n",
    "            array.append((j,0,1,0))\n",
    "\n",
    "            \n",
    "count_email_sent(user_activities,data)\n",
    "count_email_received(user_activities,data)\n",
    "\n",
    "user_activities_df = pd.DataFrame.from_records(user_activities, columns =['User', 'Sent','Received','People Contacted']) "
   ]
  },
  {
   "cell_type": "code",
   "execution_count": 238,
   "metadata": {},
   "outputs": [
    {
     "data": {
      "text/html": [
       "<div>\n",
       "<style scoped>\n",
       "    .dataframe tbody tr th:only-of-type {\n",
       "        vertical-align: middle;\n",
       "    }\n",
       "\n",
       "    .dataframe tbody tr th {\n",
       "        vertical-align: top;\n",
       "    }\n",
       "\n",
       "    .dataframe thead th {\n",
       "        text-align: right;\n",
       "    }\n",
       "</style>\n",
       "<table border=\"1\" class=\"dataframe\">\n",
       "  <thead>\n",
       "    <tr style=\"text-align: right;\">\n",
       "      <th></th>\n",
       "      <th>User</th>\n",
       "      <th>Sent</th>\n",
       "      <th>Received</th>\n",
       "      <th>People Contacted</th>\n",
       "    </tr>\n",
       "  </thead>\n",
       "  <tbody>\n",
       "    <tr>\n",
       "      <th>0</th>\n",
       "      <td>jmunoz@mcnallytemple.com</td>\n",
       "      <td>1</td>\n",
       "      <td>0</td>\n",
       "      <td>77</td>\n",
       "    </tr>\n",
       "    <tr>\n",
       "      <th>1</th>\n",
       "      <td>jmunoz@mcnallytemple.com</td>\n",
       "      <td>1</td>\n",
       "      <td>0</td>\n",
       "      <td>77</td>\n",
       "    </tr>\n",
       "    <tr>\n",
       "      <th>2</th>\n",
       "      <td>miyung.buster@enron.com</td>\n",
       "      <td>1</td>\n",
       "      <td>0</td>\n",
       "      <td>54</td>\n",
       "    </tr>\n",
       "    <tr>\n",
       "      <th>3</th>\n",
       "      <td>miyung.buster@enron.com</td>\n",
       "      <td>1</td>\n",
       "      <td>0</td>\n",
       "      <td>54</td>\n",
       "    </tr>\n",
       "    <tr>\n",
       "      <th>4</th>\n",
       "      <td>jmunoz@mcnallytemple.com</td>\n",
       "      <td>1</td>\n",
       "      <td>0</td>\n",
       "      <td>81</td>\n",
       "    </tr>\n",
       "    <tr>\n",
       "      <th>...</th>\n",
       "      <td>...</td>\n",
       "      <td>...</td>\n",
       "      <td>...</td>\n",
       "      <td>...</td>\n",
       "    </tr>\n",
       "    <tr>\n",
       "      <th>825048</th>\n",
       "      <td>lcampbel@enron.com</td>\n",
       "      <td>0</td>\n",
       "      <td>1</td>\n",
       "      <td>0</td>\n",
       "    </tr>\n",
       "    <tr>\n",
       "      <th>825049</th>\n",
       "      <td>shanna.husser@enron.com</td>\n",
       "      <td>0</td>\n",
       "      <td>1</td>\n",
       "      <td>0</td>\n",
       "    </tr>\n",
       "    <tr>\n",
       "      <th>825050</th>\n",
       "      <td>shanna.husser@enron.com</td>\n",
       "      <td>0</td>\n",
       "      <td>1</td>\n",
       "      <td>0</td>\n",
       "    </tr>\n",
       "    <tr>\n",
       "      <th>825051</th>\n",
       "      <td>mark_guinney@watsonwyatt.com</td>\n",
       "      <td>0</td>\n",
       "      <td>1</td>\n",
       "      <td>0</td>\n",
       "    </tr>\n",
       "    <tr>\n",
       "      <th>825052</th>\n",
       "      <td>jeff.dasovich@enron.com</td>\n",
       "      <td>0</td>\n",
       "      <td>1</td>\n",
       "      <td>0</td>\n",
       "    </tr>\n",
       "  </tbody>\n",
       "</table>\n",
       "<p>825053 rows × 4 columns</p>\n",
       "</div>"
      ],
      "text/plain": [
       "                                User  Sent  Received  People Contacted\n",
       "0           jmunoz@mcnallytemple.com     1         0                77\n",
       "1           jmunoz@mcnallytemple.com     1         0                77\n",
       "2            miyung.buster@enron.com     1         0                54\n",
       "3            miyung.buster@enron.com     1         0                54\n",
       "4           jmunoz@mcnallytemple.com     1         0                81\n",
       "...                              ...   ...       ...               ...\n",
       "825048            lcampbel@enron.com     0         1                 0\n",
       "825049       shanna.husser@enron.com     0         1                 0\n",
       "825050       shanna.husser@enron.com     0         1                 0\n",
       "825051  mark_guinney@watsonwyatt.com     0         1                 0\n",
       "825052       jeff.dasovich@enron.com     0         1                 0\n",
       "\n",
       "[825053 rows x 4 columns]"
      ]
     },
     "execution_count": 238,
     "metadata": {},
     "output_type": "execute_result"
    }
   ],
   "source": [
    "user_activities_df"
   ]
  },
  {
   "cell_type": "code",
   "execution_count": 239,
   "metadata": {},
   "outputs": [],
   "source": [
    "user_activities_df = user_activities_df.groupby(\"User\").agg({\"Sent\":\"sum\",\"Received\":\"sum\",\"People Contacted\":\"sum\"})\n",
    "user_activities_df = user_activities_df.sort_values(\"Sent\",ascending=False)"
   ]
  },
  {
   "cell_type": "code",
   "execution_count": 240,
   "metadata": {},
   "outputs": [
    {
     "data": {
      "text/html": [
       "<div>\n",
       "<style scoped>\n",
       "    .dataframe tbody tr th:only-of-type {\n",
       "        vertical-align: middle;\n",
       "    }\n",
       "\n",
       "    .dataframe tbody tr th {\n",
       "        vertical-align: top;\n",
       "    }\n",
       "\n",
       "    .dataframe thead th {\n",
       "        text-align: right;\n",
       "    }\n",
       "</style>\n",
       "<table border=\"1\" class=\"dataframe\">\n",
       "  <thead>\n",
       "    <tr style=\"text-align: right;\">\n",
       "      <th></th>\n",
       "      <th>Sent</th>\n",
       "      <th>Received</th>\n",
       "      <th>People Contacted</th>\n",
       "    </tr>\n",
       "    <tr>\n",
       "      <th>User</th>\n",
       "      <th></th>\n",
       "      <th></th>\n",
       "      <th></th>\n",
       "    </tr>\n",
       "  </thead>\n",
       "  <tbody>\n",
       "    <tr>\n",
       "      <th>jeff.dasovich@enron.com</th>\n",
       "      <td>9441</td>\n",
       "      <td>10098</td>\n",
       "      <td>58290</td>\n",
       "    </tr>\n",
       "    <tr>\n",
       "      <th>eric.bass@enron.com</th>\n",
       "      <td>5122</td>\n",
       "      <td>1400</td>\n",
       "      <td>10587</td>\n",
       "    </tr>\n",
       "    <tr>\n",
       "      <th>sally.beck@enron.com</th>\n",
       "      <td>4242</td>\n",
       "      <td>5277</td>\n",
       "      <td>13613</td>\n",
       "    </tr>\n",
       "    <tr>\n",
       "      <th>john.arnold@enron.com</th>\n",
       "      <td>3492</td>\n",
       "      <td>979</td>\n",
       "      <td>3685</td>\n",
       "    </tr>\n",
       "    <tr>\n",
       "      <th>david.delainey@enron.com</th>\n",
       "      <td>2958</td>\n",
       "      <td>651</td>\n",
       "      <td>5707</td>\n",
       "    </tr>\n",
       "    <tr>\n",
       "      <th>...</th>\n",
       "      <td>...</td>\n",
       "      <td>...</td>\n",
       "      <td>...</td>\n",
       "    </tr>\n",
       "    <tr>\n",
       "      <th>greg.hathaway@enron.com</th>\n",
       "      <td>0</td>\n",
       "      <td>2</td>\n",
       "      <td>0</td>\n",
       "    </tr>\n",
       "    <tr>\n",
       "      <th>greg.grissom@enron.com</th>\n",
       "      <td>0</td>\n",
       "      <td>4</td>\n",
       "      <td>0</td>\n",
       "    </tr>\n",
       "    <tr>\n",
       "      <th>greg.edwards@foothillspipe.com</th>\n",
       "      <td>0</td>\n",
       "      <td>3</td>\n",
       "      <td>0</td>\n",
       "    </tr>\n",
       "    <tr>\n",
       "      <th>greg.curran@enron.com</th>\n",
       "      <td>0</td>\n",
       "      <td>45</td>\n",
       "      <td>0</td>\n",
       "    </tr>\n",
       "    <tr>\n",
       "      <th>zykorie.allyson@enron.com</th>\n",
       "      <td>0</td>\n",
       "      <td>1</td>\n",
       "      <td>0</td>\n",
       "    </tr>\n",
       "  </tbody>\n",
       "</table>\n",
       "<p>27469 rows × 3 columns</p>\n",
       "</div>"
      ],
      "text/plain": [
       "                                Sent  Received  People Contacted\n",
       "User                                                            \n",
       "jeff.dasovich@enron.com         9441     10098             58290\n",
       "eric.bass@enron.com             5122      1400             10587\n",
       "sally.beck@enron.com            4242      5277             13613\n",
       "john.arnold@enron.com           3492       979              3685\n",
       "david.delainey@enron.com        2958       651              5707\n",
       "...                              ...       ...               ...\n",
       "greg.hathaway@enron.com            0         2                 0\n",
       "greg.grissom@enron.com             0         4                 0\n",
       "greg.edwards@foothillspipe.com     0         3                 0\n",
       "greg.curran@enron.com              0        45                 0\n",
       "zykorie.allyson@enron.com          0         1                 0\n",
       "\n",
       "[27469 rows x 3 columns]"
      ]
     },
     "execution_count": 240,
     "metadata": {},
     "output_type": "execute_result"
    }
   ],
   "source": [
    "user_activities_df"
   ]
  },
  {
   "cell_type": "code",
   "execution_count": 241,
   "metadata": {},
   "outputs": [],
   "source": [
    "user_activities_df.to_csv (r'./user_activities.csv', index = False, header=True)"
   ]
  },
  {
   "cell_type": "code",
   "execution_count": null,
   "metadata": {},
   "outputs": [],
   "source": []
  }
 ],
 "metadata": {
  "kernelspec": {
   "display_name": "Python 3",
   "language": "python",
   "name": "python3"
  },
  "language_info": {
   "codemirror_mode": {
    "name": "ipython",
    "version": 3
   },
   "file_extension": ".py",
   "mimetype": "text/x-python",
   "name": "python",
   "nbconvert_exporter": "python",
   "pygments_lexer": "ipython3",
   "version": "3.8.3"
  }
 },
 "nbformat": 4,
 "nbformat_minor": 4
}
