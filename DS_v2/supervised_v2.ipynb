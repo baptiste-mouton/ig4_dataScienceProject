{
 "cells": [
  {
   "cell_type": "markdown",
   "metadata": {},
   "source": [
    "Machine learning partie 1 <b>Supervisé</b>:\n",
    "    \n",
    "   - I - <b>Splitting data</b>\n",
    "    \n",
    "   - II - <b>training models</b>\n",
    "    \n",
    "   - III - <b>Learning curves & validation</b>\n",
    "    \n",
    "   - IV - <b>Fine tuning</b>\n",
    "    \n",
    "   - V - <b>Classification metrics</b>\n",
    "   \n",
    "   - VI - <b>final test</b>\n"
   ]
  },
  {
   "cell_type": "code",
   "execution_count": 1,
   "metadata": {},
   "outputs": [],
   "source": [
    "import pandas as pd\n",
    "import numpy as np\n",
    "import seaborn as sns\n",
    "import matplotlib.pyplot as plt\n",
    "\n",
    "sns.set_theme(style=\"darkgrid\")"
   ]
  },
  {
   "cell_type": "code",
   "execution_count": 2,
   "metadata": {},
   "outputs": [],
   "source": [
    "data = pd.read_csv('/Users/lucas/Desktop/Polytech/IG4/S7/projet_DS/mail_pre_process.csv')\n",
    "df = data[['DayWeek','Cat_1_level_1',\n",
    "       'Cat_1_level_2', 'Cat_1_weight','Years', 'Month', 'Day', 'Hours',\n",
    "       'content_char_len', 'content_char_length_category',  'To_count']]\n",
    "\n",
    "class_mapping = {1999: 0, 2000: 1, 2001: 2, 2002: 3}\n",
    "\n",
    "df = df.replace({'Years':class_mapping})"
   ]
  },
  {
   "cell_type": "code",
   "execution_count": 3,
   "metadata": {},
   "outputs": [
    {
     "name": "stdout",
     "output_type": "stream",
     "text": [
      "(99913, 11)\n"
     ]
    },
    {
     "data": {
      "text/html": [
       "<div>\n",
       "<style scoped>\n",
       "    .dataframe tbody tr th:only-of-type {\n",
       "        vertical-align: middle;\n",
       "    }\n",
       "\n",
       "    .dataframe tbody tr th {\n",
       "        vertical-align: top;\n",
       "    }\n",
       "\n",
       "    .dataframe thead th {\n",
       "        text-align: right;\n",
       "    }\n",
       "</style>\n",
       "<table border=\"1\" class=\"dataframe\">\n",
       "  <thead>\n",
       "    <tr style=\"text-align: right;\">\n",
       "      <th></th>\n",
       "      <th>DayWeek</th>\n",
       "      <th>Cat_1_level_1</th>\n",
       "      <th>Cat_1_level_2</th>\n",
       "      <th>Cat_1_weight</th>\n",
       "      <th>Years</th>\n",
       "      <th>Month</th>\n",
       "      <th>Day</th>\n",
       "      <th>Hours</th>\n",
       "      <th>content_char_len</th>\n",
       "      <th>content_char_length_category</th>\n",
       "      <th>To_count</th>\n",
       "    </tr>\n",
       "  </thead>\n",
       "  <tbody>\n",
       "    <tr>\n",
       "      <th>0</th>\n",
       "      <td>0</td>\n",
       "      <td>-1</td>\n",
       "      <td>-1</td>\n",
       "      <td>-1</td>\n",
       "      <td>2</td>\n",
       "      <td>5</td>\n",
       "      <td>14</td>\n",
       "      <td>23</td>\n",
       "      <td>20</td>\n",
       "      <td>1</td>\n",
       "      <td>1</td>\n",
       "    </tr>\n",
       "    <tr>\n",
       "      <th>1</th>\n",
       "      <td>4</td>\n",
       "      <td>-1</td>\n",
       "      <td>-1</td>\n",
       "      <td>-1</td>\n",
       "      <td>2</td>\n",
       "      <td>5</td>\n",
       "      <td>4</td>\n",
       "      <td>20</td>\n",
       "      <td>773</td>\n",
       "      <td>2</td>\n",
       "      <td>1</td>\n",
       "    </tr>\n",
       "    <tr>\n",
       "      <th>2</th>\n",
       "      <td>2</td>\n",
       "      <td>-1</td>\n",
       "      <td>-1</td>\n",
       "      <td>-1</td>\n",
       "      <td>1</td>\n",
       "      <td>10</td>\n",
       "      <td>18</td>\n",
       "      <td>10</td>\n",
       "      <td>29</td>\n",
       "      <td>1</td>\n",
       "      <td>1</td>\n",
       "    </tr>\n",
       "    <tr>\n",
       "      <th>3</th>\n",
       "      <td>0</td>\n",
       "      <td>-1</td>\n",
       "      <td>-1</td>\n",
       "      <td>-1</td>\n",
       "      <td>1</td>\n",
       "      <td>10</td>\n",
       "      <td>23</td>\n",
       "      <td>13</td>\n",
       "      <td>180</td>\n",
       "      <td>1</td>\n",
       "      <td>1</td>\n",
       "    </tr>\n",
       "    <tr>\n",
       "      <th>4</th>\n",
       "      <td>3</td>\n",
       "      <td>-1</td>\n",
       "      <td>-1</td>\n",
       "      <td>-1</td>\n",
       "      <td>1</td>\n",
       "      <td>8</td>\n",
       "      <td>31</td>\n",
       "      <td>12</td>\n",
       "      <td>33</td>\n",
       "      <td>1</td>\n",
       "      <td>1</td>\n",
       "    </tr>\n",
       "  </tbody>\n",
       "</table>\n",
       "</div>"
      ],
      "text/plain": [
       "   DayWeek  Cat_1_level_1  Cat_1_level_2  Cat_1_weight  Years  Month  Day  \\\n",
       "0        0             -1             -1            -1      2      5   14   \n",
       "1        4             -1             -1            -1      2      5    4   \n",
       "2        2             -1             -1            -1      1     10   18   \n",
       "3        0             -1             -1            -1      1     10   23   \n",
       "4        3             -1             -1            -1      1      8   31   \n",
       "\n",
       "   Hours  content_char_len  content_char_length_category  To_count  \n",
       "0     23                20                             1         1  \n",
       "1     20               773                             2         1  \n",
       "2     10                29                             1         1  \n",
       "3     13               180                             1         1  \n",
       "4     12                33                             1         1  "
      ]
     },
     "execution_count": 3,
     "metadata": {},
     "output_type": "execute_result"
    }
   ],
   "source": [
    "print(df.shape)\n",
    "df.head()"
   ]
  },
  {
   "cell_type": "code",
   "execution_count": 4,
   "metadata": {},
   "outputs": [
    {
     "data": {
      "text/plain": [
       "Index(['DayWeek', 'Cat_1_level_1', 'Cat_1_level_2', 'Cat_1_weight', 'Years',\n",
       "       'Month', 'Day', 'Hours', 'content_char_len',\n",
       "       'content_char_length_category', 'To_count'],\n",
       "      dtype='object')"
      ]
     },
     "execution_count": 4,
     "metadata": {},
     "output_type": "execute_result"
    }
   ],
   "source": [
    "df.columns"
   ]
  },
  {
   "cell_type": "code",
   "execution_count": null,
   "metadata": {},
   "outputs": [],
   "source": []
  },
  {
   "cell_type": "markdown",
   "metadata": {},
   "source": [
    "<center><h1>Partie 1 - supervisée.</h1></center>"
   ]
  },
  {
   "cell_type": "markdown",
   "metadata": {},
   "source": [
    "Après avoir préparé et exploré nos données, nous devons choisir un algorithme performant pour pouvoir effectuer une classification efficace. Cependant, une classification efficace, n'est pas la seule caractéristiques à prendre en compte.\n",
    "\n",
    "Il existe des compromis entre plusieurs caractéristiques des algorithmes:\n",
    "\n",
    "- Vitesse d'entraînement.\n",
    "- Utilisation de la mémoire.\n",
    "- Précision prédictive sur les nouvelles données.\n",
    "- Transparence ou inteprétabilité.\n",
    "\n",
    "Il n'existe pas de meilleur modèle, certains seront très performant dans un cas d'utilisation mais parfois peu performant dans d'autre cas d'utilisation. Nous allons utiliser plusieurs modèles, les comparer puis en sélectionner un nombre restreint puis les comparer à nouveau, et ce jusqu'à avoir un (ou plusieurs) modèle convenable."
   ]
  },
  {
   "cell_type": "markdown",
   "metadata": {},
   "source": [
    "<center><h1>0 - Rappel sur la variable 'Years' de classification</h1></center>"
   ]
  },
  {
   "cell_type": "code",
   "execution_count": 5,
   "metadata": {},
   "outputs": [
    {
     "name": "stdout",
     "output_type": "stream",
     "text": [
      "2    53758\n",
      "1    40012\n",
      "3     5127\n",
      "0     1016\n",
      "Name: Years, dtype: int64\n"
     ]
    },
    {
     "data": {
      "image/png": "[encoded data removed]",
      "text/plain": [
       "<Figure size 2160x1080 with 2 Axes>"
      ]
     },
     "metadata": {},
     "output_type": "display_data"
    }
   ],
   "source": [
    "fig, (ax1,ax2) = plt.subplots(1,2, figsize=(30,15))\n",
    "print(df['Years'].value_counts())\n",
    "sns.countplot(x='Years', data=df, ax=ax1)\n",
    "ax1.set_title('emails distribution among Years')\n",
    "\n",
    "df['Years'].value_counts().plot.pie(explode=[0.3,0.3,0.3,0.3],autopct='%1.1f%%',ax=ax2,shadow=True)\n",
    "ax2.set_title('distribution de la categorie Years')\n",
    "plt.show()"
   ]
  },
  {
   "cell_type": "markdown",
   "metadata": {},
   "source": [
    "La <b>distribution des classes</b> est tès importante lorsqu'on fait une classification.\n",
    "\n",
    "- L'année <b>1999</b> représente <b>1%</b> des mails.\n",
    "- L'année <b>2000</b> représente <b>40%</b> des mails.\n",
    "- L'année <b>2001</b> représente <b>53,8%</b> des mails.\n",
    "- L'année <b>2002</b> représente <b>5,1%</b> des mails.\n",
    "\n",
    "Les années <b>1999 et 2002</b> sont sous représentées par rapport aux années <b>2000 et 2001</b>, nous sommes en présence de ce que l'on appelle un <b>Imbalanced dataset</b>. Si nous ne prenons pas en compte ce cas particulier, nos modèles risque d'<b>ignorer les classes minoritaires</b>. On pourrait alors avoir une <b>bonne précision générale</b>, mais une <b>mauvaise précision de classification au sein des classes</b>.\n"
   ]
  },
  {
   "cell_type": "markdown",
   "metadata": {},
   "source": [
    "<center><h1>I - Data Preparation</h1></center>"
   ]
  },
  {
   "cell_type": "markdown",
   "metadata": {},
   "source": [
    "<center><h3> a - Imbalanced dataset</h3></center>"
   ]
  },
  {
   "cell_type": "markdown",
   "metadata": {},
   "source": [
    "Le défi de travailler avec des ensembles de données <b>déséquilibrés</b> (Imbalanced) est que la plupart des techniques de ML <b>ignoreront</b> la (ou les) classe minoriaire, et auront à leur tour des <b>performances médiocres sur la (ou les) classe minoritaire</b>, bien que ce soit généralement la performance sur la classe minoritaire qui soit la plus importante.\n",
    "\n",
    "Une approche pour traiter les ensembles de données déséquilibrés consiste à <b>suréchantillonner</b> (oversample) la (ou les) classe(s) minoritaire(s):\n",
    "\n",
    "- L’approche la plus simple consiste à <b>dupliquer des exemples</b> dans la classe minoritaire, bien que ces exemples n’ajoutent aucune nouvelle information au modèle. \n",
    "\n",
    "- Au lieu de cela, de <b>nouveaux exemples</b> peuvent être <b>synthétisés</b> à partir des <b>exemples existants</b>. Il s'agit d'un type d'augmentation des données pour la (les) classe(s) minoritaire(s) et est appelé <b>Synthetic Minority Oversampling TEchnique</b>, ou <b>SMOTE</b> en abrégé."
   ]
  },
  {
   "cell_type": "markdown",
   "metadata": {},
   "source": [
    "- Comment marche <b>SMOTE</b>?\n",
    "\n",
    "   - SMOTE fonctionne en sélectionnant des exemples qui sont <b>proches</b> dans l'<b>espace des variables</b>, en traçant une ligne entre les exemples dans l'espace des variables et en dessinant un <b>nouvel échantillon</b> à un point le long de cette ligne.\n",
    "   - Plus précisément, un <b>exemple aléatoire</b> de la classe minoritaire est d'abord choisi. On trouve alors <b>k des voisins les plus proches</b>. Un voisin <b>sélectionné au hasard</b> est choisi et un <b>exemple synthétique</b> est créé à un point sélectionné au hasard <b>entre les deux exemples</b> dans l'<b>espace des variables</b>.\n",
    "   \n",
    "   \n",
    "- Cette procédure peut être utilisée pour créer autant d'exemples synthétiques pour la classe minoritaire que nécessaire. Comme décrit dans l'article, il suggère d'utiliser d'abord le <b>sous-échantillonnage aléatoire</b> (random undersampling)  pour réduire le nombre d'exemples dans la classe majoritaire, puis d'utiliser SMOTE pour <b>suréchantillonner</b> la classe minoritaire afin d'<b>équilibrer</b> la distribution de classe."
   ]
  },
  {
   "cell_type": "markdown",
   "metadata": {},
   "source": [
    "- On pourrait penser qu'il suffit d'effectuer ces méthodes sur le dataset une fois, avant de l'utiliser dans nos modèle. Cependant, ce n'est pas ce que nous allons faire, car cela peut poser énormément de problème notamment lors de la <b>validation</b>. Nous allons expliquer notre méthodologie en utilisant <b>SMOTE</b> au fur et à mesure."
   ]
  },
  {
   "cell_type": "code",
   "execution_count": 15,
   "metadata": {},
   "outputs": [],
   "source": [
    "from imblearn.over_sampling import SMOTE\n",
    "from imblearn.under_sampling import RandomUnderSampler\n",
    "from collections import Counter\n",
    "from sklearn.model_selection import RepeatedStratifiedKFold"
   ]
  },
  {
   "cell_type": "markdown",
   "metadata": {},
   "source": [
    "<br>\n",
    "<center><h3>b - splitting data.</h3></center>"
   ]
  },
  {
   "cell_type": "markdown",
   "metadata": {},
   "source": [
    "Tout d'abord, nous devons séparer nos données en 2:\n",
    "\n",
    "- le <b>train set</b>: le jeu de données qui servira d'<b>entraînement</b> à nos modèles.\n",
    "- le <b>test set</b>: le jeu de données <b>final</b> (ou final test) qui devrait servir à faire notre choix final entre tous les modèles (ou aucun).\n",
    "\n",
    "Ensuite nous allons séparer le <b> train set</b> en 2:\n",
    "\n",
    "- Le <b>train set</b> (ou sub-train set): le jeu de données qui servira d'<b>exemple</b> à nos modèles.\n",
    "- Le <b>validation set</b>: le jeu de données qui servira à <b>tester</b> (ou valider) les performances de nos modèles.\n"
   ]
  },
  {
   "cell_type": "markdown",
   "metadata": {},
   "source": [
    "Avant de séparer nos données, nous allons standardiser les variables en soutrayant la moyenne et en mettant à l'échelle la variance unitaire. Standardiser les données peut permettre à certains modèles de converger beaucoup plus vite."
   ]
  },
  {
   "cell_type": "code",
   "execution_count": 6,
   "metadata": {},
   "outputs": [],
   "source": [
    "from sklearn.model_selection import train_test_split\n",
    "from sklearn.preprocessing import StandardScaler"
   ]
  },
  {
   "cell_type": "code",
   "execution_count": 7,
   "metadata": {},
   "outputs": [
    {
     "name": "stdout",
     "output_type": "stream",
     "text": [
      "Index(['DayWeek', 'Cat_1_level_1', 'Cat_1_level_2', 'Cat_1_weight', 'Month',\n",
      "       'Day', 'Hours', 'content_char_len', 'content_char_length_category',\n",
      "       'To_count'],\n",
      "      dtype='object')\n"
     ]
    }
   ],
   "source": [
    "X = df.drop(columns=['Years'])\n",
    "y = df['Years']\n",
    "print(X.columns)\n",
    "scaler = StandardScaler()\n",
    "X = scaler.fit_transform(X)"
   ]
  },
  {
   "cell_type": "code",
   "execution_count": 8,
   "metadata": {},
   "outputs": [],
   "source": [
    "X_train_origin, X_final_test, y_train_origin, y_final_test = train_test_split(X, y, test_size=0.2, random_state=42)\n",
    "X_train, X_test, y_train, y_test =  train_test_split(X_train_origin, y_train_origin, test_size=0.1, random_state=42)"
   ]
  },
  {
   "cell_type": "code",
   "execution_count": 9,
   "metadata": {},
   "outputs": [
    {
     "name": "stdout",
     "output_type": "stream",
     "text": [
      "train set size:  71937\n",
      "validation set size:  7993\n",
      "final test set size:  19983\n"
     ]
    }
   ],
   "source": [
    "print('train set size: ' ,len(X_train))\n",
    "print('validation set size: ', len(X_test))\n",
    "print('final test set size: ', len(X_final_test))\n"
   ]
  },
  {
   "cell_type": "markdown",
   "metadata": {},
   "source": [
    "<br>\n",
    "La fonction suivante va nous permettre de choisir la distribution des données voulu lors de l'<b>oversampling et undersampling</b>.\n",
    "Avec ces méthodes, on peut choisir la distribution des données pour chaque classe. Nous allons donc <b>oversample</b> les classes 0 et 3 (classe 1999 et 2002) et <b>undersample</b> les classes 1 et 2 (classes 2000 et 2001)"
   ]
  },
  {
   "cell_type": "code",
   "execution_count": 36,
   "metadata": {},
   "outputs": [],
   "source": [
    "def over_undersample(X, valid=False):\n",
    "    if valid:\n",
    "        len_1999 = round(len(X)/20)\n",
    "        len_2000 = round(len(X)/20)*2\n",
    "        len_2001 = round(len(X)/20)*2\n",
    "        len_2002 = round(len(X)/20)\n",
    "    else:\n",
    "        len_1999 = round(len(X)/5)\n",
    "        len_2000 = round((len(X)/5))*2\n",
    "        len_2001 = round((len(X)/5))*2\n",
    "        len_2002 = round(len(X)/5)\n",
    "    return(len_1999, len_2000, len_2001, len_2002)\n",
    "\n",
    "#Resample for training\n",
    "len_1999, len_2000, len_2001, len_2002 = over_undersample(X_train)\n",
    "\n",
    "oversample_train = SMOTE(sampling_strategy={0:len_1999,3:len_2002})\n",
    "undersample_train = RandomUnderSampler(sampling_strategy={1:len_2000,2:len_2001})\n",
    "\n",
    "\n",
    "#Resample for cross validation\n",
    "len_1999, len_2000, len_2001, len_2002 = over_undersample(X_train_origin, True)\n",
    "\n",
    "oversample_train_origin = SMOTE(sampling_strategy={0:len_1999,3:len_2002})\n",
    "undersample_train_origin = RandomUnderSampler(sampling_strategy={1:len_2000,2:len_2001})\n",
    "\n"
   ]
  },
  {
   "cell_type": "markdown",
   "metadata": {},
   "source": [
    "<br>\n",
    "<center><h1> II - Model building</h1></center>"
   ]
  },
  {
   "cell_type": "markdown",
   "metadata": {},
   "source": [
    "C'est le moment de pré-choisir nos modèles, il existe beaucoup de classifier:\n",
    "\n",
    "- Decision Tree Classifier\n",
    "\n",
    "- K nearest neighbors \n",
    "\n",
    "- Support Vector Machine --> L'entraînement SVM avec des noyaux non linéaires, qui est par défaut dans SVC de sklearn, est approximativement en termes de complexité: O<b>(n_samples ^ 2 * n_features)</b>. On s'en passera donc ici.\n",
    "\n",
    "- Random Forest Classifier\n",
    "\n",
    "- ... il en existe énormément.\n",
    "\n",
    "\n",
    "Dans <b>notre cas</b>, nous allons utiliser les suivants:\n",
    "\n",
    "- <b>Decision Tree Classifier</b>\n",
    "\n",
    "- <b>Random Forest Classifier</b>\n",
    "\n",
    "- <b>Logistic Regression</b>\n",
    "\n",
    "- <b>Perceptron</b>\n",
    "\n",
    "- <b> K nearest neighbors </b>\n",
    "\n",
    "- <b>Ensemble Learning</b> (Boosting, Bagging)\n",
    "\n",
    "- <b>Xgboost</b>\n",
    "\n",
    "- <b>MLP Sequential</b>\n",
    "\n",
    "\n",
    "\n",
    "Nous essaierons de les expliquer pas à pas."
   ]
  },
  {
   "cell_type": "code",
   "execution_count": 11,
   "metadata": {},
   "outputs": [],
   "source": [
    "from sklearn.tree import DecisionTreeClassifier\n",
    "from sklearn.ensemble import RandomForestClassifier\n",
    "from sklearn.neighbors import KNeighborsClassifier\n",
    "from sklearn.linear_model import LogisticRegression\n",
    "from sklearn.linear_model import Perceptron\n",
    "from sklearn.ensemble import AdaBoostClassifier\n",
    "from xgboost import XGBClassifier\n",
    "\n",
    "from imblearn.pipeline import make_pipeline as imbalanced_make_pipeline\n",
    "\n",
    "from sklearn.model_selection import cross_val_score\n",
    "from sklearn.metrics import confusion_matrix, accuracy_score, precision_score, recall_score, f1_score, balanced_accuracy_score\n",
    "\n",
    "models = []\n",
    "acc_training = []\n",
    "acc_test = []\n",
    "acc_balanced = []"
   ]
  },
  {
   "cell_type": "markdown",
   "metadata": {},
   "source": [
    "<br>\n",
    "<center><h3> a - Decision Tree Classifier </h3></center>"
   ]
  },
  {
   "cell_type": "markdown",
   "metadata": {},
   "source": [
    "L'objectif est de créer un modèle qui prédit la valeur d'une variable cible (y) en apprenant des <b>règles de décision simples</b> déduites des caractéristiques (X) des données.\n",
    "\n",
    "Il y a plusieurs <b>avantages</b> à utiliser les arbres de décision sont les suivants:\n",
    "\n",
    "- Simple à comprendre et à interpréter. Les arbres peuvent être visualisés.\n",
    "\n",
    "- Le coût d'utilisation de l'arbre (c'est-à-dire la prédiction des données) est <b>logarithmique</b> dans le nombre de points de données utilisés pour entraîner l'arbre.\n",
    "\n",
    "- Utilise un modèle de boîte blanche. Si une situation donnée est observable dans un modèle, l'explication de la condition est facilement expliquée par la logique booléenne. En revanche, dans un modèle de boîte noire (par exemple, dans un réseau de neurones artificiels), les résultats peuvent être plus difficiles à interpréter.\n",
    "\n",
    "Cependant, il y a aussi des <b>désavantages</b>:\n",
    "\n",
    "- Les <b>Decision Tree learners</b> peuvent créer des arbres trop complexes qui ne <b>généralisent</b> pas bien les données. C'est ce qu'on appelle l'<b>overfitting</b>. Des mécanismes tels que l'<b>élagage</b>, la définition du nombre <b>minimum d'échantillons</b> requis au niveau d'un nœud feuille ou la définition de la <b>profondeur maximale</b> de l'arbre sont nécessaires pour éviter ce problème.\n",
    "\n",
    "- Les Decision Tree learners créent des arbres biaisés si certaines classes <b>prédominent</b>. Il est donc recommandé d'équilibrer l'ensemble de données avant de le fit à l'arbre de décision."
   ]
  },
  {
   "cell_type": "code",
   "execution_count": 15,
   "metadata": {},
   "outputs": [
    {
     "name": "stdout",
     "output_type": "stream",
     "text": [
      "Decision Tree training score:  0.9899773412847352\n",
      "Decision Tree accuracy validation score:  0.9399474540222695\n",
      "Decision Tree balanced accuracy validation score:  0.9205620733654318\n"
     ]
    },
    {
     "data": {
      "text/plain": [
       "<AxesSubplot:>"
      ]
     },
     "execution_count": 15,
     "metadata": {},
     "output_type": "execute_result"
    },
    {
     "data": {
      "image/png": "[encoded data removed]",
      "text/plain": [
       "<Figure size 432x288 with 2 Axes>"
      ]
     },
     "metadata": {},
     "output_type": "display_data"
    }
   ],
   "source": [
    "dtc = DecisionTreeClassifier()\n",
    "pipeline_dtc = imbalanced_make_pipeline(oversample_train, undersample_train, dtc)\n",
    "\n",
    "pipeline_dtc.fit(X_train, y_train)\n",
    "y_pred = pipeline_dtc.predict(X_test)\n",
    "\n",
    "training_score = pipeline_dtc.score(X_train,y_train)\n",
    "test_score = accuracy_score(y_pred, y_test)\n",
    "print('Decision Tree training score: ', training_score)\n",
    "print('Decision Tree accuracy validation score: ', test_score)\n",
    "\n",
    "balanced_score = balanced_accuracy_score(y_test, y_pred)\n",
    "print('Decision Tree balanced accuracy validation score: ', balanced_score)\n",
    "matrix = confusion_matrix(y_test, y_pred)\n",
    "sns.heatmap(matrix, annot=True, fmt='2.0f')\n",
    "\n"
   ]
  },
  {
   "cell_type": "code",
   "execution_count": 16,
   "metadata": {},
   "outputs": [],
   "source": [
    "models.append('DecisionTreeClassifier')\n",
    "acc_training.append(training_score)\n",
    "acc_test.append(test_score)\n",
    "acc_balanced.append(balanced_score)"
   ]
  },
  {
   "cell_type": "markdown",
   "metadata": {},
   "source": [
    "<br>\n",
    "<center><h3>b - Random Forest Classifier</h3></center>"
   ]
  },
  {
   "cell_type": "markdown",
   "metadata": {},
   "source": [
    "Une <b>Random Forest</b> est un ensemble de <b>Decision Tree</b> généralement via une méthode de <b>bagging</b>. A quelques exceptions près, une Random Forest Classifier possède les mêmes <b>hyperparamètres</b> qu'un Decision Tree Classifier (Pour controler comment les abres grandissent), plus tous les <b>hyperparamètres</b> d'un <b>Bagging Classifier</b>. (explications: *Bagging methods*: Annexe ML, *hyperparamètres*: Annexe ML)\n",
    "\n",
    "l'algorithme de Random Forest introduit un <b>caractère aléatoire</b> supplémentaire lors de la croissance des arbres. Plus précisemment, il recherche la meilleure caractéristique parmi un <b>sous-ensemble aléatoire</b> de caractéristiques.\n",
    "\n",
    "Cet algorithme résulte donc en une très <b>grande diversité</b> d'arbre, ce qui donne lieu à un <b>grand biais</b> pour une <b>faible variable</b>, ce la donne généralement un <b>meilleur modèle global<b>.\n",
    "    \n",
    "Une <b>grande qualité</b> des Random Forest est qu'elles rendent facile <b>la mesure de l'importance relative</b> de chaque variable. Sklearn mesure l'importance d'une variable en regardant comment les noeuds des arbres qui utilisent cette variable réduisent en moyenne l'impureté. \n",
    "Plus précisement, c'est une <b>moyenne pondérée</b>, où chaque <b>poids</b> d'un noeud est égale au nombre d'<b>échantillons</b> d'entraînement qui y est associé."
   ]
  },
  {
   "cell_type": "code",
   "execution_count": 17,
   "metadata": {},
   "outputs": [
    {
     "name": "stdout",
     "output_type": "stream",
     "text": [
      "Random Forest training score:  0.9903665707494057\n",
      "Random Forest validation score:  0.9459527086200425\n",
      "RandomForest balanced accuracy validation score:  0.9004095534715326\n"
     ]
    },
    {
     "data": {
      "text/plain": [
       "<AxesSubplot:>"
      ]
     },
     "execution_count": 17,
     "metadata": {},
     "output_type": "execute_result"
    },
    {
     "data": {
      "image/png": "[encoded data removed]",
      "text/plain": [
       "<Figure size 432x288 with 2 Axes>"
      ]
     },
     "metadata": {},
     "output_type": "display_data"
    }
   ],
   "source": [
    "rfc = RandomForestClassifier()\n",
    "pipeline_rfc = imbalanced_make_pipeline(oversample_train, undersample_train, rfc)\n",
    "\n",
    "\n",
    "pipeline_rfc.fit(X_train, y_train)\n",
    "y_pred = pipeline_rfc.predict(X_test)\n",
    "\n",
    "training_score = pipeline_rfc.score(X_train,y_train)\n",
    "test_score = accuracy_score(y_pred, y_test)\n",
    "print('Random Forest training score: ', training_score)\n",
    "print('Random Forest validation score: ', test_score)\n",
    "\n",
    "balanced_score = balanced_accuracy_score(y_test, y_pred)\n",
    "print('RandomForest balanced accuracy validation score: ', balanced_score)\n",
    "\n",
    "matrix = confusion_matrix(y_test, y_pred)\n",
    "sns.heatmap(matrix, annot=True, fmt='2.0f')"
   ]
  },
  {
   "cell_type": "code",
   "execution_count": 18,
   "metadata": {},
   "outputs": [],
   "source": [
    "models.append('RandomForestClassifier')\n",
    "acc_training.append(training_score)\n",
    "acc_test.append(test_score)\n",
    "acc_balanced.append(balanced_score)"
   ]
  },
  {
   "cell_type": "markdown",
   "metadata": {},
   "source": [
    "<br>\n",
    "<center><h3>c - Logistic Regression</h3></center>"
   ]
  },
  {
   "cell_type": "markdown",
   "metadata": {},
   "source": [
    "\n",
    "\n",
    "<b>Logistic Regression</b> est souvent utilisé pour estimer la <b>probabilité</b> qu'une instance fasse partie d'une classe particulière. \n",
    "Si la <b>probabilité estimée</b> est plus grande que 50%, alors le modèle prédit que l'instance fait partie de cette classe (la classe <b>positive</b>) et sinon le modèle prédit que l'instance ne fait pas partie de cette classe (mais de la classe <b>négative</b>). Cela en fait donc un <b>classifier binaire</b>, ce qui n'est pas ce que l'on veut.\n",
    "\n"
   ]
  },
  {
   "cell_type": "markdown",
   "metadata": {},
   "source": [
    "En fait, ce modèle peut aussi être appliqué à des problèmes <b>multiclasses</b>, le modèle s'appelle alors <b>Multinomial Logistic Regression</b>. Cependant, le modèle multinomial de la logistic regression est particulièrement important pour des modèles sophistiqués utilisés en <b>deep learning</b>."
   ]
  },
  {
   "cell_type": "markdown",
   "metadata": {},
   "source": [
    "La Logistic Regression est également intéressante car nous prenons nos variables d'entrées, les transformons via une <b>combinaison linéaire</b> des poids(weights) (à savoir A1 · X1 + A2 · X2 + A3 · X3 ...), puis les exécutons via une fonction <b>non linéaire</b>."
   ]
  },
  {
   "cell_type": "markdown",
   "metadata": {},
   "source": [
    "Soit <b>F</b> la fonction reprensentant l'<b>estimation</b> de probabilité la <b>probabilité totale</b> d'un jeu de données est:"
   ]
  },
  {
   "cell_type": "markdown",
   "metadata": {},
   "source": [
    "$Probability = \\prod_{n=1}^{n}(F(X_i))^{y_i}.(1-F(X_i))^{1-y_i} $"
   ]
  },
  {
   "cell_type": "markdown",
   "metadata": {},
   "source": [
    "L'objectif sera alors de <b>maximiser</b> cette probabilité. On peut le faire en prenant la <b>dérivée</b> par rapport à nos poids (weights) en définissant la dérivée à 0. Nous pouvons ensuite exécuter une <b>descente de gradient</b> en utilisant notre gradient calculé pour obtenir nos poids optimaux."
   ]
  },
  {
   "cell_type": "markdown",
   "metadata": {},
   "source": [
    "le modèle de Logistic Regression a une description assez simple, peut être entraîné assez rapidement grâce à des techniques telles que la descente de gradient en raison de sa  dérivée, et fonctionne souvent bien dans la pratique."
   ]
  },
  {
   "cell_type": "code",
   "execution_count": 19,
   "metadata": {},
   "outputs": [
    {
     "name": "stdout",
     "output_type": "stream",
     "text": [
      "Logistic Regression training score:  0.5748363151090538\n",
      "Logistic Regression validation score:  0.5798823970974603\n",
      "LogisticRegression balanced accuracy validation score:  0.5151728668795387\n"
     ]
    },
    {
     "data": {
      "image/png": "[encoded data removed]",
      "text/plain": [
       "<Figure size 432x288 with 2 Axes>"
      ]
     },
     "metadata": {},
     "output_type": "display_data"
    }
   ],
   "source": [
    "lg = LogisticRegression(max_iter=300)\n",
    "pipeline_lg = imbalanced_make_pipeline(oversample_train, undersample_train, lg)\n",
    "\n",
    "pipeline_lg.fit(X_train, y_train)\n",
    "y_pred = pipeline_lg.predict(X_test)\n",
    "training_score = pipeline_lg.score(X_train,y_train)\n",
    "test_score = accuracy_score(y_pred, y_test)\n",
    "print('Logistic Regression training score: ', training_score)\n",
    "print('Logistic Regression validation score: ', test_score)\n",
    "\n",
    "\n",
    "balanced_score = balanced_accuracy_score(y_test, y_pred)\n",
    "print('LogisticRegression balanced accuracy validation score: ', balanced_score)\n",
    "\n",
    "matrix = confusion_matrix(y_test, y_pred)\n",
    "sns.heatmap(matrix, annot=True, fmt='2.0f')\n",
    "acc_balanced.append(balanced_score)"
   ]
  },
  {
   "cell_type": "code",
   "execution_count": 20,
   "metadata": {},
   "outputs": [],
   "source": [
    "models.append('Logistic Regression')\n",
    "acc_training.append(training_score)\n",
    "acc_test.append(test_score)\n"
   ]
  },
  {
   "cell_type": "markdown",
   "metadata": {},
   "source": [
    "<center><h3>d - KNearestNeighbours</h3></center>"
   ]
  },
  {
   "cell_type": "code",
   "execution_count": 21,
   "metadata": {},
   "outputs": [
    {
     "name": "stdout",
     "output_type": "stream",
     "text": [
      "KNearestNeighbours training score:  0.9336224752213742\n",
      "KNearestNeighbours validation score:  0.8524959339421995\n",
      "KNearestNeighbours balanced accuracy validation score:  0.8544143399499667\n"
     ]
    },
    {
     "data": {
      "text/plain": [
       "<AxesSubplot:>"
      ]
     },
     "execution_count": 21,
     "metadata": {},
     "output_type": "execute_result"
    },
    {
     "data": {
      "image/png": "[encoded data removed]",
      "text/plain": [
       "<Figure size 432x288 with 2 Axes>"
      ]
     },
     "metadata": {},
     "output_type": "display_data"
    }
   ],
   "source": [
    "knn = KNeighborsClassifier(n_neighbors=3)\n",
    "pipeline_knn = imbalanced_make_pipeline(oversample_train, undersample_train, knn)\n",
    "\n",
    "pipeline_knn.fit(X_train, y_train)\n",
    "y_pred = pipeline_knn.predict(X_test)\n",
    "training_score = pipeline_knn.score(X_train,y_train)\n",
    "test_score = accuracy_score(y_pred, y_test)\n",
    "print('KNearestNeighbours training score: ', training_score)\n",
    "print('KNearestNeighbours validation score: ', test_score)\n",
    "\n",
    "\n",
    "balanced_score = balanced_accuracy_score(y_test, y_pred)\n",
    "print('KNearestNeighbours balanced accuracy validation score: ', balanced_score)\n",
    "\n",
    "matrix = confusion_matrix(y_test, y_pred)\n",
    "sns.heatmap(matrix, annot=True, fmt='2.0f')"
   ]
  },
  {
   "cell_type": "code",
   "execution_count": 22,
   "metadata": {},
   "outputs": [],
   "source": [
    "models.append('KNearestNeighbours')\n",
    "acc_training.append(training_score)\n",
    "acc_test.append(test_score)\n",
    "acc_balanced.append(balanced_score)"
   ]
  },
  {
   "cell_type": "markdown",
   "metadata": {},
   "source": [
    "<br>\n",
    "<center><h3> e - Perceptron </h3></center>"
   ]
  },
  {
   "cell_type": "markdown",
   "metadata": {},
   "source": [
    "Le <b>Perceptron</b> est un autre algorithme de classification simple adapté à l'apprentissage à <b>grande échelle</b>. Il est sûrement l'un des plus simple <b>ANN</b> (Articial neural network)."
   ]
  },
  {
   "cell_type": "markdown",
   "metadata": {},
   "source": [
    "Le pereceptron est basé sur un neurone artificiel appelé <b>threshold logic unit</b> (TLU). Les entrées et sorties sont des nombres. \n",
    "\n",
    "Chaque connection d'entrée est associé avec un <b>poids</b>. Le <b>TLU</b> une <b>somme</b> de poids des entrées. Puis applique une <b> step function </b> à cette somme et donne en sorties le résultat."
   ]
  },
  {
   "cell_type": "markdown",
   "metadata": {},
   "source": [
    "Un seul TLU peut être utilisé pour une <b>simple classification linéaire binaire</b>. Il calcule une <b> combinaison linéaire</b> des entrées et si le résultat dépasse le <b>seuil</b> (threshold de la step function) la sortie (prédiction) sera la <b>classe positive</b> sinon la sortie est la <b>classe négative</b> (comme la Logistic Regression)."
   ]
  },
  {
   "cell_type": "markdown",
   "metadata": {},
   "source": [
    "Un perceptron est simplement composé de plus d'un <b>seule couche de plusieurs</b> TLU avec chaque TLU connecté à toutes les entrées.\n",
    "\n",
    "Lorsque tous les neurones dans une couche sont connecté à tout neurone de la couche précédent (neurons d'entrée), la couche est appelé <b>fully connected layer</b>. les entrées du perceptron sont acheminées vers des neurones transitoires spéciaux appelés <b>neurones d'entrée</b>: ils sortent les entrées auxquelles ils sont alimentés.\n",
    "\n",
    "Si perceptron a 2 entrées et 3 sorties, il peut classifier les instances simultanéments en 3 différentes classes binaire, cela fait du pereceptron un <b>classifier multioutput</b>."
   ]
  },
  {
   "cell_type": "markdown",
   "metadata": {},
   "source": [
    "Ce modèle se met à jour <b>uniquement sur les erreurs</b>."
   ]
  },
  {
   "cell_type": "code",
   "execution_count": 25,
   "metadata": {},
   "outputs": [
    {
     "name": "stdout",
     "output_type": "stream",
     "text": [
      "Perceptron training score:  0.3630537831713861\n",
      "Perceptron validation score:  0.36481921681471285\n",
      "LinearRegression balanced accuracy validation score:  0.4917149321575086\n"
     ]
    },
    {
     "data": {
      "text/plain": [
       "<AxesSubplot:>"
      ]
     },
     "execution_count": 25,
     "metadata": {},
     "output_type": "execute_result"
    },
    {
     "data": {
      "image/png": "[encoded data removed]",
      "text/plain": [
       "<Figure size 432x288 with 2 Axes>"
      ]
     },
     "metadata": {},
     "output_type": "display_data"
    }
   ],
   "source": [
    "perceptron = Perceptron(tol = 1e-3, random_state = 0)\n",
    "pipeline_neur = imbalanced_make_pipeline(oversample_train, undersample_train, perceptron)\n",
    "\n",
    "pipeline_neur.fit(X_train, y_train)\n",
    "y_pred = pipeline_neur.predict(X_test)\n",
    "training_score = pipeline_neur.score(X_train,y_train)\n",
    "test_score = accuracy_score(y_pred, y_test)\n",
    "print('Perceptron training score: ', training_score)\n",
    "print('Perceptron validation score: ', test_score)\n",
    "\n",
    "balanced_score = balanced_accuracy_score(y_test, y_pred)\n",
    "print('LinearRegression balanced accuracy validation score: ', balanced_score)\n",
    "\n",
    "matrix = confusion_matrix(y_test, y_pred)\n",
    "sns.heatmap(matrix, annot=True, fmt='2.0f')"
   ]
  },
  {
   "cell_type": "code",
   "execution_count": 26,
   "metadata": {},
   "outputs": [],
   "source": [
    "models.append('Perceptron')\n",
    "acc_training.append(training_score)\n",
    "acc_test.append(test_score)\n",
    "acc_balanced.append(balanced_score)"
   ]
  },
  {
   "cell_type": "markdown",
   "metadata": {},
   "source": [
    "<br>\n",
    "<center><h3> f - Boosting</h3></center>"
   ]
  },
  {
   "cell_type": "markdown",
   "metadata": {},
   "source": [
    "Le <b>boosting</b> réfère à tout <b> Ensemble method</b> qui peut <b>transformer</b> plusieurs <b>learners faible</b> en un <b>learner fort</b>. L'idée générale des <b>Boosting methods</b> est d'entrainer des prédicteurs par <b>séquence</b>. Plus précisement, chaque prédicteur essaie de <b>corriger</b> son prédecesseur. (*Ensemble method*: voir annexe ML)"
   ]
  },
  {
   "cell_type": "markdown",
   "metadata": {},
   "source": [
    "Ici, nous allons utiliser <b>AdaBoost</b> (Adaptive Boosting)."
   ]
  },
  {
   "cell_type": "markdown",
   "metadata": {},
   "source": [
    "Un moyen pour un nouveau prédicteur de corrier son prédécesseur est d'accorder plus d'attention aux instances d'entraînements que son predecesseur a <b>underfit</b> (sous ajustés). Cela résulte en un nouveau prédicteur concentré de plus en plus sur les <b>cas difficiles</b>. C'est la technique utilisée par <b>Adaboost</b>"
   ]
  },
  {
   "cell_type": "code",
   "execution_count": 27,
   "metadata": {},
   "outputs": [
    {
     "name": "stdout",
     "output_type": "stream",
     "text": [
      "AdaBoost with DecisionTree training score:  0.989741023395471\n",
      "AdaBoost with DecisionTree validation score:  0.9458275991492556\n",
      "Adaboost balanced accuracy validation score:  0.9139708757087005\n"
     ]
    },
    {
     "data": {
      "text/plain": [
       "<AxesSubplot:>"
      ]
     },
     "execution_count": 27,
     "metadata": {},
     "output_type": "execute_result"
    },
    {
     "data": {
      "image/png": "[encoded data removed]",
      "text/plain": [
       "<Figure size 432x288 with 2 Axes>"
      ]
     },
     "metadata": {},
     "output_type": "display_data"
    }
   ],
   "source": [
    "ada_clf = AdaBoostClassifier(DecisionTreeClassifier(), n_estimators=200, algorithm=\"SAMME.R\", learning_rate=0.5)\n",
    "\n",
    "pipeline_ada = imbalanced_make_pipeline(oversample_train, undersample_train, ada_clf)\n",
    "pipeline_ada.fit(X_train, y_train)\n",
    "y_pred = pipeline_ada.predict(X_test)\n",
    "training_score = pipeline_ada.score(X_train, y_train)\n",
    "test_score = accuracy_score(y_pred, y_test)\n",
    "print('AdaBoost with DecisionTree training score: ', training_score)\n",
    "print('AdaBoost with DecisionTree validation score: ', test_score)\n",
    "\n",
    "\n",
    "balanced_score = balanced_accuracy_score(y_test, y_pred)\n",
    "print('Adaboost balanced accuracy validation score: ', balanced_score)\n",
    "\n",
    "matrix = confusion_matrix(y_test, y_pred)\n",
    "sns.heatmap(matrix, annot=True, fmt='2.0f')"
   ]
  },
  {
   "cell_type": "code",
   "execution_count": 28,
   "metadata": {},
   "outputs": [],
   "source": [
    "models.append('Adaboost with DecisionTree')\n",
    "acc_training.append(training_score)\n",
    "acc_test.append(test_score)\n",
    "acc_balanced.append(balanced_score)"
   ]
  },
  {
   "cell_type": "markdown",
   "metadata": {},
   "source": [
    "<br>\n",
    "<center><h3> g - Xgboost</h3></center>"
   ]
  },
  {
   "cell_type": "markdown",
   "metadata": {},
   "source": [
    "<b>XGBoost</b> (Extreme Gradient Boosting) est une implémentation de l'algorithme <b>Gradient Tree Boosting</b> qui est largement reconnu pour son efficacité et sa précision prédictive. <b>Gradient Tree Boosting</b> entraîne un <b>ensemble d'arbre de décision</b> en entraînant chaque arbre à <b>prédire l'erreur de prédiction</b> de tous les arbres précédents de l'ensemble."
   ]
  },
  {
   "cell_type": "markdown",
   "metadata": {},
   "source": [
    "XGBoost vise à être <b>très rapide</b>, <b>scalable</b> et <b>portable</b>."
   ]
  },
  {
   "cell_type": "code",
   "execution_count": 30,
   "metadata": {},
   "outputs": [
    {
     "name": "stdout",
     "output_type": "stream",
     "text": [
      "xgboost training score:  0.6997789732682764\n",
      "xgboost validation score:  0.6969848617540347\n",
      "Xgboost balanced accuracy validation score:  0.6398025512171002\n"
     ]
    },
    {
     "data": {
      "text/plain": [
       "<AxesSubplot:>"
      ]
     },
     "execution_count": 30,
     "metadata": {},
     "output_type": "execute_result"
    },
    {
     "data": {
      "image/png": "[encoded data removed]",
      "text/plain": [
       "<Figure size 432x288 with 2 Axes>"
      ]
     },
     "metadata": {},
     "output_type": "display_data"
    }
   ],
   "source": [
    "boost = XGBClassifier()\n",
    "pipeline_xgb = imbalanced_make_pipeline(oversample_train, undersample_train, boost)\n",
    "\n",
    "pipeline_xgb.fit(X_train, y_train)\n",
    "y_pred = pipeline_xgb.predict(X_test)\n",
    "\n",
    "training_score = pipeline_xgb.score(X_train, y_train)\n",
    "test_score = accuracy_score(y_pred, y_test)\n",
    "print('xgboost training score: ', training_score)\n",
    "print('xgboost validation score: ', test_score)\n",
    "\n",
    "balanced_score = balanced_accuracy_score(y_test, y_pred)\n",
    "print('Xgboost balanced accuracy validation score: ', balanced_score)\n",
    "\n",
    "matrix = confusion_matrix(y_test, y_pred)\n",
    "sns.heatmap(matrix, annot=True, fmt='2.0f')"
   ]
  },
  {
   "cell_type": "code",
   "execution_count": 31,
   "metadata": {},
   "outputs": [],
   "source": [
    "models.append('xgboost')\n",
    "acc_training.append(training_score)\n",
    "acc_test.append(test_score)\n",
    "acc_balanced.append(balanced_score)"
   ]
  },
  {
   "cell_type": "markdown",
   "metadata": {},
   "source": [
    "<br>\n",
    "<center><h3>h - MLP Classification</h3></center>"
   ]
  },
  {
   "cell_type": "markdown",
   "metadata": {},
   "source": [
    "Un <b>MLP</b> ou (Multi Layers Perceptron) est composé d'une <b>couche d'entrée</b> (input layer), d'<b>une ou plusieurs</b> couche de TLUs (hidden layers) et d'une <b>couche finale</b> de TLUs. Chaque couche (sauf la couche de sortie) comprend un <b>neurons biais</b> (fonction d'activation est en permanence égale à 1) et est **<b>fully connected</b>** à la couche suivante."
   ]
  },
  {
   "cell_type": "markdown",
   "metadata": {},
   "source": [
    "Lorsqu'un <b>ANN </b>contient une pile profonde de <b> hidden layers</b> (couche cachée), on appelle ce ANN un <b>DNN</b> (deep neural network). Le domaine du <b>Deep Learning</b> étudie ces DNNs."
   ]
  },
  {
   "cell_type": "code",
   "execution_count": 57,
   "metadata": {},
   "outputs": [],
   "source": [
    "from tensorflow import keras"
   ]
  },
  {
   "cell_type": "code",
   "execution_count": 58,
   "metadata": {},
   "outputs": [
    {
     "data": {
      "text/plain": [
       "(71937, 10)"
      ]
     },
     "execution_count": 58,
     "metadata": {},
     "output_type": "execute_result"
    }
   ],
   "source": [
    "X_train.shape"
   ]
  },
  {
   "cell_type": "markdown",
   "metadata": {},
   "source": [
    "<h4>Création de notre modèle en utilisant l'API <b>Sequential</b> de Keras.</h4>"
   ]
  },
  {
   "cell_type": "markdown",
   "metadata": {},
   "source": [
    "- La <b>première ligne</b> de code crée un modèle <b>Sequential</b>. C'est le genre de modèle le plus simple dans Keras pour les réseaux de neurones. Ce modèle est composé d'une <b>seule pile</b> de couche </b>connectée séquentiellement</b>.\n",
    "\n",
    "- Pour ce modèle, nous n'utiliserons pas le resampling comme vu avec <b>SMOTE</b> précédemment, nous allons utiliser la <b>classe weight</b> qui nous permet de gérer les données déséquilibrées également. "
   ]
  },
  {
   "cell_type": "code",
   "execution_count": 59,
   "metadata": {},
   "outputs": [],
   "source": [
    "from sklearn.utils import class_weight\n",
    "class_weight = class_weight.compute_class_weight('balanced',classes=np.unique(y_train.to_numpy()),y= y_train.to_numpy())"
   ]
  },
  {
   "cell_type": "code",
   "execution_count": 60,
   "metadata": {},
   "outputs": [],
   "source": [
    "model = keras.models.Sequential()\n",
    "model.add(keras.layers.Flatten(input_shape=[10]))\n",
    "model.add(keras.layers.Dense(300, activation=\"relu\"))\n",
    "model.add(keras.layers.Dense(90, activation=\"relu\"))\n",
    "model.add(keras.layers.Dense(30, activation=\"relu\"))\n",
    "model.add(keras.layers.Dense(4, activation=\"softmax\"))\n"
   ]
  },
  {
   "cell_type": "markdown",
   "metadata": {},
   "source": [
    "- Ensuite dans la <b>seconde ligne</b>, nous construisons la première couche et l'ajoutons au modèle. C'est une couche <b>Flatten</b> dont le rôle est de convertir chaque entrée en un tableau d'une dimension. Cette est couche est seulement là pour faire du preprocessing.\n",
    "\n",
    "- Nous ajoutons ensuite une couche <b> Dense</b> avec <b> 300 neurons</b>. Cette couche utilise la fonction d'activation <b>ReLU</b>.\n",
    "    - Chaque couche <b>Dense</b> gère sa propre <b>matrice des poids</b>, contenant toutes les poids de connections entre les neurons et leurs entrées. elle gère aussi un vecteur de biais.\n",
    "    \n",
    "    \n",
    "- Nous ajoutons ensuite deux autres Dense couche (toujours hidden layers).\n",
    "\n",
    "- Finalement on ajoute  une couche de <b>sortie Dense</b> (output layer) avec 3 (le 4 est exclu) neurones (1 par classe), en utilisant la fonction d'activation <b> softmax</b> car nos classes sont exclusives.\n",
    "\n"
   ]
  },
  {
   "cell_type": "code",
   "execution_count": 61,
   "metadata": {},
   "outputs": [],
   "source": [
    "model.compile(loss=\"sparse_categorical_crossentropy\", optimizer=\"adam\",class_weight=class_weight, metrics=[\"accuracy\"])"
   ]
  },
  {
   "cell_type": "markdown",
   "metadata": {},
   "source": [
    "Avant de fit nos données, on doit compiler notre modèle.\n",
    "Quelques explications sur le choix des paramètres:\n",
    "\n",
    "- Nous utilisons <b>sparse_categorical_crossentropy</b> car nous avons des <b>sparse</b> labels (clairsemé) et que chaque classe est <b>exclusive</b>.\n",
    "\n",
    "- Nous utilisons l'optimiseur <b> adam</b> c'une extension de la <b>descente de gradient stochastique</b>.\n",
    "    "
   ]
  },
  {
   "cell_type": "code",
   "execution_count": 62,
   "metadata": {},
   "outputs": [],
   "source": [
    "history = model.fit(X_train, y_train.to_numpy(), epochs=50, validation_data=(X_test, y_test.to_numpy()), verbose=0)"
   ]
  },
  {
   "cell_type": "code",
   "execution_count": 63,
   "metadata": {},
   "outputs": [
    {
     "name": "stdout",
     "output_type": "stream",
     "text": [
      "MLP training score 0.99555165\n",
      "MLP validation score:  0.9971224821719004\n",
      "MLP balanced accuracy validation score:  0.9827031817667542\n"
     ]
    },
    {
     "data": {
      "text/plain": [
       "<AxesSubplot:>"
      ]
     },
     "execution_count": 63,
     "metadata": {},
     "output_type": "execute_result"
    },
    {
     "data": {
      "image/png": "[encoded data removed]",
      "text/plain": [
       "<Figure size 432x288 with 2 Axes>"
      ]
     },
     "metadata": {},
     "output_type": "display_data"
    }
   ],
   "source": [
    "y_pred = model.predict_classes(X_test)\n",
    "\n",
    "test_score = accuracy_score(y_pred, y_test)\n",
    "balanced_score = balanced_accuracy_score(y_test, y_pred)\n",
    "\n",
    "print('MLP training score', max(history.history['accuracy']))\n",
    "print('MLP validation score: ', test_score)\n",
    "print('MLP balanced accuracy validation score: ', balanced_score)\n",
    "\n",
    "models.append('MLP Sequential')\n",
    "acc_training.append( max(history.history['accuracy']))\n",
    "acc_test.append(test_score)\n",
    "acc_balanced.append(balanced_score)\n",
    "\n",
    "matrix = confusion_matrix(y_test, y_pred)\n",
    "sns.heatmap(matrix, annot=True, fmt='2.0f')"
   ]
  },
  {
   "cell_type": "code",
   "execution_count": 64,
   "metadata": {},
   "outputs": [
    {
     "data": {
      "image/png": "[encoded data removed]",
      "text/plain": [
       "<Figure size 576x360 with 1 Axes>"
      ]
     },
     "metadata": {},
     "output_type": "display_data"
    }
   ],
   "source": [
    "pd.DataFrame(history.history).plot(figsize=(8, 5))\n",
    "plt.grid(True)\n",
    "plt.gca().set_ylim(0, 1)\n",
    "plt.show()"
   ]
  },
  {
   "cell_type": "markdown",
   "metadata": {},
   "source": [
    "- <b>Train Learning Curve</b> (ici loss & accuracy): courbe d'apprentissage calculée à partir de l'ensemble de données d'entraînement qui donne une idée de la qualité d'apprentissage du modèle.\n",
    "\n",
    "- <b>Validation Learning Curve</b> (ici val_loss & val_accuracy): courbe d'apprentissage calculée à partir d'un ensemble de données de validation d'attente qui donne une idée de la façon dont le modèle se généralise."
   ]
  },
  {
   "cell_type": "markdown",
   "metadata": {},
   "source": [
    "- learning curve montre un <b>sous-ajustement</b> (underfitting) si:\n",
    "\n",
    "    - La courbe <b>loss training</b> reste stable quelle que soit le training.\n",
    "\n",
    "    - La courbe <b>loss training</b> continue de diminuer jusqu'à la fin du training.\n",
    "\n",
    "    - Dans <b>notre cas</b>, on peut voir que nous ne sommes pas dans un cas d'underfitting.\n",
    "    \n",
    " - Les learning curves montre un <b>sur-ajustement</b> (overfitting) si:\n",
    "\n",
    "    - La courbe <b>loss training</b> continue de diminuer avec l'expérience.\n",
    "    \n",
    "    - La courbe <b>loss validation</b>  diminue jusqu'à un certain point et recommence à augmenter.\n",
    "\n",
    "\n"
   ]
  },
  {
   "cell_type": "markdown",
   "metadata": {},
   "source": [
    "<br>\n",
    "<center><h3>i - Quels modèles choisir?</h3></center>"
   ]
  },
  {
   "cell_type": "code",
   "execution_count": 45,
   "metadata": {},
   "outputs": [
    {
     "data": {
      "text/html": [
       "<div>\n",
       "<style scoped>\n",
       "    .dataframe tbody tr th:only-of-type {\n",
       "        vertical-align: middle;\n",
       "    }\n",
       "\n",
       "    .dataframe tbody tr th {\n",
       "        vertical-align: top;\n",
       "    }\n",
       "\n",
       "    .dataframe thead th {\n",
       "        text-align: right;\n",
       "    }\n",
       "</style>\n",
       "<table border=\"1\" class=\"dataframe\">\n",
       "  <thead>\n",
       "    <tr style=\"text-align: right;\">\n",
       "      <th></th>\n",
       "      <th>model</th>\n",
       "      <th>training score</th>\n",
       "      <th>validation score</th>\n",
       "      <th>validation balanced score</th>\n",
       "    </tr>\n",
       "  </thead>\n",
       "  <tbody>\n",
       "    <tr>\n",
       "      <th>0</th>\n",
       "      <td>DecisionTreeClassifier</td>\n",
       "      <td>0.989977</td>\n",
       "      <td>0.939947</td>\n",
       "      <td>0.920562</td>\n",
       "    </tr>\n",
       "    <tr>\n",
       "      <th>1</th>\n",
       "      <td>RandomForestClassifier</td>\n",
       "      <td>0.990367</td>\n",
       "      <td>0.945953</td>\n",
       "      <td>0.900410</td>\n",
       "    </tr>\n",
       "    <tr>\n",
       "      <th>2</th>\n",
       "      <td>Logistic Regression</td>\n",
       "      <td>0.574836</td>\n",
       "      <td>0.579882</td>\n",
       "      <td>0.515173</td>\n",
       "    </tr>\n",
       "    <tr>\n",
       "      <th>3</th>\n",
       "      <td>KNearestNeighbours</td>\n",
       "      <td>0.933622</td>\n",
       "      <td>0.852496</td>\n",
       "      <td>0.854414</td>\n",
       "    </tr>\n",
       "    <tr>\n",
       "      <th>4</th>\n",
       "      <td>Perceptron</td>\n",
       "      <td>0.363054</td>\n",
       "      <td>0.364819</td>\n",
       "      <td>0.491715</td>\n",
       "    </tr>\n",
       "    <tr>\n",
       "      <th>5</th>\n",
       "      <td>Adaboost with DecisionTree</td>\n",
       "      <td>0.989741</td>\n",
       "      <td>0.945828</td>\n",
       "      <td>0.913971</td>\n",
       "    </tr>\n",
       "    <tr>\n",
       "      <th>6</th>\n",
       "      <td>xgboost</td>\n",
       "      <td>0.699779</td>\n",
       "      <td>0.696985</td>\n",
       "      <td>0.639803</td>\n",
       "    </tr>\n",
       "    <tr>\n",
       "      <th>7</th>\n",
       "      <td>MLP Sequential</td>\n",
       "      <td>0.994259</td>\n",
       "      <td>0.997373</td>\n",
       "      <td>0.982797</td>\n",
       "    </tr>\n",
       "  </tbody>\n",
       "</table>\n",
       "</div>"
      ],
      "text/plain": [
       "                        model  training score  validation score  \\\n",
       "0      DecisionTreeClassifier        0.989977          0.939947   \n",
       "1      RandomForestClassifier        0.990367          0.945953   \n",
       "2         Logistic Regression        0.574836          0.579882   \n",
       "3          KNearestNeighbours        0.933622          0.852496   \n",
       "4                  Perceptron        0.363054          0.364819   \n",
       "5  Adaboost with DecisionTree        0.989741          0.945828   \n",
       "6                     xgboost        0.699779          0.696985   \n",
       "7              MLP Sequential        0.994259          0.997373   \n",
       "\n",
       "   validation balanced score  \n",
       "0                   0.920562  \n",
       "1                   0.900410  \n",
       "2                   0.515173  \n",
       "3                   0.854414  \n",
       "4                   0.491715  \n",
       "5                   0.913971  \n",
       "6                   0.639803  \n",
       "7                   0.982797  "
      ]
     },
     "execution_count": 45,
     "metadata": {},
     "output_type": "execute_result"
    }
   ],
   "source": [
    "\n",
    "result = pd.DataFrame(data={'model': models, 'training score':acc_training, 'validation score':acc_test,\n",
    "                            'validation balanced score': acc_balanced})\n",
    "result\n",
    "\n"
   ]
  },
  {
   "cell_type": "markdown",
   "metadata": {},
   "source": [
    "- Le <b>DecisionTreeClassifier</b>, le <b>RandomForestClassifier</b> et <b> Adaboost</b> semble être les plus performants et ceux à tout niveau. Ils sont peut être même trop performant. Pour bien choisir notre modèle, nous devons verifier, qu'il ne tend pas à l'<b>over fitting</b> ou l'<b>under fitting</b>.\n",
    "    - Les <b>balanced score</b> sont bon, cela veut dire qu'il y a une <b>bonne classification</b> au sein même des classes. Si nous n'avions pas utilisé de méthodes de <b>resampling</b>, cela aurait pu être désastreux.\n",
    "\n",
    "\n",
    "\n",
    "- Les modèles <b>Perceptron</b>, <b>Logistic Regression</b> et <b>Xgboost</b> sont <b>très peu performants</b> comparés aux autres, on va donc les laisser de côté pour l'instant. Nous y reviendrons si les résultats avec les autres modèles ne sont pas satisfaisant."
   ]
  },
  {
   "cell_type": "markdown",
   "metadata": {},
   "source": [
    "Rappel:\n",
    "\n",
    "- <b>Overfitting</b>: notre modèle correspond trop précisément aux données d'entraînements. Cela peut ne pas correspondre de manière fiable à des données futures.\n",
    "- <b>Underfitting</b>: notre modèle ne peut ni modéliser les données d'entraînements ni généraliser à de nouvelles données. Cela est facile à détecter, le modèle a de mauvaises performances sur les données d'entraînements. Ce qui n'est pas n'autre cas pour les modèles sélectionnés."
   ]
  },
  {
   "cell_type": "markdown",
   "metadata": {},
   "source": [
    "<br>\n",
    "<center><h1>III - learning curves & cross-validation</h1></center>"
   ]
  },
  {
   "cell_type": "markdown",
   "metadata": {},
   "source": [
    "Lorsque nous avons commencé le model building, nous aurions pu directement <b>réechantillionner</b> les données, puis ne plus avoir à le faire. C'est en effet une possibilité, mais un moyen de faire <b>faux</b> si l'on utilise la <b>cross validation</b> (chose que nous allos faire).\n",
    "Le <b>suréchantillonnage</b> de la (ou les) <b>classe minoritaire</b> peut entraîner des problèmes d'<b>overfitting</b> si nous suréchantillonnons avant la <b>cross validation</b>.\n",
    "L'explication est plutôt longue, je ne la détaillerai pas ici, pour plus d'information à ce sujet, un lien sur un papier qui l'explique très bien se trouve plus bas, en annexe.\n",
    "\n",
    "Pour bien respecter l'<b>utilisation de la validation croisée</b>  tout en bénéficiant du <b>réechantillonnage</b>, nous allons  réechantillonner <b>durant</b> la validation croisée. Comment? grâce aux <b>pipelines</b> tout simplement."
   ]
  },
  {
   "cell_type": "code",
   "execution_count": 25,
   "metadata": {},
   "outputs": [],
   "source": [
    "classifiers = {\n",
    "    \"RandomForest\": RandomForestClassifier(),\n",
    "    \"KnearestNeighbours\": KNeighborsClassifier(n_neighbors=3),\n",
    "     \"Adaboost\":AdaBoostClassifier(DecisionTreeClassifier(), n_estimators=200, algorithm=\"SAMME.R\", learning_rate=0.5),\n",
    "    \"DecisionTreeClassifier\": DecisionTreeClassifier()\n",
    "   \n",
    "}"
   ]
  },
  {
   "cell_type": "markdown",
   "metadata": {},
   "source": [
    "<br>\n",
    "<center><h3>a - Learning curves</h3></center>"
   ]
  },
  {
   "cell_type": "markdown",
   "metadata": {},
   "source": [
    "Les courbes d'apprentissages peuvent nous aider à choisir notre modèle. Elles peut mettre en évidence si notre modèle overfit ou underfit.\n",
    "- Notre modèle <b>overfit</b>, si il y a un écart entre le score d'entraînement et le score de la cross-validation. Il y a une <b>grande variance</b>.\n",
    "\n",
    "- Notre modèle <b>underfit</b>, si le score d'entraînement et de cross validation sont bas. Il y a un <b>grand biais</b>."
   ]
  },
  {
   "cell_type": "code",
   "execution_count": 34,
   "metadata": {},
   "outputs": [],
   "source": [
    "from sklearn.model_selection import learning_curve\n",
    "def plot_learning_curve(estimator, title, X, y, axes=None, ylim=None, cv=None, n_jobs=None, train_sizes=np.linspace(.1, 1.0, 5)):\n",
    "    sns.set_theme()\n",
    "    if axes is None:\n",
    "        _, axes = plt.subplots(1, 1, figsize=(10, 5))\n",
    "\n",
    "    axes[0].set_title(title)\n",
    "    if ylim is not None:\n",
    "        axes[0].set_ylim(*ylim)\n",
    "    axes[0].set_xlabel(\"Training examples\")\n",
    "    axes[0].set_ylabel(\"Score\")\n",
    "\n",
    "    train_sizes, train_scores, test_scores, fit_times, _ = \\\n",
    "        learning_curve(estimator, X, y, cv=cv, n_jobs=n_jobs,\n",
    "                       train_sizes=train_sizes,\n",
    "                       return_times=True)\n",
    "    train_scores_mean = np.mean(train_scores, axis=1)\n",
    "    train_scores_std = np.std(train_scores, axis=1)\n",
    "    test_scores_mean = np.mean(test_scores, axis=1)\n",
    "    test_scores_std = np.std(test_scores, axis=1)\n",
    "    fit_times_mean = np.mean(fit_times, axis=1)\n",
    "    fit_times_std = np.std(fit_times, axis=1)\n",
    "  \n",
    "    # Plot learning curve\n",
    "    axes[0].grid()\n",
    "    axes[0].fill_between(train_sizes, train_scores_mean - train_scores_std,\n",
    "                         train_scores_mean + train_scores_std, alpha=0.1,\n",
    "                         color=\"r\")\n",
    "    axes[0].fill_between(train_sizes, test_scores_mean - test_scores_std,\n",
    "                         test_scores_mean + test_scores_std, alpha=0.1,\n",
    "                         color=\"g\")\n",
    "    axes[0].plot(train_sizes, train_scores_mean, 'o-', color=\"r\",\n",
    "                 label=\"Training score\")\n",
    "    axes[0].plot(train_sizes, test_scores_mean, 'o-', color=\"g\",\n",
    "                 label=\"Cross-validation score\")\n",
    "    axes[0].legend(loc=\"best\")\n",
    "\n",
    "    return plt"
   ]
  },
  {
   "cell_type": "code",
   "execution_count": 37,
   "metadata": {},
   "outputs": [
    {
     "data": {
      "image/png": "[encoded data removed]",
      "text/plain": [
       "<Figure size 720x2160 with 4 Axes>"
      ]
     },
     "metadata": {},
     "output_type": "display_data"
    }
   ],
   "source": [
    "from sklearn.model_selection import ShuffleSplit\n",
    "i_ax = 0\n",
    "\n",
    "sns.set_theme()\n",
    "fig, axes = plt.subplots(len(classifiers), 1, figsize=(10, 30), squeeze=False)\n",
    "\n",
    "for key, classifier in classifiers.items():\n",
    "    \n",
    "    title = 'learning curves ' + key\n",
    "# Cross validation with 100 iterations to get smoother mean test and train\n",
    "# score curves, each time with 20% data randomly selected as a validation set.\n",
    "    pipeline_clf = imbalanced_make_pipeline(oversample_train_origin, undersample_train_origin, classifier)\n",
    "    cv = ShuffleSplit(n_splits=10, test_size=0.2, random_state=0)\n",
    "    plot_learning_curve(pipeline_clf, title, X_train_origin, y_train_origin, axes=axes[i_ax], ylim=(0.7, 1.01), cv=cv, n_jobs=4)\n",
    "    \n",
    "    i_ax += 1\n",
    "fig.tight_layout(pad=3.0)\n"
   ]
  },
  {
   "cell_type": "markdown",
   "metadata": {},
   "source": [
    "<br>\n",
    "<center><h3> b - Cross-validation, scoring: <b>balanced accuracy</b></h3></center>"
   ]
  },
  {
   "cell_type": "code",
   "execution_count": 47,
   "metadata": {},
   "outputs": [],
   "source": [
    "from sklearn.model_selection import RepeatedStratifiedKFold"
   ]
  },
  {
   "cell_type": "code",
   "execution_count": 48,
   "metadata": {},
   "outputs": [],
   "source": [
    "\n",
    "model_name = []\n",
    "acc_mean = []\n",
    "acc_std = []\n",
    "\n",
    "for key, classifier in classifiers.items():\n",
    "    \n",
    "    pipeline_clf = imbalanced_make_pipeline(oversample_train_origin, undersample_train_origin, classifier)\n",
    "    cv = RepeatedStratifiedKFold(n_splits=10, n_repeats=3, random_state=1)\n",
    "    scores = cross_val_score(pipeline_clf, X_train_origin, y_train_origin, scoring='balanced_accuracy', cv=cv, n_jobs=-1)\n",
    "    \n",
    "    model_name.append(key)\n",
    "    acc_mean.append(np.mean(scores))\n",
    "    acc_std.append(np.std(scores))"
   ]
  },
  {
   "cell_type": "code",
   "execution_count": 50,
   "metadata": {},
   "outputs": [
    {
     "data": {
      "text/html": [
       "<div>\n",
       "<style scoped>\n",
       "    .dataframe tbody tr th:only-of-type {\n",
       "        vertical-align: middle;\n",
       "    }\n",
       "\n",
       "    .dataframe tbody tr th {\n",
       "        vertical-align: top;\n",
       "    }\n",
       "\n",
       "    .dataframe thead th {\n",
       "        text-align: right;\n",
       "    }\n",
       "</style>\n",
       "<table border=\"1\" class=\"dataframe\">\n",
       "  <thead>\n",
       "    <tr style=\"text-align: right;\">\n",
       "      <th></th>\n",
       "      <th>model</th>\n",
       "      <th>balanced accuracy mean</th>\n",
       "      <th>balanced accuracy std</th>\n",
       "    </tr>\n",
       "  </thead>\n",
       "  <tbody>\n",
       "    <tr>\n",
       "      <th>0</th>\n",
       "      <td>RandomForest</td>\n",
       "      <td>0.893076</td>\n",
       "      <td>0.010425</td>\n",
       "    </tr>\n",
       "    <tr>\n",
       "      <th>1</th>\n",
       "      <td>KnearestNeighbours</td>\n",
       "      <td>0.829622</td>\n",
       "      <td>0.010966</td>\n",
       "    </tr>\n",
       "    <tr>\n",
       "      <th>2</th>\n",
       "      <td>Adaboost</td>\n",
       "      <td>0.895015</td>\n",
       "      <td>0.012215</td>\n",
       "    </tr>\n",
       "    <tr>\n",
       "      <th>3</th>\n",
       "      <td>DecisionTreeClassifier</td>\n",
       "      <td>0.891846</td>\n",
       "      <td>0.012985</td>\n",
       "    </tr>\n",
       "  </tbody>\n",
       "</table>\n",
       "</div>"
      ],
      "text/plain": [
       "                    model  balanced accuracy mean  balanced accuracy std\n",
       "0            RandomForest                0.893076               0.010425\n",
       "1      KnearestNeighbours                0.829622               0.010966\n",
       "2                Adaboost                0.895015               0.012215\n",
       "3  DecisionTreeClassifier                0.891846               0.012985"
      ]
     },
     "execution_count": 50,
     "metadata": {},
     "output_type": "execute_result"
    }
   ],
   "source": [
    "result = pd.DataFrame({'model': model_name, 'balanced accuracy mean': acc_mean, 'balanced accuracy std': acc_std})\n",
    "  \n",
    "result"
   ]
  },
  {
   "cell_type": "markdown",
   "metadata": {},
   "source": [
    "Le <b>DecisionTreeClassifier</b>, le <b>RandomForest</b> et l'<b>Adaboost</b> (basé sur un decision tree) sont clairement en train d'<b>overfit</b>, l'écart entre la courbe d'entraînement et la courbe de cross-validation est grand. Cependant, plus le nombre d'exemple est grand, plus l'écart se réduit. Pour résoudre un problème d'overfitting on peut:\n",
    "\n",
    "- Pour n'importe quel algorithme, <b>augmenter</b> la tailler des données peut aider à résoudre l'overfitting.\n",
    "\n",
    "- Pour une <b>Random Forest</b> on peut:\n",
    "    - <b>Augmenter le nombre d'estimateur</b>, plus il y a d'arbres, moins l'algorithme est susceptible d'overfit.\n",
    "    - <b>Ajuster la profondeur maximale</b>, ce paramètre réduira la complexité des modèles appris, diminuant ainsi le risque d'overfitting.\n",
    "    \n",
    "    \n",
    "\n",
    "- Pour un <b>Decision Tree</b> on peut:\n",
    "\n",
    "    - <b>\"Pré-tailler\" l'arbre</b>, ce qui arrête la croissance de l'arbre plus tôt, avant de classer parfaitement l'ensemble d'entraînement.\n",
    "    - <b>\"Post-élagager\" l'arbre</b>, ce qui permet à l'arbre de classer parfaitement l'ensemble d'entraînement, puis post-élaguer l'arbre.\n",
    "    - Comme le précise la documentation de sklearn sur les arbres de décision:\n",
    "    > The default values for the parameters controlling the size of the trees (e.g. max_depth, min_samples_leaf, etc.) lead to fully grown and <b>unpruned</b> trees which can potentially be very large on some data sets. To reduce memory consumption, the complexity and size of the trees should be controlled by setting those parameter values.\n",
    "    \n",
    "    \n",
    "    \n",
    "    \n",
    "- Pour notre algorithme <b>Adaboost</b>, il est basé sur un arbre de décision, fixer un décision tree avec les <b>conditions précédentes</b> semble donc être une bonne idée.\n",
    "\n",
    "- <b>Xgboost</b>, a un score d'entraînement très proche de celui de validation, on peut donc estimer qu'il n'y a pas d'overfitting dans son cas.\n",
    "\n",
    "\n",
    "    "
   ]
  },
  {
   "cell_type": "markdown",
   "metadata": {},
   "source": [
    "<br>\n",
    "<center><h1> IV - Fine tuning models </h1></center>"
   ]
  },
  {
   "cell_type": "markdown",
   "metadata": {},
   "source": [
    "Précédement, nous avons attribué des valeurs aux paramètres de nos modèles, bien que l'on a essayé de mettre des valeurs cohérentes, il se peut que ces valeurs ne soient pas les valeurs <b>optimales</b>.\n",
    "\n",
    "Pour se rapprocher des valeurs optimales on va faire du <b>fine tuning</b> en utilisant <b>GridSearcgCV</b>. Il va s'occuper de tester une multitude de combinaisons de paramètres qu'on lui aura fourni. Il gardera ainsi la <b>meilleure combinaison</b>.\n",
    "\n",
    "On va prendre maintenant seulement les modèles les plus performants selon nos critères (accuracy & generalization) car cela demande beaucoup de temps de calcul pour chercher la bonne combinaison pour chaque modèle."
   ]
  },
  {
   "cell_type": "code",
   "execution_count": 58,
   "metadata": {},
   "outputs": [],
   "source": [
    "from sklearn.model_selection import GridSearchCV\n",
    "models_tune = []\n",
    "best_scores = []"
   ]
  },
  {
   "cell_type": "code",
   "execution_count": null,
   "metadata": {},
   "outputs": [],
   "source": [
    "def tuning(classifier, params, X, y):\n",
    "    len_1999, len_2000, len_2001, len_2002 = over_undersample(X, valid=True)\n",
    "    pipeline_clf = imbalanced_make_pipeline(SMOTE(), RandomUnderSampler(), classifier)\n",
    "    \n",
    "    params['smote__sampling_strategy']= [{0:len_1999, 3:len_2002}]\n",
    "    params['randomundersampler__sampling_strategy']=[{1:len_2000, 2:len_2001}] \n",
    "    \n",
    "    grid_clf = GridSearchCV(estimator = pipeline_clf, param_grid = params, scoring='balanced_accuracy' )\n",
    "    grid_clf.fit(X, y)\n",
    "    \n",
    "    return grid_clf"
   ]
  },
  {
   "cell_type": "markdown",
   "metadata": {},
   "source": [
    "<br>\n",
    "\n",
    "- <b>Random Forest</b>"
   ]
  },
  {
   "cell_type": "code",
   "execution_count": 79,
   "metadata": {},
   "outputs": [
    {
     "name": "stdout",
     "output_type": "stream",
     "text": [
      "Pipeline(steps=[('smote', SMOTE(sampling_strategy={0: 7993, 3: 7993})),\n",
      "                ('randomundersampler',\n",
      "                 RandomUnderSampler(sampling_strategy={1: 15986, 2: 15986})),\n",
      "                ('randomforestclassifier',\n",
      "                 RandomForestClassifier(bootstrap=False, max_depth=17,\n",
      "                                        max_features='log2',\n",
      "                                        n_estimators=150))])\n",
      "0.8282104163532275\n"
     ]
    }
   ],
   "source": [
    "params = {'randomforestclassifier__bootstrap':[False,True],'randomforestclassifier__n_estimators':[150],'randomforestclassifier__max_depth':[17],\n",
    "               'randomforestclassifier__max_features':['auto','sqrt','log2']}\n",
    "grid_rf = tuning(RandomForestClassifier(), params, X_train_origin, y_train_origin)\n",
    "\n",
    "print(grid_rf.best_estimator_)\n",
    "print(grid_rf.best_score_)\n",
    "\n",
    "models_tune.append(\"Random Forest\")\n",
    "best_scores.append(grid_rf.best_score_)"
   ]
  },
  {
   "cell_type": "markdown",
   "metadata": {},
   "source": [
    "<br>\n",
    "\n",
    "- <b>Decision Tree"
   ]
  },
  {
   "cell_type": "code",
   "execution_count": 92,
   "metadata": {},
   "outputs": [
    {
     "name": "stdout",
     "output_type": "stream",
     "text": [
      "Pipeline(steps=[('smote', SMOTE(sampling_strategy={0: 7993, 3: 7993})),\n",
      "                ('randomundersampler',\n",
      "                 RandomUnderSampler(sampling_strategy={1: 15986, 2: 15986})),\n",
      "                ('decisiontreeclassifier',\n",
      "                 DecisionTreeClassifier(criterion='entropy', max_depth=14,\n",
      "                                        max_features='sqrt'))])\n",
      "0.705494177833795\n"
     ]
    }
   ],
   "source": [
    "params = {'decisiontreeclassifier__criterion':['gini','entropy'],'decisiontreeclassifier__splitter':['best', 'random'],'decisiontreeclassifier__max_depth':range(5,25),\n",
    "               'decisiontreeclassifier__max_features':['auto','sqrt','log2']}\n",
    "\n",
    "grid_dc = tuning(DecisionTreeClassifier(),params , X_train_origin, y_train_origin )\n",
    "\n",
    "print(grid_dc.best_estimator_)\n",
    "print(grid_dc.best_score_)\n",
    "\n",
    "models_tune.append(\"Decision Tree\")\n",
    "best_scores.append(grid_dc.best_score_)"
   ]
  },
  {
   "cell_type": "markdown",
   "metadata": {},
   "source": [
    "<br>\n",
    "\n",
    "- <b>Adaboost</b>"
   ]
  },
  {
   "cell_type": "code",
   "execution_count": 93,
   "metadata": {},
   "outputs": [
    {
     "name": "stdout",
     "output_type": "stream",
     "text": [
      "Pipeline(steps=[('smote', SMOTE(sampling_strategy={0: 7993, 3: 7993})),\n",
      "                ('randomundersampler',\n",
      "                 RandomUnderSampler(sampling_strategy={1: 15986, 2: 15986})),\n",
      "                ('adaboostclassifier',\n",
      "                 AdaBoostClassifier(base_estimator=DecisionTreeClassifier(criterion='entropy',\n",
      "                                                                          max_depth=14,\n",
      "                                                                          max_features='sqrt',\n",
      "                                                                          splitter='random'),\n",
      "                                    learning_rate=0.5, n_estimators=170))])\n",
      "0.9275112769308471\n"
     ]
    }
   ],
   "source": [
    "dtc = DecisionTreeClassifier(max_depth = 14, max_features='sqrt')\n",
    "abc = AdaBoostClassifier(dtc)\n",
    "grid_abc = tuning(abc, {\"adaboostclassifier__base_estimator__criterion\" : [\"gini\", \"entropy\"],\n",
    "              \"adaboostclassifier__base_estimator__splitter\" :   [\"best\", \"random\"],\n",
    "              \"adaboostclassifier__n_estimators\": range(20,200,30), \"adaboostclassifier__algorithm\": [\"SAMME.R\"], \"adaboostclassifier__learning_rate\":[0.5]\n",
    "             }, X_train_origin, y_train_origin)\n",
    "\n",
    "print(grid_abc.best_estimator_)\n",
    "print(grid_abc.best_score_)\n",
    "\n",
    "models_tune.append(\"Adaboost\")\n",
    "best_scores.append(grid_abc.best_score_)"
   ]
  },
  {
   "cell_type": "markdown",
   "metadata": {},
   "source": [
    "<br>\n",
    "\n",
    "- <b>KNN</b>"
   ]
  },
  {
   "cell_type": "code",
   "execution_count": 95,
   "metadata": {},
   "outputs": [
    {
     "name": "stdout",
     "output_type": "stream",
     "text": [
      "Pipeline(steps=[('smote', SMOTE(sampling_strategy={0: 7993, 3: 7993})),\n",
      "                ('randomundersampler',\n",
      "                 RandomUnderSampler(sampling_strategy={1: 15986, 2: 15986})),\n",
      "                ('kneighborsclassifier',\n",
      "                 KNeighborsClassifier(metric='manhattan', n_neighbors=7,\n",
      "                                      weights='distance'))])\n",
      "0.8764371672187407\n"
     ]
    }
   ],
   "source": [
    "knn = KNeighborsClassifier()\n",
    "params = {'kneighborsclassifier__n_neighbors':range(2,10), 'kneighborsclassifier__weights':['uniform', 'distance'],\n",
    "          'kneighborsclassifier__metric':['euclidean', 'manhattan']}\n",
    "\n",
    "grid_knn = tuning(knn, params, X_train_origin, y_train_origin)\n",
    "\n",
    "print(grid_knn.best_estimator_)\n",
    "print(grid_knn.best_score_)\n",
    "\n",
    "models_tune.append(\"KNN\")\n",
    "best_scores.append(grid_knn.best_score_)"
   ]
  },
  {
   "cell_type": "markdown",
   "metadata": {},
   "source": [
    "<br>\n",
    "Regardons les résultats après fine tuning."
   ]
  },
  {
   "cell_type": "code",
   "execution_count": 96,
   "metadata": {},
   "outputs": [
    {
     "data": {
      "text/html": [
       "<div>\n",
       "<style scoped>\n",
       "    .dataframe tbody tr th:only-of-type {\n",
       "        vertical-align: middle;\n",
       "    }\n",
       "\n",
       "    .dataframe tbody tr th {\n",
       "        vertical-align: top;\n",
       "    }\n",
       "\n",
       "    .dataframe thead th {\n",
       "        text-align: right;\n",
       "    }\n",
       "</style>\n",
       "<table border=\"1\" class=\"dataframe\">\n",
       "  <thead>\n",
       "    <tr style=\"text-align: right;\">\n",
       "      <th></th>\n",
       "      <th>model</th>\n",
       "      <th>best_score</th>\n",
       "    </tr>\n",
       "  </thead>\n",
       "  <tbody>\n",
       "    <tr>\n",
       "      <th>0</th>\n",
       "      <td>Random Forest</td>\n",
       "      <td>0.825793</td>\n",
       "    </tr>\n",
       "    <tr>\n",
       "      <th>1</th>\n",
       "      <td>Random Forest</td>\n",
       "      <td>0.828210</td>\n",
       "    </tr>\n",
       "    <tr>\n",
       "      <th>2</th>\n",
       "      <td>Decision Tree</td>\n",
       "      <td>0.705494</td>\n",
       "    </tr>\n",
       "    <tr>\n",
       "      <th>3</th>\n",
       "      <td>Adaboost</td>\n",
       "      <td>0.927511</td>\n",
       "    </tr>\n",
       "    <tr>\n",
       "      <th>4</th>\n",
       "      <td>KNN</td>\n",
       "      <td>0.876437</td>\n",
       "    </tr>\n",
       "  </tbody>\n",
       "</table>\n",
       "</div>"
      ],
      "text/plain": [
       "           model  best_score\n",
       "0  Random Forest    0.825793\n",
       "1  Random Forest    0.828210\n",
       "2  Decision Tree    0.705494\n",
       "3       Adaboost    0.927511\n",
       "4            KNN    0.876437"
      ]
     },
     "execution_count": 96,
     "metadata": {},
     "output_type": "execute_result"
    }
   ],
   "source": [
    "result = pd.DataFrame(data={'model':models_tune, \"best_score\":best_scores})\n",
    "result"
   ]
  },
  {
   "cell_type": "markdown",
   "metadata": {},
   "source": [
    "Après l'étape de <b>fine tuning</b>, il semblerait que les modèles <b>RandomForest</b> et <b>KNN</b> sont largement dépassé par <b>Adaboost</b>. Cependant, ce n'est pas encore fini, s'il ne sont pas assez performant seul, peut être qu'<b>ensemble</b> ils peuvent rester dans la course.\n",
    "\n",
    "C'est au tour du <b>VotingClassifier</b> de faire son apparition. Le VotingClassifier est une méthode de <b>Bagging</b>.\n",
    "Ce Classifier permet d'utiliser plusieurs modèles à la fois."
   ]
  },
  {
   "cell_type": "code",
   "execution_count": 51,
   "metadata": {},
   "outputs": [],
   "source": [
    "from sklearn.ensemble import VotingClassifier\n",
    "models = []\n",
    "acc_train = []\n",
    "acc_test = []\n",
    "acc_balanced = []"
   ]
  },
  {
   "cell_type": "code",
   "execution_count": 52,
   "metadata": {},
   "outputs": [],
   "source": [
    "knn = KNeighborsClassifier(metric='manhattan', n_neighbors=7,\n",
    "                                      weights='distance')\n",
    "rfc = RandomForestClassifier(bootstrap=False, max_depth=17,\n",
    "                                        max_features='log2',\n",
    "                                        n_estimators=150)\n",
    "\n",
    "voting_clf = VotingClassifier(estimators=[('rfc', rfc), ('knn', knn)], voting='soft')\n",
    "\n",
    "pipeline_clf = imbalanced_make_pipeline(oversample_train, undersample_train, voting_clf)\n",
    "    \n",
    "pipeline_clf.fit(X_train, y_train)\n",
    "score_vot = pipeline_clf.score(X_train, y_train)\n",
    "y_vot = pipeline_clf.predict(X_test)\n",
    "\n",
    "models.append('Voting')\n",
    "acc_train.append(score_vot)\n",
    "acc_test.append(accuracy_score(y_vot, y_test))\n",
    "acc_balanced.append(balanced_accuracy_score(y_vot, y_test))"
   ]
  },
  {
   "cell_type": "code",
   "execution_count": 53,
   "metadata": {},
   "outputs": [],
   "source": [
    "pipeline_knn = imbalanced_make_pipeline(oversample_train, undersample_train, knn)\n",
    "pipeline_rfc = imbalanced_make_pipeline(oversample_train, undersample_train, rfc)\n",
    "\n",
    "pipeline_knn.fit(X_train, y_train)\n",
    "pipeline_rfc.fit(X_train, y_train)\n",
    "\n",
    "score_knn = pipeline_knn.score(X_train, y_train)\n",
    "score_rfc = pipeline_rfc.score(X_train, y_train)\n",
    "\n",
    "#validation\n",
    "y_knn = pipeline_knn.predict(X_test)\n",
    "y_rfc = pipeline_rfc.predict(X_test)\n",
    "\n",
    "models.append('KNN')\n",
    "acc_train.append(score_knn)\n",
    "acc_test.append(accuracy_score(y_knn, y_test))\n",
    "acc_balanced.append(balanced_accuracy_score(y_knn, y_test))\n",
    "\n",
    "models.append('Random Forest')\n",
    "acc_train.append(score_rfc)\n",
    "acc_test.append(accuracy_score(y_rfc, y_test))\n",
    "acc_balanced.append(balanced_accuracy_score(y_rfc, y_test))\n",
    "\n"
   ]
  },
  {
   "cell_type": "code",
   "execution_count": 54,
   "metadata": {},
   "outputs": [
    {
     "data": {
      "text/html": [
       "<div>\n",
       "<style scoped>\n",
       "    .dataframe tbody tr th:only-of-type {\n",
       "        vertical-align: middle;\n",
       "    }\n",
       "\n",
       "    .dataframe tbody tr th {\n",
       "        vertical-align: top;\n",
       "    }\n",
       "\n",
       "    .dataframe thead th {\n",
       "        text-align: right;\n",
       "    }\n",
       "</style>\n",
       "<table border=\"1\" class=\"dataframe\">\n",
       "  <thead>\n",
       "    <tr style=\"text-align: right;\">\n",
       "      <th></th>\n",
       "      <th>model</th>\n",
       "      <th>acc train</th>\n",
       "      <th>acc validation</th>\n",
       "      <th>acc balanced</th>\n",
       "    </tr>\n",
       "  </thead>\n",
       "  <tbody>\n",
       "    <tr>\n",
       "      <th>0</th>\n",
       "      <td>Voting</td>\n",
       "      <td>0.986155</td>\n",
       "      <td>0.934192</td>\n",
       "      <td>0.882852</td>\n",
       "    </tr>\n",
       "    <tr>\n",
       "      <th>1</th>\n",
       "      <td>KNN</td>\n",
       "      <td>0.985654</td>\n",
       "      <td>0.928813</td>\n",
       "      <td>0.840607</td>\n",
       "    </tr>\n",
       "    <tr>\n",
       "      <th>2</th>\n",
       "      <td>Random Forest</td>\n",
       "      <td>0.911200</td>\n",
       "      <td>0.867634</td>\n",
       "      <td>0.850187</td>\n",
       "    </tr>\n",
       "  </tbody>\n",
       "</table>\n",
       "</div>"
      ],
      "text/plain": [
       "           model  acc train  acc validation  acc balanced\n",
       "0         Voting   0.986155        0.934192      0.882852\n",
       "1            KNN   0.985654        0.928813      0.840607\n",
       "2  Random Forest   0.911200        0.867634      0.850187"
      ]
     },
     "execution_count": 54,
     "metadata": {},
     "output_type": "execute_result"
    }
   ],
   "source": [
    "result = pd.DataFrame({'model':models, 'acc train':acc_train, 'acc validation':acc_test, 'acc balanced':acc_balanced})\n",
    "result"
   ]
  },
  {
   "cell_type": "markdown",
   "metadata": {},
   "source": [
    "Super le <b>VotingClassifier</b> surpasse le Random Forest et Le KNN dans toutes nos mesures. Cependant, on peut remarquer qu'il y a toujours un overfitting (acc train >> acc validation)."
   ]
  },
  {
   "cell_type": "markdown",
   "metadata": {},
   "source": [
    "<br>\n",
    "<h4> Toujours over-fitting?</h4>\n",
    "Certains de nos modèles avaient des problèmes d'<b>overfitting</b>. Est ce qu'après le <b>fine tuning</b> le problème est-il reglé?"
   ]
  },
  {
   "cell_type": "code",
   "execution_count": 65,
   "metadata": {},
   "outputs": [],
   "source": [
    "models_tunes = {\"Adaboost\":AdaBoostClassifier(base_estimator=DecisionTreeClassifier(criterion='entropy',\n",
    "                                                                          max_depth=14,\n",
    "                                                                          max_features='sqrt',\n",
    "                                                                          splitter='random'),\n",
    "                                    learning_rate=0.5, n_estimators=170),\n",
    "                \"VotingClassifier\":voting_clf}\n",
    "name_model = []\n",
    "acc_train = []\n",
    "acc_valid = []\n",
    "acc_balanced = []\n",
    "\n",
    "for key, value in models_tunes.items():\n",
    "    name_model.append(key)\n",
    "    pipeline = imbalanced_make_pipeline(oversample_train, undersample_train, value)\n",
    "    pipeline.fit(X_train, y_train)\n",
    "    acc_train.append(pipeline.score(X_train, y_train))\n",
    "    \n",
    "    y_pred = pipeline.predict(X_test)\n",
    "    acc_valid.append(accuracy_score(y_pred, y_test))\n",
    "    acc_balanced.append(balanced_accuracy_score(y_pred, y_test))"
   ]
  },
  {
   "cell_type": "code",
   "execution_count": 66,
   "metadata": {},
   "outputs": [
    {
     "data": {
      "text/html": [
       "<div>\n",
       "<style scoped>\n",
       "    .dataframe tbody tr th:only-of-type {\n",
       "        vertical-align: middle;\n",
       "    }\n",
       "\n",
       "    .dataframe tbody tr th {\n",
       "        vertical-align: top;\n",
       "    }\n",
       "\n",
       "    .dataframe thead th {\n",
       "        text-align: right;\n",
       "    }\n",
       "</style>\n",
       "<table border=\"1\" class=\"dataframe\">\n",
       "  <thead>\n",
       "    <tr style=\"text-align: right;\">\n",
       "      <th></th>\n",
       "      <th>model</th>\n",
       "      <th>training score</th>\n",
       "      <th>validation score</th>\n",
       "      <th>balanced validation score</th>\n",
       "    </tr>\n",
       "  </thead>\n",
       "  <tbody>\n",
       "    <tr>\n",
       "      <th>0</th>\n",
       "      <td>Adaboost</td>\n",
       "      <td>0.997442</td>\n",
       "      <td>0.981859</td>\n",
       "      <td>0.971922</td>\n",
       "    </tr>\n",
       "    <tr>\n",
       "      <th>1</th>\n",
       "      <td>VotingClassifier</td>\n",
       "      <td>0.987489</td>\n",
       "      <td>0.934818</td>\n",
       "      <td>0.889968</td>\n",
       "    </tr>\n",
       "    <tr>\n",
       "      <th>2</th>\n",
       "      <td>Sequential MLP</td>\n",
       "      <td>0.883202</td>\n",
       "      <td>0.997122</td>\n",
       "      <td>0.997898</td>\n",
       "    </tr>\n",
       "  </tbody>\n",
       "</table>\n",
       "</div>"
      ],
      "text/plain": [
       "              model  training score  validation score  \\\n",
       "0          Adaboost        0.997442          0.981859   \n",
       "1  VotingClassifier        0.987489          0.934818   \n",
       "2    Sequential MLP        0.883202          0.997122   \n",
       "\n",
       "   balanced validation score  \n",
       "0                   0.971922  \n",
       "1                   0.889968  \n",
       "2                   0.997898  "
      ]
     },
     "execution_count": 66,
     "metadata": {},
     "output_type": "execute_result"
    }
   ],
   "source": [
    "models_tunes[\"MLP\"] = model\n",
    "name_model.append(\"Sequential MLP\")\n",
    "acc_train.append(model.history.history['accuracy'][-1])\n",
    "y_pred = model.predict_classes(X_test)\n",
    "acc_valid.append(accuracy_score(y_pred, y_test))\n",
    "acc_balanced.append(balanced_accuracy_score(y_pred, y_test))\n",
    "\n",
    "\n",
    "result_validation = pd.DataFrame(data={'model': name_model, 'training score': acc_train,  'validation score': acc_valid,\n",
    "                                       'balanced validation score': acc_balanced\n",
    "                                         })\n",
    "result_validation"
   ]
  },
  {
   "cell_type": "markdown",
   "metadata": {},
   "source": [
    "- Le modèle <b>Voting Classifier</b> <b>sur-ajuste</b> (overfit) grandement les données. On va donc s'en passé, il ne <b>généralise</b> pas assez bien les données. De plus, son score sur au sein des classes est largement inférieur aux deux autres.\n",
    "\n",
    "- Le modèle <b>Adaboost</b> à de très bonne performance, il <b>overfit très légèrement</b> les données. Il a un score au sein des classes <b>très satisfaisant</b>.\n",
    "\n",
    "- Le modèle <b> Sequential MLP</b> semble être le <b>plus performant</b>. Cependant son score d'entraînement est <b>légèrement inférieur</b> au score de validation, il underfit un peu les données.\n",
    "\n",
    "Notre choix va donc se faire entre ces deux modèles, <b>Adaboost</b> et le <b>Sequential MLP</b>."
   ]
  },
  {
   "cell_type": "markdown",
   "metadata": {},
   "source": [
    "<center><h2>VI - Final test</h2></center>"
   ]
  },
  {
   "cell_type": "markdown",
   "metadata": {},
   "source": [
    "Lorsque nous avons séparer nos données, nous avons laissé de côté un petit data set: le <b>final test set</b>. Il nous servira donc à tester nos deux modèles une dernière fois."
   ]
  },
  {
   "cell_type": "code",
   "execution_count": 70,
   "metadata": {},
   "outputs": [],
   "source": [
    "import time\n",
    "accuracies = []\n",
    "balanced_accuracies = []\n",
    "train_time = []\n",
    "predict_time = []"
   ]
  },
  {
   "cell_type": "markdown",
   "metadata": {},
   "source": [
    "<center><h3>Adaboost</h3></center>"
   ]
  },
  {
   "cell_type": "code",
   "execution_count": 71,
   "metadata": {},
   "outputs": [
    {
     "name": "stdout",
     "output_type": "stream",
     "text": [
      "ADABOOST CLASSIFIER:\n",
      "accuracy on final test:  0.9833358354601411\n",
      "balanced accuracy on final test:  0.9830778828580834\n"
     ]
    },
    {
     "data": {
      "image/png": "[encoded data removed]",
      "text/plain": [
       "<Figure size 432x288 with 2 Axes>"
      ]
     },
     "metadata": {},
     "output_type": "display_data"
    }
   ],
   "source": [
    "ada = AdaBoostClassifier(base_estimator=DecisionTreeClassifier(criterion='entropy',\n",
    "                                                                          max_depth=14,\n",
    "                                                                          max_features='sqrt',\n",
    "                                                                          splitter='random'),\n",
    "                                    learning_rate=0.5, n_estimators=170)\n",
    "\n",
    "len_1999, len_2000, len_2001, len_2002 = over_undersample(X_train_origin)\n",
    "oversample_train = SMOTE(sampling_strategy={0:len_1999,3:len_2002})\n",
    "undersample_train = RandomUnderSampler(sampling_strategy={1:len_2000,2:len_2001})\n",
    "\n",
    "\n",
    "pipeline = imbalanced_make_pipeline(oversample_train, undersample_train, ada)\n",
    "\n",
    "####### Fit Train Set + Measure Time #######\n",
    "start = time.time()\n",
    "pipeline.fit(X_train_origin, y_train_origin)\n",
    "stop = time.time()\n",
    "train_time.append(stop-start)\n",
    "\n",
    "###### Predict Final Test Set + Measure Time ######\n",
    "start = time.time()\n",
    "y_pred_ada = pipeline.predict(X_final_test)\n",
    "stop = time.time()\n",
    "predict_time.append(stop-start)\n",
    "\n",
    "########### accuracy metrics###########\n",
    "print('ADABOOST CLASSIFIER:')\n",
    "print('accuracy on final test: ', accuracy_score(y_pred_ada, y_final_test))\n",
    "print('balanced accuracy on final test: ', balanced_accuracy_score(y_pred_ada, y_final_test))\n",
    "\n",
    "accuracies.append(accuracy_score(y_pred_ada, y_final_test))\n",
    "balanced_accuracies.append(balanced_accuracy_score(y_pred_ada, y_final_test))\n",
    "\n",
    "matrix_ada = confusion_matrix(y_final_test, y_pred_ada)\n",
    "\n",
    "sns.heatmap(matrix_ada, annot=True, fmt='2.0f')\n",
    "plt.show()"
   ]
  },
  {
   "cell_type": "markdown",
   "metadata": {},
   "source": [
    "<center><h3>Sequential MLP</h3></center>"
   ]
  },
  {
   "cell_type": "code",
   "execution_count": 72,
   "metadata": {},
   "outputs": [
    {
     "name": "stdout",
     "output_type": "stream",
     "text": [
      "SEQUENTIAL MLP CLASSIFIER: \n",
      "MLP validation score:  0.9986488515237952\n",
      "MLP balanced accuracy validation score:  0.9993492411023235\n"
     ]
    },
    {
     "data": {
      "text/plain": [
       "<AxesSubplot:>"
      ]
     },
     "execution_count": 72,
     "metadata": {},
     "output_type": "execute_result"
    },
    {
     "data": {
      "image/png": "[encoded data removed]",
      "text/plain": [
       "<Figure size 432x288 with 2 Axes>"
      ]
     },
     "metadata": {},
     "output_type": "display_data"
    }
   ],
   "source": [
    "class_weight = class_weight.compute_class_weight('balanced',classes=np.unique(y_train.to_numpy()),y= y_train.to_numpy())\n",
    "model = keras.models.Sequential()\n",
    "model.add(keras.layers.Flatten(input_shape=[10]))\n",
    "model.add(keras.layers.Dense(300, activation=\"relu\"))\n",
    "model.add(keras.layers.Dense(90, activation=\"relu\"))\n",
    "model.add(keras.layers.Dense(30, activation=\"relu\"))\n",
    "model.add(keras.layers.Dense(4, activation=\"softmax\"))\n",
    "model.compile(loss=\"sparse_categorical_crossentropy\", optimizer=\"adam\",class_weight=class_weight, metrics=[\"accuracy\"])\n",
    "\n",
    "######### Fit Train Set + Time Measure ############\n",
    "start = time.time()\n",
    "model.fit(X_train_origin, y_train_origin.to_numpy(), epochs=50, validation_data=(X_test, y_test.to_numpy()), verbose=0)\n",
    "stop = time.time()\n",
    "train_time.append(stop-start)\n",
    "\n",
    "######## Predict Final Test Set + Time Measure ########\n",
    "start = time.time()\n",
    "y_pred_mlp = model.predict_classes(X_final_test)\n",
    "stop = time.time()\n",
    "predict_time.append(stop-start)\n",
    "\n",
    "########### accuracy metrics###########\n",
    "test_score = accuracy_score(y_pred_mlp, y_final_test)\n",
    "balanced_score = balanced_accuracy_score(y_pred_mlp, y_final_test)\n",
    "\n",
    "accuracies.append(test_score)\n",
    "balanced_accuracies.append(balanced_score)\n",
    "\n",
    "print('SEQUENTIAL MLP CLASSIFIER: ')\n",
    "print('MLP validation score: ', test_score)\n",
    "print('MLP balanced accuracy validation score: ', balanced_score)\n",
    "\n",
    "matrix = confusion_matrix(y_final_test, y_pred_mlp)\n",
    "sns.heatmap(matrix, annot=True, fmt='2.0f')"
   ]
  },
  {
   "cell_type": "markdown",
   "metadata": {},
   "source": [
    "On peut observer que le <b>Sequential MLP Classifier</b>  est plus performant que l'<b>AdaBoost Classifier</b>  sur l'<b>accuracy classique</b> mais également sur la <b>balanced accuracy</b>. Cela signifie que le  MLP Classifier  est plus performant sur la <b>classification générale</b> mais aussi sur la <b>classification au sein des classes</b>.\n"
   ]
  },
  {
   "cell_type": "code",
   "execution_count": null,
   "metadata": {},
   "outputs": [],
   "source": []
  },
  {
   "cell_type": "code",
   "execution_count": 74,
   "metadata": {},
   "outputs": [
    {
     "data": {
      "text/html": [
       "<div>\n",
       "<style scoped>\n",
       "    .dataframe tbody tr th:only-of-type {\n",
       "        vertical-align: middle;\n",
       "    }\n",
       "\n",
       "    .dataframe tbody tr th {\n",
       "        vertical-align: top;\n",
       "    }\n",
       "\n",
       "    .dataframe thead th {\n",
       "        text-align: right;\n",
       "    }\n",
       "</style>\n",
       "<table border=\"1\" class=\"dataframe\">\n",
       "  <thead>\n",
       "    <tr style=\"text-align: right;\">\n",
       "      <th></th>\n",
       "      <th>Model</th>\n",
       "      <th>Accuracy</th>\n",
       "      <th>Balanced accuracy</th>\n",
       "      <th>Time training measure</th>\n",
       "      <th>Time test measure</th>\n",
       "    </tr>\n",
       "  </thead>\n",
       "  <tbody>\n",
       "    <tr>\n",
       "      <th>0</th>\n",
       "      <td>Adaboost</td>\n",
       "      <td>0.983336</td>\n",
       "      <td>0.983078</td>\n",
       "      <td>13.086756</td>\n",
       "      <td>0.799937</td>\n",
       "    </tr>\n",
       "    <tr>\n",
       "      <th>1</th>\n",
       "      <td>Sequential MLP</td>\n",
       "      <td>0.998649</td>\n",
       "      <td>0.999349</td>\n",
       "      <td>559.519064</td>\n",
       "      <td>1.230662</td>\n",
       "    </tr>\n",
       "  </tbody>\n",
       "</table>\n",
       "</div>"
      ],
      "text/plain": [
       "            Model  Accuracy  Balanced accuracy  Time training measure  \\\n",
       "0        Adaboost  0.983336           0.983078              13.086756   \n",
       "1  Sequential MLP  0.998649           0.999349             559.519064   \n",
       "\n",
       "   Time test measure  \n",
       "0           0.799937  \n",
       "1           1.230662  "
      ]
     },
     "execution_count": 74,
     "metadata": {},
     "output_type": "execute_result"
    }
   ],
   "source": [
    "result = pd.DataFrame({'Model':['Adaboost', 'Sequential MLP'], 'Accuracy':accuracies,\n",
    "                       'Balanced accuracy':balanced_accuracies, 'Time training measure':train_time, \n",
    "                       'Time test measure':predict_time\n",
    "    \n",
    "})\n",
    "result"
   ]
  },
  {
   "cell_type": "markdown",
   "metadata": {},
   "source": [
    "<br>\n",
    "<h3>Finalement, quel modèle choisir?</h3>"
   ]
  },
  {
   "cell_type": "markdown",
   "metadata": {},
   "source": [
    "Si l'on se fit aux metrics d'<b>accuracy</b> que nous avons utilisé, dans tous les cas, le <b>Sequential MLP</b> est LE modèle à choisir. Cependant, généralement lorsqu'on choisit un modèle, il peut y avoir d'<b>autres critères</b> qui peuvent rentrer en compte.\n",
    "Nous allons en expliquer un rapidement, pour cela il faut comprendre le concept de <b>Batch Learning</b> & celui de <b>Online Learning</b>."
   ]
  },
  {
   "cell_type": "markdown",
   "metadata": {},
   "source": [
    "<center><h3>Batch Learning vs Online Learning</h3></center>"
   ]
  },
  {
   "cell_type": "markdown",
   "metadata": {},
   "source": [
    "un critère utilisé pour classer les systèmes d'apprentissage machine est de savoir si le système peut ou non apprendre de manière <b>incrémentielle</b> à partir d'un flux de données <b>entrant</b>."
   ]
  },
  {
   "cell_type": "markdown",
   "metadata": {},
   "source": [
    "- <b> Batch learning </b>"
   ]
  },
  {
   "cell_type": "markdown",
   "metadata": {},
   "source": [
    "Dans le <b>batch learning</b>, le système est <b>incapable</b> d'apprendre <b>progressivement</b> : il doit être formé en utilisant toutes les données <b>disponibles</b>. Cela prend généralement beaucoup de <b>temps</b> et beaucoup de <b>ressources de calcul</b>, ce genre de système est donc fait généralement <b>\"offline\"</b>.\n",
    "\n",
    "<b>Premièrement</b>, le modèle (système) est <b>entrainé</b>, et <b>ensuite</b> il est lancé en <b>production</b> et <b>tourne</b> sans plus <b>jamais</b> apprendre. Il applique seulement ce qu'il a appris. C'est ce que l'on appelle le <b>offline learning</b>."
   ]
  },
  {
   "cell_type": "markdown",
   "metadata": {},
   "source": [
    "<br>\n",
    "\n",
    "- <b>Online Learning</b>"
   ]
  },
  {
   "cell_type": "markdown",
   "metadata": {},
   "source": [
    "Dans le <b>online learning</b>, on entraine le système <b>incrémentiellement</b> en lui donnant les <b>instances de données</b> de manière <b>séquentielle</b>, soit <b>individuellement</b>, soit en <b>petits groupes</b> appelés <b>mini-batchs</b>. Chaque étape est <b>rapide</b> et <b>peu couteuse</b>, donc le système peut apprendre de <b>nouvelles</b> données au <b>fur et à mesure</b>."
   ]
  },
  {
   "cell_type": "markdown",
   "metadata": {},
   "source": [
    "Si l'on se réfère à nos <b>derniers résultats</b> sur nos deux classifiers, on peut remarque une différence colossale sur le temps d'entraînement. Le <b>classifier Adaboost</b> à un temps d'entraînement, plus de <b>40 fois plus rapide</b> que le <b>Sequential MLP</b>."
   ]
  },
  {
   "cell_type": "markdown",
   "metadata": {},
   "source": [
    "Pour finir, nous pouvons revenir à ce que nous disions au tout début, il n'existe pas de <b>meilleur modèle</b> qu'un notre, cela <b>dépend de nombreux critères</b> tel que nos <b>objectifs</b>, nos <b>moyens</b> et bien d'autres.\n",
    "\n",
    "- Si nous cherchons absolument la <b>précision</b> sans se soucier du temps de calcul, nous choisirons le classifier <b>Sequential MLP</b>.\n",
    "\n",
    "- Si nous ne cherchons pas absolument la précision et que l'on se soucie du <b>temps de calcul</b> nous choisirons le classifier <b>Adaboost</b>, qui de plus reste très proche du score de précision de Sequential MLP."
   ]
  },
  {
   "cell_type": "markdown",
   "metadata": {},
   "source": [
    " "
   ]
  },
  {
   "cell_type": "markdown",
   "metadata": {},
   "source": [
    "<br>\n",
    "sources:\n",
    "\n",
    "- sklearn <b>SVM complexity</b>: https://scikit-learn.org/stable/modules/svm.html#complexity\n",
    "\n",
    "\n",
    "- sklearn <b>DecisionTree</b>:\n",
    "    - https://scikit-learn.org/stable/modules/generated/sklearn.tree.DecisionTreeClassifier.html\n",
    "    - https://scikit-learn.org/stable/modules/tree.html#tree\n",
    "    \n",
    "    \n",
    "- <b> Learning curves</b>:\n",
    "    - https://machinelearningmastery.com/learning-curves-for-diagnosing-machine-learning-model-performance/\n",
    "    - https://scikit-learn.org/stable/auto_examples/model_selection/plot_learning_curve.html#sphx-glr-auto-examples-model-selection-plot-learning-curve-py\n",
    "    \n",
    "    \n",
    "- <b>Balanced accuracy</b>:\n",
    "    - https://scikit-learn.org/stable/modules/model_evaluation.html\n",
    "    \n",
    "    \n",
    "- <b> Handle Imbalanced dataset with SMOTE</b>:\n",
    "    - https://machinelearningmastery.com/multi-class-imbalanced-classification/\n",
    "    - https://machinelearningmastery.com/smote-oversampling-for-imbalanced-classification/\n",
    "    - https://arxiv.org/abs/1106.1813\n",
    "    - <b>resampling during cross-validation</b>:\n",
    "         - https://www.marcoaltini.com/blog/dealing-with-imbalanced-data-undersampling-oversampling-and-proper-cross-validation\n",
    "         - https://www.kaggle.com/janiobachmann/credit-fraud-dealing-with-imbalanced-datasets\n",
    "    \n",
    "    \n",
    "- <b>Ensemble</b> methods :\n",
    "    - Machine Learning with scikit-learn, Keras & TensorFlow de Aurélien Géron.\n",
    "            \n",
    "            \n",
    "- <b>Bagging</b> methods:\n",
    "    - https://scikit-learn.org/stable/modules/ensemble.html#forest\n",
    "    - Hands on Machine Learning with scikit-learn, Keras & TensorFlow p 189 de Aurélien Géron.\n",
    "    \n",
    "    \n",
    "- <b>Hyperparamètres</b>:\n",
    "    - https://scikit-learn.org/stable/modules/grid_search.html\n",
    "    - Hands on Machine Learning with scikit-learn, Keras & TensorFlow p 31 de Aurélien Géron.\n",
    "\n"
   ]
  },
  {
   "cell_type": "markdown",
   "metadata": {},
   "source": [
    "- <b>batch learning vs onlinelearning:</b>\n",
    "    - Hands on Machine Learning with scikit-learn, Keras & TensorFlow p 14 de Aurélien Géron."
   ]
  },
  {
   "cell_type": "code",
   "execution_count": null,
   "metadata": {},
   "outputs": [],
   "source": []
  }
 ],
 "metadata": {
  "kernelspec": {
   "display_name": "Python 3",
   "language": "python",
   "name": "python3"
  },
  "language_info": {
   "codemirror_mode": {
    "name": "ipython",
    "version": 3
   },
   "file_extension": ".py",
   "mimetype": "text/x-python",
   "name": "python",
   "nbconvert_exporter": "python",
   "pygments_lexer": "ipython3",
   "version": "3.7.9"
  }
 },
 "nbformat": 4,
 "nbformat_minor": 4
}
