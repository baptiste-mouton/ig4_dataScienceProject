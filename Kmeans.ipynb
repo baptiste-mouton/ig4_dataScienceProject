{
 "cells": [
  {
   "cell_type": "code",
   "execution_count": 1,
   "metadata": {},
   "outputs": [],
   "source": [
    "import pandas as pd\n",
    "import numpy as np\n",
    "import seaborn as sns\n",
    "import matplotlib.pyplot as plt\n",
    "\n",
    "sns.set_theme(style=\"whitegrid\")"
   ]
  },
  {
   "cell_type": "markdown",
   "metadata": {},
   "source": [
    "sources : https://towardsdatascience.com/how-i-used-machine-learning-to-classify-emails-and-turn-them-into-insights-efed37c1e66"
   ]
  },
  {
   "cell_type": "code",
   "execution_count": 58,
   "metadata": {},
   "outputs": [
    {
     "name": "stdout",
     "output_type": "stream",
     "text": [
      "(100000, 57)\n"
     ]
    }
   ],
   "source": [
    "data = pd.read_csv('/Users/lucas/Desktop/Polytech/IG4/S7/projet_DS/mail_clean.csv')\n",
    "data = data\n",
    "print(data.shape)"
   ]
  },
  {
   "cell_type": "markdown",
   "metadata": {},
   "source": [
    "La taille de nos données (100 000) combinée à la longueur des mails est trop importante pour appliquer nos aglorithmes de ML. On doit donc faire une selection des mots, cependant même après un pre-process (enlever les ponctuations, les stops words, les mots inintéressants), la longueur de tous les mots et toujours trop grande (+ de 20 000). On va donc selectionner les plus importants, après une réduction de dimension (ACP), on appliquera un algorithme de clustering. Cela nous permettra de connaître les mots les plus importants pour chaque cluster. On va prendre ceux là."
   ]
  },
  {
   "cell_type": "markdown",
   "metadata": {},
   "source": [
    "<br>\n",
    "pre-processing"
   ]
  },
  {
   "cell_type": "code",
   "execution_count": 3,
   "metadata": {},
   "outputs": [],
   "source": [
    "from nltk.corpus import stopwords\n",
    "from nltk.tokenize import word_tokenize"
   ]
  },
  {
   "cell_type": "code",
   "execution_count": 4,
   "metadata": {},
   "outputs": [],
   "source": [
    "\n",
    "def punctuation_stop(text):\n",
    "    \"\"\"remove punctuation and stop words\"\"\"\n",
    "    word_uninterested = ['subject', 'content', 'image', 'ect', 'the']\n",
    "    filtered = []\n",
    "    stop_words = set(stopwords.words('english'))\n",
    "    word_tokens = word_tokenize(text)\n",
    "    for w in word_tokens:\n",
    "        if (w not in stop_words) and w.isalpha() and (w.lower() not in word_uninterested) and (len(w)>2):\n",
    "            filtered.append(w.lower())\n",
    "    text = \" \".join([ele for ele in filtered])\n",
    "    return text\n",
    "\n",
    "\n",
    "\n",
    "\n"
   ]
  },
  {
   "cell_type": "markdown",
   "metadata": {},
   "source": []
  },
  {
   "cell_type": "code",
   "execution_count": null,
   "metadata": {},
   "outputs": [],
   "source": []
  },
  {
   "cell_type": "markdown",
   "metadata": {},
   "source": [
    " - Vectorization"
   ]
  },
  {
   "cell_type": "code",
   "execution_count": 5,
   "metadata": {},
   "outputs": [],
   "source": [
    "from sklearn.feature_extraction.text import TfidfVectorizer\n",
    "from sklearn.preprocessing import StandardScaler"
   ]
  },
  {
   "cell_type": "code",
   "execution_count": 6,
   "metadata": {},
   "outputs": [],
   "source": [
    "vectorizer = TfidfVectorizer(preprocessor=punctuation_stop,max_df=0.50,min_df=2,\n",
    "                             )\n",
    "X = vectorizer.fit_transform(data['content'])"
   ]
  },
  {
   "cell_type": "code",
   "execution_count": null,
   "metadata": {},
   "outputs": [],
   "source": []
  },
  {
   "cell_type": "code",
   "execution_count": null,
   "metadata": {},
   "outputs": [],
   "source": []
  },
  {
   "cell_type": "markdown",
   "metadata": {},
   "source": [
    "- vizualisation with PCA to understanding content."
   ]
  },
  {
   "cell_type": "code",
   "execution_count": 7,
   "metadata": {},
   "outputs": [],
   "source": [
    "from sklearn.decomposition import PCA"
   ]
  },
  {
   "cell_type": "code",
   "execution_count": 8,
   "metadata": {},
   "outputs": [],
   "source": [
    "X_dense = X.todense()\n",
    "coords = PCA(n_components=2).fit_transform(X_dense)\n"
   ]
  },
  {
   "cell_type": "code",
   "execution_count": 9,
   "metadata": {},
   "outputs": [
    {
     "data": {
      "image/png": "[encoded data removed]",
      "text/plain": [
       "<Figure size 432x288 with 1 Axes>"
      ]
     },
     "metadata": {},
     "output_type": "display_data"
    }
   ],
   "source": [
    "plt.scatter(coords[:, 0], coords[:, 1], c='m')\n",
    "plt.show()"
   ]
  },
  {
   "cell_type": "markdown",
   "metadata": {},
   "source": [
    "- Top topics"
   ]
  },
  {
   "cell_type": "code",
   "execution_count": 10,
   "metadata": {},
   "outputs": [],
   "source": [
    "features = vectorizer.get_feature_names()\n"
   ]
  },
  {
   "cell_type": "markdown",
   "metadata": {},
   "source": [
    "- Clustering"
   ]
  },
  {
   "cell_type": "code",
   "execution_count": 11,
   "metadata": {},
   "outputs": [],
   "source": [
    "from sklearn.cluster import KMeans"
   ]
  },
  {
   "cell_type": "code",
   "execution_count": 12,
   "metadata": {},
   "outputs": [
    {
     "data": {
      "text/plain": [
       "array([[1.00608046e-04, 6.66345194e-07, 2.24329243e-06, ...,\n",
       "        5.08858072e-05, 2.55005295e-07, 1.73170894e-05],\n",
       "       [0.00000000e+00, 0.00000000e+00, 0.00000000e+00, ...,\n",
       "        0.00000000e+00, 0.00000000e+00, 0.00000000e+00],\n",
       "       [0.00000000e+00, 0.00000000e+00, 0.00000000e+00, ...,\n",
       "        0.00000000e+00, 0.00000000e+00, 0.00000000e+00]])"
      ]
     },
     "execution_count": 12,
     "metadata": {},
     "output_type": "execute_result"
    }
   ],
   "source": [
    "k = 3\n",
    "kmeans = KMeans(n_clusters= k, init='k-means++',n_init=100, random_state=111)\n",
    "y_pred = kmeans.fit_predict(X)\n",
    "kmeans.cluster_centers_\n"
   ]
  },
  {
   "cell_type": "code",
   "execution_count": 18,
   "metadata": {},
   "outputs": [
    {
     "data": {
      "text/plain": [
       "<matplotlib.collections.PathCollection at 0x7fa688455090>"
      ]
     },
     "execution_count": 18,
     "metadata": {},
     "output_type": "execute_result"
    },
    {
     "data": {
      "image/png": "[encoded data removed]",
      "text/plain": [
       "<Figure size 432x288 with 1 Axes>"
      ]
     },
     "metadata": {},
     "output_type": "display_data"
    }
   ],
   "source": [
    "plt.scatter(coords[:, 0], coords[:, 1], c=kmeans.labels_)"
   ]
  },
  {
   "cell_type": "code",
   "execution_count": null,
   "metadata": {},
   "outputs": [],
   "source": []
  },
  {
   "cell_type": "code",
   "execution_count": null,
   "metadata": {},
   "outputs": [],
   "source": []
  },
  {
   "cell_type": "code",
   "execution_count": 19,
   "metadata": {},
   "outputs": [],
   "source": [
    "def top_tfidf_feats(row, features, top_n=20):\n",
    "    topn_ids = np.argsort(row)[::-1][:top_n]\n",
    "    top_feats = [(features[i], row[i]) for i in topn_ids]\n",
    "    df = pd.DataFrame(top_feats, columns=['features', 'score'])\n",
    "    return df\n",
    "\n",
    "def top_mean_feats(X, features,grp_ids=None, min_tfidf=0.1, top_n=25):\n",
    "    if grp_ids:\n",
    "        D = X[grp_ids].toarray()\n",
    "    else:\n",
    "        D = X.toarray()\n",
    "    D[D < min_tfidf] = 0\n",
    "    tfidf_means = np.mean(D, axis=0)\n",
    "    return top_tfidf_feats(tfidf_means, features, top_n)\n",
    "\n",
    "\n",
    "def top_feats_per_cluster(X, y, features, min_tfidf=0.1, top_n=25):\n",
    "    dfs = []\n",
    "    labels = np.unique(y)\n",
    "    for label in labels:\n",
    "        ids = np.where(y==label) \n",
    "        feats_df = top_mean_feats(X, features, ids,    min_tfidf=min_tfidf, top_n=top_n)\n",
    "        feats_df.label = label\n",
    "        dfs.append(feats_df)\n",
    "    return dfs"
   ]
  },
  {
   "cell_type": "code",
   "execution_count": 43,
   "metadata": {},
   "outputs": [],
   "source": [
    "features = vectorizer.get_feature_names()\n",
    "dfs = top_feats_per_cluster(X,y_pred,features)\n"
   ]
  },
  {
   "cell_type": "code",
   "execution_count": 44,
   "metadata": {},
   "outputs": [
    {
     "name": "stdout",
     "output_type": "stream",
     "text": [
      "    features     score\n",
      "0      enron  0.014947\n",
      "1       john  0.012089\n",
      "2        ect  0.011634\n",
      "3      sally  0.011324\n",
      "4       bass  0.010322\n",
      "5       eric  0.010274\n",
      "6    phillip  0.009687\n",
      "7     please  0.008443\n",
      "8     thanks  0.008376\n",
      "9    meeting  0.008044\n",
      "10  attached  0.007378\n",
      "11   message  0.006911\n",
      "12      know  0.006676\n",
      "13     would  0.006555\n",
      "14      week  0.006488\n",
      "15       gas  0.006376\n",
      "16      game  0.006029\n",
      "17       let  0.005803\n",
      "18      call  0.005733\n",
      "19     power  0.005697\n",
      "20    report  0.005583\n",
      "21       get  0.005417\n",
      "22   trading  0.005349\n",
      "23       new  0.005273\n",
      "24      sent  0.005083\n",
      "------------------------------\n",
      "          features     score\n",
      "0              ect  0.422076\n",
      "1            enron  0.139279\n",
      "2   communications  0.059415\n",
      "3              ees  0.043336\n",
      "4             eric  0.041511\n",
      "5            bryan  0.029096\n",
      "6            brian  0.025223\n",
      "7          matthew  0.021265\n",
      "8       enronxgate  0.019199\n",
      "9          phillip  0.019029\n",
      "10         meeting  0.018846\n",
      "11            game  0.018742\n",
      "12         timothy  0.017020\n",
      "13           david  0.014783\n",
      "14            john  0.014234\n",
      "15           sally  0.012981\n",
      "16            luis  0.012974\n",
      "17       forwarded  0.012910\n",
      "18          hector  0.012440\n",
      "19         michael  0.011542\n",
      "20          brenda  0.011040\n",
      "21            hull  0.010458\n",
      "22            chad  0.010415\n",
      "23             tim  0.010329\n",
      "24          shanna  0.009671\n",
      "------------------------------\n",
      "        features     score\n",
      "0        request  0.519067\n",
      "1       resource  0.297869\n",
      "2       approval  0.170993\n",
      "3            act  0.142991\n",
      "4           upon  0.130454\n",
      "5   applications  0.128916\n",
      "6      requested  0.128903\n",
      "7           type  0.128588\n",
      "8           name  0.127756\n",
      "9         create  0.122246\n",
      "10         click  0.116511\n",
      "11      approver  0.110326\n",
      "12        review  0.101028\n",
      "13    backoffice  0.100018\n",
      "14           for  0.098779\n",
      "15           eol  0.094741\n",
      "16          date  0.094391\n",
      "17      security  0.090887\n",
      "18        listed  0.085301\n",
      "19       manager  0.083132\n",
      "20      received  0.070682\n",
      "21         email  0.062974\n",
      "22           you  0.060055\n",
      "23          data  0.057625\n",
      "24       pending  0.055422\n"
     ]
    }
   ],
   "source": [
    "print(dfs[0])\n",
    "print('-'*30)\n",
    "print(dfs[1])\n",
    "print('-'*30)\n",
    "print(dfs[2])"
   ]
  },
  {
   "cell_type": "code",
   "execution_count": 45,
   "metadata": {},
   "outputs": [
    {
     "data": {
      "text/plain": [
       "<AxesSubplot:>"
      ]
     },
     "execution_count": 45,
     "metadata": {},
     "output_type": "execute_result"
    },
    {
     "data": {
      "image/png": "[encoded data removed]",
      "text/plain": [
       "<Figure size 432x288 with 1 Axes>"
      ]
     },
     "metadata": {},
     "output_type": "display_data"
    },
    {
     "data": {
      "image/png": "[encoded data removed]",
      "text/plain": [
       "<Figure size 432x288 with 1 Axes>"
      ]
     },
     "metadata": {},
     "output_type": "display_data"
    },
    {
     "data": {
      "image/png": "[encoded data removed]",
      "text/plain": [
       "<Figure size 432x288 with 1 Axes>"
      ]
     },
     "metadata": {},
     "output_type": "display_data"
    }
   ],
   "source": [
    "dfs[0].plot.bar(color='red')\n",
    "dfs[1].plot.bar(color='black')\n",
    "dfs[2].plot.bar(color='blue')"
   ]
  },
  {
   "cell_type": "markdown",
   "metadata": {},
   "source": [
    "<br>\n",
    "On va garder seulement, les 25 meilleurs mots de chaque clusters."
   ]
  },
  {
   "cell_type": "code",
   "execution_count": 56,
   "metadata": {},
   "outputs": [
    {
     "data": {
      "text/plain": [
       "array(['enron', 'john', 'ect', 'sally', 'bass', 'eric', 'phillip',\n",
       "       'please', 'thanks', 'meeting', 'attached', 'message', 'know',\n",
       "       'would', 'week', 'gas', 'game', 'let', 'call', 'power', 'report',\n",
       "       'get', 'trading', 'new', 'sent', 'ect', 'enron', 'communications',\n",
       "       'ees', 'eric', 'bryan', 'brian', 'matthew', 'enronxgate',\n",
       "       'phillip', 'meeting', 'game', 'timothy', 'david', 'john', 'sally',\n",
       "       'luis', 'forwarded', 'hector', 'michael', 'brenda', 'hull', 'chad',\n",
       "       'tim', 'shanna', 'request', 'resource', 'approval', 'act', 'upon',\n",
       "       'applications', 'requested', 'type', 'name', 'create', 'click',\n",
       "       'approver', 'review', 'backoffice', 'for', 'eol', 'date',\n",
       "       'security', 'listed', 'manager', 'received', 'email', 'you',\n",
       "       'data', 'pending'], dtype=object)"
      ]
     },
     "execution_count": 56,
     "metadata": {},
     "output_type": "execute_result"
    }
   ],
   "source": [
    "df_features = pd.concat([dfs[0]['features'], dfs[1]['features'],dfs[2]['features']])\n",
    "features = df_features.to_numpy()\n",
    "features"
   ]
  },
  {
   "cell_type": "code",
   "execution_count": 62,
   "metadata": {},
   "outputs": [],
   "source": [
    "def best_features_selection(text):\n",
    "    features = ['enron', 'john', 'ect', 'sally', 'bass', 'eric', 'phillip',\n",
    "       'please', 'thanks', 'meeting', 'attached', 'message', 'know',\n",
    "       'would', 'week', 'gas', 'game', 'let', 'call', 'power', 'report',\n",
    "       'get', 'trading', 'new', 'sent', 'ect', 'enron', 'communications',\n",
    "       'ees', 'eric', 'bryan', 'brian', 'matthew', 'enronxgate',\n",
    "       'phillip', 'meeting', 'game', 'timothy', 'david', 'john', 'sally',\n",
    "       'luis', 'forwarded', 'hector', 'michael', 'brenda', 'hull', 'chad',\n",
    "       'tim', 'shanna', 'request', 'resource', 'approval', 'act', 'upon',\n",
    "       'applications', 'requested', 'type', 'name', 'create', 'click',\n",
    "       'approver', 'review', 'backoffice', 'for', 'eol', 'date',\n",
    "       'security', 'listed', 'manager', 'received', 'email', 'you',\n",
    "       'data', 'pending']\n",
    "    \n",
    "    filtered = []\n",
    "    word_tokens = word_tokenize(text)\n",
    "    \n",
    "    for w in word_tokens:\n",
    "        if w.lower() in features:\n",
    "            filtered.append(w.lower())\n",
    "            \n",
    "    text = \" \".join([ele for ele in filtered])\n",
    "    \n",
    "    return text\n",
    "    \n",
    "    "
   ]
  },
  {
   "cell_type": "markdown",
   "metadata": {},
   "source": [
    "<br>\n",
    "<b> Vectorization</b>"
   ]
  },
  {
   "cell_type": "code",
   "execution_count": 63,
   "metadata": {},
   "outputs": [],
   "source": [
    "vectorizer = TfidfVectorizer(preprocessor=best_features_selection,max_df=0.50,min_df=2,\n",
    "                             )\n",
    "X = vectorizer.fit_transform(data['content'])"
   ]
  },
  {
   "cell_type": "code",
   "execution_count": 68,
   "metadata": {},
   "outputs": [
    {
     "name": "stdout",
     "output_type": "stream",
     "text": [
      "  (1, 28)\t0.3207474197714623\n",
      "  (1, 64)\t0.8673010979658633\n",
      "  (1, 38)\t0.3806703274188278\n",
      "  (3, 44)\t1.0\n",
      "  (4, 33)\t1.0\n",
      "  (5, 44)\t1.0\n",
      "  (6, 31)\t0.3254563631472363\n",
      "  (6, 45)\t0.20058173104122837\n",
      "  (6, 44)\t0.9240374044699048\n",
      "  (9, 36)\t0.10925879511259404\n",
      "  (9, 10)\t0.06953254224069766\n",
      "  (9, 60)\t0.09766422653461698\n",
      "  (9, 46)\t0.2478047299348087\n",
      "  (9, 27)\t0.9214911631987559\n",
      "  (9, 25)\t0.06995039912613889\n",
      "  (9, 33)\t0.06954064583932787\n",
      "  (9, 44)\t0.2311002646523114\n",
      "  (10, 19)\t0.4177001238570293\n",
      "  (10, 49)\t0.4131039700878131\n",
      "  (10, 21)\t0.4688057913696751\n",
      "  (10, 27)\t0.34765638434641705\n",
      "  (10, 25)\t0.29029657794331587\n",
      "  (10, 44)\t0.4795370493124999\n",
      "  (11, 12)\t0.9744644864228703\n",
      "  (11, 44)\t0.224541676979156\n",
      "  :\t:\n",
      "  (99995, 25)\t0.2263294504386341\n",
      "  (99995, 45)\t0.24346940666457673\n",
      "  (99995, 33)\t0.11250183238826879\n",
      "  (99995, 64)\t0.09647008053137567\n",
      "  (99996, 57)\t0.26390427499529096\n",
      "  (99996, 18)\t0.9645488757129986\n",
      "  (99997, 8)\t0.5619866266681289\n",
      "  (99997, 47)\t0.4407125482802027\n",
      "  (99997, 57)\t0.3014524680037748\n",
      "  (99997, 32)\t0.3031120301680542\n",
      "  (99997, 18)\t0.36726149926791707\n",
      "  (99997, 45)\t0.24285334854836957\n",
      "  (99997, 33)\t0.33665149664112104\n",
      "  (99998, 9)\t0.043827685347232394\n",
      "  (99998, 17)\t0.027721416430355254\n",
      "  (99998, 7)\t0.045605022741012594\n",
      "  (99998, 18)\t0.9943863447047623\n",
      "  (99998, 21)\t0.05417142121634338\n",
      "  (99998, 25)\t0.02236288955317095\n",
      "  (99998, 31)\t0.026022042411808877\n",
      "  (99998, 45)\t0.04811286768261064\n",
      "  (99999, 57)\t0.33585866671003817\n",
      "  (99999, 32)\t0.3377076425685152\n",
      "  (99999, 18)\t0.818357589140771\n",
      "  (99999, 64)\t0.32162611902996374\n"
     ]
    }
   ],
   "source": [
    "print(X)"
   ]
  },
  {
   "cell_type": "code",
   "execution_count": 69,
   "metadata": {},
   "outputs": [],
   "source": [
    "df_vect = pd.DataFrame(X.todense(), columns=vectorizer.get_feature_names())"
   ]
  },
  {
   "cell_type": "code",
   "execution_count": 85,
   "metadata": {},
   "outputs": [
    {
     "data": {
      "text/plain": [
       "Index(['DayWeek', 'Cat_1_level_1', 'Cat_1_level_2', 'Cat_1_weight',\n",
       "       'Cat_2_level_1', 'Cat_2_level_2', 'Cat_2_weight', 'Cat_3_level_1',\n",
       "       'Cat_3_level_2', 'Cat_3_weight', 'Cat_4_level_1', 'Cat_4_level_2',\n",
       "       'Cat_4_weight', 'Cat_5_level_1', 'Cat_5_level_2', 'Cat_5_weight',\n",
       "       'Cat_6_level_1', 'Cat_6_level_2', 'Cat_6_weight', 'Cat_7_level_1',\n",
       "       'Cat_7_level_2', 'Cat_7_weight', 'Cat_8_level_1', 'Cat_8_level_2',\n",
       "       'Cat_8_weight', 'Cat_9_level_1', 'Cat_9_level_2', 'Cat_9_weight',\n",
       "       'Cat_10_level_1', 'Cat_10_level_2', 'Years', 'Month', 'Day', 'Hours',\n",
       "       'content_char_len', 'content_char_length_category', 'content_word_len',\n",
       "       'content_word_length_category', 'To_count'],\n",
       "      dtype='object')"
      ]
     },
     "execution_count": 85,
     "metadata": {},
     "output_type": "execute_result"
    }
   ],
   "source": [
    "data.columns"
   ]
  },
  {
   "cell_type": "code",
   "execution_count": 75,
   "metadata": {},
   "outputs": [],
   "source": [
    "data = data[['DayWeek','Cat_1_level_1',\n",
    "       'Cat_1_level_2', 'Cat_1_weight', 'Cat_2_level_1', 'Cat_2_level_2',\n",
    "       'Cat_2_weight', 'Cat_3_level_1', 'Cat_3_level_2', 'Cat_3_weight',\n",
    "       'Cat_4_level_1', 'Cat_4_level_2', 'Cat_4_weight', 'Cat_5_level_1',\n",
    "       'Cat_5_level_2', 'Cat_5_weight', 'Cat_6_level_1', 'Cat_6_level_2',\n",
    "       'Cat_6_weight', 'Cat_7_level_1', 'Cat_7_level_2', 'Cat_7_weight',\n",
    "       'Cat_8_level_1', 'Cat_8_level_2', 'Cat_8_weight', 'Cat_9_level_1',\n",
    "       'Cat_9_level_2', 'Cat_9_weight', 'Cat_10_level_1', 'Cat_10_level_2','Years', 'Month', 'Day', 'Hours',\n",
    "       'content_char_len', 'content_char_length_category', 'content_word_len',\n",
    "       'content_word_length_category', 'To_count']]"
   ]
  },
  {
   "cell_type": "code",
   "execution_count": 76,
   "metadata": {},
   "outputs": [],
   "source": [
    "new_df  = pd.concat([data, df_vect], axis=1)"
   ]
  },
  {
   "cell_type": "code",
   "execution_count": 77,
   "metadata": {},
   "outputs": [
    {
     "data": {
      "text/html": [
       "<div>\n",
       "<style scoped>\n",
       "    .dataframe tbody tr th:only-of-type {\n",
       "        vertical-align: middle;\n",
       "    }\n",
       "\n",
       "    .dataframe tbody tr th {\n",
       "        vertical-align: top;\n",
       "    }\n",
       "\n",
       "    .dataframe thead th {\n",
       "        text-align: right;\n",
       "    }\n",
       "</style>\n",
       "<table border=\"1\" class=\"dataframe\">\n",
       "  <thead>\n",
       "    <tr style=\"text-align: right;\">\n",
       "      <th></th>\n",
       "      <th>DayWeek</th>\n",
       "      <th>Cat_1_level_1</th>\n",
       "      <th>Cat_1_level_2</th>\n",
       "      <th>Cat_1_weight</th>\n",
       "      <th>Cat_2_level_1</th>\n",
       "      <th>Cat_2_level_2</th>\n",
       "      <th>Cat_2_weight</th>\n",
       "      <th>Cat_3_level_1</th>\n",
       "      <th>Cat_3_level_2</th>\n",
       "      <th>Cat_3_weight</th>\n",
       "      <th>...</th>\n",
       "      <th>sent</th>\n",
       "      <th>shanna</th>\n",
       "      <th>thanks</th>\n",
       "      <th>tim</th>\n",
       "      <th>timothy</th>\n",
       "      <th>trading</th>\n",
       "      <th>type</th>\n",
       "      <th>upon</th>\n",
       "      <th>week</th>\n",
       "      <th>would</th>\n",
       "    </tr>\n",
       "  </thead>\n",
       "  <tbody>\n",
       "    <tr>\n",
       "      <th>0</th>\n",
       "      <td>0</td>\n",
       "      <td>-1</td>\n",
       "      <td>-1</td>\n",
       "      <td>-1</td>\n",
       "      <td>-1</td>\n",
       "      <td>-1</td>\n",
       "      <td>-1</td>\n",
       "      <td>-1</td>\n",
       "      <td>-1</td>\n",
       "      <td>-1</td>\n",
       "      <td>...</td>\n",
       "      <td>0.0</td>\n",
       "      <td>0.0</td>\n",
       "      <td>0.0</td>\n",
       "      <td>0.0</td>\n",
       "      <td>0.0</td>\n",
       "      <td>0.0</td>\n",
       "      <td>0.0</td>\n",
       "      <td>0.0</td>\n",
       "      <td>0.0</td>\n",
       "      <td>0.000000</td>\n",
       "    </tr>\n",
       "    <tr>\n",
       "      <th>1</th>\n",
       "      <td>4</td>\n",
       "      <td>-1</td>\n",
       "      <td>-1</td>\n",
       "      <td>-1</td>\n",
       "      <td>-1</td>\n",
       "      <td>-1</td>\n",
       "      <td>-1</td>\n",
       "      <td>-1</td>\n",
       "      <td>-1</td>\n",
       "      <td>-1</td>\n",
       "      <td>...</td>\n",
       "      <td>0.0</td>\n",
       "      <td>0.0</td>\n",
       "      <td>0.0</td>\n",
       "      <td>0.0</td>\n",
       "      <td>0.0</td>\n",
       "      <td>0.0</td>\n",
       "      <td>0.0</td>\n",
       "      <td>0.0</td>\n",
       "      <td>0.0</td>\n",
       "      <td>0.867301</td>\n",
       "    </tr>\n",
       "    <tr>\n",
       "      <th>2</th>\n",
       "      <td>2</td>\n",
       "      <td>-1</td>\n",
       "      <td>-1</td>\n",
       "      <td>-1</td>\n",
       "      <td>-1</td>\n",
       "      <td>-1</td>\n",
       "      <td>-1</td>\n",
       "      <td>-1</td>\n",
       "      <td>-1</td>\n",
       "      <td>-1</td>\n",
       "      <td>...</td>\n",
       "      <td>0.0</td>\n",
       "      <td>0.0</td>\n",
       "      <td>0.0</td>\n",
       "      <td>0.0</td>\n",
       "      <td>0.0</td>\n",
       "      <td>0.0</td>\n",
       "      <td>0.0</td>\n",
       "      <td>0.0</td>\n",
       "      <td>0.0</td>\n",
       "      <td>0.000000</td>\n",
       "    </tr>\n",
       "    <tr>\n",
       "      <th>3</th>\n",
       "      <td>0</td>\n",
       "      <td>-1</td>\n",
       "      <td>-1</td>\n",
       "      <td>-1</td>\n",
       "      <td>-1</td>\n",
       "      <td>-1</td>\n",
       "      <td>-1</td>\n",
       "      <td>-1</td>\n",
       "      <td>-1</td>\n",
       "      <td>-1</td>\n",
       "      <td>...</td>\n",
       "      <td>0.0</td>\n",
       "      <td>0.0</td>\n",
       "      <td>0.0</td>\n",
       "      <td>0.0</td>\n",
       "      <td>0.0</td>\n",
       "      <td>0.0</td>\n",
       "      <td>0.0</td>\n",
       "      <td>0.0</td>\n",
       "      <td>0.0</td>\n",
       "      <td>0.000000</td>\n",
       "    </tr>\n",
       "    <tr>\n",
       "      <th>4</th>\n",
       "      <td>3</td>\n",
       "      <td>-1</td>\n",
       "      <td>-1</td>\n",
       "      <td>-1</td>\n",
       "      <td>-1</td>\n",
       "      <td>-1</td>\n",
       "      <td>-1</td>\n",
       "      <td>-1</td>\n",
       "      <td>-1</td>\n",
       "      <td>-1</td>\n",
       "      <td>...</td>\n",
       "      <td>0.0</td>\n",
       "      <td>0.0</td>\n",
       "      <td>0.0</td>\n",
       "      <td>0.0</td>\n",
       "      <td>0.0</td>\n",
       "      <td>0.0</td>\n",
       "      <td>0.0</td>\n",
       "      <td>0.0</td>\n",
       "      <td>0.0</td>\n",
       "      <td>0.000000</td>\n",
       "    </tr>\n",
       "  </tbody>\n",
       "</table>\n",
       "<p>5 rows × 104 columns</p>\n",
       "</div>"
      ],
      "text/plain": [
       "   DayWeek  Cat_1_level_1  Cat_1_level_2  Cat_1_weight  Cat_2_level_1  \\\n",
       "0        0             -1             -1            -1             -1   \n",
       "1        4             -1             -1            -1             -1   \n",
       "2        2             -1             -1            -1             -1   \n",
       "3        0             -1             -1            -1             -1   \n",
       "4        3             -1             -1            -1             -1   \n",
       "\n",
       "   Cat_2_level_2  Cat_2_weight  Cat_3_level_1  Cat_3_level_2  Cat_3_weight  \\\n",
       "0             -1            -1             -1             -1            -1   \n",
       "1             -1            -1             -1             -1            -1   \n",
       "2             -1            -1             -1             -1            -1   \n",
       "3             -1            -1             -1             -1            -1   \n",
       "4             -1            -1             -1             -1            -1   \n",
       "\n",
       "   ...  sent  shanna  thanks  tim  timothy  trading  type  upon  week  \\\n",
       "0  ...   0.0     0.0     0.0  0.0      0.0      0.0   0.0   0.0   0.0   \n",
       "1  ...   0.0     0.0     0.0  0.0      0.0      0.0   0.0   0.0   0.0   \n",
       "2  ...   0.0     0.0     0.0  0.0      0.0      0.0   0.0   0.0   0.0   \n",
       "3  ...   0.0     0.0     0.0  0.0      0.0      0.0   0.0   0.0   0.0   \n",
       "4  ...   0.0     0.0     0.0  0.0      0.0      0.0   0.0   0.0   0.0   \n",
       "\n",
       "      would  \n",
       "0  0.000000  \n",
       "1  0.867301  \n",
       "2  0.000000  \n",
       "3  0.000000  \n",
       "4  0.000000  \n",
       "\n",
       "[5 rows x 104 columns]"
      ]
     },
     "execution_count": 77,
     "metadata": {},
     "output_type": "execute_result"
    }
   ],
   "source": [
    "new_df.head()"
   ]
  },
  {
   "cell_type": "code",
   "execution_count": 84,
   "metadata": {},
   "outputs": [],
   "source": [
    "new_df.to_csv('/Users/lucas/Desktop/Polytech/IG4/S7/projet_DS/mail_pre_process.csv')"
   ]
  },
  {
   "cell_type": "markdown",
   "metadata": {},
   "source": [
    "<br>\n",
    "Clustering 2 : DBSCAN"
   ]
  },
  {
   "cell_type": "code",
   "execution_count": null,
   "metadata": {},
   "outputs": [],
   "source": []
  },
  {
   "cell_type": "code",
   "execution_count": 18,
   "metadata": {},
   "outputs": [],
   "source": [
    "from sklearn.cluster import DBSCAN\n",
    "from sklearn import metrics"
   ]
  },
  {
   "cell_type": "code",
   "execution_count": 19,
   "metadata": {},
   "outputs": [],
   "source": [
    "dbscan = DBSCAN(eps=0.05, min_samples=5)\n",
    "dbscan.fit(X)\n",
    "y_pred = dbscan.fit_predict(X)"
   ]
  },
  {
   "cell_type": "code",
   "execution_count": 20,
   "metadata": {},
   "outputs": [
    {
     "name": "stdout",
     "output_type": "stream",
     "text": [
      "[ -1   0   1   2   3   4   5   6   7   8   9  10  11  12  13  14  15  16\n",
      "  17  18  19  20  21  22  23  24  25  26  27  28  29  30  31  32  33  34\n",
      "  35  36  37  38  39  40  41  42  43  44  45  46  47  48  49  50  51  52\n",
      "  53  54  55  56  57  58  59  60  61  62  63  64  65  66  67  68  69  70\n",
      "  71  72  73  74  75  76  77  78  79  80  81  82  83  84  85  86  87  88\n",
      "  89  90  91  92  93  94  95  96  97  98  99 100 101 102 103 104 105 106\n",
      " 107 108 109 110 111 112 113 114 115 116 117 118]\n",
      "----------------------------------------------------------------------------------------------------\n",
      "985\n",
      "Estimated number of clusters: 119\n",
      "Estimated number of noise points: 9015\n",
      "Silhouette Coefficient: -0.168\n"
     ]
    }
   ],
   "source": [
    "print(np.unique(dbscan.labels_)) #-1 for anomalies\n",
    "print('-'*100)\n",
    "print(len(dbscan.core_sample_indices_))\n",
    "\n",
    "core_samples_mask = np.zeros_like(dbscan.labels_, dtype=bool)\n",
    "core_samples_mask[dbscan.core_sample_indices_] = True\n",
    "labels = dbscan.labels_\n",
    "\n",
    "n_clusters_ = len(set(labels)) - (1 if -1 in labels else 0)\n",
    "n_noise_ = list(labels).count(-1)\n",
    "\n",
    "print('Estimated number of clusters: %d' % n_clusters_)\n",
    "print('Estimated number of noise points: %d' % n_noise_)\n",
    "\n",
    "print(\"Silhouette Coefficient: %0.3f\"\n",
    "      % metrics.silhouette_score(X, labels))\n",
    "\n"
   ]
  },
  {
   "cell_type": "code",
   "execution_count": 23,
   "metadata": {},
   "outputs": [
    {
     "data": {
      "text/plain": [
       "Text(0.5, 1.0, 'DBSCAN')"
      ]
     },
     "execution_count": 23,
     "metadata": {},
     "output_type": "execute_result"
    },
    {
     "data": {
      "image/png": "[encoded data removed]",
      "text/plain": [
       "<Figure size 432x288 with 1 Axes>"
      ]
     },
     "metadata": {},
     "output_type": "display_data"
    }
   ],
   "source": [
    "X_array = X.toarray()\n",
    "plt.scatter( X_array[:,0], X_array[:,1],c=dbscan.labels_, cmap='Paired')\n",
    "plt.title(\"DBSCAN\")"
   ]
  },
  {
   "cell_type": "markdown",
   "metadata": {},
   "source": [
    "<br>\n",
    "clustering 3 - GaussianMixture"
   ]
  },
  {
   "cell_type": "code",
   "execution_count": 2,
   "metadata": {},
   "outputs": [],
   "source": []
  },
  {
   "cell_type": "code",
   "execution_count": null,
   "metadata": {},
   "outputs": [],
   "source": []
  },
  {
   "cell_type": "code",
   "execution_count": null,
   "metadata": {},
   "outputs": [],
   "source": []
  },
  {
   "cell_type": "code",
   "execution_count": null,
   "metadata": {},
   "outputs": [],
   "source": []
  }
 ],
 "metadata": {
  "kernelspec": {
   "display_name": "Python 3",
   "language": "python",
   "name": "python3"
  },
  "language_info": {
   "codemirror_mode": {
    "name": "ipython",
    "version": 3
   },
   "file_extension": ".py",
   "mimetype": "text/x-python",
   "name": "python",
   "nbconvert_exporter": "python",
   "pygments_lexer": "ipython3",
   "version": "3.7.9"
  }
 },
 "nbformat": 4,
 "nbformat_minor": 4
}
